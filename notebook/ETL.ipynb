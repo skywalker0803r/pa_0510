{
 "cells": [
  {
   "cell_type": "code",
   "execution_count": 5,
   "metadata": {},
   "outputs": [
    {
     "output_type": "execute_result",
     "data": {
      "text/plain": [
       "['PA_201605-2020009更新R12(20201027).csv', 'tag盤點表20200801.xlsx']"
      ]
     },
     "metadata": {},
     "execution_count": 5
    }
   ],
   "source": [
    "import os\n",
    "import numpy as np\n",
    "import pandas as pd\n",
    "import matplotlib.pyplot as plt\n",
    "import plotly.graph_objects as go\n",
    "from tqdm import tqdm_notebook as tqdm\n",
    "import time\n",
    "import warnings;warnings.simplefilter('ignore')\n",
    "os.listdir('../data')"
   ]
  },
  {
   "cell_type": "markdown",
   "metadata": {},
   "source": [
    "# load raw df"
   ]
  },
  {
   "cell_type": "code",
   "execution_count": 6,
   "metadata": {},
   "outputs": [
    {
     "output_type": "stream",
     "name": "stdout",
     "text": [
      "(228240, 98)\n"
     ]
    },
    {
     "output_type": "execute_result",
     "data": {
      "text/plain": [
       "                    MLPAP_TI-0706B02 MLPAP_TI-0706B03 MLPAP_TI-0706B04  \\\n",
       "2016-05-09 00:00:00              400              402          400.657   \n",
       "2016-05-09 00:10:00              400          401.344              401   \n",
       "2016-05-09 00:20:00              400              402              401   \n",
       "2016-05-09 00:30:00              400              402              401   \n",
       "2016-05-09 00:40:00              400              402              401   \n",
       "\n",
       "                    MLPAP_TI-0706B05 MLPAP_TI-0706B06 MLPAP_TI-0706B07  \\\n",
       "2016-05-09 00:00:00          402.173          401.173              401   \n",
       "2016-05-09 00:10:00          402.173              401              401   \n",
       "2016-05-09 00:20:00              402              401              401   \n",
       "2016-05-09 00:30:00          402.173              401              401   \n",
       "2016-05-09 00:40:00          402.173              401              401   \n",
       "\n",
       "                    MLPAP_TI-0706B08 MLPAP_TI-0706B09 MLPAP_TI-0706B10  \\\n",
       "2016-05-09 00:00:00              400              403              402   \n",
       "2016-05-09 00:10:00              400              403              402   \n",
       "2016-05-09 00:20:00              400              403              402   \n",
       "2016-05-09 00:30:00              400              403              402   \n",
       "2016-05-09 00:40:00              401              403              402   \n",
       "\n",
       "                    MLPAP_TI-0706B11  ... MLPAP_FI-V211.PV  \\\n",
       "2016-05-09 00:00:00              401  ...          No Data   \n",
       "2016-05-09 00:10:00              401  ...          No Data   \n",
       "2016-05-09 00:20:00              401  ...          No Data   \n",
       "2016-05-09 00:30:00              401  ...          No Data   \n",
       "2016-05-09 00:40:00              401  ...          No Data   \n",
       "\n",
       "                    MLPAP_FI-V211.PV(Âà´««á) MLPAP_PI-0658.PV  \\\n",
       "2016-05-09 00:00:00                  #VALUE!               -1   \n",
       "2016-05-09 00:10:00                  #VALUE!               -1   \n",
       "2016-05-09 00:20:00                  #VALUE!               -1   \n",
       "2016-05-09 00:30:00                  #VALUE!        -0.656621   \n",
       "2016-05-09 00:40:00                  #VALUE!        -0.343453   \n",
       "\n",
       "                    MLPAP_TIC-0757.PV MLPAP_V225-PHD MLPAP_PI-0771.PV  \\\n",
       "2016-05-09 00:00:00               1.6          0.009         -1.38272   \n",
       "2016-05-09 00:10:00            1.6343          0.009         -1.38273   \n",
       "2016-05-09 00:20:00           1.63439          0.009             -1.4   \n",
       "2016-05-09 00:30:00               1.6          0.009             -1.4   \n",
       "2016-05-09 00:40:00           1.63435          0.009             -1.3   \n",
       "\n",
       "                    MLPAP_TRC-0747.PV MLPAP_TJR-0881.PV MLPAP_TI3-1110.PV  \\\n",
       "2016-05-09 00:00:00             133.1           156.434       26.47590256   \n",
       "2016-05-09 00:10:00             133.1           156.434              26.5   \n",
       "2016-05-09 00:20:00             133.1             156.5       26.70000076   \n",
       "2016-05-09 00:30:00             133.2           156.434       26.62422943   \n",
       "2016-05-09 00:40:00             133.1           156.434       26.39999962   \n",
       "\n",
       "                    MLPAP_FQI-0997.SMH  \n",
       "2016-05-09 00:00:00                  0  \n",
       "2016-05-09 00:10:00                  0  \n",
       "2016-05-09 00:20:00                  0  \n",
       "2016-05-09 00:30:00                  0  \n",
       "2016-05-09 00:40:00                  0  \n",
       "\n",
       "[5 rows x 98 columns]"
      ],
      "text/html": "<div>\n<style scoped>\n    .dataframe tbody tr th:only-of-type {\n        vertical-align: middle;\n    }\n\n    .dataframe tbody tr th {\n        vertical-align: top;\n    }\n\n    .dataframe thead th {\n        text-align: right;\n    }\n</style>\n<table border=\"1\" class=\"dataframe\">\n  <thead>\n    <tr style=\"text-align: right;\">\n      <th></th>\n      <th>MLPAP_TI-0706B02</th>\n      <th>MLPAP_TI-0706B03</th>\n      <th>MLPAP_TI-0706B04</th>\n      <th>MLPAP_TI-0706B05</th>\n      <th>MLPAP_TI-0706B06</th>\n      <th>MLPAP_TI-0706B07</th>\n      <th>MLPAP_TI-0706B08</th>\n      <th>MLPAP_TI-0706B09</th>\n      <th>MLPAP_TI-0706B10</th>\n      <th>MLPAP_TI-0706B11</th>\n      <th>...</th>\n      <th>MLPAP_FI-V211.PV</th>\n      <th>MLPAP_FI-V211.PV(Âà´««á)</th>\n      <th>MLPAP_PI-0658.PV</th>\n      <th>MLPAP_TIC-0757.PV</th>\n      <th>MLPAP_V225-PHD</th>\n      <th>MLPAP_PI-0771.PV</th>\n      <th>MLPAP_TRC-0747.PV</th>\n      <th>MLPAP_TJR-0881.PV</th>\n      <th>MLPAP_TI3-1110.PV</th>\n      <th>MLPAP_FQI-0997.SMH</th>\n    </tr>\n  </thead>\n  <tbody>\n    <tr>\n      <th>2016-05-09 00:00:00</th>\n      <td>400</td>\n      <td>402</td>\n      <td>400.657</td>\n      <td>402.173</td>\n      <td>401.173</td>\n      <td>401</td>\n      <td>400</td>\n      <td>403</td>\n      <td>402</td>\n      <td>401</td>\n      <td>...</td>\n      <td>No Data</td>\n      <td>#VALUE!</td>\n      <td>-1</td>\n      <td>1.6</td>\n      <td>0.009</td>\n      <td>-1.38272</td>\n      <td>133.1</td>\n      <td>156.434</td>\n      <td>26.47590256</td>\n      <td>0</td>\n    </tr>\n    <tr>\n      <th>2016-05-09 00:10:00</th>\n      <td>400</td>\n      <td>401.344</td>\n      <td>401</td>\n      <td>402.173</td>\n      <td>401</td>\n      <td>401</td>\n      <td>400</td>\n      <td>403</td>\n      <td>402</td>\n      <td>401</td>\n      <td>...</td>\n      <td>No Data</td>\n      <td>#VALUE!</td>\n      <td>-1</td>\n      <td>1.6343</td>\n      <td>0.009</td>\n      <td>-1.38273</td>\n      <td>133.1</td>\n      <td>156.434</td>\n      <td>26.5</td>\n      <td>0</td>\n    </tr>\n    <tr>\n      <th>2016-05-09 00:20:00</th>\n      <td>400</td>\n      <td>402</td>\n      <td>401</td>\n      <td>402</td>\n      <td>401</td>\n      <td>401</td>\n      <td>400</td>\n      <td>403</td>\n      <td>402</td>\n      <td>401</td>\n      <td>...</td>\n      <td>No Data</td>\n      <td>#VALUE!</td>\n      <td>-1</td>\n      <td>1.63439</td>\n      <td>0.009</td>\n      <td>-1.4</td>\n      <td>133.1</td>\n      <td>156.5</td>\n      <td>26.70000076</td>\n      <td>0</td>\n    </tr>\n    <tr>\n      <th>2016-05-09 00:30:00</th>\n      <td>400</td>\n      <td>402</td>\n      <td>401</td>\n      <td>402.173</td>\n      <td>401</td>\n      <td>401</td>\n      <td>400</td>\n      <td>403</td>\n      <td>402</td>\n      <td>401</td>\n      <td>...</td>\n      <td>No Data</td>\n      <td>#VALUE!</td>\n      <td>-0.656621</td>\n      <td>1.6</td>\n      <td>0.009</td>\n      <td>-1.4</td>\n      <td>133.2</td>\n      <td>156.434</td>\n      <td>26.62422943</td>\n      <td>0</td>\n    </tr>\n    <tr>\n      <th>2016-05-09 00:40:00</th>\n      <td>400</td>\n      <td>402</td>\n      <td>401</td>\n      <td>402.173</td>\n      <td>401</td>\n      <td>401</td>\n      <td>401</td>\n      <td>403</td>\n      <td>402</td>\n      <td>401</td>\n      <td>...</td>\n      <td>No Data</td>\n      <td>#VALUE!</td>\n      <td>-0.343453</td>\n      <td>1.63435</td>\n      <td>0.009</td>\n      <td>-1.3</td>\n      <td>133.1</td>\n      <td>156.434</td>\n      <td>26.39999962</td>\n      <td>0</td>\n    </tr>\n  </tbody>\n</table>\n<p>5 rows × 98 columns</p>\n</div>"
     },
     "metadata": {},
     "execution_count": 6
    }
   ],
   "source": [
    "df = pd.read_csv('../data/PA_201605-2020009更新R12(20201027).csv',\n",
    "                 index_col=0,\n",
    "                 parse_dates=True,\n",
    "                 encoding='latin-1')\n",
    "df = df.iloc[:-1,:]\n",
    "print(df.shape)\n",
    "df.head()"
   ]
  },
  {
   "cell_type": "markdown",
   "metadata": {},
   "source": [
    "# load test data 太舊了"
   ]
  },
  {
   "cell_type": "code",
   "execution_count": 7,
   "metadata": {},
   "outputs": [],
   "source": [
    "#test_df = pd.read_csv('../data/反應槽(20200201-20200212)開車資料.csv',\n",
    "#                 index_col=0,\n",
    "#                 parse_dates=True,\n",
    "#                 encoding='latin-1')\n",
    "#test_df = test_df.dropna(axis=0)\n",
    "#print(test_df.shape)\n",
    "#test_df.head()"
   ]
  },
  {
   "cell_type": "code",
   "execution_count": 8,
   "metadata": {},
   "outputs": [
    {
     "output_type": "execute_result",
     "data": {
      "text/plain": [
       "2016-05-09 00:00:00         4.227972264501945E-06*1\n",
       "2016-05-09 00:10:00         4.227972264501945E-06*2\n",
       "2016-05-09 00:20:00         4.227972264501945E-06*3\n",
       "2016-05-09 00:30:00         4.227972264501945E-06*4\n",
       "2016-05-09 00:40:00         4.227972264501945E-06*5\n",
       "                                   ...             \n",
       "2020-09-09 23:10:00    4.227972264501945E-06*228236\n",
       "2020-09-09 23:20:00    4.227972264501945E-06*228237\n",
       "2020-09-09 23:30:00    4.227972264501945E-06*228238\n",
       "2020-09-09 23:40:00    4.227972264501945E-06*228239\n",
       "2020-09-09 23:50:00    4.227972264501945E-06*228240\n",
       "Name: DATA OF USE, Length: 228240, dtype: object"
      ]
     },
     "metadata": {},
     "execution_count": 8
    }
   ],
   "source": [
    "df['DATA OF USE'] #觸媒使用時間"
   ]
  },
  {
   "cell_type": "markdown",
   "metadata": {},
   "source": [
    "# combine 沒有test data"
   ]
  },
  {
   "cell_type": "code",
   "execution_count": 9,
   "metadata": {},
   "outputs": [],
   "source": [
    "#full = df.append(test_df)\n",
    "#df = full"
   ]
  },
  {
   "cell_type": "markdown",
   "metadata": {},
   "source": [
    "# load raw tag"
   ]
  },
  {
   "cell_type": "code",
   "execution_count": 10,
   "metadata": {},
   "outputs": [
    {
     "output_type": "stream",
     "name": "stdout",
     "text": [
      "(97, 10)\n"
     ]
    },
    {
     "output_type": "execute_result",
     "data": {
      "text/plain": [
       "    item                 TAG          chinese character     unit category  \\\n",
       "0    1.0   MLPAP_TJC-0627.PV        OX預熱器出口溫度        溫度        ℃    可控制因子   \n",
       "1    2.0   MLPAP_TRC-0610.PV        空氣預熱器出口溫度        溫度        ℃    可控制因子   \n",
       "2    3.0    MLPAP_FR-0632.PV             汽機風量        流量  KNM3/HR    可控制因子   \n",
       "3    4.0    MLPAP_FQ-0619.PV            OX入料量        流量    kg/HR    可控制因子   \n",
       "4    5.0  MLPAP_TIC-0757A.PV          反應槽鹽浴溫度        溫度        ℃    可控制因子   \n",
       "5    6.0   MLPAP_PIC-0741.PV    汽鼓(V211)鍋爐水壓力        壓力   KG/CM2    可控制因子   \n",
       "6    7.0   MLPAP_LIC-0738.PV    汽鼓(V211)鍋爐水液位        液位        %    可控制因子   \n",
       "7    8.0   MLPAP_PIC-0761.PV  鹽浴冷卻器(E212)出口壓力        壓力      BAR    可控制因子   \n",
       "9   10.0   MLPAP_LRC-0729.PV          鍋爐水液位控制        液位        %    可控制因子   \n",
       "10  11.0   MLPAP_TIC-1721.PV       轉換式冷凝器冷油溫度        溫度        ℃    可控制因子   \n",
       "11  12.0   MLPAP_TRC-1734.PV       轉換式冷凝器熱油溫度        溫度        ℃    可控制因子   \n",
       "88  89.0   MLPAP_TIC-0757.PV     反應器A/B側鹽浴溫度差        溫度        ℃    可控制因子   \n",
       "90  91.0   MLPAP_TRC-0747.PV         E220出口溫度        溫度        ℃    可控制因子   \n",
       "91  92.0    MLPAP_TI-0881.PV        液態冷凝器出口溫度        溫度        ℃    可控制因子   \n",
       "93  94.0  MLPAP_FQI-0997.SMH         粗PA累積出料量        流量        T    可控制因子   \n",
       "\n",
       "   period   min     max 推測顯著性(依製程經驗)  \n",
       "0   1分鐘2筆   145     160          ***  \n",
       "1   1分鐘2筆   160     200          ***  \n",
       "2   1分鐘2筆    64    85.4         ****  \n",
       "3   1分鐘2筆  2000    8000         ****  \n",
       "4   1分鐘2筆   345     365         ****  \n",
       "5   1分鐘2筆    28      45            *  \n",
       "6   1分鐘2筆    20      60            *  \n",
       "7   1分鐘2筆    40      55          ***  \n",
       "9   1分鐘2筆    20      60            *  \n",
       "10  1分鐘2筆    55      68         ****  \n",
       "11  1分鐘2筆   160     200         ****  \n",
       "88  1分鐘2筆    -3       3          ***  \n",
       "90  1分鐘2筆   100     200          ***  \n",
       "91  1分鐘2筆   130     190          ***  \n",
       "93  1分鐘2筆     0  300000          ***  "
      ],
      "text/html": "<div>\n<style scoped>\n    .dataframe tbody tr th:only-of-type {\n        vertical-align: middle;\n    }\n\n    .dataframe tbody tr th {\n        vertical-align: top;\n    }\n\n    .dataframe thead th {\n        text-align: right;\n    }\n</style>\n<table border=\"1\" class=\"dataframe\">\n  <thead>\n    <tr style=\"text-align: right;\">\n      <th></th>\n      <th>item</th>\n      <th>TAG</th>\n      <th>chinese</th>\n      <th>character</th>\n      <th>unit</th>\n      <th>category</th>\n      <th>period</th>\n      <th>min</th>\n      <th>max</th>\n      <th>推測顯著性(依製程經驗)</th>\n    </tr>\n  </thead>\n  <tbody>\n    <tr>\n      <th>0</th>\n      <td>1.0</td>\n      <td>MLPAP_TJC-0627.PV</td>\n      <td>OX預熱器出口溫度</td>\n      <td>溫度</td>\n      <td>℃</td>\n      <td>可控制因子</td>\n      <td>1分鐘2筆</td>\n      <td>145</td>\n      <td>160</td>\n      <td>***</td>\n    </tr>\n    <tr>\n      <th>1</th>\n      <td>2.0</td>\n      <td>MLPAP_TRC-0610.PV</td>\n      <td>空氣預熱器出口溫度</td>\n      <td>溫度</td>\n      <td>℃</td>\n      <td>可控制因子</td>\n      <td>1分鐘2筆</td>\n      <td>160</td>\n      <td>200</td>\n      <td>***</td>\n    </tr>\n    <tr>\n      <th>2</th>\n      <td>3.0</td>\n      <td>MLPAP_FR-0632.PV</td>\n      <td>汽機風量</td>\n      <td>流量</td>\n      <td>KNM3/HR</td>\n      <td>可控制因子</td>\n      <td>1分鐘2筆</td>\n      <td>64</td>\n      <td>85.4</td>\n      <td>****</td>\n    </tr>\n    <tr>\n      <th>3</th>\n      <td>4.0</td>\n      <td>MLPAP_FQ-0619.PV</td>\n      <td>OX入料量</td>\n      <td>流量</td>\n      <td>kg/HR</td>\n      <td>可控制因子</td>\n      <td>1分鐘2筆</td>\n      <td>2000</td>\n      <td>8000</td>\n      <td>****</td>\n    </tr>\n    <tr>\n      <th>4</th>\n      <td>5.0</td>\n      <td>MLPAP_TIC-0757A.PV</td>\n      <td>反應槽鹽浴溫度</td>\n      <td>溫度</td>\n      <td>℃</td>\n      <td>可控制因子</td>\n      <td>1分鐘2筆</td>\n      <td>345</td>\n      <td>365</td>\n      <td>****</td>\n    </tr>\n    <tr>\n      <th>5</th>\n      <td>6.0</td>\n      <td>MLPAP_PIC-0741.PV</td>\n      <td>汽鼓(V211)鍋爐水壓力</td>\n      <td>壓力</td>\n      <td>KG/CM2</td>\n      <td>可控制因子</td>\n      <td>1分鐘2筆</td>\n      <td>28</td>\n      <td>45</td>\n      <td>*</td>\n    </tr>\n    <tr>\n      <th>6</th>\n      <td>7.0</td>\n      <td>MLPAP_LIC-0738.PV</td>\n      <td>汽鼓(V211)鍋爐水液位</td>\n      <td>液位</td>\n      <td>%</td>\n      <td>可控制因子</td>\n      <td>1分鐘2筆</td>\n      <td>20</td>\n      <td>60</td>\n      <td>*</td>\n    </tr>\n    <tr>\n      <th>7</th>\n      <td>8.0</td>\n      <td>MLPAP_PIC-0761.PV</td>\n      <td>鹽浴冷卻器(E212)出口壓力</td>\n      <td>壓力</td>\n      <td>BAR</td>\n      <td>可控制因子</td>\n      <td>1分鐘2筆</td>\n      <td>40</td>\n      <td>55</td>\n      <td>***</td>\n    </tr>\n    <tr>\n      <th>9</th>\n      <td>10.0</td>\n      <td>MLPAP_LRC-0729.PV</td>\n      <td>鍋爐水液位控制</td>\n      <td>液位</td>\n      <td>%</td>\n      <td>可控制因子</td>\n      <td>1分鐘2筆</td>\n      <td>20</td>\n      <td>60</td>\n      <td>*</td>\n    </tr>\n    <tr>\n      <th>10</th>\n      <td>11.0</td>\n      <td>MLPAP_TIC-1721.PV</td>\n      <td>轉換式冷凝器冷油溫度</td>\n      <td>溫度</td>\n      <td>℃</td>\n      <td>可控制因子</td>\n      <td>1分鐘2筆</td>\n      <td>55</td>\n      <td>68</td>\n      <td>****</td>\n    </tr>\n    <tr>\n      <th>11</th>\n      <td>12.0</td>\n      <td>MLPAP_TRC-1734.PV</td>\n      <td>轉換式冷凝器熱油溫度</td>\n      <td>溫度</td>\n      <td>℃</td>\n      <td>可控制因子</td>\n      <td>1分鐘2筆</td>\n      <td>160</td>\n      <td>200</td>\n      <td>****</td>\n    </tr>\n    <tr>\n      <th>88</th>\n      <td>89.0</td>\n      <td>MLPAP_TIC-0757.PV</td>\n      <td>反應器A/B側鹽浴溫度差</td>\n      <td>溫度</td>\n      <td>℃</td>\n      <td>可控制因子</td>\n      <td>1分鐘2筆</td>\n      <td>-3</td>\n      <td>3</td>\n      <td>***</td>\n    </tr>\n    <tr>\n      <th>90</th>\n      <td>91.0</td>\n      <td>MLPAP_TRC-0747.PV</td>\n      <td>E220出口溫度</td>\n      <td>溫度</td>\n      <td>℃</td>\n      <td>可控制因子</td>\n      <td>1分鐘2筆</td>\n      <td>100</td>\n      <td>200</td>\n      <td>***</td>\n    </tr>\n    <tr>\n      <th>91</th>\n      <td>92.0</td>\n      <td>MLPAP_TI-0881.PV</td>\n      <td>液態冷凝器出口溫度</td>\n      <td>溫度</td>\n      <td>℃</td>\n      <td>可控制因子</td>\n      <td>1分鐘2筆</td>\n      <td>130</td>\n      <td>190</td>\n      <td>***</td>\n    </tr>\n    <tr>\n      <th>93</th>\n      <td>94.0</td>\n      <td>MLPAP_FQI-0997.SMH</td>\n      <td>粗PA累積出料量</td>\n      <td>流量</td>\n      <td>T</td>\n      <td>可控制因子</td>\n      <td>1分鐘2筆</td>\n      <td>0</td>\n      <td>300000</td>\n      <td>***</td>\n    </tr>\n  </tbody>\n</table>\n</div>"
     },
     "metadata": {},
     "execution_count": 10
    }
   ],
   "source": [
    "tag = pd.read_excel('../data/tag盤點表20200801.xlsx')\n",
    "print(tag.shape)\n",
    "tag[tag.category == '可控制因子']"
   ]
  },
  {
   "cell_type": "code",
   "execution_count": 11,
   "metadata": {},
   "outputs": [
    {
     "output_type": "execute_result",
     "data": {
      "text/plain": [
       "['MLPAP_FR-0755.PV(轉換後)', 'MLPAP_FR-0791.PV', 'MLPAP_FI-V211.PV(轉換後)']"
      ]
     },
     "metadata": {},
     "execution_count": 11
    }
   ],
   "source": [
    "stream_list = tag[tag.chinese.str.contains('蒸氣')==True].TAG.tolist()\n",
    "stream_list"
   ]
  },
  {
   "cell_type": "markdown",
   "metadata": {},
   "source": [
    "# clean df and tag "
   ]
  },
  {
   "cell_type": "code",
   "execution_count": 12,
   "metadata": {},
   "outputs": [
    {
     "output_type": "execute_result",
     "data": {
      "text/plain": [
       "{'MLPAP_FI-V211.PV',\n",
       " 'MLPAP_FI-V211.PV(Âà´««á)',\n",
       " 'MLPAP_FI-V211.PV(轉換後)',\n",
       " 'MLPAP_FR-0755.PV',\n",
       " 'MLPAP_FR-0755.PV(Âà´««á)',\n",
       " 'MLPAP_FR-0755.PV(轉換後)',\n",
       " 'MLPAP_TI-0716A02',\n",
       " 'MLPAP_TI-0716A03',\n",
       " 'MLPAP_TI-0716A04',\n",
       " 'MLPAP_TI-0716A05',\n",
       " 'MLPAP_TI-0716A06',\n",
       " 'MLPAP_TI-0716A07',\n",
       " 'MLPAP_TI-0716A08',\n",
       " 'MLPAP_TI-0716A09',\n",
       " 'MLPAP_TI-0716A10',\n",
       " 'MLPAP_TI-0716A11',\n",
       " 'MLPAP_TI-0716A12',\n",
       " 'MLPAP_TI-0716A13',\n",
       " 'MLPAP_TI-0716A14',\n",
       " 'MLPAP_TI-0716A15',\n",
       " 'MLPAP_TI-0716A16',\n",
       " 'MLPAP_TI-0716A17',\n",
       " 'MLPAP_TI-0716A18',\n",
       " 'MLPAP_TI-0716A19',\n",
       " 'MLPAP_TI-0716A20',\n",
       " 'MLPAP_TI-0716A21',\n",
       " 'MLPAP_TI-0716A22',\n",
       " 'MLPAP_TI-0716A23',\n",
       " 'MLPAP_TI-0757B.PV',\n",
       " 'MLPAP_TI-0881.PV',\n",
       " 'MLPAP_TJ-0716A02',\n",
       " 'MLPAP_TJ-0716A03',\n",
       " 'MLPAP_TJ-0716A04',\n",
       " 'MLPAP_TJ-0716A05',\n",
       " 'MLPAP_TJ-0716A06',\n",
       " 'MLPAP_TJ-0716A07',\n",
       " 'MLPAP_TJ-0716A08',\n",
       " 'MLPAP_TJ-0716A09',\n",
       " 'MLPAP_TJ-0716A10',\n",
       " 'MLPAP_TJ-0716A11',\n",
       " 'MLPAP_TJ-0716A12',\n",
       " 'MLPAP_TJ-0716A13',\n",
       " 'MLPAP_TJ-0716A14',\n",
       " 'MLPAP_TJ-0716A15',\n",
       " 'MLPAP_TJ-0716A16',\n",
       " 'MLPAP_TJ-0716A17',\n",
       " 'MLPAP_TJ-0716A18',\n",
       " 'MLPAP_TJ-0716A19',\n",
       " 'MLPAP_TJ-0716A20',\n",
       " 'MLPAP_TJ-0716A21',\n",
       " 'MLPAP_TJ-0716A22',\n",
       " 'MLPAP_TJ-0716A23',\n",
       " 'MLPAP_TJR-0881.PV',\n",
       " nan,\n",
       " '品質模型使用'}"
      ]
     },
     "metadata": {},
     "execution_count": 12
    }
   ],
   "source": [
    "set(tag.TAG.to_list())^set(df.columns.tolist()) #沒有一樣的名稱的欄位"
   ]
  },
  {
   "cell_type": "code",
   "execution_count": 13,
   "metadata": {},
   "outputs": [],
   "source": [
    "# rename TI TO TJ\n",
    "df.columns = [str(i).replace('TI','TJ') for i in df.columns]\n",
    "tag.TAG = [str(i).replace('TI','TJ') for i in tag.TAG]\n",
    "df.columns = [i.replace('Âà´««á','轉換後')for i in df.columns]"
   ]
  },
  {
   "cell_type": "code",
   "execution_count": 14,
   "metadata": {},
   "outputs": [
    {
     "output_type": "execute_result",
     "data": {
      "text/plain": [
       "{'MLPAP_FI-V211.PV',\n",
       " 'MLPAP_FR-0755.PV',\n",
       " 'MLPAP_TJ-0757B.PV',\n",
       " 'MLPAP_TJ-0881.PV',\n",
       " 'MLPAP_TJR-0881.PV',\n",
       " 'nan',\n",
       " '品質模型使用'}"
      ]
     },
     "metadata": {},
     "execution_count": 14
    }
   ],
   "source": [
    "set(tag.TAG.to_list())^set(df.columns.tolist()) #沒有一樣的名稱的欄位"
   ]
  },
  {
   "cell_type": "code",
   "execution_count": 15,
   "metadata": {},
   "outputs": [
    {
     "output_type": "execute_result",
     "data": {
      "text/plain": [
       "{'MLPAP_TJ-0881.PV', 'nan', '品質模型使用'}"
      ]
     },
     "metadata": {},
     "execution_count": 15
    }
   ],
   "source": [
    "set(tag.TAG.to_list())-set(df.columns.tolist()) #沒有一樣的名稱的欄位"
   ]
  },
  {
   "cell_type": "code",
   "execution_count": 16,
   "metadata": {},
   "outputs": [
    {
     "output_type": "execute_result",
     "data": {
      "text/plain": [
       "{'MLPAP_FI-V211.PV',\n",
       " 'MLPAP_FR-0755.PV',\n",
       " 'MLPAP_TJ-0757B.PV',\n",
       " 'MLPAP_TJR-0881.PV'}"
      ]
     },
     "metadata": {},
     "execution_count": 16
    }
   ],
   "source": [
    "set(df.columns.tolist())-set(tag.TAG.to_list()) #沒有一樣的名稱的欄位"
   ]
  },
  {
   "cell_type": "code",
   "execution_count": 17,
   "metadata": {},
   "outputs": [],
   "source": [
    "# drop not need columns\n",
    "df = df.drop(['MLPAP_FR-0755.PV','MLPAP_FI-V211.PV'],axis=1)\n",
    "\n",
    "# extend tag\n",
    "temp = tag[tag['TAG'] == tag['TAG'][tag['TAG'].str.contains('0757A')].values[0]].copy()\n",
    "temp['TAG'] = 'MLPAP_TJ-0757B.PV'\n",
    "tag = tag.append(temp).reset_index(drop=True)\n",
    "\n",
    "# DF TJR TO TJ\n",
    "df = df.rename(columns={'MLPAP_TJR-0881.PV':'MLPAP_TJ-0881.PV'})"
   ]
  },
  {
   "cell_type": "code",
   "execution_count": 18,
   "metadata": {},
   "outputs": [
    {
     "output_type": "stream",
     "name": "stdout",
     "text": [
      "only in tag: {'nan', '品質模型使用'}\nonly in df: set()\n"
     ]
    }
   ],
   "source": [
    "print('only in tag:',set(tag['TAG'])-set(df.columns))\n",
    "print('only in df:',set(df.columns)-set(tag['TAG']))"
   ]
  },
  {
   "cell_type": "code",
   "execution_count": 19,
   "metadata": {},
   "outputs": [
    {
     "output_type": "execute_result",
     "data": {
      "text/plain": [
       "    item                 TAG    chinese character     unit category period  \\\n",
       "0    1.0   MLPAP_TJC-0627.PV  OX預熱器出口溫度        溫度        ℃    可控制因子  1分鐘2筆   \n",
       "1    2.0   MLPAP_TRC-0610.PV  空氣預熱器出口溫度        溫度        ℃    可控制因子  1分鐘2筆   \n",
       "2    3.0    MLPAP_FR-0632.PV       汽機風量        流量  KNM3/HR    可控制因子  1分鐘2筆   \n",
       "3    4.0    MLPAP_FQ-0619.PV      OX入料量        流量    kg/HR    可控制因子  1分鐘2筆   \n",
       "4    5.0  MLPAP_TJC-0757A.PV    反應槽鹽浴溫度        溫度        ℃    可控制因子  1分鐘2筆   \n",
       "..   ...                 ...        ...       ...      ...      ...    ...   \n",
       "93  94.0  MLPAP_FQI-0997.SMH   粗PA累積出料量        流量        T    可控制因子  1分鐘2筆   \n",
       "94   NaN                 nan        NaN       NaN      NaN      NaN    NaN   \n",
       "95   NaN              品質模型使用        NaN       NaN      NaN      NaN    NaN   \n",
       "96  95.0      MLPAP_V225-PHD   粗PA儲槽PHD        組成        %   不可控制因子   1天1筆   \n",
       "97   5.0   MLPAP_TJ-0757B.PV    反應槽鹽浴溫度        溫度        ℃    可控制因子  1分鐘2筆   \n",
       "\n",
       "     min     max 推測顯著性(依製程經驗)  \n",
       "0    145     160          ***  \n",
       "1    160     200          ***  \n",
       "2     64    85.4         ****  \n",
       "3   2000    8000         ****  \n",
       "4    345     365         ****  \n",
       "..   ...     ...          ...  \n",
       "93     0  300000          ***  \n",
       "94   NaN     NaN          NaN  \n",
       "95   NaN     NaN          NaN  \n",
       "96     0     0.1          ***  \n",
       "97   345     365         ****  \n",
       "\n",
       "[98 rows x 10 columns]"
      ],
      "text/html": "<div>\n<style scoped>\n    .dataframe tbody tr th:only-of-type {\n        vertical-align: middle;\n    }\n\n    .dataframe tbody tr th {\n        vertical-align: top;\n    }\n\n    .dataframe thead th {\n        text-align: right;\n    }\n</style>\n<table border=\"1\" class=\"dataframe\">\n  <thead>\n    <tr style=\"text-align: right;\">\n      <th></th>\n      <th>item</th>\n      <th>TAG</th>\n      <th>chinese</th>\n      <th>character</th>\n      <th>unit</th>\n      <th>category</th>\n      <th>period</th>\n      <th>min</th>\n      <th>max</th>\n      <th>推測顯著性(依製程經驗)</th>\n    </tr>\n  </thead>\n  <tbody>\n    <tr>\n      <th>0</th>\n      <td>1.0</td>\n      <td>MLPAP_TJC-0627.PV</td>\n      <td>OX預熱器出口溫度</td>\n      <td>溫度</td>\n      <td>℃</td>\n      <td>可控制因子</td>\n      <td>1分鐘2筆</td>\n      <td>145</td>\n      <td>160</td>\n      <td>***</td>\n    </tr>\n    <tr>\n      <th>1</th>\n      <td>2.0</td>\n      <td>MLPAP_TRC-0610.PV</td>\n      <td>空氣預熱器出口溫度</td>\n      <td>溫度</td>\n      <td>℃</td>\n      <td>可控制因子</td>\n      <td>1分鐘2筆</td>\n      <td>160</td>\n      <td>200</td>\n      <td>***</td>\n    </tr>\n    <tr>\n      <th>2</th>\n      <td>3.0</td>\n      <td>MLPAP_FR-0632.PV</td>\n      <td>汽機風量</td>\n      <td>流量</td>\n      <td>KNM3/HR</td>\n      <td>可控制因子</td>\n      <td>1分鐘2筆</td>\n      <td>64</td>\n      <td>85.4</td>\n      <td>****</td>\n    </tr>\n    <tr>\n      <th>3</th>\n      <td>4.0</td>\n      <td>MLPAP_FQ-0619.PV</td>\n      <td>OX入料量</td>\n      <td>流量</td>\n      <td>kg/HR</td>\n      <td>可控制因子</td>\n      <td>1分鐘2筆</td>\n      <td>2000</td>\n      <td>8000</td>\n      <td>****</td>\n    </tr>\n    <tr>\n      <th>4</th>\n      <td>5.0</td>\n      <td>MLPAP_TJC-0757A.PV</td>\n      <td>反應槽鹽浴溫度</td>\n      <td>溫度</td>\n      <td>℃</td>\n      <td>可控制因子</td>\n      <td>1分鐘2筆</td>\n      <td>345</td>\n      <td>365</td>\n      <td>****</td>\n    </tr>\n    <tr>\n      <th>...</th>\n      <td>...</td>\n      <td>...</td>\n      <td>...</td>\n      <td>...</td>\n      <td>...</td>\n      <td>...</td>\n      <td>...</td>\n      <td>...</td>\n      <td>...</td>\n      <td>...</td>\n    </tr>\n    <tr>\n      <th>93</th>\n      <td>94.0</td>\n      <td>MLPAP_FQI-0997.SMH</td>\n      <td>粗PA累積出料量</td>\n      <td>流量</td>\n      <td>T</td>\n      <td>可控制因子</td>\n      <td>1分鐘2筆</td>\n      <td>0</td>\n      <td>300000</td>\n      <td>***</td>\n    </tr>\n    <tr>\n      <th>94</th>\n      <td>NaN</td>\n      <td>nan</td>\n      <td>NaN</td>\n      <td>NaN</td>\n      <td>NaN</td>\n      <td>NaN</td>\n      <td>NaN</td>\n      <td>NaN</td>\n      <td>NaN</td>\n      <td>NaN</td>\n    </tr>\n    <tr>\n      <th>95</th>\n      <td>NaN</td>\n      <td>品質模型使用</td>\n      <td>NaN</td>\n      <td>NaN</td>\n      <td>NaN</td>\n      <td>NaN</td>\n      <td>NaN</td>\n      <td>NaN</td>\n      <td>NaN</td>\n      <td>NaN</td>\n    </tr>\n    <tr>\n      <th>96</th>\n      <td>95.0</td>\n      <td>MLPAP_V225-PHD</td>\n      <td>粗PA儲槽PHD</td>\n      <td>組成</td>\n      <td>%</td>\n      <td>不可控制因子</td>\n      <td>1天1筆</td>\n      <td>0</td>\n      <td>0.1</td>\n      <td>***</td>\n    </tr>\n    <tr>\n      <th>97</th>\n      <td>5.0</td>\n      <td>MLPAP_TJ-0757B.PV</td>\n      <td>反應槽鹽浴溫度</td>\n      <td>溫度</td>\n      <td>℃</td>\n      <td>可控制因子</td>\n      <td>1分鐘2筆</td>\n      <td>345</td>\n      <td>365</td>\n      <td>****</td>\n    </tr>\n  </tbody>\n</table>\n<p>98 rows × 10 columns</p>\n</div>"
     },
     "metadata": {},
     "execution_count": 19
    }
   ],
   "source": [
    "tag.head(100)"
   ]
  },
  {
   "cell_type": "code",
   "execution_count": 20,
   "metadata": {},
   "outputs": [
    {
     "output_type": "stream",
     "name": "stdout",
     "text": [
      "(98, 10)\n(96, 10)\n"
     ]
    }
   ],
   "source": [
    "print(tag.shape)\n",
    "tag.dropna(axis=0,inplace=True)\n",
    "print(tag.shape)"
   ]
  },
  {
   "cell_type": "code",
   "execution_count": 21,
   "metadata": {},
   "outputs": [
    {
     "output_type": "execute_result",
     "data": {
      "text/plain": [
       "    item                 TAG    chinese character     unit category period  \\\n",
       "0    1.0   MLPAP_TJC-0627.PV  OX預熱器出口溫度        溫度        ℃    可控制因子  1分鐘2筆   \n",
       "1    2.0   MLPAP_TRC-0610.PV  空氣預熱器出口溫度        溫度        ℃    可控制因子  1分鐘2筆   \n",
       "2    3.0    MLPAP_FR-0632.PV       汽機風量        流量  KNM3/HR    可控制因子  1分鐘2筆   \n",
       "3    4.0    MLPAP_FQ-0619.PV      OX入料量        流量    kg/HR    可控制因子  1分鐘2筆   \n",
       "4    5.0  MLPAP_TJC-0757A.PV    反應槽鹽浴溫度        溫度        ℃    可控制因子  1分鐘2筆   \n",
       "..   ...                 ...        ...       ...      ...      ...    ...   \n",
       "91  92.0    MLPAP_TJ-0881.PV  液態冷凝器出口溫度        溫度        ℃    可控制因子  1分鐘2筆   \n",
       "92  93.0   MLPAP_TJ3-1110.PV       環境溫度        溫度        ℃   不可控制因子  1分鐘2筆   \n",
       "93  94.0  MLPAP_FQI-0997.SMH   粗PA累積出料量        流量        T    可控制因子  1分鐘2筆   \n",
       "96  95.0      MLPAP_V225-PHD   粗PA儲槽PHD        組成        %   不可控制因子   1天1筆   \n",
       "97   5.0   MLPAP_TJ-0757B.PV    反應槽鹽浴溫度        溫度        ℃    可控制因子  1分鐘2筆   \n",
       "\n",
       "     min     max 推測顯著性(依製程經驗)  \n",
       "0    145     160          ***  \n",
       "1    160     200          ***  \n",
       "2     64    85.4         ****  \n",
       "3   2000    8000         ****  \n",
       "4    345     365         ****  \n",
       "..   ...     ...          ...  \n",
       "91   130     190          ***  \n",
       "92    20      40          ***  \n",
       "93     0  300000          ***  \n",
       "96     0     0.1          ***  \n",
       "97   345     365         ****  \n",
       "\n",
       "[96 rows x 10 columns]"
      ],
      "text/html": "<div>\n<style scoped>\n    .dataframe tbody tr th:only-of-type {\n        vertical-align: middle;\n    }\n\n    .dataframe tbody tr th {\n        vertical-align: top;\n    }\n\n    .dataframe thead th {\n        text-align: right;\n    }\n</style>\n<table border=\"1\" class=\"dataframe\">\n  <thead>\n    <tr style=\"text-align: right;\">\n      <th></th>\n      <th>item</th>\n      <th>TAG</th>\n      <th>chinese</th>\n      <th>character</th>\n      <th>unit</th>\n      <th>category</th>\n      <th>period</th>\n      <th>min</th>\n      <th>max</th>\n      <th>推測顯著性(依製程經驗)</th>\n    </tr>\n  </thead>\n  <tbody>\n    <tr>\n      <th>0</th>\n      <td>1.0</td>\n      <td>MLPAP_TJC-0627.PV</td>\n      <td>OX預熱器出口溫度</td>\n      <td>溫度</td>\n      <td>℃</td>\n      <td>可控制因子</td>\n      <td>1分鐘2筆</td>\n      <td>145</td>\n      <td>160</td>\n      <td>***</td>\n    </tr>\n    <tr>\n      <th>1</th>\n      <td>2.0</td>\n      <td>MLPAP_TRC-0610.PV</td>\n      <td>空氣預熱器出口溫度</td>\n      <td>溫度</td>\n      <td>℃</td>\n      <td>可控制因子</td>\n      <td>1分鐘2筆</td>\n      <td>160</td>\n      <td>200</td>\n      <td>***</td>\n    </tr>\n    <tr>\n      <th>2</th>\n      <td>3.0</td>\n      <td>MLPAP_FR-0632.PV</td>\n      <td>汽機風量</td>\n      <td>流量</td>\n      <td>KNM3/HR</td>\n      <td>可控制因子</td>\n      <td>1分鐘2筆</td>\n      <td>64</td>\n      <td>85.4</td>\n      <td>****</td>\n    </tr>\n    <tr>\n      <th>3</th>\n      <td>4.0</td>\n      <td>MLPAP_FQ-0619.PV</td>\n      <td>OX入料量</td>\n      <td>流量</td>\n      <td>kg/HR</td>\n      <td>可控制因子</td>\n      <td>1分鐘2筆</td>\n      <td>2000</td>\n      <td>8000</td>\n      <td>****</td>\n    </tr>\n    <tr>\n      <th>4</th>\n      <td>5.0</td>\n      <td>MLPAP_TJC-0757A.PV</td>\n      <td>反應槽鹽浴溫度</td>\n      <td>溫度</td>\n      <td>℃</td>\n      <td>可控制因子</td>\n      <td>1分鐘2筆</td>\n      <td>345</td>\n      <td>365</td>\n      <td>****</td>\n    </tr>\n    <tr>\n      <th>...</th>\n      <td>...</td>\n      <td>...</td>\n      <td>...</td>\n      <td>...</td>\n      <td>...</td>\n      <td>...</td>\n      <td>...</td>\n      <td>...</td>\n      <td>...</td>\n      <td>...</td>\n    </tr>\n    <tr>\n      <th>91</th>\n      <td>92.0</td>\n      <td>MLPAP_TJ-0881.PV</td>\n      <td>液態冷凝器出口溫度</td>\n      <td>溫度</td>\n      <td>℃</td>\n      <td>可控制因子</td>\n      <td>1分鐘2筆</td>\n      <td>130</td>\n      <td>190</td>\n      <td>***</td>\n    </tr>\n    <tr>\n      <th>92</th>\n      <td>93.0</td>\n      <td>MLPAP_TJ3-1110.PV</td>\n      <td>環境溫度</td>\n      <td>溫度</td>\n      <td>℃</td>\n      <td>不可控制因子</td>\n      <td>1分鐘2筆</td>\n      <td>20</td>\n      <td>40</td>\n      <td>***</td>\n    </tr>\n    <tr>\n      <th>93</th>\n      <td>94.0</td>\n      <td>MLPAP_FQI-0997.SMH</td>\n      <td>粗PA累積出料量</td>\n      <td>流量</td>\n      <td>T</td>\n      <td>可控制因子</td>\n      <td>1分鐘2筆</td>\n      <td>0</td>\n      <td>300000</td>\n      <td>***</td>\n    </tr>\n    <tr>\n      <th>96</th>\n      <td>95.0</td>\n      <td>MLPAP_V225-PHD</td>\n      <td>粗PA儲槽PHD</td>\n      <td>組成</td>\n      <td>%</td>\n      <td>不可控制因子</td>\n      <td>1天1筆</td>\n      <td>0</td>\n      <td>0.1</td>\n      <td>***</td>\n    </tr>\n    <tr>\n      <th>97</th>\n      <td>5.0</td>\n      <td>MLPAP_TJ-0757B.PV</td>\n      <td>反應槽鹽浴溫度</td>\n      <td>溫度</td>\n      <td>℃</td>\n      <td>可控制因子</td>\n      <td>1分鐘2筆</td>\n      <td>345</td>\n      <td>365</td>\n      <td>****</td>\n    </tr>\n  </tbody>\n</table>\n<p>96 rows × 10 columns</p>\n</div>"
     },
     "metadata": {},
     "execution_count": 21
    }
   ],
   "source": [
    "tag.head(100)"
   ]
  },
  {
   "cell_type": "code",
   "execution_count": 22,
   "metadata": {},
   "outputs": [],
   "source": [
    "tag = tag.reset_index(drop=True)"
   ]
  },
  {
   "cell_type": "code",
   "execution_count": 23,
   "metadata": {},
   "outputs": [
    {
     "output_type": "execute_result",
     "data": {
      "text/plain": [
       "    item                 TAG    chinese character     unit category period  \\\n",
       "0    1.0   MLPAP_TJC-0627.PV  OX預熱器出口溫度        溫度        ℃    可控制因子  1分鐘2筆   \n",
       "1    2.0   MLPAP_TRC-0610.PV  空氣預熱器出口溫度        溫度        ℃    可控制因子  1分鐘2筆   \n",
       "2    3.0    MLPAP_FR-0632.PV       汽機風量        流量  KNM3/HR    可控制因子  1分鐘2筆   \n",
       "3    4.0    MLPAP_FQ-0619.PV      OX入料量        流量    kg/HR    可控制因子  1分鐘2筆   \n",
       "4    5.0  MLPAP_TJC-0757A.PV    反應槽鹽浴溫度        溫度        ℃    可控制因子  1分鐘2筆   \n",
       "..   ...                 ...        ...       ...      ...      ...    ...   \n",
       "91  92.0    MLPAP_TJ-0881.PV  液態冷凝器出口溫度        溫度        ℃    可控制因子  1分鐘2筆   \n",
       "92  93.0   MLPAP_TJ3-1110.PV       環境溫度        溫度        ℃   不可控制因子  1分鐘2筆   \n",
       "93  94.0  MLPAP_FQI-0997.SMH   粗PA累積出料量        流量        T    可控制因子  1分鐘2筆   \n",
       "94  95.0      MLPAP_V225-PHD   粗PA儲槽PHD        組成        %   不可控制因子   1天1筆   \n",
       "95   5.0   MLPAP_TJ-0757B.PV    反應槽鹽浴溫度        溫度        ℃    可控制因子  1分鐘2筆   \n",
       "\n",
       "     min     max 推測顯著性(依製程經驗)  \n",
       "0    145     160          ***  \n",
       "1    160     200          ***  \n",
       "2     64    85.4         ****  \n",
       "3   2000    8000         ****  \n",
       "4    345     365         ****  \n",
       "..   ...     ...          ...  \n",
       "91   130     190          ***  \n",
       "92    20      40          ***  \n",
       "93     0  300000          ***  \n",
       "94     0     0.1          ***  \n",
       "95   345     365         ****  \n",
       "\n",
       "[96 rows x 10 columns]"
      ],
      "text/html": "<div>\n<style scoped>\n    .dataframe tbody tr th:only-of-type {\n        vertical-align: middle;\n    }\n\n    .dataframe tbody tr th {\n        vertical-align: top;\n    }\n\n    .dataframe thead th {\n        text-align: right;\n    }\n</style>\n<table border=\"1\" class=\"dataframe\">\n  <thead>\n    <tr style=\"text-align: right;\">\n      <th></th>\n      <th>item</th>\n      <th>TAG</th>\n      <th>chinese</th>\n      <th>character</th>\n      <th>unit</th>\n      <th>category</th>\n      <th>period</th>\n      <th>min</th>\n      <th>max</th>\n      <th>推測顯著性(依製程經驗)</th>\n    </tr>\n  </thead>\n  <tbody>\n    <tr>\n      <th>0</th>\n      <td>1.0</td>\n      <td>MLPAP_TJC-0627.PV</td>\n      <td>OX預熱器出口溫度</td>\n      <td>溫度</td>\n      <td>℃</td>\n      <td>可控制因子</td>\n      <td>1分鐘2筆</td>\n      <td>145</td>\n      <td>160</td>\n      <td>***</td>\n    </tr>\n    <tr>\n      <th>1</th>\n      <td>2.0</td>\n      <td>MLPAP_TRC-0610.PV</td>\n      <td>空氣預熱器出口溫度</td>\n      <td>溫度</td>\n      <td>℃</td>\n      <td>可控制因子</td>\n      <td>1分鐘2筆</td>\n      <td>160</td>\n      <td>200</td>\n      <td>***</td>\n    </tr>\n    <tr>\n      <th>2</th>\n      <td>3.0</td>\n      <td>MLPAP_FR-0632.PV</td>\n      <td>汽機風量</td>\n      <td>流量</td>\n      <td>KNM3/HR</td>\n      <td>可控制因子</td>\n      <td>1分鐘2筆</td>\n      <td>64</td>\n      <td>85.4</td>\n      <td>****</td>\n    </tr>\n    <tr>\n      <th>3</th>\n      <td>4.0</td>\n      <td>MLPAP_FQ-0619.PV</td>\n      <td>OX入料量</td>\n      <td>流量</td>\n      <td>kg/HR</td>\n      <td>可控制因子</td>\n      <td>1分鐘2筆</td>\n      <td>2000</td>\n      <td>8000</td>\n      <td>****</td>\n    </tr>\n    <tr>\n      <th>4</th>\n      <td>5.0</td>\n      <td>MLPAP_TJC-0757A.PV</td>\n      <td>反應槽鹽浴溫度</td>\n      <td>溫度</td>\n      <td>℃</td>\n      <td>可控制因子</td>\n      <td>1分鐘2筆</td>\n      <td>345</td>\n      <td>365</td>\n      <td>****</td>\n    </tr>\n    <tr>\n      <th>...</th>\n      <td>...</td>\n      <td>...</td>\n      <td>...</td>\n      <td>...</td>\n      <td>...</td>\n      <td>...</td>\n      <td>...</td>\n      <td>...</td>\n      <td>...</td>\n      <td>...</td>\n    </tr>\n    <tr>\n      <th>91</th>\n      <td>92.0</td>\n      <td>MLPAP_TJ-0881.PV</td>\n      <td>液態冷凝器出口溫度</td>\n      <td>溫度</td>\n      <td>℃</td>\n      <td>可控制因子</td>\n      <td>1分鐘2筆</td>\n      <td>130</td>\n      <td>190</td>\n      <td>***</td>\n    </tr>\n    <tr>\n      <th>92</th>\n      <td>93.0</td>\n      <td>MLPAP_TJ3-1110.PV</td>\n      <td>環境溫度</td>\n      <td>溫度</td>\n      <td>℃</td>\n      <td>不可控制因子</td>\n      <td>1分鐘2筆</td>\n      <td>20</td>\n      <td>40</td>\n      <td>***</td>\n    </tr>\n    <tr>\n      <th>93</th>\n      <td>94.0</td>\n      <td>MLPAP_FQI-0997.SMH</td>\n      <td>粗PA累積出料量</td>\n      <td>流量</td>\n      <td>T</td>\n      <td>可控制因子</td>\n      <td>1分鐘2筆</td>\n      <td>0</td>\n      <td>300000</td>\n      <td>***</td>\n    </tr>\n    <tr>\n      <th>94</th>\n      <td>95.0</td>\n      <td>MLPAP_V225-PHD</td>\n      <td>粗PA儲槽PHD</td>\n      <td>組成</td>\n      <td>%</td>\n      <td>不可控制因子</td>\n      <td>1天1筆</td>\n      <td>0</td>\n      <td>0.1</td>\n      <td>***</td>\n    </tr>\n    <tr>\n      <th>95</th>\n      <td>5.0</td>\n      <td>MLPAP_TJ-0757B.PV</td>\n      <td>反應槽鹽浴溫度</td>\n      <td>溫度</td>\n      <td>℃</td>\n      <td>可控制因子</td>\n      <td>1分鐘2筆</td>\n      <td>345</td>\n      <td>365</td>\n      <td>****</td>\n    </tr>\n  </tbody>\n</table>\n<p>96 rows × 10 columns</p>\n</div>"
     },
     "metadata": {},
     "execution_count": 23
    }
   ],
   "source": [
    "tag.head(100)"
   ]
  },
  {
   "cell_type": "code",
   "execution_count": 24,
   "metadata": {},
   "outputs": [
    {
     "output_type": "execute_result",
     "data": {
      "text/plain": [
       "set()"
      ]
     },
     "metadata": {},
     "execution_count": 24
    }
   ],
   "source": [
    "set(tag.TAG.to_list())^set(df.columns.tolist()) #沒有一樣的名稱的欄位"
   ]
  },
  {
   "cell_type": "code",
   "execution_count": 25,
   "metadata": {},
   "outputs": [
    {
     "output_type": "stream",
     "name": "stdout",
     "text": [
      "now set = set()\n"
     ]
    }
   ],
   "source": [
    "print('now set = set()')"
   ]
  },
  {
   "cell_type": "markdown",
   "metadata": {},
   "source": [
    "# convert time"
   ]
  },
  {
   "cell_type": "code",
   "execution_count": 26,
   "metadata": {},
   "outputs": [
    {
     "output_type": "execute_result",
     "data": {
      "text/plain": [
       "                     DATA OF USE\n",
       "2018-03-17 10:00:00     0.412434\n",
       "2020-08-11 02:50:00     0.946804\n",
       "2016-07-27 18:40:00     0.048575\n",
       "2018-03-14 09:40:00     0.410600\n",
       "2018-09-07 06:00:00     0.518269"
      ],
      "text/html": "<div>\n<style scoped>\n    .dataframe tbody tr th:only-of-type {\n        vertical-align: middle;\n    }\n\n    .dataframe tbody tr th {\n        vertical-align: top;\n    }\n\n    .dataframe thead th {\n        text-align: right;\n    }\n</style>\n<table border=\"1\" class=\"dataframe\">\n  <thead>\n    <tr style=\"text-align: right;\">\n      <th></th>\n      <th>DATA OF USE</th>\n    </tr>\n  </thead>\n  <tbody>\n    <tr>\n      <th>2018-03-17 10:00:00</th>\n      <td>0.412434</td>\n    </tr>\n    <tr>\n      <th>2020-08-11 02:50:00</th>\n      <td>0.946804</td>\n    </tr>\n    <tr>\n      <th>2016-07-27 18:40:00</th>\n      <td>0.048575</td>\n    </tr>\n    <tr>\n      <th>2018-03-14 09:40:00</th>\n      <td>0.410600</td>\n    </tr>\n    <tr>\n      <th>2018-09-07 06:00:00</th>\n      <td>0.518269</td>\n    </tr>\n  </tbody>\n</table>\n</div>"
     },
     "metadata": {},
     "execution_count": 26
    }
   ],
   "source": [
    "def convert_time(x):\n",
    "    a,b = str(x).split('*')\n",
    "    return float(a)*float(b)\n",
    "df['DATA OF USE'] = [convert_time(i) for i in df['DATA OF USE'].values]\n",
    "df[['DATA OF USE']].sample(5)"
   ]
  },
  {
   "cell_type": "markdown",
   "metadata": {},
   "source": [
    "# replace error value"
   ]
  },
  {
   "cell_type": "code",
   "execution_count": 27,
   "metadata": {},
   "outputs": [],
   "source": [
    "from tqdm import tqdm_notebook as tqdm"
   ]
  },
  {
   "cell_type": "code",
   "execution_count": 41,
   "metadata": {},
   "outputs": [],
   "source": [
    "df = df.replace('I/O Timeout',np.nan)\n",
    "df = df.replace('Not Connect',np.nan)\n",
    "df = df.replace('[-11059] No Good Data For Calculation',np.nan)\n",
    "df = df.replace('Scan Off',np.nan)\n",
    "df = df.replace('Bad',np.nan)\n",
    "df = df.replace('#VALUE!',np.nan)\n",
    "df = df.replace(\"No Data\",np.nan)\n",
    "df = df.replace(\"Pt Created\",np.nan)\n",
    "df = df.replace(\"Configure\",np.nan)"
   ]
  },
  {
   "cell_type": "code",
   "execution_count": 42,
   "metadata": {},
   "outputs": [
    {
     "output_type": "display_data",
     "data": {
      "text/plain": "HBox(children=(FloatProgress(value=0.0, max=96.0), HTML(value='')))",
      "application/vnd.jupyter.widget-view+json": {
       "version_major": 2,
       "version_minor": 0,
       "model_id": "1a7368e3f2c841738dba1a53789cc5a0"
      }
     },
     "metadata": {}
    },
    {
     "output_type": "stream",
     "name": "stdout",
     "text": [
      "\n"
     ]
    }
   ],
   "source": [
    "for c_name in tqdm(df.columns):\n",
    "    df[c_name] = pd.to_numeric(df[c_name])"
   ]
  },
  {
   "cell_type": "code",
   "execution_count": 43,
   "metadata": {},
   "outputs": [
    {
     "output_type": "stream",
     "name": "stdout",
     "text": [
      "check data all type == float32\n"
     ]
    }
   ],
   "source": [
    "df = df.astype('float32')\n",
    "print('check data all type == float32')"
   ]
  },
  {
   "cell_type": "markdown",
   "metadata": {},
   "source": [
    "# spec fliter"
   ]
  },
  {
   "cell_type": "code",
   "execution_count": 44,
   "metadata": {},
   "outputs": [
    {
     "output_type": "display_data",
     "data": {
      "text/plain": "HBox(children=(FloatProgress(value=0.0, max=96.0), HTML(value='')))",
      "application/vnd.jupyter.widget-view+json": {
       "version_major": 2,
       "version_minor": 0,
       "model_id": "a29e7ace4b144fc1b69658c28d49c99f"
      }
     },
     "metadata": {}
    },
    {
     "output_type": "stream",
     "name": "stdout",
     "text": [
      "DATA OF USE\n",
      "\n"
     ]
    },
    {
     "output_type": "execute_result",
     "data": {
      "text/plain": [
       "                     MLPAP_TJ-0706B02  MLPAP_TJ-0706B03  MLPAP_TJ-0706B04  \\\n",
       "2016-05-09 00:00:00             400.0        402.000000        400.656525   \n",
       "2016-05-09 00:10:00             400.0        401.343811        401.000000   \n",
       "2016-05-09 00:20:00             400.0        402.000000        401.000000   \n",
       "2016-05-09 00:30:00             400.0        402.000000        401.000000   \n",
       "2016-05-09 00:40:00             400.0        402.000000        401.000000   \n",
       "\n",
       "                     MLPAP_TJ-0706B05  MLPAP_TJ-0706B06  MLPAP_TJ-0706B07  \\\n",
       "2016-05-09 00:00:00        402.172791        401.172791             401.0   \n",
       "2016-05-09 00:10:00        402.172699        401.000000             401.0   \n",
       "2016-05-09 00:20:00        402.000000        401.000000             401.0   \n",
       "2016-05-09 00:30:00        402.172913        401.000000             401.0   \n",
       "2016-05-09 00:40:00        402.172791        401.000000             401.0   \n",
       "\n",
       "                     MLPAP_TJ-0706B08  MLPAP_TJ-0706B09  MLPAP_TJ-0706B10  \\\n",
       "2016-05-09 00:00:00             400.0             403.0             402.0   \n",
       "2016-05-09 00:10:00             400.0             403.0             402.0   \n",
       "2016-05-09 00:20:00             400.0             403.0             402.0   \n",
       "2016-05-09 00:30:00             400.0             403.0             402.0   \n",
       "2016-05-09 00:40:00             401.0             403.0             402.0   \n",
       "\n",
       "                     MLPAP_TJ-0706B11  ...  MLPAP_FR-0791.PV  \\\n",
       "2016-05-09 00:00:00             401.0  ...               NaN   \n",
       "2016-05-09 00:10:00             401.0  ...               NaN   \n",
       "2016-05-09 00:20:00             401.0  ...               NaN   \n",
       "2016-05-09 00:30:00             401.0  ...               NaN   \n",
       "2016-05-09 00:40:00             401.0  ...               NaN   \n",
       "\n",
       "                     MLPAP_FI-V211.PV(轉換後)  MLPAP_PI-0658.PV  \\\n",
       "2016-05-09 00:00:00                    NaN               NaN   \n",
       "2016-05-09 00:10:00                    NaN               NaN   \n",
       "2016-05-09 00:20:00                    NaN               NaN   \n",
       "2016-05-09 00:30:00                    NaN               NaN   \n",
       "2016-05-09 00:40:00                    NaN               NaN   \n",
       "\n",
       "                     MLPAP_TJC-0757.PV  MLPAP_V225-PHD  MLPAP_PI-0771.PV  \\\n",
       "2016-05-09 00:00:00           1.600000           0.009               NaN   \n",
       "2016-05-09 00:10:00           1.634300           0.009               NaN   \n",
       "2016-05-09 00:20:00           1.634385           0.009               NaN   \n",
       "2016-05-09 00:30:00           1.600000           0.009               NaN   \n",
       "2016-05-09 00:40:00           1.634345           0.009               NaN   \n",
       "\n",
       "                     MLPAP_TRC-0747.PV  MLPAP_TJ-0881.PV  MLPAP_TJ3-1110.PV  \\\n",
       "2016-05-09 00:00:00         133.100006        156.434341          26.475903   \n",
       "2016-05-09 00:10:00         133.100006        156.434296          26.500000   \n",
       "2016-05-09 00:20:00         133.100006        156.500000          26.700001   \n",
       "2016-05-09 00:30:00         133.199997        156.434341          26.624229   \n",
       "2016-05-09 00:40:00         133.100006        156.434341          26.400000   \n",
       "\n",
       "                     MLPAP_FQI-0997.SMH  \n",
       "2016-05-09 00:00:00                 0.0  \n",
       "2016-05-09 00:10:00                 0.0  \n",
       "2016-05-09 00:20:00                 0.0  \n",
       "2016-05-09 00:30:00                 0.0  \n",
       "2016-05-09 00:40:00                 0.0  \n",
       "\n",
       "[5 rows x 96 columns]"
      ],
      "text/html": "<div>\n<style scoped>\n    .dataframe tbody tr th:only-of-type {\n        vertical-align: middle;\n    }\n\n    .dataframe tbody tr th {\n        vertical-align: top;\n    }\n\n    .dataframe thead th {\n        text-align: right;\n    }\n</style>\n<table border=\"1\" class=\"dataframe\">\n  <thead>\n    <tr style=\"text-align: right;\">\n      <th></th>\n      <th>MLPAP_TJ-0706B02</th>\n      <th>MLPAP_TJ-0706B03</th>\n      <th>MLPAP_TJ-0706B04</th>\n      <th>MLPAP_TJ-0706B05</th>\n      <th>MLPAP_TJ-0706B06</th>\n      <th>MLPAP_TJ-0706B07</th>\n      <th>MLPAP_TJ-0706B08</th>\n      <th>MLPAP_TJ-0706B09</th>\n      <th>MLPAP_TJ-0706B10</th>\n      <th>MLPAP_TJ-0706B11</th>\n      <th>...</th>\n      <th>MLPAP_FR-0791.PV</th>\n      <th>MLPAP_FI-V211.PV(轉換後)</th>\n      <th>MLPAP_PI-0658.PV</th>\n      <th>MLPAP_TJC-0757.PV</th>\n      <th>MLPAP_V225-PHD</th>\n      <th>MLPAP_PI-0771.PV</th>\n      <th>MLPAP_TRC-0747.PV</th>\n      <th>MLPAP_TJ-0881.PV</th>\n      <th>MLPAP_TJ3-1110.PV</th>\n      <th>MLPAP_FQI-0997.SMH</th>\n    </tr>\n  </thead>\n  <tbody>\n    <tr>\n      <th>2016-05-09 00:00:00</th>\n      <td>400.0</td>\n      <td>402.000000</td>\n      <td>400.656525</td>\n      <td>402.172791</td>\n      <td>401.172791</td>\n      <td>401.0</td>\n      <td>400.0</td>\n      <td>403.0</td>\n      <td>402.0</td>\n      <td>401.0</td>\n      <td>...</td>\n      <td>NaN</td>\n      <td>NaN</td>\n      <td>NaN</td>\n      <td>1.600000</td>\n      <td>0.009</td>\n      <td>NaN</td>\n      <td>133.100006</td>\n      <td>156.434341</td>\n      <td>26.475903</td>\n      <td>0.0</td>\n    </tr>\n    <tr>\n      <th>2016-05-09 00:10:00</th>\n      <td>400.0</td>\n      <td>401.343811</td>\n      <td>401.000000</td>\n      <td>402.172699</td>\n      <td>401.000000</td>\n      <td>401.0</td>\n      <td>400.0</td>\n      <td>403.0</td>\n      <td>402.0</td>\n      <td>401.0</td>\n      <td>...</td>\n      <td>NaN</td>\n      <td>NaN</td>\n      <td>NaN</td>\n      <td>1.634300</td>\n      <td>0.009</td>\n      <td>NaN</td>\n      <td>133.100006</td>\n      <td>156.434296</td>\n      <td>26.500000</td>\n      <td>0.0</td>\n    </tr>\n    <tr>\n      <th>2016-05-09 00:20:00</th>\n      <td>400.0</td>\n      <td>402.000000</td>\n      <td>401.000000</td>\n      <td>402.000000</td>\n      <td>401.000000</td>\n      <td>401.0</td>\n      <td>400.0</td>\n      <td>403.0</td>\n      <td>402.0</td>\n      <td>401.0</td>\n      <td>...</td>\n      <td>NaN</td>\n      <td>NaN</td>\n      <td>NaN</td>\n      <td>1.634385</td>\n      <td>0.009</td>\n      <td>NaN</td>\n      <td>133.100006</td>\n      <td>156.500000</td>\n      <td>26.700001</td>\n      <td>0.0</td>\n    </tr>\n    <tr>\n      <th>2016-05-09 00:30:00</th>\n      <td>400.0</td>\n      <td>402.000000</td>\n      <td>401.000000</td>\n      <td>402.172913</td>\n      <td>401.000000</td>\n      <td>401.0</td>\n      <td>400.0</td>\n      <td>403.0</td>\n      <td>402.0</td>\n      <td>401.0</td>\n      <td>...</td>\n      <td>NaN</td>\n      <td>NaN</td>\n      <td>NaN</td>\n      <td>1.600000</td>\n      <td>0.009</td>\n      <td>NaN</td>\n      <td>133.199997</td>\n      <td>156.434341</td>\n      <td>26.624229</td>\n      <td>0.0</td>\n    </tr>\n    <tr>\n      <th>2016-05-09 00:40:00</th>\n      <td>400.0</td>\n      <td>402.000000</td>\n      <td>401.000000</td>\n      <td>402.172791</td>\n      <td>401.000000</td>\n      <td>401.0</td>\n      <td>401.0</td>\n      <td>403.0</td>\n      <td>402.0</td>\n      <td>401.0</td>\n      <td>...</td>\n      <td>NaN</td>\n      <td>NaN</td>\n      <td>NaN</td>\n      <td>1.634345</td>\n      <td>0.009</td>\n      <td>NaN</td>\n      <td>133.100006</td>\n      <td>156.434341</td>\n      <td>26.400000</td>\n      <td>0.0</td>\n    </tr>\n  </tbody>\n</table>\n<p>5 rows × 96 columns</p>\n</div>"
     },
     "metadata": {},
     "execution_count": 44
    }
   ],
   "source": [
    "for i in tqdm(set(df.columns)&set(tag.TAG)):\n",
    "    try:\n",
    "        lb = float(tag[tag['TAG']==i]['min'].values[0])\n",
    "        ub = float(tag[tag['TAG']==i]['max'].values[0])\n",
    "        out = (df[i]<lb)|(df[i]>ub)\n",
    "        \n",
    "        # 重點\n",
    "        df.loc[out,i] = np.nan\n",
    "    \n",
    "    except:\n",
    "        print(i)\n",
    "df.head()"
   ]
  },
  {
   "cell_type": "markdown",
   "metadata": {},
   "source": [
    "# become stable"
   ]
  },
  {
   "cell_type": "code",
   "execution_count": 45,
   "metadata": {},
   "outputs": [],
   "source": [
    "df = df.rolling(36).median()#主要是平滑"
   ]
  },
  {
   "cell_type": "code",
   "execution_count": 46,
   "metadata": {},
   "outputs": [
    {
     "output_type": "execute_result",
     "data": {
      "text/plain": [
       "MLPAP_FI-V211.PV(轉換後)    126715\n",
       "MLPAP_FR-0791.PV          77518\n",
       "MLPAP_FR-0755.PV(轉換後)      3721\n",
       "dtype: int64"
      ]
     },
     "metadata": {},
     "execution_count": 46
    }
   ],
   "source": [
    "df[stream_list].isnull().sum().sort_values(ascending=False)"
   ]
  },
  {
   "cell_type": "markdown",
   "metadata": {},
   "source": [
    "# save"
   ]
  },
  {
   "cell_type": "code",
   "execution_count": 47,
   "metadata": {},
   "outputs": [
    {
     "output_type": "execute_result",
     "data": {
      "text/plain": [
       "(228240, 96)"
      ]
     },
     "metadata": {},
     "execution_count": 47
    }
   ],
   "source": [
    "df.shape"
   ]
  },
  {
   "cell_type": "code",
   "execution_count": 51,
   "metadata": {},
   "outputs": [
    {
     "output_type": "stream",
     "name": "stdout",
     "text": [
      "Tue Dec 15 22:13:01 2020\n"
     ]
    }
   ],
   "source": [
    "df.to_csv('../data/train_cleaned.csv')\n",
    "tag.to_csv('../data/tag_cleaned.csv')\n",
    "print(time.ctime())"
   ]
  },
  {
   "cell_type": "code",
   "execution_count": null,
   "metadata": {},
   "outputs": [],
   "source": []
  },
  {
   "cell_type": "code",
   "execution_count": null,
   "metadata": {},
   "outputs": [],
   "source": []
  }
 ],
 "metadata": {
  "kernelspec": {
   "display_name": "Python 3",
   "language": "python",
   "name": "python3"
  },
  "language_info": {
   "codemirror_mode": {
    "name": "ipython",
    "version": 3
   },
   "file_extension": ".py",
   "mimetype": "text/x-python",
   "name": "python",
   "nbconvert_exporter": "python",
   "pygments_lexer": "ipython3",
   "version": "3.8.3-final"
  }
 },
 "nbformat": 4,
 "nbformat_minor": 2
}