{
 "cells": [
  {
   "cell_type": "code",
   "execution_count": 9,
   "metadata": {},
   "outputs": [
    {
     "output_type": "execute_result",
     "data": {
      "text/plain": [
       "['dataset.pkl', 'tag_cleaned.csv', 'train_cleaned.csv']"
      ]
     },
     "metadata": {},
     "execution_count": 9
    }
   ],
   "source": [
    "import pandas as pd\n",
    "import numpy as np\n",
    "import torch.nn.functional as F\n",
    "from copy import deepcopy\n",
    "import warnings\n",
    "warnings.simplefilter('ignore')\n",
    "import torchviz\n",
    "import seaborn as sns\n",
    "import matplotlib.pyplot as plt\n",
    "from tqdm import tqdm_notebook as tqdm\n",
    "from torch.utils.tensorboard import SummaryWriter\n",
    "import torch\n",
    "import torch.nn as nn\n",
    "import torch.utils.data as Data\n",
    "import torchvision\n",
    "import joblib\n",
    "import os\n",
    "from sklearn.preprocessing import StandardScaler\n",
    "import time\n",
    "def get_col(df,name):\n",
    "    return df.columns[df.columns.str.contains(name)].tolist()\n",
    "os.listdir('../data')"
   ]
  },
  {
   "cell_type": "markdown",
   "metadata": {},
   "source": [
    "# load data"
   ]
  },
  {
   "cell_type": "code",
   "execution_count": 10,
   "metadata": {},
   "outputs": [],
   "source": [
    "tag = pd.read_csv('../data/tag_cleaned.csv',index_col=0)\n",
    "tag = tag.loc[tag.category=='可控制因子']"
   ]
  },
  {
   "cell_type": "code",
   "execution_count": 11,
   "metadata": {},
   "outputs": [
    {
     "output_type": "execute_result",
     "data": {
      "text/plain": [
       "dict_keys(['state', 'action', 'output', 'stream', 'idx', 'mm_state', 'mm_action', 'mm_output', 'mm_stream', 'state_col', 'action_col', 'output_col', 'stream_col'])"
      ]
     },
     "metadata": {},
     "execution_count": 11
    }
   ],
   "source": [
    "data = joblib.load('../data/dataset.pkl')\n",
    "data.keys()"
   ]
  },
  {
   "cell_type": "code",
   "execution_count": 12,
   "metadata": {},
   "outputs": [
    {
     "output_type": "execute_result",
     "data": {
      "text/plain": [
       "['MLPAP_FQ-0619.PV',\n",
       " 'MLPAP_TJC-0627.PV',\n",
       " 'MLPAP_TRC-0610.PV',\n",
       " 'MLPAP_FR-0632.PV',\n",
       " 'MLPAP_TJC-0757A.PV',\n",
       " 'MLPAP_PIC-0761.PV',\n",
       " 'MLPAP_TJC-1721.PV',\n",
       " 'MLPAP_TRC-1734.PV',\n",
       " 'MLPAP_TRC-0747.PV',\n",
       " 'MLPAP_TJ-0881.PV',\n",
       " 'MLPAP_TJ-0757B.PV',\n",
       " '濃度']"
      ]
     },
     "metadata": {},
     "execution_count": 12
    }
   ],
   "source": [
    "data['action_col']"
   ]
  },
  {
   "cell_type": "markdown",
   "metadata": {},
   "source": [
    "# tensor data"
   ]
  },
  {
   "cell_type": "code",
   "execution_count": 13,
   "metadata": {},
   "outputs": [],
   "source": [
    "n = 0 \n",
    "state = torch.FloatTensor(data['state'][n:]).cuda()\n",
    "action = torch.FloatTensor(data['action'][n:]).cuda()\n",
    "output = torch.FloatTensor(data['output'][n:]).cuda()\n",
    "stream = torch.FloatTensor(data['stream'][n:]).cuda()"
   ]
  },
  {
   "cell_type": "markdown",
   "metadata": {},
   "source": [
    "# split data"
   ]
  },
  {
   "cell_type": "code",
   "execution_count": 14,
   "metadata": {},
   "outputs": [],
   "source": [
    "#test_df = pd.read_csv('../data/反應槽(20200201-20200212)開車資料.csv',\n",
    "#                 index_col=0,\n",
    "#                 parse_dates=True,\n",
    "#                 encoding='latin-1')\n",
    "#test_df = test_df.dropna(axis=0)\n",
    "#print(test_df.shape)"
   ]
  },
  {
   "cell_type": "code",
   "execution_count": 15,
   "metadata": {},
   "outputs": [
    {
     "output_type": "stream",
     "name": "stdout",
     "text": [
      "47370 53291\n"
     ]
    }
   ],
   "source": [
    "sp1 = int(len(state)*0.8)\n",
    "sp2 = int(len(state)*0.9)\n",
    "print(sp1,sp2)"
   ]
  },
  {
   "cell_type": "markdown",
   "metadata": {},
   "source": [
    "# data_iter"
   ]
  },
  {
   "cell_type": "code",
   "execution_count": 16,
   "metadata": {},
   "outputs": [],
   "source": [
    "train = torch.utils.data.TensorDataset(state[:sp1],action[:sp1],output[:sp1],stream[:sp1])\n",
    "valid = torch.utils.data.TensorDataset(state[sp2:],action[sp2:],output[sp2:],stream[sp2:])\n",
    "test = torch.utils.data.TensorDataset(state[sp2:],action[sp2:],output[sp2:],stream[sp2:])\n",
    "\n",
    "train_iter = torch.utils.data.DataLoader(train, batch_size=128, shuffle=True)\n",
    "valid_iter = torch.utils.data.DataLoader(valid, batch_size=128, shuffle=True)"
   ]
  },
  {
   "cell_type": "code",
   "execution_count": 17,
   "metadata": {},
   "outputs": [
    {
     "output_type": "stream",
     "name": "stdout",
     "text": [
      "torch.Size([59213, 36, 12])\n"
     ]
    }
   ],
   "source": [
    "print(action.shape)\n",
    "time_step = action.shape[1]\n",
    "num_sensor = action.shape[2]"
   ]
  },
  {
   "cell_type": "markdown",
   "metadata": {},
   "source": [
    "# Construct the neural network"
   ]
  },
  {
   "cell_type": "code",
   "execution_count": 18,
   "metadata": {},
   "outputs": [],
   "source": [
    "class Critic(nn.Module):\n",
    "    def __init__(self):\n",
    "        super().__init__()\n",
    "        \n",
    "        self.time_step = time_step\n",
    "        self.num_sensor = num_sensor\n",
    "        self.h_size = 128\n",
    "        \n",
    "        self.output_layer = nn.Sequential(nn.Linear(self.h_size,self.h_size),\n",
    "                                          nn.ReLU(),\n",
    "                                          nn.Dropout(0.2),\n",
    "                                          nn.Linear(self.h_size,1),\n",
    "                                         )\n",
    "        \n",
    "        self.stream_layer = nn.Sequential(nn.Linear(self.h_size,self.h_size),\n",
    "                                          nn.ReLU(),\n",
    "                                          nn.Linear(self.h_size,1),\n",
    "                                         )\n",
    "        \n",
    "        self.conv_layer = nn.Sequential(nn.Conv1d(self.num_sensor,self.h_size-1,kernel_size = 36),\n",
    "                                        nn.ReLU(),\n",
    "                                       )\n",
    "        \n",
    "        self.fc_layer = nn.Sequential(nn.Linear(self.h_size+1,self.h_size),\n",
    "                                          nn.ReLU(),\n",
    "                                          nn.Linear(self.h_size,self.h_size),\n",
    "                                         )\n",
    "        \n",
    "    def forward(self,state,action):\n",
    "        batch_size = state.shape[0]\n",
    "        \n",
    "        # action\n",
    "        action = self.conv_layer(action.permute(0,2,1)).reshape(batch_size,-1)\n",
    "        \n",
    "        # combine state action\n",
    "        combine = torch.cat((state,action),dim=-1)\n",
    "        \n",
    "        # fc forward\n",
    "        combine = self.fc_layer(combine)\n",
    "        \n",
    "        # get output and stream\n",
    "        output = self.output_layer(combine)\n",
    "        stream = self.stream_layer(combine)\n",
    "        \n",
    "        return F.sigmoid(output),F.sigmoid(stream)"
   ]
  },
  {
   "cell_type": "code",
   "execution_count": 19,
   "metadata": {},
   "outputs": [],
   "source": [
    "def init_weights(m):\n",
    "    if hasattr(m,'weight'):\n",
    "        try:\n",
    "            torch.nn.init.xavier_uniform(m.weight)\n",
    "        except:\n",
    "            pass\n",
    "    \n",
    "    if hasattr(m,'bias'):\n",
    "        try:\n",
    "            m.bias.data.fill_(0.1)\n",
    "        except:\n",
    "            pass"
   ]
  },
  {
   "cell_type": "code",
   "execution_count": 20,
   "metadata": {},
   "outputs": [
    {
     "output_type": "execute_result",
     "data": {
      "text/plain": [
       "Critic(\n",
       "  (output_layer): Sequential(\n",
       "    (0): Linear(in_features=128, out_features=128, bias=True)\n",
       "    (1): ReLU()\n",
       "    (2): Dropout(p=0.2, inplace=False)\n",
       "    (3): Linear(in_features=128, out_features=1, bias=True)\n",
       "  )\n",
       "  (stream_layer): Sequential(\n",
       "    (0): Linear(in_features=128, out_features=128, bias=True)\n",
       "    (1): ReLU()\n",
       "    (2): Linear(in_features=128, out_features=1, bias=True)\n",
       "  )\n",
       "  (conv_layer): Sequential(\n",
       "    (0): Conv1d(12, 127, kernel_size=(36,), stride=(1,))\n",
       "    (1): ReLU()\n",
       "  )\n",
       "  (fc_layer): Sequential(\n",
       "    (0): Linear(in_features=129, out_features=128, bias=True)\n",
       "    (1): ReLU()\n",
       "    (2): Linear(in_features=128, out_features=128, bias=True)\n",
       "  )\n",
       ")"
      ]
     },
     "metadata": {},
     "execution_count": 20
    }
   ],
   "source": [
    "net = Critic().cuda()\n",
    "net.apply(init_weights)"
   ]
  },
  {
   "cell_type": "markdown",
   "metadata": {},
   "source": [
    "# forward test"
   ]
  },
  {
   "cell_type": "code",
   "execution_count": 21,
   "metadata": {},
   "outputs": [
    {
     "output_type": "stream",
     "name": "stdout",
     "text": [
      "torch.Size([59213, 1])\ntorch.Size([59213, 1])\n"
     ]
    }
   ],
   "source": [
    "a,b = net(state,action)\n",
    "print(a.shape)\n",
    "print(b.shape)"
   ]
  },
  {
   "cell_type": "markdown",
   "metadata": {},
   "source": [
    "# tensorboard"
   ]
  },
  {
   "cell_type": "code",
   "execution_count": 22,
   "metadata": {},
   "outputs": [],
   "source": [
    "with SummaryWriter(comment='Net')as w:\n",
    "    w.add_graph(net, (test.tensors[0:2]))"
   ]
  },
  {
   "cell_type": "markdown",
   "metadata": {},
   "source": [
    "# loss and opt"
   ]
  },
  {
   "cell_type": "code",
   "execution_count": 23,
   "metadata": {},
   "outputs": [],
   "source": [
    "optimizer = torch.optim.Adam(net.parameters(),lr=1e-3)"
   ]
  },
  {
   "cell_type": "code",
   "execution_count": 24,
   "metadata": {},
   "outputs": [],
   "source": [
    "from torch.nn import L1Loss\n",
    "\n",
    "l1loss = L1Loss()\n",
    "def loss_function(output,stream,target_output,target_stream):\n",
    "    loss = l1loss(output,target_output)\n",
    "    return loss.mean()    "
   ]
  },
  {
   "cell_type": "markdown",
   "metadata": {},
   "source": [
    "# train and eval"
   ]
  },
  {
   "cell_type": "code",
   "execution_count": 25,
   "metadata": {},
   "outputs": [],
   "source": [
    "def train(net,train_iter,valid_iter,loss_function,optimizer,num_epochs=100):\n",
    "    train_history = []\n",
    "    valid_history = []\n",
    "    best_loss = np.inf\n",
    "    best_net = None\n",
    "    for epoch in range(num_epochs): \n",
    "        \n",
    "        # train model\n",
    "        net.train()\n",
    "        train_loss,i = 0,0\n",
    "        for state,action,output,stream in train_iter:\n",
    "            output_pred,stream_pred = net(state,action)\n",
    "            loss = loss_function(output_pred,stream_pred,output,stream)\n",
    "            train_loss += loss.item()\n",
    "            i += 1\n",
    "            \n",
    "            # update model\n",
    "            loss.backward()\n",
    "            optimizer.step()\n",
    "            optimizer.zero_grad()\n",
    "        \n",
    "        # eval model (afater update model)\n",
    "        with torch.no_grad():\n",
    "            net.eval()\n",
    "            val_loss,j = 0,0\n",
    "            for state,action,output,stream in valid_iter:\n",
    "                output_pred,stream_pred = net(state,action)\n",
    "                loss = loss_function(output_pred,stream_pred,output,stream)\n",
    "                val_loss += loss.item()\n",
    "                j += 1\n",
    "        \n",
    "        # caculate avg_loss\n",
    "        train_avg_loss = train_loss/i\n",
    "        val_avg_loss = val_loss/j\n",
    "        \n",
    "        # save the best_model\n",
    "        if val_avg_loss <= best_loss:\n",
    "            best_loss = val_avg_loss\n",
    "            best_net = deepcopy(net) #backup the model(deepcopy)\n",
    "            print('model recorded!')\n",
    "        \n",
    "        # record history and print loss of the epoch\n",
    "        train_history.append(train_avg_loss)\n",
    "        valid_history.append(val_avg_loss)\n",
    "        print(\"epochs {} train_avg_loss {:.4f} valid_avg_loss {:.4f}\".format(\n",
    "            epoch,train_avg_loss,val_avg_loss))\n",
    "        \n",
    "    # plot result\n",
    "    print('best val_avg_loss is ',best_loss)\n",
    "    \n",
    "    fig = plt.figure(figsize=(20,5))\n",
    "    plt.plot(np.array(train_history),label='train')\n",
    "    plt.plot(np.array(valid_history),label='valid')\n",
    "    plt.legend()\n",
    "    plt.title('loss')\n",
    "    plt.show()\n",
    "    \n",
    "    return best_net.eval()"
   ]
  },
  {
   "cell_type": "code",
   "execution_count": 26,
   "metadata": {},
   "outputs": [
    {
     "output_type": "stream",
     "name": "stdout",
     "text": [
      "model recorded!\n",
      "epochs 0 train_avg_loss 0.0287 valid_avg_loss 0.0400\n",
      "model recorded!\n",
      "epochs 1 train_avg_loss 0.0176 valid_avg_loss 0.0232\n",
      "epochs 2 train_avg_loss 0.0171 valid_avg_loss 0.0327\n",
      "epochs 3 train_avg_loss 0.0161 valid_avg_loss 0.0366\n",
      "epochs 4 train_avg_loss 0.0158 valid_avg_loss 0.0583\n",
      "epochs 5 train_avg_loss 0.0153 valid_avg_loss 0.0477\n",
      "epochs 6 train_avg_loss 0.0149 valid_avg_loss 0.0437\n",
      "epochs 7 train_avg_loss 0.0146 valid_avg_loss 0.0305\n",
      "model recorded!\n",
      "epochs 8 train_avg_loss 0.0142 valid_avg_loss 0.0197\n",
      "epochs 9 train_avg_loss 0.0141 valid_avg_loss 0.0257\n",
      "epochs 10 train_avg_loss 0.0137 valid_avg_loss 0.0235\n",
      "model recorded!\n",
      "epochs 11 train_avg_loss 0.0135 valid_avg_loss 0.0162\n",
      "epochs 12 train_avg_loss 0.0131 valid_avg_loss 0.0436\n",
      "epochs 13 train_avg_loss 0.0130 valid_avg_loss 0.0207\n",
      "epochs 14 train_avg_loss 0.0129 valid_avg_loss 0.0326\n",
      "epochs 15 train_avg_loss 0.0127 valid_avg_loss 0.0283\n",
      "model recorded!\n",
      "epochs 16 train_avg_loss 0.0126 valid_avg_loss 0.0113\n",
      "epochs 17 train_avg_loss 0.0123 valid_avg_loss 0.0241\n",
      "epochs 18 train_avg_loss 0.0122 valid_avg_loss 0.0224\n",
      "epochs 19 train_avg_loss 0.0123 valid_avg_loss 0.0257\n",
      "epochs 20 train_avg_loss 0.0121 valid_avg_loss 0.0241\n",
      "epochs 21 train_avg_loss 0.0122 valid_avg_loss 0.0238\n",
      "model recorded!\n",
      "epochs 22 train_avg_loss 0.0118 valid_avg_loss 0.0110\n",
      "epochs 23 train_avg_loss 0.0120 valid_avg_loss 0.0227\n",
      "epochs 24 train_avg_loss 0.0116 valid_avg_loss 0.0297\n",
      "epochs 25 train_avg_loss 0.0116 valid_avg_loss 0.0172\n",
      "epochs 26 train_avg_loss 0.0114 valid_avg_loss 0.0227\n",
      "epochs 27 train_avg_loss 0.0115 valid_avg_loss 0.0261\n",
      "epochs 28 train_avg_loss 0.0113 valid_avg_loss 0.0189\n",
      "epochs 29 train_avg_loss 0.0111 valid_avg_loss 0.0144\n",
      "best val_avg_loss is  0.010984026133380037\n"
     ]
    },
    {
     "output_type": "display_data",
     "data": {
      "text/plain": "<Figure size 1440x360 with 1 Axes>",
      "image/svg+xml": "<?xml version=\"1.0\" encoding=\"utf-8\" standalone=\"no\"?>\r\n<!DOCTYPE svg PUBLIC \"-//W3C//DTD SVG 1.1//EN\"\r\n  \"http://www.w3.org/Graphics/SVG/1.1/DTD/svg11.dtd\">\r\n<!-- Created with matplotlib (https://matplotlib.org/) -->\r\n<svg height=\"317.99625pt\" version=\"1.1\" viewBox=\"0 0 1159.665625 317.99625\" width=\"1159.665625pt\" xmlns=\"http://www.w3.org/2000/svg\" xmlns:xlink=\"http://www.w3.org/1999/xlink\">\r\n <defs>\r\n  <style type=\"text/css\">\r\n*{stroke-linecap:butt;stroke-linejoin:round;}\r\n  </style>\r\n </defs>\r\n <g id=\"figure_1\">\r\n  <g id=\"patch_1\">\r\n   <path d=\"M 0 317.99625 \r\nL 1159.665625 317.99625 \r\nL 1159.665625 0 \r\nL 0 0 \r\nz\r\n\" style=\"fill:none;\"/>\r\n  </g>\r\n  <g id=\"axes_1\">\r\n   <g id=\"patch_2\">\r\n    <path d=\"M 36.465625 294.118125 \r\nL 1152.465625 294.118125 \r\nL 1152.465625 22.318125 \r\nL 36.465625 22.318125 \r\nz\r\n\" style=\"fill:#ffffff;\"/>\r\n   </g>\r\n   <g id=\"matplotlib.axis_1\">\r\n    <g id=\"xtick_1\">\r\n     <g id=\"line2d_1\">\r\n      <defs>\r\n       <path d=\"M 0 0 \r\nL 0 3.5 \r\n\" id=\"mc43bb86de7\" style=\"stroke:#000000;stroke-width:0.8;\"/>\r\n      </defs>\r\n      <g>\r\n       <use style=\"stroke:#000000;stroke-width:0.8;\" x=\"87.192898\" xlink:href=\"#mc43bb86de7\" y=\"294.118125\"/>\r\n      </g>\r\n     </g>\r\n     <g id=\"text_1\">\r\n      <!-- 0 -->\r\n      <defs>\r\n       <path d=\"M 31.78125 66.40625 \r\nQ 24.171875 66.40625 20.328125 58.90625 \r\nQ 16.5 51.421875 16.5 36.375 \r\nQ 16.5 21.390625 20.328125 13.890625 \r\nQ 24.171875 6.390625 31.78125 6.390625 \r\nQ 39.453125 6.390625 43.28125 13.890625 \r\nQ 47.125 21.390625 47.125 36.375 \r\nQ 47.125 51.421875 43.28125 58.90625 \r\nQ 39.453125 66.40625 31.78125 66.40625 \r\nz\r\nM 31.78125 74.21875 \r\nQ 44.046875 74.21875 50.515625 64.515625 \r\nQ 56.984375 54.828125 56.984375 36.375 \r\nQ 56.984375 17.96875 50.515625 8.265625 \r\nQ 44.046875 -1.421875 31.78125 -1.421875 \r\nQ 19.53125 -1.421875 13.0625 8.265625 \r\nQ 6.59375 17.96875 6.59375 36.375 \r\nQ 6.59375 54.828125 13.0625 64.515625 \r\nQ 19.53125 74.21875 31.78125 74.21875 \r\nz\r\n\" id=\"DejaVuSans-48\"/>\r\n      </defs>\r\n      <g transform=\"translate(84.011648 308.716563)scale(0.1 -0.1)\">\r\n       <use xlink:href=\"#DejaVuSans-48\"/>\r\n      </g>\r\n     </g>\r\n    </g>\r\n    <g id=\"xtick_2\">\r\n     <g id=\"line2d_2\">\r\n      <g>\r\n       <use style=\"stroke:#000000;stroke-width:0.8;\" x=\"262.114528\" xlink:href=\"#mc43bb86de7\" y=\"294.118125\"/>\r\n      </g>\r\n     </g>\r\n     <g id=\"text_2\">\r\n      <!-- 5 -->\r\n      <defs>\r\n       <path d=\"M 10.796875 72.90625 \r\nL 49.515625 72.90625 \r\nL 49.515625 64.59375 \r\nL 19.828125 64.59375 \r\nL 19.828125 46.734375 \r\nQ 21.96875 47.46875 24.109375 47.828125 \r\nQ 26.265625 48.1875 28.421875 48.1875 \r\nQ 40.625 48.1875 47.75 41.5 \r\nQ 54.890625 34.8125 54.890625 23.390625 \r\nQ 54.890625 11.625 47.5625 5.09375 \r\nQ 40.234375 -1.421875 26.90625 -1.421875 \r\nQ 22.3125 -1.421875 17.546875 -0.640625 \r\nQ 12.796875 0.140625 7.71875 1.703125 \r\nL 7.71875 11.625 \r\nQ 12.109375 9.234375 16.796875 8.0625 \r\nQ 21.484375 6.890625 26.703125 6.890625 \r\nQ 35.15625 6.890625 40.078125 11.328125 \r\nQ 45.015625 15.765625 45.015625 23.390625 \r\nQ 45.015625 31 40.078125 35.4375 \r\nQ 35.15625 39.890625 26.703125 39.890625 \r\nQ 22.75 39.890625 18.8125 39.015625 \r\nQ 14.890625 38.140625 10.796875 36.28125 \r\nz\r\n\" id=\"DejaVuSans-53\"/>\r\n      </defs>\r\n      <g transform=\"translate(258.933278 308.716563)scale(0.1 -0.1)\">\r\n       <use xlink:href=\"#DejaVuSans-53\"/>\r\n      </g>\r\n     </g>\r\n    </g>\r\n    <g id=\"xtick_3\">\r\n     <g id=\"line2d_3\">\r\n      <g>\r\n       <use style=\"stroke:#000000;stroke-width:0.8;\" x=\"437.036158\" xlink:href=\"#mc43bb86de7\" y=\"294.118125\"/>\r\n      </g>\r\n     </g>\r\n     <g id=\"text_3\">\r\n      <!-- 10 -->\r\n      <defs>\r\n       <path d=\"M 12.40625 8.296875 \r\nL 28.515625 8.296875 \r\nL 28.515625 63.921875 \r\nL 10.984375 60.40625 \r\nL 10.984375 69.390625 \r\nL 28.421875 72.90625 \r\nL 38.28125 72.90625 \r\nL 38.28125 8.296875 \r\nL 54.390625 8.296875 \r\nL 54.390625 0 \r\nL 12.40625 0 \r\nz\r\n\" id=\"DejaVuSans-49\"/>\r\n      </defs>\r\n      <g transform=\"translate(430.673658 308.716563)scale(0.1 -0.1)\">\r\n       <use xlink:href=\"#DejaVuSans-49\"/>\r\n       <use x=\"63.623047\" xlink:href=\"#DejaVuSans-48\"/>\r\n      </g>\r\n     </g>\r\n    </g>\r\n    <g id=\"xtick_4\">\r\n     <g id=\"line2d_4\">\r\n      <g>\r\n       <use style=\"stroke:#000000;stroke-width:0.8;\" x=\"611.957788\" xlink:href=\"#mc43bb86de7\" y=\"294.118125\"/>\r\n      </g>\r\n     </g>\r\n     <g id=\"text_4\">\r\n      <!-- 15 -->\r\n      <g transform=\"translate(605.595288 308.716563)scale(0.1 -0.1)\">\r\n       <use xlink:href=\"#DejaVuSans-49\"/>\r\n       <use x=\"63.623047\" xlink:href=\"#DejaVuSans-53\"/>\r\n      </g>\r\n     </g>\r\n    </g>\r\n    <g id=\"xtick_5\">\r\n     <g id=\"line2d_5\">\r\n      <g>\r\n       <use style=\"stroke:#000000;stroke-width:0.8;\" x=\"786.879418\" xlink:href=\"#mc43bb86de7\" y=\"294.118125\"/>\r\n      </g>\r\n     </g>\r\n     <g id=\"text_5\">\r\n      <!-- 20 -->\r\n      <defs>\r\n       <path d=\"M 19.1875 8.296875 \r\nL 53.609375 8.296875 \r\nL 53.609375 0 \r\nL 7.328125 0 \r\nL 7.328125 8.296875 \r\nQ 12.9375 14.109375 22.625 23.890625 \r\nQ 32.328125 33.6875 34.8125 36.53125 \r\nQ 39.546875 41.84375 41.421875 45.53125 \r\nQ 43.3125 49.21875 43.3125 52.78125 \r\nQ 43.3125 58.59375 39.234375 62.25 \r\nQ 35.15625 65.921875 28.609375 65.921875 \r\nQ 23.96875 65.921875 18.8125 64.3125 \r\nQ 13.671875 62.703125 7.8125 59.421875 \r\nL 7.8125 69.390625 \r\nQ 13.765625 71.78125 18.9375 73 \r\nQ 24.125 74.21875 28.421875 74.21875 \r\nQ 39.75 74.21875 46.484375 68.546875 \r\nQ 53.21875 62.890625 53.21875 53.421875 \r\nQ 53.21875 48.921875 51.53125 44.890625 \r\nQ 49.859375 40.875 45.40625 35.40625 \r\nQ 44.1875 33.984375 37.640625 27.21875 \r\nQ 31.109375 20.453125 19.1875 8.296875 \r\nz\r\n\" id=\"DejaVuSans-50\"/>\r\n      </defs>\r\n      <g transform=\"translate(780.516918 308.716563)scale(0.1 -0.1)\">\r\n       <use xlink:href=\"#DejaVuSans-50\"/>\r\n       <use x=\"63.623047\" xlink:href=\"#DejaVuSans-48\"/>\r\n      </g>\r\n     </g>\r\n    </g>\r\n    <g id=\"xtick_6\">\r\n     <g id=\"line2d_6\">\r\n      <g>\r\n       <use style=\"stroke:#000000;stroke-width:0.8;\" x=\"961.801048\" xlink:href=\"#mc43bb86de7\" y=\"294.118125\"/>\r\n      </g>\r\n     </g>\r\n     <g id=\"text_6\">\r\n      <!-- 25 -->\r\n      <g transform=\"translate(955.438548 308.716563)scale(0.1 -0.1)\">\r\n       <use xlink:href=\"#DejaVuSans-50\"/>\r\n       <use x=\"63.623047\" xlink:href=\"#DejaVuSans-53\"/>\r\n      </g>\r\n     </g>\r\n    </g>\r\n    <g id=\"xtick_7\">\r\n     <g id=\"line2d_7\">\r\n      <g>\r\n       <use style=\"stroke:#000000;stroke-width:0.8;\" x=\"1136.722678\" xlink:href=\"#mc43bb86de7\" y=\"294.118125\"/>\r\n      </g>\r\n     </g>\r\n     <g id=\"text_7\">\r\n      <!-- 30 -->\r\n      <defs>\r\n       <path d=\"M 40.578125 39.3125 \r\nQ 47.65625 37.796875 51.625 33 \r\nQ 55.609375 28.21875 55.609375 21.1875 \r\nQ 55.609375 10.40625 48.1875 4.484375 \r\nQ 40.765625 -1.421875 27.09375 -1.421875 \r\nQ 22.515625 -1.421875 17.65625 -0.515625 \r\nQ 12.796875 0.390625 7.625 2.203125 \r\nL 7.625 11.71875 \r\nQ 11.71875 9.328125 16.59375 8.109375 \r\nQ 21.484375 6.890625 26.8125 6.890625 \r\nQ 36.078125 6.890625 40.9375 10.546875 \r\nQ 45.796875 14.203125 45.796875 21.1875 \r\nQ 45.796875 27.640625 41.28125 31.265625 \r\nQ 36.765625 34.90625 28.71875 34.90625 \r\nL 20.21875 34.90625 \r\nL 20.21875 43.015625 \r\nL 29.109375 43.015625 \r\nQ 36.375 43.015625 40.234375 45.921875 \r\nQ 44.09375 48.828125 44.09375 54.296875 \r\nQ 44.09375 59.90625 40.109375 62.90625 \r\nQ 36.140625 65.921875 28.71875 65.921875 \r\nQ 24.65625 65.921875 20.015625 65.03125 \r\nQ 15.375 64.15625 9.8125 62.3125 \r\nL 9.8125 71.09375 \r\nQ 15.4375 72.65625 20.34375 73.4375 \r\nQ 25.25 74.21875 29.59375 74.21875 \r\nQ 40.828125 74.21875 47.359375 69.109375 \r\nQ 53.90625 64.015625 53.90625 55.328125 \r\nQ 53.90625 49.265625 50.4375 45.09375 \r\nQ 46.96875 40.921875 40.578125 39.3125 \r\nz\r\n\" id=\"DejaVuSans-51\"/>\r\n      </defs>\r\n      <g transform=\"translate(1130.360178 308.716563)scale(0.1 -0.1)\">\r\n       <use xlink:href=\"#DejaVuSans-51\"/>\r\n       <use x=\"63.623047\" xlink:href=\"#DejaVuSans-48\"/>\r\n      </g>\r\n     </g>\r\n    </g>\r\n   </g>\r\n   <g id=\"matplotlib.axis_2\">\r\n    <g id=\"ytick_1\">\r\n     <g id=\"line2d_8\">\r\n      <defs>\r\n       <path d=\"M 0 0 \r\nL -3.5 0 \r\n\" id=\"m603fb2f45e\" style=\"stroke:#000000;stroke-width:0.8;\"/>\r\n      </defs>\r\n      <g>\r\n       <use style=\"stroke:#000000;stroke-width:0.8;\" x=\"36.465625\" xlink:href=\"#m603fb2f45e\" y=\"286.89957\"/>\r\n      </g>\r\n     </g>\r\n     <g id=\"text_8\">\r\n      <!-- 0.01 -->\r\n      <defs>\r\n       <path d=\"M 10.6875 12.40625 \r\nL 21 12.40625 \r\nL 21 0 \r\nL 10.6875 0 \r\nz\r\n\" id=\"DejaVuSans-46\"/>\r\n      </defs>\r\n      <g transform=\"translate(7.2 290.698789)scale(0.1 -0.1)\">\r\n       <use xlink:href=\"#DejaVuSans-48\"/>\r\n       <use x=\"63.623047\" xlink:href=\"#DejaVuSans-46\"/>\r\n       <use x=\"95.410156\" xlink:href=\"#DejaVuSans-48\"/>\r\n       <use x=\"159.033203\" xlink:href=\"#DejaVuSans-49\"/>\r\n      </g>\r\n     </g>\r\n    </g>\r\n    <g id=\"ytick_2\">\r\n     <g id=\"line2d_9\">\r\n      <g>\r\n       <use style=\"stroke:#000000;stroke-width:0.8;\" x=\"36.465625\" xlink:href=\"#m603fb2f45e\" y=\"234.705932\"/>\r\n      </g>\r\n     </g>\r\n     <g id=\"text_9\">\r\n      <!-- 0.02 -->\r\n      <g transform=\"translate(7.2 238.505151)scale(0.1 -0.1)\">\r\n       <use xlink:href=\"#DejaVuSans-48\"/>\r\n       <use x=\"63.623047\" xlink:href=\"#DejaVuSans-46\"/>\r\n       <use x=\"95.410156\" xlink:href=\"#DejaVuSans-48\"/>\r\n       <use x=\"159.033203\" xlink:href=\"#DejaVuSans-50\"/>\r\n      </g>\r\n     </g>\r\n    </g>\r\n    <g id=\"ytick_3\">\r\n     <g id=\"line2d_10\">\r\n      <g>\r\n       <use style=\"stroke:#000000;stroke-width:0.8;\" x=\"36.465625\" xlink:href=\"#m603fb2f45e\" y=\"182.512294\"/>\r\n      </g>\r\n     </g>\r\n     <g id=\"text_10\">\r\n      <!-- 0.03 -->\r\n      <g transform=\"translate(7.2 186.311513)scale(0.1 -0.1)\">\r\n       <use xlink:href=\"#DejaVuSans-48\"/>\r\n       <use x=\"63.623047\" xlink:href=\"#DejaVuSans-46\"/>\r\n       <use x=\"95.410156\" xlink:href=\"#DejaVuSans-48\"/>\r\n       <use x=\"159.033203\" xlink:href=\"#DejaVuSans-51\"/>\r\n      </g>\r\n     </g>\r\n    </g>\r\n    <g id=\"ytick_4\">\r\n     <g id=\"line2d_11\">\r\n      <g>\r\n       <use style=\"stroke:#000000;stroke-width:0.8;\" x=\"36.465625\" xlink:href=\"#m603fb2f45e\" y=\"130.318656\"/>\r\n      </g>\r\n     </g>\r\n     <g id=\"text_11\">\r\n      <!-- 0.04 -->\r\n      <defs>\r\n       <path d=\"M 37.796875 64.3125 \r\nL 12.890625 25.390625 \r\nL 37.796875 25.390625 \r\nz\r\nM 35.203125 72.90625 \r\nL 47.609375 72.90625 \r\nL 47.609375 25.390625 \r\nL 58.015625 25.390625 \r\nL 58.015625 17.1875 \r\nL 47.609375 17.1875 \r\nL 47.609375 0 \r\nL 37.796875 0 \r\nL 37.796875 17.1875 \r\nL 4.890625 17.1875 \r\nL 4.890625 26.703125 \r\nz\r\n\" id=\"DejaVuSans-52\"/>\r\n      </defs>\r\n      <g transform=\"translate(7.2 134.117875)scale(0.1 -0.1)\">\r\n       <use xlink:href=\"#DejaVuSans-48\"/>\r\n       <use x=\"63.623047\" xlink:href=\"#DejaVuSans-46\"/>\r\n       <use x=\"95.410156\" xlink:href=\"#DejaVuSans-48\"/>\r\n       <use x=\"159.033203\" xlink:href=\"#DejaVuSans-52\"/>\r\n      </g>\r\n     </g>\r\n    </g>\r\n    <g id=\"ytick_5\">\r\n     <g id=\"line2d_12\">\r\n      <g>\r\n       <use style=\"stroke:#000000;stroke-width:0.8;\" x=\"36.465625\" xlink:href=\"#m603fb2f45e\" y=\"78.125018\"/>\r\n      </g>\r\n     </g>\r\n     <g id=\"text_12\">\r\n      <!-- 0.05 -->\r\n      <g transform=\"translate(7.2 81.924237)scale(0.1 -0.1)\">\r\n       <use xlink:href=\"#DejaVuSans-48\"/>\r\n       <use x=\"63.623047\" xlink:href=\"#DejaVuSans-46\"/>\r\n       <use x=\"95.410156\" xlink:href=\"#DejaVuSans-48\"/>\r\n       <use x=\"159.033203\" xlink:href=\"#DejaVuSans-53\"/>\r\n      </g>\r\n     </g>\r\n    </g>\r\n    <g id=\"ytick_6\">\r\n     <g id=\"line2d_13\">\r\n      <g>\r\n       <use style=\"stroke:#000000;stroke-width:0.8;\" x=\"36.465625\" xlink:href=\"#m603fb2f45e\" y=\"25.93138\"/>\r\n      </g>\r\n     </g>\r\n     <g id=\"text_13\">\r\n      <!-- 0.06 -->\r\n      <defs>\r\n       <path d=\"M 33.015625 40.375 \r\nQ 26.375 40.375 22.484375 35.828125 \r\nQ 18.609375 31.296875 18.609375 23.390625 \r\nQ 18.609375 15.53125 22.484375 10.953125 \r\nQ 26.375 6.390625 33.015625 6.390625 \r\nQ 39.65625 6.390625 43.53125 10.953125 \r\nQ 47.40625 15.53125 47.40625 23.390625 \r\nQ 47.40625 31.296875 43.53125 35.828125 \r\nQ 39.65625 40.375 33.015625 40.375 \r\nz\r\nM 52.59375 71.296875 \r\nL 52.59375 62.3125 \r\nQ 48.875 64.0625 45.09375 64.984375 \r\nQ 41.3125 65.921875 37.59375 65.921875 \r\nQ 27.828125 65.921875 22.671875 59.328125 \r\nQ 17.53125 52.734375 16.796875 39.40625 \r\nQ 19.671875 43.65625 24.015625 45.921875 \r\nQ 28.375 48.1875 33.59375 48.1875 \r\nQ 44.578125 48.1875 50.953125 41.515625 \r\nQ 57.328125 34.859375 57.328125 23.390625 \r\nQ 57.328125 12.15625 50.6875 5.359375 \r\nQ 44.046875 -1.421875 33.015625 -1.421875 \r\nQ 20.359375 -1.421875 13.671875 8.265625 \r\nQ 6.984375 17.96875 6.984375 36.375 \r\nQ 6.984375 53.65625 15.1875 63.9375 \r\nQ 23.390625 74.21875 37.203125 74.21875 \r\nQ 40.921875 74.21875 44.703125 73.484375 \r\nQ 48.484375 72.75 52.59375 71.296875 \r\nz\r\n\" id=\"DejaVuSans-54\"/>\r\n      </defs>\r\n      <g transform=\"translate(7.2 29.730599)scale(0.1 -0.1)\">\r\n       <use xlink:href=\"#DejaVuSans-48\"/>\r\n       <use x=\"63.623047\" xlink:href=\"#DejaVuSans-46\"/>\r\n       <use x=\"95.410156\" xlink:href=\"#DejaVuSans-48\"/>\r\n       <use x=\"159.033203\" xlink:href=\"#DejaVuSans-54\"/>\r\n      </g>\r\n     </g>\r\n    </g>\r\n   </g>\r\n   <g id=\"line2d_14\">\r\n    <path clip-path=\"url(#pff91ac34ab)\" d=\"M 87.192898 189.184081 \r\nL 122.177224 247.261457 \r\nL 157.16155 249.663203 \r\nL 192.145876 254.859091 \r\nL 227.130202 256.53928 \r\nL 262.114528 258.97616 \r\nL 297.098854 261.46897 \r\nL 332.08318 262.965893 \r\nL 367.067506 264.736929 \r\nL 402.051832 265.5252 \r\nL 437.036158 267.558224 \r\nL 472.020484 268.482605 \r\nL 507.00481 270.619834 \r\nL 541.989136 271.113549 \r\nL 576.973462 271.6534 \r\nL 611.957788 272.634884 \r\nL 646.942114 273.477506 \r\nL 681.92644 274.927055 \r\nL 716.910766 275.403927 \r\nL 751.895092 275.130075 \r\nL 786.879418 275.964979 \r\nL 821.863744 275.661053 \r\nL 856.84807 277.497703 \r\nL 891.832396 276.369525 \r\nL 926.816722 278.365521 \r\nL 961.801048 278.729863 \r\nL 996.785374 279.738224 \r\nL 1031.7697 279.001811 \r\nL 1066.754026 280.125995 \r\nL 1101.738352 281.042171 \r\n\" style=\"fill:none;stroke:#1f77b4;stroke-linecap:square;stroke-width:1.5;\"/>\r\n   </g>\r\n   <g id=\"line2d_15\">\r\n    <path clip-path=\"url(#pff91ac34ab)\" d=\"M 87.192898 130.567198 \r\nL 122.177224 218.01049 \r\nL 157.16155 168.366226 \r\nL 192.145876 147.889185 \r\nL 227.130202 34.67267 \r\nL 262.114528 90.142224 \r\nL 297.098854 110.959222 \r\nL 332.08318 179.67604 \r\nL 367.067506 236.347396 \r\nL 402.051832 204.95442 \r\nL 437.036158 216.670126 \r\nL 472.020484 254.782328 \r\nL 507.00481 111.758654 \r\nL 541.989136 230.868934 \r\nL 576.973462 169.006931 \r\nL 611.957788 191.404199 \r\nL 646.942114 280.268359 \r\nL 681.92644 213.477263 \r\nL 716.910766 222.380417 \r\nL 751.895092 204.712196 \r\nL 786.879418 213.161075 \r\nL 821.863744 214.743047 \r\nL 856.84807 281.76358 \r\nL 891.832396 220.755351 \r\nL 926.816722 183.8338 \r\nL 961.801048 249.441292 \r\nL 996.785374 220.490241 \r\nL 1031.7697 203.055691 \r\nL 1066.754026 240.266679 \r\nL 1101.738352 264.191214 \r\n\" style=\"fill:none;stroke:#ff7f0e;stroke-linecap:square;stroke-width:1.5;\"/>\r\n   </g>\r\n   <g id=\"patch_3\">\r\n    <path d=\"M 36.465625 294.118125 \r\nL 36.465625 22.318125 \r\n\" style=\"fill:none;stroke:#000000;stroke-linecap:square;stroke-linejoin:miter;stroke-width:0.8;\"/>\r\n   </g>\r\n   <g id=\"patch_4\">\r\n    <path d=\"M 1152.465625 294.118125 \r\nL 1152.465625 22.318125 \r\n\" style=\"fill:none;stroke:#000000;stroke-linecap:square;stroke-linejoin:miter;stroke-width:0.8;\"/>\r\n   </g>\r\n   <g id=\"patch_5\">\r\n    <path d=\"M 36.465625 294.118125 \r\nL 1152.465625 294.118125 \r\n\" style=\"fill:none;stroke:#000000;stroke-linecap:square;stroke-linejoin:miter;stroke-width:0.8;\"/>\r\n   </g>\r\n   <g id=\"patch_6\">\r\n    <path d=\"M 36.465625 22.318125 \r\nL 1152.465625 22.318125 \r\n\" style=\"fill:none;stroke:#000000;stroke-linecap:square;stroke-linejoin:miter;stroke-width:0.8;\"/>\r\n   </g>\r\n   <g id=\"text_14\">\r\n    <!-- loss -->\r\n    <defs>\r\n     <path d=\"M 9.421875 75.984375 \r\nL 18.40625 75.984375 \r\nL 18.40625 0 \r\nL 9.421875 0 \r\nz\r\n\" id=\"DejaVuSans-108\"/>\r\n     <path d=\"M 30.609375 48.390625 \r\nQ 23.390625 48.390625 19.1875 42.75 \r\nQ 14.984375 37.109375 14.984375 27.296875 \r\nQ 14.984375 17.484375 19.15625 11.84375 \r\nQ 23.34375 6.203125 30.609375 6.203125 \r\nQ 37.796875 6.203125 41.984375 11.859375 \r\nQ 46.1875 17.53125 46.1875 27.296875 \r\nQ 46.1875 37.015625 41.984375 42.703125 \r\nQ 37.796875 48.390625 30.609375 48.390625 \r\nz\r\nM 30.609375 56 \r\nQ 42.328125 56 49.015625 48.375 \r\nQ 55.71875 40.765625 55.71875 27.296875 \r\nQ 55.71875 13.875 49.015625 6.21875 \r\nQ 42.328125 -1.421875 30.609375 -1.421875 \r\nQ 18.84375 -1.421875 12.171875 6.21875 \r\nQ 5.515625 13.875 5.515625 27.296875 \r\nQ 5.515625 40.765625 12.171875 48.375 \r\nQ 18.84375 56 30.609375 56 \r\nz\r\n\" id=\"DejaVuSans-111\"/>\r\n     <path d=\"M 44.28125 53.078125 \r\nL 44.28125 44.578125 \r\nQ 40.484375 46.53125 36.375 47.5 \r\nQ 32.28125 48.484375 27.875 48.484375 \r\nQ 21.1875 48.484375 17.84375 46.4375 \r\nQ 14.5 44.390625 14.5 40.28125 \r\nQ 14.5 37.15625 16.890625 35.375 \r\nQ 19.28125 33.59375 26.515625 31.984375 \r\nL 29.59375 31.296875 \r\nQ 39.15625 29.25 43.1875 25.515625 \r\nQ 47.21875 21.78125 47.21875 15.09375 \r\nQ 47.21875 7.46875 41.1875 3.015625 \r\nQ 35.15625 -1.421875 24.609375 -1.421875 \r\nQ 20.21875 -1.421875 15.453125 -0.5625 \r\nQ 10.6875 0.296875 5.421875 2 \r\nL 5.421875 11.28125 \r\nQ 10.40625 8.6875 15.234375 7.390625 \r\nQ 20.0625 6.109375 24.8125 6.109375 \r\nQ 31.15625 6.109375 34.5625 8.28125 \r\nQ 37.984375 10.453125 37.984375 14.40625 \r\nQ 37.984375 18.0625 35.515625 20.015625 \r\nQ 33.0625 21.96875 24.703125 23.78125 \r\nL 21.578125 24.515625 \r\nQ 13.234375 26.265625 9.515625 29.90625 \r\nQ 5.8125 33.546875 5.8125 39.890625 \r\nQ 5.8125 47.609375 11.28125 51.796875 \r\nQ 16.75 56 26.8125 56 \r\nQ 31.78125 56 36.171875 55.265625 \r\nQ 40.578125 54.546875 44.28125 53.078125 \r\nz\r\n\" id=\"DejaVuSans-115\"/>\r\n    </defs>\r\n    <g transform=\"translate(582.87625 16.318125)scale(0.12 -0.12)\">\r\n     <use xlink:href=\"#DejaVuSans-108\"/>\r\n     <use x=\"27.783203\" xlink:href=\"#DejaVuSans-111\"/>\r\n     <use x=\"88.964844\" xlink:href=\"#DejaVuSans-115\"/>\r\n     <use x=\"141.064453\" xlink:href=\"#DejaVuSans-115\"/>\r\n    </g>\r\n   </g>\r\n   <g id=\"legend_1\">\r\n    <g id=\"patch_7\">\r\n     <path d=\"M 1089.514063 59.674375 \r\nL 1145.465625 59.674375 \r\nQ 1147.465625 59.674375 1147.465625 57.674375 \r\nL 1147.465625 29.318125 \r\nQ 1147.465625 27.318125 1145.465625 27.318125 \r\nL 1089.514063 27.318125 \r\nQ 1087.514063 27.318125 1087.514063 29.318125 \r\nL 1087.514063 57.674375 \r\nQ 1087.514063 59.674375 1089.514063 59.674375 \r\nz\r\n\" style=\"fill:#ffffff;opacity:0.8;stroke:#cccccc;stroke-linejoin:miter;\"/>\r\n    </g>\r\n    <g id=\"line2d_16\">\r\n     <path d=\"M 1091.514063 35.416562 \r\nL 1111.514063 35.416562 \r\n\" style=\"fill:none;stroke:#1f77b4;stroke-linecap:square;stroke-width:1.5;\"/>\r\n    </g>\r\n    <g id=\"line2d_17\"/>\r\n    <g id=\"text_15\">\r\n     <!-- train -->\r\n     <defs>\r\n      <path d=\"M 18.3125 70.21875 \r\nL 18.3125 54.6875 \r\nL 36.8125 54.6875 \r\nL 36.8125 47.703125 \r\nL 18.3125 47.703125 \r\nL 18.3125 18.015625 \r\nQ 18.3125 11.328125 20.140625 9.421875 \r\nQ 21.96875 7.515625 27.59375 7.515625 \r\nL 36.8125 7.515625 \r\nL 36.8125 0 \r\nL 27.59375 0 \r\nQ 17.1875 0 13.234375 3.875 \r\nQ 9.28125 7.765625 9.28125 18.015625 \r\nL 9.28125 47.703125 \r\nL 2.6875 47.703125 \r\nL 2.6875 54.6875 \r\nL 9.28125 54.6875 \r\nL 9.28125 70.21875 \r\nz\r\n\" id=\"DejaVuSans-116\"/>\r\n      <path d=\"M 41.109375 46.296875 \r\nQ 39.59375 47.171875 37.8125 47.578125 \r\nQ 36.03125 48 33.890625 48 \r\nQ 26.265625 48 22.1875 43.046875 \r\nQ 18.109375 38.09375 18.109375 28.8125 \r\nL 18.109375 0 \r\nL 9.078125 0 \r\nL 9.078125 54.6875 \r\nL 18.109375 54.6875 \r\nL 18.109375 46.1875 \r\nQ 20.953125 51.171875 25.484375 53.578125 \r\nQ 30.03125 56 36.53125 56 \r\nQ 37.453125 56 38.578125 55.875 \r\nQ 39.703125 55.765625 41.0625 55.515625 \r\nz\r\n\" id=\"DejaVuSans-114\"/>\r\n      <path d=\"M 34.28125 27.484375 \r\nQ 23.390625 27.484375 19.1875 25 \r\nQ 14.984375 22.515625 14.984375 16.5 \r\nQ 14.984375 11.71875 18.140625 8.90625 \r\nQ 21.296875 6.109375 26.703125 6.109375 \r\nQ 34.1875 6.109375 38.703125 11.40625 \r\nQ 43.21875 16.703125 43.21875 25.484375 \r\nL 43.21875 27.484375 \r\nz\r\nM 52.203125 31.203125 \r\nL 52.203125 0 \r\nL 43.21875 0 \r\nL 43.21875 8.296875 \r\nQ 40.140625 3.328125 35.546875 0.953125 \r\nQ 30.953125 -1.421875 24.3125 -1.421875 \r\nQ 15.921875 -1.421875 10.953125 3.296875 \r\nQ 6 8.015625 6 15.921875 \r\nQ 6 25.140625 12.171875 29.828125 \r\nQ 18.359375 34.515625 30.609375 34.515625 \r\nL 43.21875 34.515625 \r\nL 43.21875 35.40625 \r\nQ 43.21875 41.609375 39.140625 45 \r\nQ 35.0625 48.390625 27.6875 48.390625 \r\nQ 23 48.390625 18.546875 47.265625 \r\nQ 14.109375 46.140625 10.015625 43.890625 \r\nL 10.015625 52.203125 \r\nQ 14.9375 54.109375 19.578125 55.046875 \r\nQ 24.21875 56 28.609375 56 \r\nQ 40.484375 56 46.34375 49.84375 \r\nQ 52.203125 43.703125 52.203125 31.203125 \r\nz\r\n\" id=\"DejaVuSans-97\"/>\r\n      <path d=\"M 9.421875 54.6875 \r\nL 18.40625 54.6875 \r\nL 18.40625 0 \r\nL 9.421875 0 \r\nz\r\nM 9.421875 75.984375 \r\nL 18.40625 75.984375 \r\nL 18.40625 64.59375 \r\nL 9.421875 64.59375 \r\nz\r\n\" id=\"DejaVuSans-105\"/>\r\n      <path d=\"M 54.890625 33.015625 \r\nL 54.890625 0 \r\nL 45.90625 0 \r\nL 45.90625 32.71875 \r\nQ 45.90625 40.484375 42.875 44.328125 \r\nQ 39.84375 48.1875 33.796875 48.1875 \r\nQ 26.515625 48.1875 22.3125 43.546875 \r\nQ 18.109375 38.921875 18.109375 30.90625 \r\nL 18.109375 0 \r\nL 9.078125 0 \r\nL 9.078125 54.6875 \r\nL 18.109375 54.6875 \r\nL 18.109375 46.1875 \r\nQ 21.34375 51.125 25.703125 53.5625 \r\nQ 30.078125 56 35.796875 56 \r\nQ 45.21875 56 50.046875 50.171875 \r\nQ 54.890625 44.34375 54.890625 33.015625 \r\nz\r\n\" id=\"DejaVuSans-110\"/>\r\n     </defs>\r\n     <g transform=\"translate(1119.514063 38.916562)scale(0.1 -0.1)\">\r\n      <use xlink:href=\"#DejaVuSans-116\"/>\r\n      <use x=\"39.208984\" xlink:href=\"#DejaVuSans-114\"/>\r\n      <use x=\"80.322266\" xlink:href=\"#DejaVuSans-97\"/>\r\n      <use x=\"141.601562\" xlink:href=\"#DejaVuSans-105\"/>\r\n      <use x=\"169.384766\" xlink:href=\"#DejaVuSans-110\"/>\r\n     </g>\r\n    </g>\r\n    <g id=\"line2d_18\">\r\n     <path d=\"M 1091.514063 50.094688 \r\nL 1111.514063 50.094688 \r\n\" style=\"fill:none;stroke:#ff7f0e;stroke-linecap:square;stroke-width:1.5;\"/>\r\n    </g>\r\n    <g id=\"line2d_19\"/>\r\n    <g id=\"text_16\">\r\n     <!-- valid -->\r\n     <defs>\r\n      <path d=\"M 2.984375 54.6875 \r\nL 12.5 54.6875 \r\nL 29.59375 8.796875 \r\nL 46.6875 54.6875 \r\nL 56.203125 54.6875 \r\nL 35.6875 0 \r\nL 23.484375 0 \r\nz\r\n\" id=\"DejaVuSans-118\"/>\r\n      <path d=\"M 45.40625 46.390625 \r\nL 45.40625 75.984375 \r\nL 54.390625 75.984375 \r\nL 54.390625 0 \r\nL 45.40625 0 \r\nL 45.40625 8.203125 \r\nQ 42.578125 3.328125 38.25 0.953125 \r\nQ 33.9375 -1.421875 27.875 -1.421875 \r\nQ 17.96875 -1.421875 11.734375 6.484375 \r\nQ 5.515625 14.40625 5.515625 27.296875 \r\nQ 5.515625 40.1875 11.734375 48.09375 \r\nQ 17.96875 56 27.875 56 \r\nQ 33.9375 56 38.25 53.625 \r\nQ 42.578125 51.265625 45.40625 46.390625 \r\nz\r\nM 14.796875 27.296875 \r\nQ 14.796875 17.390625 18.875 11.75 \r\nQ 22.953125 6.109375 30.078125 6.109375 \r\nQ 37.203125 6.109375 41.296875 11.75 \r\nQ 45.40625 17.390625 45.40625 27.296875 \r\nQ 45.40625 37.203125 41.296875 42.84375 \r\nQ 37.203125 48.484375 30.078125 48.484375 \r\nQ 22.953125 48.484375 18.875 42.84375 \r\nQ 14.796875 37.203125 14.796875 27.296875 \r\nz\r\n\" id=\"DejaVuSans-100\"/>\r\n     </defs>\r\n     <g transform=\"translate(1119.514063 53.594688)scale(0.1 -0.1)\">\r\n      <use xlink:href=\"#DejaVuSans-118\"/>\r\n      <use x=\"59.179688\" xlink:href=\"#DejaVuSans-97\"/>\r\n      <use x=\"120.458984\" xlink:href=\"#DejaVuSans-108\"/>\r\n      <use x=\"148.242188\" xlink:href=\"#DejaVuSans-105\"/>\r\n      <use x=\"176.025391\" xlink:href=\"#DejaVuSans-100\"/>\r\n     </g>\r\n    </g>\r\n   </g>\r\n  </g>\r\n </g>\r\n <defs>\r\n  <clipPath id=\"pff91ac34ab\">\r\n   <rect height=\"271.8\" width=\"1116\" x=\"36.465625\" y=\"22.318125\"/>\r\n  </clipPath>\r\n </defs>\r\n</svg>\r\n",
      "image/png": "[encoded data removed]"
     },
     "metadata": {
      "needs_background": "light"
     }
    }
   ],
   "source": [
    "net = train(net,train_iter,valid_iter,loss_function,optimizer,num_epochs=30)"
   ]
  },
  {
   "cell_type": "markdown",
   "metadata": {},
   "source": [
    "# make prediction"
   ]
  },
  {
   "cell_type": "code",
   "execution_count": 27,
   "metadata": {},
   "outputs": [],
   "source": [
    "from sklearn.metrics import r2_score,mean_squared_error\n",
    "from math import sqrt\n",
    "\n",
    "def mape(a, b): \n",
    "    mask = a != 0\n",
    "    return (np.fabs(a - b)/a)[mask].mean()*100"
   ]
  },
  {
   "cell_type": "code",
   "execution_count": 28,
   "metadata": {},
   "outputs": [],
   "source": [
    "def make_prediction(state,action,output,streamn):\n",
    "    \n",
    "    y_pred = net(state,action)[0].detach().cpu().numpy()\n",
    "    y_pred = data['mm_output'].inverse_transform(y_pred).ravel()\n",
    "    \n",
    "    y_pred2 = net(state,action)[1].detach().cpu().numpy()\n",
    "    y_pred2 = data['mm_stream'].inverse_transform(y_pred2)\n",
    "    \n",
    "    y_real = output.detach().cpu().numpy()\n",
    "    y_real = data['mm_output'].inverse_transform(y_real).ravel()\n",
    "    \n",
    "    y_real2 = stream.detach().cpu().numpy()\n",
    "    y_real2 = data['mm_stream'].inverse_transform(y_real2)\n",
    "    \n",
    "    feed = action.detach().cpu().numpy()\n",
    "    temp = [data['mm_action'].inverse_transform(feed[i]) for i in range(len(feed))]\n",
    "    feed = np.array(temp)[:,:,0][:,0]\n",
    "    \n",
    "    table = pd.DataFrame()\n",
    "    table['0619'] = feed\n",
    "    table['0997_real'] = y_real\n",
    "    table['0997_pred'] = y_pred\n",
    "    table['真實單耗'] = feed/y_real\n",
    "    table['預測單耗'] = feed/y_pred\n",
    "    table['真實蒸氣'] = y_real2\n",
    "    table['預測蒸氣'] = y_pred2\n",
    "    \n",
    "    return table"
   ]
  },
  {
   "cell_type": "code",
   "execution_count": 29,
   "metadata": {},
   "outputs": [],
   "source": [
    "def make_metric(table):\n",
    "    \n",
    "    metric = pd.DataFrame(index=[0],columns=['R2(出料)','RMSE(單耗)','MAPE(單耗)'])\n",
    "    metric['R2(出料)'] = r2_score(table['0997_real'],table['0997_pred'])\n",
    "    metric['RMSE(單耗)'] = sqrt(mean_squared_error(table['真實單耗'],table['預測單耗']))\n",
    "    metric['MAPE(單耗)'] = mape(table['真實單耗'],table['預測單耗'])\n",
    "    metric.index.name = '出料'\n",
    "    \n",
    "    metric2 = pd.DataFrame(index=[0],columns=['R2','RMSE','MAPE'])\n",
    "    metric2['R2'] = r2_score(table['真實蒸氣'],table['預測蒸氣'])\n",
    "    metric2['RMSE'] = sqrt(mean_squared_error(table['真實蒸氣'],table['預測蒸氣']))\n",
    "    metric2['MAPE'] = mape(table['真實蒸氣'],table['預測蒸氣'])\n",
    "    metric2.index.name = '蒸氣'\n",
    "    \n",
    "    return metric,metric2"
   ]
  },
  {
   "cell_type": "markdown",
   "metadata": {},
   "source": [
    "# train metric"
   ]
  },
  {
   "cell_type": "code",
   "execution_count": 30,
   "metadata": {},
   "outputs": [
    {
     "output_type": "execute_result",
     "data": {
      "text/plain": [
       "      R2(出料)  RMSE(單耗)  MAPE(單耗)\n",
       "出料                              \n",
       "0   0.953597  0.016157   1.26294"
      ],
      "text/html": "<div>\n<style scoped>\n    .dataframe tbody tr th:only-of-type {\n        vertical-align: middle;\n    }\n\n    .dataframe tbody tr th {\n        vertical-align: top;\n    }\n\n    .dataframe thead th {\n        text-align: right;\n    }\n</style>\n<table border=\"1\" class=\"dataframe\">\n  <thead>\n    <tr style=\"text-align: right;\">\n      <th></th>\n      <th>R2(出料)</th>\n      <th>RMSE(單耗)</th>\n      <th>MAPE(單耗)</th>\n    </tr>\n    <tr>\n      <th>出料</th>\n      <th></th>\n      <th></th>\n      <th></th>\n    </tr>\n  </thead>\n  <tbody>\n    <tr>\n      <th>0</th>\n      <td>0.953597</td>\n      <td>0.016157</td>\n      <td>1.26294</td>\n    </tr>\n  </tbody>\n</table>\n</div>"
     },
     "metadata": {},
     "execution_count": 30
    }
   ],
   "source": [
    "state ,action, output, stream = train_iter.dataset.tensors\n",
    "table = make_prediction(state,action,output,stream)\n",
    "metric,metric2 = make_metric(table)\n",
    "metric"
   ]
  },
  {
   "cell_type": "code",
   "execution_count": 31,
   "metadata": {},
   "outputs": [
    {
     "output_type": "execute_result",
     "data": {
      "text/plain": [
       "          R2          RMSE      MAPE\n",
       "蒸氣                                  \n",
       "0  -7.479284  12876.961753  26.44687"
      ],
      "text/html": "<div>\n<style scoped>\n    .dataframe tbody tr th:only-of-type {\n        vertical-align: middle;\n    }\n\n    .dataframe tbody tr th {\n        vertical-align: top;\n    }\n\n    .dataframe thead th {\n        text-align: right;\n    }\n</style>\n<table border=\"1\" class=\"dataframe\">\n  <thead>\n    <tr style=\"text-align: right;\">\n      <th></th>\n      <th>R2</th>\n      <th>RMSE</th>\n      <th>MAPE</th>\n    </tr>\n    <tr>\n      <th>蒸氣</th>\n      <th></th>\n      <th></th>\n      <th></th>\n    </tr>\n  </thead>\n  <tbody>\n    <tr>\n      <th>0</th>\n      <td>-7.479284</td>\n      <td>12876.961753</td>\n      <td>26.44687</td>\n    </tr>\n  </tbody>\n</table>\n</div>"
     },
     "metadata": {},
     "execution_count": 31
    }
   ],
   "source": [
    "metric2"
   ]
  },
  {
   "cell_type": "code",
   "execution_count": 33,
   "metadata": {},
   "outputs": [
    {
     "output_type": "execute_result",
     "data": {
      "text/plain": [
       "              0619    0997_real    0997_pred      真實單耗      預測單耗  \\\n",
       "136    3039.487305  3305.838867  3366.175781  0.919430  0.902950   \n",
       "137    3062.499512  3306.236816  3372.507080  0.926280  0.908078   \n",
       "138    3084.264648  3307.345215  3379.137695  0.932550  0.912737   \n",
       "139    3096.171143  3308.608887  3385.451904  0.935792  0.914552   \n",
       "140    3107.109863  3308.882812  3391.368896  0.939021  0.916182   \n",
       "...            ...          ...          ...       ...       ...   \n",
       "24011  7732.999512  8734.500000  8560.275391  0.885340  0.903359   \n",
       "24010  7732.999512  8734.500000  8560.378906  0.885340  0.903348   \n",
       "24028  7732.999512  8735.500000  8559.815430  0.885238  0.903407   \n",
       "24026  7732.999512  8735.500000  8559.680664  0.885238  0.903422   \n",
       "24027  7732.999512  8738.500000  8559.720703  0.884934  0.903417   \n",
       "\n",
       "               真實蒸氣          預測蒸氣  \n",
       "136    25556.662109  30845.591797  \n",
       "137    25692.058594  30845.466797  \n",
       "138    25837.283203  30845.767578  \n",
       "139    25895.546875  30845.884766  \n",
       "140    25929.017578  30845.279297  \n",
       "...             ...           ...  \n",
       "24011  48237.578125  32166.404297  \n",
       "24010  48219.601562  32167.683594  \n",
       "24028  48276.636719  32163.769531  \n",
       "24026  48281.625000  32163.919922  \n",
       "24027  48289.378906  32163.734375  \n",
       "\n",
       "[47370 rows x 7 columns]"
      ],
      "text/html": "<div>\n<style scoped>\n    .dataframe tbody tr th:only-of-type {\n        vertical-align: middle;\n    }\n\n    .dataframe tbody tr th {\n        vertical-align: top;\n    }\n\n    .dataframe thead th {\n        text-align: right;\n    }\n</style>\n<table border=\"1\" class=\"dataframe\">\n  <thead>\n    <tr style=\"text-align: right;\">\n      <th></th>\n      <th>0619</th>\n      <th>0997_real</th>\n      <th>0997_pred</th>\n      <th>真實單耗</th>\n      <th>預測單耗</th>\n      <th>真實蒸氣</th>\n      <th>預測蒸氣</th>\n    </tr>\n  </thead>\n  <tbody>\n    <tr>\n      <th>136</th>\n      <td>3039.487305</td>\n      <td>3305.838867</td>\n      <td>3366.175781</td>\n      <td>0.919430</td>\n      <td>0.902950</td>\n      <td>25556.662109</td>\n      <td>30845.591797</td>\n    </tr>\n    <tr>\n      <th>137</th>\n      <td>3062.499512</td>\n      <td>3306.236816</td>\n      <td>3372.507080</td>\n      <td>0.926280</td>\n      <td>0.908078</td>\n      <td>25692.058594</td>\n      <td>30845.466797</td>\n    </tr>\n    <tr>\n      <th>138</th>\n      <td>3084.264648</td>\n      <td>3307.345215</td>\n      <td>3379.137695</td>\n      <td>0.932550</td>\n      <td>0.912737</td>\n      <td>25837.283203</td>\n      <td>30845.767578</td>\n    </tr>\n    <tr>\n      <th>139</th>\n      <td>3096.171143</td>\n      <td>3308.608887</td>\n      <td>3385.451904</td>\n      <td>0.935792</td>\n      <td>0.914552</td>\n      <td>25895.546875</td>\n      <td>30845.884766</td>\n    </tr>\n    <tr>\n      <th>140</th>\n      <td>3107.109863</td>\n      <td>3308.882812</td>\n      <td>3391.368896</td>\n      <td>0.939021</td>\n      <td>0.916182</td>\n      <td>25929.017578</td>\n      <td>30845.279297</td>\n    </tr>\n    <tr>\n      <th>...</th>\n      <td>...</td>\n      <td>...</td>\n      <td>...</td>\n      <td>...</td>\n      <td>...</td>\n      <td>...</td>\n      <td>...</td>\n    </tr>\n    <tr>\n      <th>24011</th>\n      <td>7732.999512</td>\n      <td>8734.500000</td>\n      <td>8560.275391</td>\n      <td>0.885340</td>\n      <td>0.903359</td>\n      <td>48237.578125</td>\n      <td>32166.404297</td>\n    </tr>\n    <tr>\n      <th>24010</th>\n      <td>7732.999512</td>\n      <td>8734.500000</td>\n      <td>8560.378906</td>\n      <td>0.885340</td>\n      <td>0.903348</td>\n      <td>48219.601562</td>\n      <td>32167.683594</td>\n    </tr>\n    <tr>\n      <th>24028</th>\n      <td>7732.999512</td>\n      <td>8735.500000</td>\n      <td>8559.815430</td>\n      <td>0.885238</td>\n      <td>0.903407</td>\n      <td>48276.636719</td>\n      <td>32163.769531</td>\n    </tr>\n    <tr>\n      <th>24026</th>\n      <td>7732.999512</td>\n      <td>8735.500000</td>\n      <td>8559.680664</td>\n      <td>0.885238</td>\n      <td>0.903422</td>\n      <td>48281.625000</td>\n      <td>32163.919922</td>\n    </tr>\n    <tr>\n      <th>24027</th>\n      <td>7732.999512</td>\n      <td>8738.500000</td>\n      <td>8559.720703</td>\n      <td>0.884934</td>\n      <td>0.903417</td>\n      <td>48289.378906</td>\n      <td>32163.734375</td>\n    </tr>\n  </tbody>\n</table>\n<p>47370 rows × 7 columns</p>\n</div>"
     },
     "metadata": {},
     "execution_count": 33
    }
   ],
   "source": [
    "table.sort_values(by='0997_real')"
   ]
  },
  {
   "cell_type": "markdown",
   "metadata": {},
   "source": [
    "# test metric"
   ]
  },
  {
   "cell_type": "code",
   "execution_count": 34,
   "metadata": {},
   "outputs": [
    {
     "output_type": "execute_result",
     "data": {
      "text/plain": [
       "      R2(出料)  RMSE(單耗)  MAPE(單耗)\n",
       "出料                              \n",
       "0   0.951788  0.012661  0.985229"
      ],
      "text/html": "<div>\n<style scoped>\n    .dataframe tbody tr th:only-of-type {\n        vertical-align: middle;\n    }\n\n    .dataframe tbody tr th {\n        vertical-align: top;\n    }\n\n    .dataframe thead th {\n        text-align: right;\n    }\n</style>\n<table border=\"1\" class=\"dataframe\">\n  <thead>\n    <tr style=\"text-align: right;\">\n      <th></th>\n      <th>R2(出料)</th>\n      <th>RMSE(單耗)</th>\n      <th>MAPE(單耗)</th>\n    </tr>\n    <tr>\n      <th>出料</th>\n      <th></th>\n      <th></th>\n      <th></th>\n    </tr>\n  </thead>\n  <tbody>\n    <tr>\n      <th>0</th>\n      <td>0.951788</td>\n      <td>0.012661</td>\n      <td>0.985229</td>\n    </tr>\n  </tbody>\n</table>\n</div>"
     },
     "metadata": {},
     "execution_count": 34
    }
   ],
   "source": [
    "state ,action, output, stream = test.tensors\n",
    "table = make_prediction(state,action,output,stream)\n",
    "metric,metric2 = make_metric(table)\n",
    "metric"
   ]
  },
  {
   "cell_type": "code",
   "execution_count": 37,
   "metadata": {},
   "outputs": [
    {
     "output_type": "execute_result",
     "data": {
      "text/plain": [
       "             0619    0997_real    0997_pred      真實單耗      預測單耗          真實蒸氣  \\\n",
       "3689  5758.003418  6422.909180  6629.916016  0.896479  0.868488  34359.828125   \n",
       "3690  5758.443359  6422.933594  6630.909668  0.896544  0.868424  34364.687500   \n",
       "3688  5758.003418  6422.933594  6629.661133  0.896476  0.868522  34355.277344   \n",
       "3687  5758.003418  6422.993164  6627.672363  0.896467  0.868782  34355.015625   \n",
       "3691  5759.278320  6422.993164  6631.969727  0.896666  0.868411  34364.687500   \n",
       "...           ...          ...          ...       ...       ...           ...   \n",
       "5246  7292.918457  8294.637695  8052.408691  0.879233  0.905682  41284.750000   \n",
       "5245  7293.142090  8294.637695  8052.379883  0.879260  0.905713  41286.925781   \n",
       "5244  7293.142090  8294.637695  8053.070312  0.879260  0.905635  41276.941406   \n",
       "5243  7293.000000  8294.637695  8053.301758  0.879243  0.905591  41292.359375   \n",
       "5249  7293.142090  8294.637695  8052.112305  0.879260  0.905743  41301.855469   \n",
       "\n",
       "              預測蒸氣  \n",
       "3689  32289.332031  \n",
       "3690  32291.080078  \n",
       "3688  32287.714844  \n",
       "3687  32286.808594  \n",
       "3691  32291.640625  \n",
       "...            ...  \n",
       "5246  31001.105469  \n",
       "5245  31001.056641  \n",
       "5244  31000.605469  \n",
       "5243  31000.865234  \n",
       "5249  31000.046875  \n",
       "\n",
       "[5922 rows x 7 columns]"
      ],
      "text/html": "<div>\n<style scoped>\n    .dataframe tbody tr th:only-of-type {\n        vertical-align: middle;\n    }\n\n    .dataframe tbody tr th {\n        vertical-align: top;\n    }\n\n    .dataframe thead th {\n        text-align: right;\n    }\n</style>\n<table border=\"1\" class=\"dataframe\">\n  <thead>\n    <tr style=\"text-align: right;\">\n      <th></th>\n      <th>0619</th>\n      <th>0997_real</th>\n      <th>0997_pred</th>\n      <th>真實單耗</th>\n      <th>預測單耗</th>\n      <th>真實蒸氣</th>\n      <th>預測蒸氣</th>\n    </tr>\n  </thead>\n  <tbody>\n    <tr>\n      <th>3689</th>\n      <td>5758.003418</td>\n      <td>6422.909180</td>\n      <td>6629.916016</td>\n      <td>0.896479</td>\n      <td>0.868488</td>\n      <td>34359.828125</td>\n      <td>32289.332031</td>\n    </tr>\n    <tr>\n      <th>3690</th>\n      <td>5758.443359</td>\n      <td>6422.933594</td>\n      <td>6630.909668</td>\n      <td>0.896544</td>\n      <td>0.868424</td>\n      <td>34364.687500</td>\n      <td>32291.080078</td>\n    </tr>\n    <tr>\n      <th>3688</th>\n      <td>5758.003418</td>\n      <td>6422.933594</td>\n      <td>6629.661133</td>\n      <td>0.896476</td>\n      <td>0.868522</td>\n      <td>34355.277344</td>\n      <td>32287.714844</td>\n    </tr>\n    <tr>\n      <th>3687</th>\n      <td>5758.003418</td>\n      <td>6422.993164</td>\n      <td>6627.672363</td>\n      <td>0.896467</td>\n      <td>0.868782</td>\n      <td>34355.015625</td>\n      <td>32286.808594</td>\n    </tr>\n    <tr>\n      <th>3691</th>\n      <td>5759.278320</td>\n      <td>6422.993164</td>\n      <td>6631.969727</td>\n      <td>0.896666</td>\n      <td>0.868411</td>\n      <td>34364.687500</td>\n      <td>32291.640625</td>\n    </tr>\n    <tr>\n      <th>...</th>\n      <td>...</td>\n      <td>...</td>\n      <td>...</td>\n      <td>...</td>\n      <td>...</td>\n      <td>...</td>\n      <td>...</td>\n    </tr>\n    <tr>\n      <th>5246</th>\n      <td>7292.918457</td>\n      <td>8294.637695</td>\n      <td>8052.408691</td>\n      <td>0.879233</td>\n      <td>0.905682</td>\n      <td>41284.750000</td>\n      <td>31001.105469</td>\n    </tr>\n    <tr>\n      <th>5245</th>\n      <td>7293.142090</td>\n      <td>8294.637695</td>\n      <td>8052.379883</td>\n      <td>0.879260</td>\n      <td>0.905713</td>\n      <td>41286.925781</td>\n      <td>31001.056641</td>\n    </tr>\n    <tr>\n      <th>5244</th>\n      <td>7293.142090</td>\n      <td>8294.637695</td>\n      <td>8053.070312</td>\n      <td>0.879260</td>\n      <td>0.905635</td>\n      <td>41276.941406</td>\n      <td>31000.605469</td>\n    </tr>\n    <tr>\n      <th>5243</th>\n      <td>7293.000000</td>\n      <td>8294.637695</td>\n      <td>8053.301758</td>\n      <td>0.879243</td>\n      <td>0.905591</td>\n      <td>41292.359375</td>\n      <td>31000.865234</td>\n    </tr>\n    <tr>\n      <th>5249</th>\n      <td>7293.142090</td>\n      <td>8294.637695</td>\n      <td>8052.112305</td>\n      <td>0.879260</td>\n      <td>0.905743</td>\n      <td>41301.855469</td>\n      <td>31000.046875</td>\n    </tr>\n  </tbody>\n</table>\n<p>5922 rows × 7 columns</p>\n</div>"
     },
     "metadata": {},
     "execution_count": 37
    }
   ],
   "source": [
    "table.sort_values(by='0997_real')"
   ]
  },
  {
   "cell_type": "code",
   "execution_count": 36,
   "metadata": {},
   "outputs": [
    {
     "output_type": "execute_result",
     "data": {
      "text/plain": [
       "          R2         RMSE     MAPE\n",
       "蒸氣                                \n",
       "0  -9.389505  7516.727213  18.0344"
      ],
      "text/html": "<div>\n<style scoped>\n    .dataframe tbody tr th:only-of-type {\n        vertical-align: middle;\n    }\n\n    .dataframe tbody tr th {\n        vertical-align: top;\n    }\n\n    .dataframe thead th {\n        text-align: right;\n    }\n</style>\n<table border=\"1\" class=\"dataframe\">\n  <thead>\n    <tr style=\"text-align: right;\">\n      <th></th>\n      <th>R2</th>\n      <th>RMSE</th>\n      <th>MAPE</th>\n    </tr>\n    <tr>\n      <th>蒸氣</th>\n      <th></th>\n      <th></th>\n      <th></th>\n    </tr>\n  </thead>\n  <tbody>\n    <tr>\n      <th>0</th>\n      <td>-9.389505</td>\n      <td>7516.727213</td>\n      <td>18.0344</td>\n    </tr>\n  </tbody>\n</table>\n</div>"
     },
     "metadata": {},
     "execution_count": 36
    }
   ],
   "source": [
    "metric2"
   ]
  },
  {
   "cell_type": "markdown",
   "metadata": {},
   "source": [
    "# save "
   ]
  },
  {
   "cell_type": "code",
   "execution_count": 38,
   "metadata": {},
   "outputs": [
    {
     "output_type": "stream",
     "name": "stdout",
     "text": [
      "save done!\n"
     ]
    }
   ],
   "source": [
    "joblib.dump(net,'../model/Critic.pkl')\n",
    "print('save done!')"
   ]
  },
  {
   "cell_type": "code",
   "execution_count": null,
   "metadata": {},
   "outputs": [],
   "source": []
  },
  {
   "cell_type": "code",
   "execution_count": null,
   "metadata": {},
   "outputs": [],
   "source": []
  }
 ],
 "metadata": {
  "kernelspec": {
   "display_name": "Python 3",
   "language": "python",
   "name": "python3"
  },
  "language_info": {
   "codemirror_mode": {
    "name": "ipython",
    "version": 3
   },
   "file_extension": ".py",
   "mimetype": "text/x-python",
   "name": "python",
   "nbconvert_exporter": "python",
   "pygments_lexer": "ipython3",
   "version": "3.8.3-final"
  }
 },
 "nbformat": 4,
 "nbformat_minor": 2
}