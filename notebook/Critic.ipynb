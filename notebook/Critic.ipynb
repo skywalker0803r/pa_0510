{
 "cells": [
  {
   "cell_type": "code",
   "execution_count": 1,
   "metadata": {},
   "outputs": [
    {
     "data": {
      "text/plain": [
       "['dataset.pkl',\n",
       " 'PA_201605-2020001更新R10(20200602).csv',\n",
       " 'PA_201605-2020001更新R9(20200508).csv',\n",
       " 'tag_cleaned.csv',\n",
       " 'tag盤點表20200423.xlsx',\n",
       " 'tag盤點表20200602R1.xlsx',\n",
       " 'train_cleaned.csv']"
      ]
     },
     "execution_count": 1,
     "metadata": {},
     "output_type": "execute_result"
    }
   ],
   "source": [
    "import pandas as pd\n",
    "import numpy as np\n",
    "import torch.nn.functional as F\n",
    "from copy import deepcopy\n",
    "import warnings\n",
    "warnings.simplefilter('ignore')\n",
    "import torchviz\n",
    "import seaborn as sns\n",
    "import matplotlib.pyplot as plt\n",
    "from tqdm import tqdm_notebook as tqdm\n",
    "from torch.utils.tensorboard import SummaryWriter\n",
    "import torch\n",
    "import torch.nn as nn\n",
    "import torch.utils.data as Data\n",
    "import torchvision\n",
    "import joblib\n",
    "import os\n",
    "from sklearn.preprocessing import StandardScaler\n",
    "import time\n",
    "def get_col(df,name):\n",
    "    return df.columns[df.columns.str.contains(name)].tolist()\n",
    "os.listdir('../data')"
   ]
  },
  {
   "cell_type": "markdown",
   "metadata": {},
   "source": [
    "# load data"
   ]
  },
  {
   "cell_type": "code",
   "execution_count": 2,
   "metadata": {},
   "outputs": [],
   "source": [
    "tag = pd.read_csv('../data/tag_cleaned.csv',index_col=0)\n",
    "tag = tag.loc[tag.category=='可控制因子']"
   ]
  },
  {
   "cell_type": "code",
   "execution_count": 3,
   "metadata": {},
   "outputs": [
    {
     "data": {
      "text/plain": [
       "dict_keys(['state', 'action', 'output', 'stream', 'idx', 'mm_state', 'mm_action', 'mm_output', 'mm_stream', 'state_col', 'action_col', 'output_col', 'stream_col'])"
      ]
     },
     "execution_count": 3,
     "metadata": {},
     "output_type": "execute_result"
    }
   ],
   "source": [
    "data = joblib.load('../data/dataset.pkl')\n",
    "data.keys()"
   ]
  },
  {
   "cell_type": "markdown",
   "metadata": {},
   "source": [
    "# tensor data"
   ]
  },
  {
   "cell_type": "code",
   "execution_count": 4,
   "metadata": {},
   "outputs": [],
   "source": [
    "state = torch.FloatTensor(data['state']).cuda()\n",
    "action = torch.FloatTensor(data['action']).cuda()\n",
    "output = torch.FloatTensor(data['output']).cuda()\n",
    "stream = torch.FloatTensor(data['stream']).cuda()"
   ]
  },
  {
   "cell_type": "markdown",
   "metadata": {},
   "source": [
    "# split data"
   ]
  },
  {
   "cell_type": "code",
   "execution_count": 5,
   "metadata": {},
   "outputs": [
    {
     "name": "stdout",
     "output_type": "stream",
     "text": [
      "99769 112240\n"
     ]
    }
   ],
   "source": [
    "sp1 = int(len(state)*0.8)\n",
    "sp2 = int(len(state)*0.9)\n",
    "print(sp1,sp2)"
   ]
  },
  {
   "cell_type": "markdown",
   "metadata": {},
   "source": [
    "# data_iter"
   ]
  },
  {
   "cell_type": "code",
   "execution_count": 6,
   "metadata": {},
   "outputs": [],
   "source": [
    "train = torch.utils.data.TensorDataset(state[:sp1],action[:sp1],output[:sp1],stream[:sp1])\n",
    "valid = torch.utils.data.TensorDataset(state[sp1:sp2],action[sp1:sp2],output[sp1:sp2],stream[sp1:sp2])\n",
    "test = torch.utils.data.TensorDataset(state[sp2:],action[sp2:],output[sp2:],stream[sp2:])\n",
    "\n",
    "train_iter = torch.utils.data.DataLoader(train, batch_size=128, shuffle=True)\n",
    "valid_iter = torch.utils.data.DataLoader(valid, batch_size=128, shuffle=True)"
   ]
  },
  {
   "cell_type": "code",
   "execution_count": 7,
   "metadata": {},
   "outputs": [
    {
     "name": "stdout",
     "output_type": "stream",
     "text": [
      "torch.Size([124712, 36, 12])\n"
     ]
    }
   ],
   "source": [
    "print(action.shape)\n",
    "time_step = action.shape[1]\n",
    "num_sensor = action.shape[2]"
   ]
  },
  {
   "cell_type": "markdown",
   "metadata": {},
   "source": [
    "# Construct the neural network"
   ]
  },
  {
   "cell_type": "code",
   "execution_count": 8,
   "metadata": {},
   "outputs": [],
   "source": [
    "class Critic(nn.Module):\n",
    "    def __init__(self):\n",
    "        super().__init__()\n",
    "        \n",
    "        self.time_step = time_step\n",
    "        self.num_sensor = num_sensor\n",
    "        self.h_size = 64\n",
    "        \n",
    "        self.output_layer = nn.Sequential(nn.Linear(self.h_size,self.h_size),\n",
    "                                          nn.ReLU(),\n",
    "                                          nn.Linear(self.h_size,1),\n",
    "                                         )\n",
    "        \n",
    "        self.stream_layer = nn.Sequential(nn.Linear(self.h_size,self.h_size),\n",
    "                                          nn.ReLU(),\n",
    "                                          nn.Linear(self.h_size,1),\n",
    "                                         )\n",
    "        \n",
    "        self.conv_layer = nn.Sequential(nn.Conv1d(self.num_sensor,self.h_size-1,kernel_size = 36),\n",
    "                                        nn.ReLU(),\n",
    "                                       )\n",
    "        \n",
    "        self.fc_layer = nn.Sequential(nn.Linear(497,self.h_size),\n",
    "                                          nn.ReLU(),\n",
    "                                          nn.Linear(self.h_size,self.h_size),\n",
    "                                         )\n",
    "        \n",
    "    def forward(self,state,action):\n",
    "        batch_size = state.shape[0]\n",
    "        \n",
    "        # action have two path,path_1 and path_2\n",
    "        action_1 = self.conv_layer(action.permute(0,2,1)).reshape(batch_size,-1)\n",
    "        action_2 = action.reshape(batch_size,-1)\n",
    "        \n",
    "        # combine two path action_1,action_2\n",
    "        action = torch.cat((action_1,action_2),dim=-1)\n",
    "        \n",
    "        # combine state action\n",
    "        combine = torch.cat((state,action),dim=-1)\n",
    "        \n",
    "        # fc forward\n",
    "        combine = self.fc_layer(combine)\n",
    "        \n",
    "        # get output and stream\n",
    "        output = self.output_layer(combine)\n",
    "        stream = self.stream_layer(combine)\n",
    "        \n",
    "        return F.sigmoid(output),F.sigmoid(stream)"
   ]
  },
  {
   "cell_type": "code",
   "execution_count": 9,
   "metadata": {},
   "outputs": [],
   "source": [
    "def init_weights(m):\n",
    "    if hasattr(m,'weight'):\n",
    "        try:\n",
    "            torch.nn.init.xavier_uniform(m.weight)\n",
    "        except:\n",
    "            pass\n",
    "    \n",
    "    if hasattr(m,'bias'):\n",
    "        try:\n",
    "            m.bias.data.fill_(0.1)\n",
    "        except:\n",
    "            pass"
   ]
  },
  {
   "cell_type": "code",
   "execution_count": 10,
   "metadata": {},
   "outputs": [
    {
     "data": {
      "text/plain": [
       "Critic(\n",
       "  (output_layer): Sequential(\n",
       "    (0): Linear(in_features=64, out_features=64, bias=True)\n",
       "    (1): ReLU()\n",
       "    (2): Linear(in_features=64, out_features=1, bias=True)\n",
       "  )\n",
       "  (stream_layer): Sequential(\n",
       "    (0): Linear(in_features=64, out_features=64, bias=True)\n",
       "    (1): ReLU()\n",
       "    (2): Linear(in_features=64, out_features=1, bias=True)\n",
       "  )\n",
       "  (conv_layer): Sequential(\n",
       "    (0): Conv1d(12, 63, kernel_size=(36,), stride=(1,))\n",
       "    (1): ReLU()\n",
       "  )\n",
       "  (fc_layer): Sequential(\n",
       "    (0): Linear(in_features=497, out_features=64, bias=True)\n",
       "    (1): ReLU()\n",
       "    (2): Linear(in_features=64, out_features=64, bias=True)\n",
       "  )\n",
       ")"
      ]
     },
     "execution_count": 10,
     "metadata": {},
     "output_type": "execute_result"
    }
   ],
   "source": [
    "net = Critic().cuda()\n",
    "net.apply(init_weights)"
   ]
  },
  {
   "cell_type": "markdown",
   "metadata": {},
   "source": [
    "# forward test"
   ]
  },
  {
   "cell_type": "code",
   "execution_count": 11,
   "metadata": {},
   "outputs": [
    {
     "name": "stdout",
     "output_type": "stream",
     "text": [
      "torch.Size([124712, 1])\n",
      "torch.Size([124712, 1])\n"
     ]
    }
   ],
   "source": [
    "a,b = net(state,action)\n",
    "print(a.shape)\n",
    "print(b.shape)"
   ]
  },
  {
   "cell_type": "markdown",
   "metadata": {},
   "source": [
    "# tensorboard"
   ]
  },
  {
   "cell_type": "code",
   "execution_count": 12,
   "metadata": {},
   "outputs": [],
   "source": [
    "with SummaryWriter(comment='Net')as w:\n",
    "    w.add_graph(net, (test.tensors[0:2]))"
   ]
  },
  {
   "cell_type": "markdown",
   "metadata": {},
   "source": [
    "# loss and opt"
   ]
  },
  {
   "cell_type": "code",
   "execution_count": 13,
   "metadata": {},
   "outputs": [],
   "source": [
    "optimizer = torch.optim.Adam(net.parameters(),lr=1e-3)"
   ]
  },
  {
   "cell_type": "code",
   "execution_count": 14,
   "metadata": {},
   "outputs": [],
   "source": [
    "def loss_function(output,stream,target_output,target_stream):\n",
    "    loss1 = ((output-target_output)**2).sum()\n",
    "    loss2 = ((stream-target_stream)**2).sum()\n",
    "    return 0.5*loss1 + 0.0*loss2"
   ]
  },
  {
   "cell_type": "markdown",
   "metadata": {},
   "source": [
    "# train and eval"
   ]
  },
  {
   "cell_type": "code",
   "execution_count": 15,
   "metadata": {},
   "outputs": [],
   "source": [
    "def train(net,train_iter,valid_iter,loss_function,optimizer,num_epochs=100):\n",
    "    train_history = []\n",
    "    valid_history = []\n",
    "    best_loss = np.inf\n",
    "    best_net = None\n",
    "    for epoch in range(num_epochs): \n",
    "        \n",
    "        # train model\n",
    "        net.train()\n",
    "        train_loss,i = 0,0\n",
    "        for state,action,output,stream in train_iter:\n",
    "            output_pred,stream_pred = net(state,action)\n",
    "            loss = loss_function(output_pred,stream_pred,output,stream)\n",
    "            train_loss += loss.item()\n",
    "            i += 1\n",
    "            \n",
    "            # update model\n",
    "            loss.backward()\n",
    "            optimizer.step()\n",
    "            optimizer.zero_grad()\n",
    "        \n",
    "        # eval model (afater update model)\n",
    "        with torch.no_grad():\n",
    "            net.eval()\n",
    "            val_loss,j = 0,0\n",
    "            for state,action,output,stream in valid_iter:\n",
    "                output_pred,stream_pred = net(state,action)\n",
    "                loss = loss_function(output_pred,stream_pred,output,stream)\n",
    "                val_loss += loss.item()\n",
    "                j += 1\n",
    "        \n",
    "        # caculate avg_loss\n",
    "        train_avg_loss = train_loss/i\n",
    "        val_avg_loss = val_loss/j\n",
    "        \n",
    "        # save the best_model\n",
    "        if val_avg_loss <= best_loss:\n",
    "            best_loss = val_avg_loss\n",
    "            best_net = deepcopy(net) #backup the model(deepcopy)\n",
    "            print('model recorded!')\n",
    "        \n",
    "        # record history and print loss of the epoch\n",
    "        train_history.append(train_avg_loss)\n",
    "        valid_history.append(val_avg_loss)\n",
    "        print(\"epochs {} train_avg_loss {:.4f} valid_avg_loss {:.4f}\".format(\n",
    "            epoch,train_avg_loss,val_avg_loss))\n",
    "        \n",
    "    # plot result\n",
    "    print('best val_avg_loss is ',best_loss)\n",
    "    \n",
    "    fig = plt.figure(figsize=(20,5))\n",
    "    plt.plot(np.array(train_history),label='train')\n",
    "    plt.plot(np.array(valid_history),label='valid')\n",
    "    plt.legend()\n",
    "    plt.title('loss')\n",
    "    plt.show()\n",
    "    \n",
    "    return best_net.eval()"
   ]
  },
  {
   "cell_type": "code",
   "execution_count": 16,
   "metadata": {},
   "outputs": [
    {
     "name": "stdout",
     "output_type": "stream",
     "text": [
      "model recorded!\n",
      "epochs 0 train_avg_loss 0.1181 valid_avg_loss 0.1207\n",
      "model recorded!\n",
      "epochs 1 train_avg_loss 0.0550 valid_avg_loss 0.0731\n",
      "model recorded!\n",
      "epochs 2 train_avg_loss 0.0519 valid_avg_loss 0.0356\n",
      "epochs 3 train_avg_loss 0.0529 valid_avg_loss 0.0520\n",
      "epochs 4 train_avg_loss 0.0509 valid_avg_loss 0.0910\n",
      "epochs 5 train_avg_loss 0.0504 valid_avg_loss 0.0457\n",
      "epochs 6 train_avg_loss 0.0494 valid_avg_loss 0.1155\n",
      "epochs 7 train_avg_loss 0.0495 valid_avg_loss 0.0547\n",
      "epochs 8 train_avg_loss 0.0484 valid_avg_loss 0.0877\n",
      "epochs 9 train_avg_loss 0.0487 valid_avg_loss 0.0361\n",
      "epochs 10 train_avg_loss 0.0474 valid_avg_loss 0.1534\n",
      "epochs 11 train_avg_loss 0.0474 valid_avg_loss 0.0405\n",
      "epochs 12 train_avg_loss 0.0459 valid_avg_loss 0.0588\n",
      "epochs 13 train_avg_loss 0.0462 valid_avg_loss 0.0438\n",
      "epochs 14 train_avg_loss 0.0462 valid_avg_loss 0.0965\n",
      "epochs 15 train_avg_loss 0.0458 valid_avg_loss 0.0401\n",
      "epochs 16 train_avg_loss 0.0455 valid_avg_loss 0.0598\n",
      "epochs 17 train_avg_loss 0.0442 valid_avg_loss 0.0813\n",
      "epochs 18 train_avg_loss 0.0445 valid_avg_loss 0.0657\n",
      "epochs 19 train_avg_loss 0.0434 valid_avg_loss 0.0377\n",
      "epochs 20 train_avg_loss 0.0438 valid_avg_loss 0.0418\n",
      "epochs 21 train_avg_loss 0.0433 valid_avg_loss 0.0368\n",
      "epochs 22 train_avg_loss 0.0433 valid_avg_loss 0.1282\n",
      "epochs 23 train_avg_loss 0.0433 valid_avg_loss 0.0466\n",
      "epochs 24 train_avg_loss 0.0431 valid_avg_loss 0.0630\n",
      "epochs 25 train_avg_loss 0.0427 valid_avg_loss 0.0431\n",
      "epochs 26 train_avg_loss 0.0427 valid_avg_loss 0.0498\n",
      "epochs 27 train_avg_loss 0.0422 valid_avg_loss 0.0471\n",
      "epochs 28 train_avg_loss 0.0419 valid_avg_loss 0.0413\n",
      "epochs 29 train_avg_loss 0.0429 valid_avg_loss 0.0402\n",
      "best val_avg_loss is  0.03560614913740024\n"
     ]
    },
    {
     "data": {
      "image/png": "[encoded data removed]",
      "text/plain": [
       "<Figure size 1440x360 with 1 Axes>"
      ]
     },
     "metadata": {
      "needs_background": "light"
     },
     "output_type": "display_data"
    }
   ],
   "source": [
    "net = train(net,train_iter,valid_iter,loss_function,optimizer,num_epochs=30)"
   ]
  },
  {
   "cell_type": "markdown",
   "metadata": {},
   "source": [
    "# make prediction"
   ]
  },
  {
   "cell_type": "code",
   "execution_count": 17,
   "metadata": {},
   "outputs": [],
   "source": [
    "from sklearn.metrics import r2_score,mean_squared_error\n",
    "from math import sqrt\n",
    "\n",
    "def mape(a, b): \n",
    "    mask = a != 0\n",
    "    return (np.fabs(a - b)/a)[mask].mean()*100"
   ]
  },
  {
   "cell_type": "code",
   "execution_count": 18,
   "metadata": {},
   "outputs": [],
   "source": [
    "def make_prediction(state,action,output,streamn):\n",
    "    \n",
    "    y_pred = net(state,action)[0].detach().cpu().numpy()\n",
    "    y_pred = data['mm_output'].inverse_transform(y_pred).ravel()\n",
    "    \n",
    "    y_pred2 = net(state,action)[1].detach().cpu().numpy()\n",
    "    y_pred2 = data['mm_stream'].inverse_transform(y_pred2)\n",
    "    \n",
    "    y_real = output.detach().cpu().numpy()\n",
    "    y_real = data['mm_output'].inverse_transform(y_real).ravel()\n",
    "    \n",
    "    y_real2 = stream.detach().cpu().numpy()\n",
    "    y_real2 = data['mm_stream'].inverse_transform(y_real2)\n",
    "    \n",
    "    feed = action.detach().cpu().numpy()\n",
    "    temp = [data['mm_action'].inverse_transform(feed[i]) for i in range(len(feed))]\n",
    "    feed = np.array(temp)[:,:,0][:,0]\n",
    "    \n",
    "    table = pd.DataFrame()\n",
    "    table['0619'] = feed\n",
    "    table['0997_real'] = y_real\n",
    "    table['0997_pred'] = y_pred\n",
    "    table['真實單耗'] = feed/y_real\n",
    "    table['預測單耗'] = feed/y_pred\n",
    "    table['真實蒸氣'] = y_real2\n",
    "    table['預測蒸氣'] = y_pred2\n",
    "    \n",
    "    return table"
   ]
  },
  {
   "cell_type": "code",
   "execution_count": 19,
   "metadata": {},
   "outputs": [],
   "source": [
    "def make_metric(table):\n",
    "    \n",
    "    metric = pd.DataFrame(index=[0],columns=['R2(出料)','RMSE(單耗)','MAPE(單耗)'])\n",
    "    metric['R2(出料)'] = r2_score(table['0997_real'],table['0997_pred'])\n",
    "    metric['RMSE(單耗)'] = sqrt(mean_squared_error(table['真實單耗'],table['預測單耗']))\n",
    "    metric['MAPE(單耗)'] = mape(table['真實單耗'],table['預測單耗'])\n",
    "    metric.index.name = '出料'\n",
    "    \n",
    "    metric2 = pd.DataFrame(index=[0],columns=['R2','RMSE','MAPE'])\n",
    "    metric2['R2'] = r2_score(table['真實蒸氣'],table['預測蒸氣'])\n",
    "    metric2['RMSE'] = sqrt(mean_squared_error(table['真實蒸氣'],table['預測蒸氣']))\n",
    "    metric2['MAPE'] = mape(table['真實蒸氣'],table['預測蒸氣'])\n",
    "    metric2.index.name = '蒸氣'\n",
    "    \n",
    "    return metric,metric2"
   ]
  },
  {
   "cell_type": "markdown",
   "metadata": {},
   "source": [
    "# train metric"
   ]
  },
  {
   "cell_type": "code",
   "execution_count": 20,
   "metadata": {},
   "outputs": [
    {
     "data": {
      "text/html": [
       "<div>\n",
       "<style scoped>\n",
       "    .dataframe tbody tr th:only-of-type {\n",
       "        vertical-align: middle;\n",
       "    }\n",
       "\n",
       "    .dataframe tbody tr th {\n",
       "        vertical-align: top;\n",
       "    }\n",
       "\n",
       "    .dataframe thead th {\n",
       "        text-align: right;\n",
       "    }\n",
       "</style>\n",
       "<table border=\"1\" class=\"dataframe\">\n",
       "  <thead>\n",
       "    <tr style=\"text-align: right;\">\n",
       "      <th></th>\n",
       "      <th>R2(出料)</th>\n",
       "      <th>RMSE(單耗)</th>\n",
       "      <th>MAPE(單耗)</th>\n",
       "    </tr>\n",
       "    <tr>\n",
       "      <th>出料</th>\n",
       "      <th></th>\n",
       "      <th></th>\n",
       "      <th></th>\n",
       "    </tr>\n",
       "  </thead>\n",
       "  <tbody>\n",
       "    <tr>\n",
       "      <td>0</td>\n",
       "      <td>0.932527</td>\n",
       "      <td>0.013812</td>\n",
       "      <td>1.051368</td>\n",
       "    </tr>\n",
       "  </tbody>\n",
       "</table>\n",
       "</div>"
      ],
      "text/plain": [
       "      R2(出料)  RMSE(單耗)  MAPE(單耗)\n",
       "出料                              \n",
       "0   0.932527  0.013812  1.051368"
      ]
     },
     "execution_count": 20,
     "metadata": {},
     "output_type": "execute_result"
    }
   ],
   "source": [
    "state ,action, output, stream = train_iter.dataset.tensors\n",
    "table = make_prediction(state,action,output,stream)\n",
    "metric,metric2 = make_metric(table)\n",
    "metric"
   ]
  },
  {
   "cell_type": "code",
   "execution_count": 21,
   "metadata": {},
   "outputs": [
    {
     "data": {
      "text/html": [
       "<div>\n",
       "<style scoped>\n",
       "    .dataframe tbody tr th:only-of-type {\n",
       "        vertical-align: middle;\n",
       "    }\n",
       "\n",
       "    .dataframe tbody tr th {\n",
       "        vertical-align: top;\n",
       "    }\n",
       "\n",
       "    .dataframe thead th {\n",
       "        text-align: right;\n",
       "    }\n",
       "</style>\n",
       "<table border=\"1\" class=\"dataframe\">\n",
       "  <thead>\n",
       "    <tr style=\"text-align: right;\">\n",
       "      <th></th>\n",
       "      <th>R2</th>\n",
       "      <th>RMSE</th>\n",
       "      <th>MAPE</th>\n",
       "    </tr>\n",
       "    <tr>\n",
       "      <th>蒸氣</th>\n",
       "      <th></th>\n",
       "      <th></th>\n",
       "      <th></th>\n",
       "    </tr>\n",
       "  </thead>\n",
       "  <tbody>\n",
       "    <tr>\n",
       "      <td>0</td>\n",
       "      <td>-35.330937</td>\n",
       "      <td>16586.59314</td>\n",
       "      <td>35.549384</td>\n",
       "    </tr>\n",
       "  </tbody>\n",
       "</table>\n",
       "</div>"
      ],
      "text/plain": [
       "           R2         RMSE       MAPE\n",
       "蒸氣                                   \n",
       "0  -35.330937  16586.59314  35.549384"
      ]
     },
     "execution_count": 21,
     "metadata": {},
     "output_type": "execute_result"
    }
   ],
   "source": [
    "metric2"
   ]
  },
  {
   "cell_type": "markdown",
   "metadata": {},
   "source": [
    "# test metric"
   ]
  },
  {
   "cell_type": "code",
   "execution_count": 22,
   "metadata": {},
   "outputs": [
    {
     "data": {
      "text/html": [
       "<div>\n",
       "<style scoped>\n",
       "    .dataframe tbody tr th:only-of-type {\n",
       "        vertical-align: middle;\n",
       "    }\n",
       "\n",
       "    .dataframe tbody tr th {\n",
       "        vertical-align: top;\n",
       "    }\n",
       "\n",
       "    .dataframe thead th {\n",
       "        text-align: right;\n",
       "    }\n",
       "</style>\n",
       "<table border=\"1\" class=\"dataframe\">\n",
       "  <thead>\n",
       "    <tr style=\"text-align: right;\">\n",
       "      <th></th>\n",
       "      <th>R2(出料)</th>\n",
       "      <th>RMSE(單耗)</th>\n",
       "      <th>MAPE(單耗)</th>\n",
       "    </tr>\n",
       "    <tr>\n",
       "      <th>出料</th>\n",
       "      <th></th>\n",
       "      <th></th>\n",
       "      <th></th>\n",
       "    </tr>\n",
       "  </thead>\n",
       "  <tbody>\n",
       "    <tr>\n",
       "      <td>0</td>\n",
       "      <td>0.915929</td>\n",
       "      <td>0.019323</td>\n",
       "      <td>1.31891</td>\n",
       "    </tr>\n",
       "  </tbody>\n",
       "</table>\n",
       "</div>"
      ],
      "text/plain": [
       "      R2(出料)  RMSE(單耗)  MAPE(單耗)\n",
       "出料                              \n",
       "0   0.915929  0.019323   1.31891"
      ]
     },
     "execution_count": 22,
     "metadata": {},
     "output_type": "execute_result"
    }
   ],
   "source": [
    "state ,action, output, stream = test.tensors\n",
    "table = make_prediction(state,action,output,stream)\n",
    "metric,metric2 = make_metric(table)\n",
    "metric"
   ]
  },
  {
   "cell_type": "code",
   "execution_count": 23,
   "metadata": {},
   "outputs": [
    {
     "data": {
      "text/html": [
       "<div>\n",
       "<style scoped>\n",
       "    .dataframe tbody tr th:only-of-type {\n",
       "        vertical-align: middle;\n",
       "    }\n",
       "\n",
       "    .dataframe tbody tr th {\n",
       "        vertical-align: top;\n",
       "    }\n",
       "\n",
       "    .dataframe thead th {\n",
       "        text-align: right;\n",
       "    }\n",
       "</style>\n",
       "<table border=\"1\" class=\"dataframe\">\n",
       "  <thead>\n",
       "    <tr style=\"text-align: right;\">\n",
       "      <th></th>\n",
       "      <th>R2</th>\n",
       "      <th>RMSE</th>\n",
       "      <th>MAPE</th>\n",
       "    </tr>\n",
       "    <tr>\n",
       "      <th>蒸氣</th>\n",
       "      <th></th>\n",
       "      <th></th>\n",
       "      <th></th>\n",
       "    </tr>\n",
       "  </thead>\n",
       "  <tbody>\n",
       "    <tr>\n",
       "      <td>0</td>\n",
       "      <td>-19.493581</td>\n",
       "      <td>10577.974097</td>\n",
       "      <td>27.163219</td>\n",
       "    </tr>\n",
       "  </tbody>\n",
       "</table>\n",
       "</div>"
      ],
      "text/plain": [
       "           R2          RMSE       MAPE\n",
       "蒸氣                                    \n",
       "0  -19.493581  10577.974097  27.163219"
      ]
     },
     "execution_count": 23,
     "metadata": {},
     "output_type": "execute_result"
    }
   ],
   "source": [
    "metric2"
   ]
  },
  {
   "cell_type": "markdown",
   "metadata": {},
   "source": [
    "# save "
   ]
  },
  {
   "cell_type": "code",
   "execution_count": 24,
   "metadata": {},
   "outputs": [
    {
     "name": "stdout",
     "output_type": "stream",
     "text": [
      "save done!\n"
     ]
    }
   ],
   "source": [
    "joblib.dump(net,'../model/Critic.pkl')\n",
    "print('save done!')"
   ]
  },
  {
   "cell_type": "code",
   "execution_count": null,
   "metadata": {},
   "outputs": [],
   "source": []
  }
 ],
 "metadata": {
  "kernelspec": {
   "display_name": "Python 3",
   "language": "python",
   "name": "python3"
  },
  "language_info": {
   "codemirror_mode": {
    "name": "ipython",
    "version": 3
   },
   "file_extension": ".py",
   "mimetype": "text/x-python",
   "name": "python",
   "nbconvert_exporter": "python",
   "pygments_lexer": "ipython3",
   "version": "3.7.4"
  }
 },
 "nbformat": 4,
 "nbformat_minor": 2
}
