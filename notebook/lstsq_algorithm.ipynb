{
  "nbformat": 4,
  "nbformat_minor": 0,
  "metadata": {
    "colab": {
      "name": "pa.ipynb",
      "provenance": [],
      "mount_file_id": "1XD42XGKa_lXwHOCjzd0bNFHsEkYh4wjC",
      "authorship_tag": "ABX9TyMbJfVLnFtWNv25pHrBksur",
      "include_colab_link": true
    },
    "kernelspec": {
      "name": "python3",
      "display_name": "Python 3"
    },
    "widgets": {
      "application/vnd.jupyter.widget-state+json": {
        "07f53714bce44f07ba246e613c21977b": {
          "model_module": "@jupyter-widgets/controls",
          "model_name": "HBoxModel",
          "state": {
            "_view_name": "HBoxView",
            "_dom_classes": [],
            "_model_name": "HBoxModel",
            "_view_module": "@jupyter-widgets/controls",
            "_model_module_version": "1.5.0",
            "_view_count": null,
            "_view_module_version": "1.5.0",
            "box_style": "",
            "layout": "IPY_MODEL_50e20de8a63d42d9bdda2cfbf247d18f",
            "_model_module": "@jupyter-widgets/controls",
            "children": [
              "IPY_MODEL_ba6d4a93da2148b79527f130b2ecc86c",
              "IPY_MODEL_bce2b11613404949bd8bb4f54bc27bb6"
            ]
          }
        },
        "50e20de8a63d42d9bdda2cfbf247d18f": {
          "model_module": "@jupyter-widgets/base",
          "model_name": "LayoutModel",
          "state": {
            "_view_name": "LayoutView",
            "grid_template_rows": null,
            "right": null,
            "justify_content": null,
            "_view_module": "@jupyter-widgets/base",
            "overflow": null,
            "_model_module_version": "1.2.0",
            "_view_count": null,
            "flex_flow": null,
            "width": null,
            "min_width": null,
            "border": null,
            "align_items": null,
            "bottom": null,
            "_model_module": "@jupyter-widgets/base",
            "top": null,
            "grid_column": null,
            "overflow_y": null,
            "overflow_x": null,
            "grid_auto_flow": null,
            "grid_area": null,
            "grid_template_columns": null,
            "flex": null,
            "_model_name": "LayoutModel",
            "justify_items": null,
            "grid_row": null,
            "max_height": null,
            "align_content": null,
            "visibility": null,
            "align_self": null,
            "height": null,
            "min_height": null,
            "padding": null,
            "grid_auto_rows": null,
            "grid_gap": null,
            "max_width": null,
            "order": null,
            "_view_module_version": "1.2.0",
            "grid_template_areas": null,
            "object_position": null,
            "object_fit": null,
            "grid_auto_columns": null,
            "margin": null,
            "display": null,
            "left": null
          }
        },
        "ba6d4a93da2148b79527f130b2ecc86c": {
          "model_module": "@jupyter-widgets/controls",
          "model_name": "FloatProgressModel",
          "state": {
            "_view_name": "ProgressView",
            "style": "IPY_MODEL_668e92900f744dbea1e9792caaae1e0b",
            "_dom_classes": [],
            "description": "100%",
            "_model_name": "FloatProgressModel",
            "bar_style": "success",
            "max": 1000,
            "_view_module": "@jupyter-widgets/controls",
            "_model_module_version": "1.5.0",
            "value": 1000,
            "_view_count": null,
            "_view_module_version": "1.5.0",
            "orientation": "horizontal",
            "min": 0,
            "description_tooltip": null,
            "_model_module": "@jupyter-widgets/controls",
            "layout": "IPY_MODEL_45356b20daca417c91c49a788ad3b2df"
          }
        },
        "bce2b11613404949bd8bb4f54bc27bb6": {
          "model_module": "@jupyter-widgets/controls",
          "model_name": "HTMLModel",
          "state": {
            "_view_name": "HTMLView",
            "style": "IPY_MODEL_1b80853ee3da41d2b0b566ece176d757",
            "_dom_classes": [],
            "description": "",
            "_model_name": "HTMLModel",
            "placeholder": "​",
            "_view_module": "@jupyter-widgets/controls",
            "_model_module_version": "1.5.0",
            "value": " 1000/1000 [00:25&lt;00:00, 39.22it/s]",
            "_view_count": null,
            "_view_module_version": "1.5.0",
            "description_tooltip": null,
            "_model_module": "@jupyter-widgets/controls",
            "layout": "IPY_MODEL_9b36c49ce66e4594b2bbe13f676851f7"
          }
        },
        "668e92900f744dbea1e9792caaae1e0b": {
          "model_module": "@jupyter-widgets/controls",
          "model_name": "ProgressStyleModel",
          "state": {
            "_view_name": "StyleView",
            "_model_name": "ProgressStyleModel",
            "description_width": "initial",
            "_view_module": "@jupyter-widgets/base",
            "_model_module_version": "1.5.0",
            "_view_count": null,
            "_view_module_version": "1.2.0",
            "bar_color": null,
            "_model_module": "@jupyter-widgets/controls"
          }
        },
        "45356b20daca417c91c49a788ad3b2df": {
          "model_module": "@jupyter-widgets/base",
          "model_name": "LayoutModel",
          "state": {
            "_view_name": "LayoutView",
            "grid_template_rows": null,
            "right": null,
            "justify_content": null,
            "_view_module": "@jupyter-widgets/base",
            "overflow": null,
            "_model_module_version": "1.2.0",
            "_view_count": null,
            "flex_flow": null,
            "width": null,
            "min_width": null,
            "border": null,
            "align_items": null,
            "bottom": null,
            "_model_module": "@jupyter-widgets/base",
            "top": null,
            "grid_column": null,
            "overflow_y": null,
            "overflow_x": null,
            "grid_auto_flow": null,
            "grid_area": null,
            "grid_template_columns": null,
            "flex": null,
            "_model_name": "LayoutModel",
            "justify_items": null,
            "grid_row": null,
            "max_height": null,
            "align_content": null,
            "visibility": null,
            "align_self": null,
            "height": null,
            "min_height": null,
            "padding": null,
            "grid_auto_rows": null,
            "grid_gap": null,
            "max_width": null,
            "order": null,
            "_view_module_version": "1.2.0",
            "grid_template_areas": null,
            "object_position": null,
            "object_fit": null,
            "grid_auto_columns": null,
            "margin": null,
            "display": null,
            "left": null
          }
        },
        "1b80853ee3da41d2b0b566ece176d757": {
          "model_module": "@jupyter-widgets/controls",
          "model_name": "DescriptionStyleModel",
          "state": {
            "_view_name": "StyleView",
            "_model_name": "DescriptionStyleModel",
            "description_width": "",
            "_view_module": "@jupyter-widgets/base",
            "_model_module_version": "1.5.0",
            "_view_count": null,
            "_view_module_version": "1.2.0",
            "_model_module": "@jupyter-widgets/controls"
          }
        },
        "9b36c49ce66e4594b2bbe13f676851f7": {
          "model_module": "@jupyter-widgets/base",
          "model_name": "LayoutModel",
          "state": {
            "_view_name": "LayoutView",
            "grid_template_rows": null,
            "right": null,
            "justify_content": null,
            "_view_module": "@jupyter-widgets/base",
            "overflow": null,
            "_model_module_version": "1.2.0",
            "_view_count": null,
            "flex_flow": null,
            "width": null,
            "min_width": null,
            "border": null,
            "align_items": null,
            "bottom": null,
            "_model_module": "@jupyter-widgets/base",
            "top": null,
            "grid_column": null,
            "overflow_y": null,
            "overflow_x": null,
            "grid_auto_flow": null,
            "grid_area": null,
            "grid_template_columns": null,
            "flex": null,
            "_model_name": "LayoutModel",
            "justify_items": null,
            "grid_row": null,
            "max_height": null,
            "align_content": null,
            "visibility": null,
            "align_self": null,
            "height": null,
            "min_height": null,
            "padding": null,
            "grid_auto_rows": null,
            "grid_gap": null,
            "max_width": null,
            "order": null,
            "_view_module_version": "1.2.0",
            "grid_template_areas": null,
            "object_position": null,
            "object_fit": null,
            "grid_auto_columns": null,
            "margin": null,
            "display": null,
            "left": null
          }
        },
        "80872d223542462e8ccaa673b48f24d5": {
          "model_module": "@jupyter-widgets/controls",
          "model_name": "HBoxModel",
          "state": {
            "_view_name": "HBoxView",
            "_dom_classes": [],
            "_model_name": "HBoxModel",
            "_view_module": "@jupyter-widgets/controls",
            "_model_module_version": "1.5.0",
            "_view_count": null,
            "_view_module_version": "1.5.0",
            "box_style": "",
            "layout": "IPY_MODEL_0b68f0fc92a34614877536e7a0584ee6",
            "_model_module": "@jupyter-widgets/controls",
            "children": [
              "IPY_MODEL_b2aaefbb00df497ba7e30fb33e2575e9",
              "IPY_MODEL_4ae8bcb283d24883a459a6bee5a22e22"
            ]
          }
        },
        "0b68f0fc92a34614877536e7a0584ee6": {
          "model_module": "@jupyter-widgets/base",
          "model_name": "LayoutModel",
          "state": {
            "_view_name": "LayoutView",
            "grid_template_rows": null,
            "right": null,
            "justify_content": null,
            "_view_module": "@jupyter-widgets/base",
            "overflow": null,
            "_model_module_version": "1.2.0",
            "_view_count": null,
            "flex_flow": null,
            "width": null,
            "min_width": null,
            "border": null,
            "align_items": null,
            "bottom": null,
            "_model_module": "@jupyter-widgets/base",
            "top": null,
            "grid_column": null,
            "overflow_y": null,
            "overflow_x": null,
            "grid_auto_flow": null,
            "grid_area": null,
            "grid_template_columns": null,
            "flex": null,
            "_model_name": "LayoutModel",
            "justify_items": null,
            "grid_row": null,
            "max_height": null,
            "align_content": null,
            "visibility": null,
            "align_self": null,
            "height": null,
            "min_height": null,
            "padding": null,
            "grid_auto_rows": null,
            "grid_gap": null,
            "max_width": null,
            "order": null,
            "_view_module_version": "1.2.0",
            "grid_template_areas": null,
            "object_position": null,
            "object_fit": null,
            "grid_auto_columns": null,
            "margin": null,
            "display": null,
            "left": null
          }
        },
        "b2aaefbb00df497ba7e30fb33e2575e9": {
          "model_module": "@jupyter-widgets/controls",
          "model_name": "FloatProgressModel",
          "state": {
            "_view_name": "ProgressView",
            "style": "IPY_MODEL_7f9e965ecc45427796e510b1543ce1d9",
            "_dom_classes": [],
            "description": "100%",
            "_model_name": "FloatProgressModel",
            "bar_style": "success",
            "max": 10000,
            "_view_module": "@jupyter-widgets/controls",
            "_model_module_version": "1.5.0",
            "value": 10000,
            "_view_count": null,
            "_view_module_version": "1.5.0",
            "orientation": "horizontal",
            "min": 0,
            "description_tooltip": null,
            "_model_module": "@jupyter-widgets/controls",
            "layout": "IPY_MODEL_1bf277e89b154b77849bc0fa24614cb8"
          }
        },
        "4ae8bcb283d24883a459a6bee5a22e22": {
          "model_module": "@jupyter-widgets/controls",
          "model_name": "HTMLModel",
          "state": {
            "_view_name": "HTMLView",
            "style": "IPY_MODEL_6d868cc880f745e3b3b10e6de2f6ce74",
            "_dom_classes": [],
            "description": "",
            "_model_name": "HTMLModel",
            "placeholder": "​",
            "_view_module": "@jupyter-widgets/controls",
            "_model_module_version": "1.5.0",
            "value": " 10000/10000 [00:48&lt;00:00, 206.55it/s]",
            "_view_count": null,
            "_view_module_version": "1.5.0",
            "description_tooltip": null,
            "_model_module": "@jupyter-widgets/controls",
            "layout": "IPY_MODEL_8a199285a88944ae9bffdc3019bd1dbf"
          }
        },
        "7f9e965ecc45427796e510b1543ce1d9": {
          "model_module": "@jupyter-widgets/controls",
          "model_name": "ProgressStyleModel",
          "state": {
            "_view_name": "StyleView",
            "_model_name": "ProgressStyleModel",
            "description_width": "initial",
            "_view_module": "@jupyter-widgets/base",
            "_model_module_version": "1.5.0",
            "_view_count": null,
            "_view_module_version": "1.2.0",
            "bar_color": null,
            "_model_module": "@jupyter-widgets/controls"
          }
        },
        "1bf277e89b154b77849bc0fa24614cb8": {
          "model_module": "@jupyter-widgets/base",
          "model_name": "LayoutModel",
          "state": {
            "_view_name": "LayoutView",
            "grid_template_rows": null,
            "right": null,
            "justify_content": null,
            "_view_module": "@jupyter-widgets/base",
            "overflow": null,
            "_model_module_version": "1.2.0",
            "_view_count": null,
            "flex_flow": null,
            "width": null,
            "min_width": null,
            "border": null,
            "align_items": null,
            "bottom": null,
            "_model_module": "@jupyter-widgets/base",
            "top": null,
            "grid_column": null,
            "overflow_y": null,
            "overflow_x": null,
            "grid_auto_flow": null,
            "grid_area": null,
            "grid_template_columns": null,
            "flex": null,
            "_model_name": "LayoutModel",
            "justify_items": null,
            "grid_row": null,
            "max_height": null,
            "align_content": null,
            "visibility": null,
            "align_self": null,
            "height": null,
            "min_height": null,
            "padding": null,
            "grid_auto_rows": null,
            "grid_gap": null,
            "max_width": null,
            "order": null,
            "_view_module_version": "1.2.0",
            "grid_template_areas": null,
            "object_position": null,
            "object_fit": null,
            "grid_auto_columns": null,
            "margin": null,
            "display": null,
            "left": null
          }
        },
        "6d868cc880f745e3b3b10e6de2f6ce74": {
          "model_module": "@jupyter-widgets/controls",
          "model_name": "DescriptionStyleModel",
          "state": {
            "_view_name": "StyleView",
            "_model_name": "DescriptionStyleModel",
            "description_width": "",
            "_view_module": "@jupyter-widgets/base",
            "_model_module_version": "1.5.0",
            "_view_count": null,
            "_view_module_version": "1.2.0",
            "_model_module": "@jupyter-widgets/controls"
          }
        },
        "8a199285a88944ae9bffdc3019bd1dbf": {
          "model_module": "@jupyter-widgets/base",
          "model_name": "LayoutModel",
          "state": {
            "_view_name": "LayoutView",
            "grid_template_rows": null,
            "right": null,
            "justify_content": null,
            "_view_module": "@jupyter-widgets/base",
            "overflow": null,
            "_model_module_version": "1.2.0",
            "_view_count": null,
            "flex_flow": null,
            "width": null,
            "min_width": null,
            "border": null,
            "align_items": null,
            "bottom": null,
            "_model_module": "@jupyter-widgets/base",
            "top": null,
            "grid_column": null,
            "overflow_y": null,
            "overflow_x": null,
            "grid_auto_flow": null,
            "grid_area": null,
            "grid_template_columns": null,
            "flex": null,
            "_model_name": "LayoutModel",
            "justify_items": null,
            "grid_row": null,
            "max_height": null,
            "align_content": null,
            "visibility": null,
            "align_self": null,
            "height": null,
            "min_height": null,
            "padding": null,
            "grid_auto_rows": null,
            "grid_gap": null,
            "max_width": null,
            "order": null,
            "_view_module_version": "1.2.0",
            "grid_template_areas": null,
            "object_position": null,
            "object_fit": null,
            "grid_auto_columns": null,
            "margin": null,
            "display": null,
            "left": null
          }
        }
      }
    }
  },
  "cells": [
    {
      "cell_type": "markdown",
      "metadata": {
        "id": "view-in-github",
        "colab_type": "text"
      },
      "source": [
        "<a href=\"https://colab.research.google.com/github/skywalker0803r/pa_0510/blob/V3/notebook/lstsq_algorithm.ipynb\" target=\"_parent\"><img src=\"https://colab.research.google.com/assets/colab-badge.svg\" alt=\"Open In Colab\"/></a>"
      ]
    },
    {
      "cell_type": "code",
      "metadata": {
        "colab": {
          "base_uri": "https://localhost:8080/",
          "height": 204
        },
        "id": "ETPkCydi97gu",
        "outputId": "0c797ead-cc3a-4d0a-fb0e-a4c523a800ca"
      },
      "source": [
        "import pandas as pd\n",
        "import numpy as np\n",
        "\n",
        "df_path = '/content/drive/MyDrive/南亞PA廠/cleaned_data/train_cleaned.csv'\n",
        "tag_path = '/content/drive/MyDrive/南亞PA廠/cleaned_data/tag_cleaned.csv'\n",
        "df = pd.read_csv(df_path,index_col=0)\n",
        "tag = pd.read_csv(tag_path,index_col=0)\n",
        "tag.head()"
      ],
      "execution_count": 1,
      "outputs": [
        {
          "output_type": "execute_result",
          "data": {
            "text/html": [
              "<div>\n",
              "<style scoped>\n",
              "    .dataframe tbody tr th:only-of-type {\n",
              "        vertical-align: middle;\n",
              "    }\n",
              "\n",
              "    .dataframe tbody tr th {\n",
              "        vertical-align: top;\n",
              "    }\n",
              "\n",
              "    .dataframe thead th {\n",
              "        text-align: right;\n",
              "    }\n",
              "</style>\n",
              "<table border=\"1\" class=\"dataframe\">\n",
              "  <thead>\n",
              "    <tr style=\"text-align: right;\">\n",
              "      <th></th>\n",
              "      <th>item</th>\n",
              "      <th>TAG</th>\n",
              "      <th>chinese</th>\n",
              "      <th>character</th>\n",
              "      <th>unit</th>\n",
              "      <th>category</th>\n",
              "      <th>period</th>\n",
              "      <th>min</th>\n",
              "      <th>max</th>\n",
              "      <th>推測顯著性(依製程經驗)</th>\n",
              "    </tr>\n",
              "  </thead>\n",
              "  <tbody>\n",
              "    <tr>\n",
              "      <th>0</th>\n",
              "      <td>1.0</td>\n",
              "      <td>MLPAP_TJC-0627.PV</td>\n",
              "      <td>OX預熱器出口溫度</td>\n",
              "      <td>溫度</td>\n",
              "      <td>℃</td>\n",
              "      <td>可控制因子</td>\n",
              "      <td>1分鐘2筆</td>\n",
              "      <td>145</td>\n",
              "      <td>160</td>\n",
              "      <td>***</td>\n",
              "    </tr>\n",
              "    <tr>\n",
              "      <th>1</th>\n",
              "      <td>2.0</td>\n",
              "      <td>MLPAP_TRC-0610.PV</td>\n",
              "      <td>空氣預熱器出口溫度</td>\n",
              "      <td>溫度</td>\n",
              "      <td>℃</td>\n",
              "      <td>可控制因子</td>\n",
              "      <td>1分鐘2筆</td>\n",
              "      <td>160</td>\n",
              "      <td>200</td>\n",
              "      <td>***</td>\n",
              "    </tr>\n",
              "    <tr>\n",
              "      <th>2</th>\n",
              "      <td>3.0</td>\n",
              "      <td>MLPAP_FR-0632.PV</td>\n",
              "      <td>汽機風量</td>\n",
              "      <td>流量</td>\n",
              "      <td>KNM3/HR</td>\n",
              "      <td>可控制因子</td>\n",
              "      <td>1分鐘2筆</td>\n",
              "      <td>64</td>\n",
              "      <td>85.4</td>\n",
              "      <td>****</td>\n",
              "    </tr>\n",
              "    <tr>\n",
              "      <th>3</th>\n",
              "      <td>4.0</td>\n",
              "      <td>MLPAP_FQ-0619.PV</td>\n",
              "      <td>OX入料量</td>\n",
              "      <td>流量</td>\n",
              "      <td>kg/HR</td>\n",
              "      <td>可控制因子</td>\n",
              "      <td>1分鐘2筆</td>\n",
              "      <td>2000</td>\n",
              "      <td>8000</td>\n",
              "      <td>****</td>\n",
              "    </tr>\n",
              "    <tr>\n",
              "      <th>4</th>\n",
              "      <td>5.0</td>\n",
              "      <td>MLPAP_TJC-0757A.PV</td>\n",
              "      <td>反應槽鹽浴溫度</td>\n",
              "      <td>溫度</td>\n",
              "      <td>℃</td>\n",
              "      <td>可控制因子</td>\n",
              "      <td>1分鐘2筆</td>\n",
              "      <td>345</td>\n",
              "      <td>365</td>\n",
              "      <td>****</td>\n",
              "    </tr>\n",
              "  </tbody>\n",
              "</table>\n",
              "</div>"
            ],
            "text/plain": [
              "   item                 TAG    chinese  ...   min   max 推測顯著性(依製程經驗)\n",
              "0   1.0   MLPAP_TJC-0627.PV  OX預熱器出口溫度  ...   145   160          ***\n",
              "1   2.0   MLPAP_TRC-0610.PV  空氣預熱器出口溫度  ...   160   200          ***\n",
              "2   3.0    MLPAP_FR-0632.PV       汽機風量  ...    64  85.4         ****\n",
              "3   4.0    MLPAP_FQ-0619.PV      OX入料量  ...  2000  8000         ****\n",
              "4   5.0  MLPAP_TJC-0757A.PV    反應槽鹽浴溫度  ...   345   365         ****\n",
              "\n",
              "[5 rows x 10 columns]"
            ]
          },
          "metadata": {
            "tags": []
          },
          "execution_count": 1
        }
      ]
    },
    {
      "cell_type": "markdown",
      "metadata": {
        "id": "tg-_lbB0Abmw"
      },
      "source": [
        "# INPUT"
      ]
    },
    {
      "cell_type": "code",
      "metadata": {
        "colab": {
          "base_uri": "https://localhost:8080/",
          "height": 80
        },
        "id": "hnEM9y5yAOC1",
        "outputId": "9344e24f-890f-4832-b027-2cfb42446a23"
      },
      "source": [
        "tag[tag.TAG.str.contains('0619.PV')]"
      ],
      "execution_count": 2,
      "outputs": [
        {
          "output_type": "execute_result",
          "data": {
            "text/html": [
              "<div>\n",
              "<style scoped>\n",
              "    .dataframe tbody tr th:only-of-type {\n",
              "        vertical-align: middle;\n",
              "    }\n",
              "\n",
              "    .dataframe tbody tr th {\n",
              "        vertical-align: top;\n",
              "    }\n",
              "\n",
              "    .dataframe thead th {\n",
              "        text-align: right;\n",
              "    }\n",
              "</style>\n",
              "<table border=\"1\" class=\"dataframe\">\n",
              "  <thead>\n",
              "    <tr style=\"text-align: right;\">\n",
              "      <th></th>\n",
              "      <th>item</th>\n",
              "      <th>TAG</th>\n",
              "      <th>chinese</th>\n",
              "      <th>character</th>\n",
              "      <th>unit</th>\n",
              "      <th>category</th>\n",
              "      <th>period</th>\n",
              "      <th>min</th>\n",
              "      <th>max</th>\n",
              "      <th>推測顯著性(依製程經驗)</th>\n",
              "    </tr>\n",
              "  </thead>\n",
              "  <tbody>\n",
              "    <tr>\n",
              "      <th>3</th>\n",
              "      <td>4.0</td>\n",
              "      <td>MLPAP_FQ-0619.PV</td>\n",
              "      <td>OX入料量</td>\n",
              "      <td>流量</td>\n",
              "      <td>kg/HR</td>\n",
              "      <td>可控制因子</td>\n",
              "      <td>1分鐘2筆</td>\n",
              "      <td>2000</td>\n",
              "      <td>8000</td>\n",
              "      <td>****</td>\n",
              "    </tr>\n",
              "  </tbody>\n",
              "</table>\n",
              "</div>"
            ],
            "text/plain": [
              "   item               TAG chinese character  ... period   min   max 推測顯著性(依製程經驗)\n",
              "3   4.0  MLPAP_FQ-0619.PV   OX入料量        流量  ...  1分鐘2筆  2000  8000         ****\n",
              "\n",
              "[1 rows x 10 columns]"
            ]
          },
          "metadata": {
            "tags": []
          },
          "execution_count": 2
        }
      ]
    },
    {
      "cell_type": "markdown",
      "metadata": {
        "id": "O0WiCx5mAc3V"
      },
      "source": [
        "# OUTPUT"
      ]
    },
    {
      "cell_type": "code",
      "metadata": {
        "colab": {
          "base_uri": "https://localhost:8080/",
          "height": 80
        },
        "id": "SqshaWy0AaaD",
        "outputId": "b17f5171-bb14-4ba3-a475-e2a0d9d7160c"
      },
      "source": [
        "tag[tag.TAG.str.contains('0997.PV')]"
      ],
      "execution_count": 3,
      "outputs": [
        {
          "output_type": "execute_result",
          "data": {
            "text/html": [
              "<div>\n",
              "<style scoped>\n",
              "    .dataframe tbody tr th:only-of-type {\n",
              "        vertical-align: middle;\n",
              "    }\n",
              "\n",
              "    .dataframe tbody tr th {\n",
              "        vertical-align: top;\n",
              "    }\n",
              "\n",
              "    .dataframe thead th {\n",
              "        text-align: right;\n",
              "    }\n",
              "</style>\n",
              "<table border=\"1\" class=\"dataframe\">\n",
              "  <thead>\n",
              "    <tr style=\"text-align: right;\">\n",
              "      <th></th>\n",
              "      <th>item</th>\n",
              "      <th>TAG</th>\n",
              "      <th>chinese</th>\n",
              "      <th>character</th>\n",
              "      <th>unit</th>\n",
              "      <th>category</th>\n",
              "      <th>period</th>\n",
              "      <th>min</th>\n",
              "      <th>max</th>\n",
              "      <th>推測顯著性(依製程經驗)</th>\n",
              "    </tr>\n",
              "  </thead>\n",
              "  <tbody>\n",
              "    <tr>\n",
              "      <th>25</th>\n",
              "      <td>26.0</td>\n",
              "      <td>MLPAP_FQI-0997.PV</td>\n",
              "      <td>粗PA出料量</td>\n",
              "      <td>流量</td>\n",
              "      <td>KG/HR</td>\n",
              "      <td>不可控制因子</td>\n",
              "      <td>1分鐘2筆</td>\n",
              "      <td>2000</td>\n",
              "      <td>8800</td>\n",
              "      <td>***</td>\n",
              "    </tr>\n",
              "  </tbody>\n",
              "</table>\n",
              "</div>"
            ],
            "text/plain": [
              "    item                TAG chinese character  ... period   min   max 推測顯著性(依製程經驗)\n",
              "25  26.0  MLPAP_FQI-0997.PV  粗PA出料量        流量  ...  1分鐘2筆  2000  8800          ***\n",
              "\n",
              "[1 rows x 10 columns]"
            ]
          },
          "metadata": {
            "tags": []
          },
          "execution_count": 3
        }
      ]
    },
    {
      "cell_type": "markdown",
      "metadata": {
        "id": "LUWXjC6qA3qK"
      },
      "source": [
        "# columns"
      ]
    },
    {
      "cell_type": "code",
      "metadata": {
        "colab": {
          "base_uri": "https://localhost:8080/"
        },
        "id": "sKxbWnxLBlhG",
        "outputId": "75869bc9-0429-4985-fd00-3dcc999d0d48"
      },
      "source": [
        "x_col = tag[tag.TAG.str.contains('0619.PV')].TAG.tolist()\n",
        "y_col = tag[tag.TAG.str.contains('0997.PV')].TAG.tolist()\n",
        "x_col,y_col"
      ],
      "execution_count": 4,
      "outputs": [
        {
          "output_type": "execute_result",
          "data": {
            "text/plain": [
              "(['MLPAP_FQ-0619.PV'], ['MLPAP_FQI-0997.PV'])"
            ]
          },
          "metadata": {
            "tags": []
          },
          "execution_count": 4
        }
      ]
    },
    {
      "cell_type": "markdown",
      "metadata": {
        "id": "LDcqujxhQ7ez"
      },
      "source": [
        "# visualization"
      ]
    },
    {
      "cell_type": "code",
      "metadata": {
        "colab": {
          "base_uri": "https://localhost:8080/",
          "height": 282
        },
        "id": "3_TrvVOIEIsW",
        "outputId": "33893085-109f-41f8-eef4-105cc2f01bdd"
      },
      "source": [
        "import matplotlib.pyplot as plt\n",
        "import seaborn as sns\n",
        "\n",
        "for i in range(10):\n",
        "  d = df.sample(1000,random_state=i)\n",
        "  plt.scatter(d[x_col[0]].values,d[y_col[0]].values,label=str(i))\n",
        "plt.xlabel(x_col[0])\n",
        "plt.ylabel(y_col[0])\n",
        "plt.legend()\n",
        "plt.show()"
      ],
      "execution_count": 5,
      "outputs": [
        {
          "output_type": "display_data",
          "data": {
            "image/png": "[encoded data removed]",
            "text/plain": [
              "<Figure size 432x288 with 1 Axes>"
            ]
          },
          "metadata": {
            "tags": [],
            "needs_background": "light"
          }
        }
      ]
    },
    {
      "cell_type": "code",
      "metadata": {
        "colab": {
          "base_uri": "https://localhost:8080/",
          "height": 117,
          "referenced_widgets": [
            "07f53714bce44f07ba246e613c21977b",
            "50e20de8a63d42d9bdda2cfbf247d18f",
            "ba6d4a93da2148b79527f130b2ecc86c",
            "bce2b11613404949bd8bb4f54bc27bb6",
            "668e92900f744dbea1e9792caaae1e0b",
            "45356b20daca417c91c49a788ad3b2df",
            "1b80853ee3da41d2b0b566ece176d757",
            "9b36c49ce66e4594b2bbe13f676851f7"
          ]
        },
        "id": "Qg3oC48hItuc",
        "outputId": "80d6262b-61ef-439a-f283-95137e81e9f6"
      },
      "source": [
        "from numpy.linalg import inv\n",
        "from tqdm import tqdm_notebook as tqdm\n",
        "w_list = []\n",
        "b_list = []\n",
        "for i in tqdm(range(1000)):\n",
        "  d = df[x_col+y_col].dropna(axis=0).sample(1000,random_state=i)\n",
        "  A = d[x_col]\n",
        "  A['bias'] = 1\n",
        "  A = A.values\n",
        "  b = d[y_col].values\n",
        "  w = inv(A.T@A)@A.T@b\n",
        "  w_list.extend(w[0])\n",
        "  b_list.extend(w[1])"
      ],
      "execution_count": 6,
      "outputs": [
        {
          "output_type": "stream",
          "text": [
            "/usr/local/lib/python3.6/dist-packages/ipykernel_launcher.py:5: TqdmDeprecationWarning: This function will be removed in tqdm==5.0.0\n",
            "Please use `tqdm.notebook.tqdm` instead of `tqdm.tqdm_notebook`\n",
            "  \"\"\"\n"
          ],
          "name": "stderr"
        },
        {
          "output_type": "display_data",
          "data": {
            "application/vnd.jupyter.widget-view+json": {
              "model_id": "07f53714bce44f07ba246e613c21977b",
              "version_minor": 0,
              "version_major": 2
            },
            "text/plain": [
              "HBox(children=(FloatProgress(value=0.0, max=1000.0), HTML(value='')))"
            ]
          },
          "metadata": {
            "tags": []
          }
        },
        {
          "output_type": "stream",
          "text": [
            "\n"
          ],
          "name": "stdout"
        }
      ]
    },
    {
      "cell_type": "code",
      "metadata": {
        "colab": {
          "base_uri": "https://localhost:8080/",
          "height": 298
        },
        "id": "cX-sfBlxJMzy",
        "outputId": "6193efc4-6be0-463d-c8c2-1e063957d0de"
      },
      "source": [
        "sns.kdeplot(w_list)\n",
        "wm = np.mean(w_list)\n",
        "plt.title('w')\n",
        "print(wm)"
      ],
      "execution_count": 7,
      "outputs": [
        {
          "output_type": "stream",
          "text": [
            "1.1575996945283165\n"
          ],
          "name": "stdout"
        },
        {
          "output_type": "display_data",
          "data": {
            "image/png": "[encoded data removed]",
            "text/plain": [
              "<Figure size 432x288 with 1 Axes>"
            ]
          },
          "metadata": {
            "tags": [],
            "needs_background": "light"
          }
        }
      ]
    },
    {
      "cell_type": "code",
      "metadata": {
        "id": "KHe11X49OyOu",
        "colab": {
          "base_uri": "https://localhost:8080/",
          "height": 298
        },
        "outputId": "959a0ea8-6ca8-4758-ece0-7f26cd0836ed"
      },
      "source": [
        "sns.kdeplot(b_list)\n",
        "bm = np.mean(b_list)\n",
        "plt.title('b')\n",
        "print(bm)"
      ],
      "execution_count": 8,
      "outputs": [
        {
          "output_type": "stream",
          "text": [
            "-416.47623385366427\n"
          ],
          "name": "stdout"
        },
        {
          "output_type": "display_data",
          "data": {
            "image/png": "[encoded data removed]",
            "text/plain": [
              "<Figure size 432x288 with 1 Axes>"
            ]
          },
          "metadata": {
            "tags": [],
            "needs_background": "light"
          }
        }
      ]
    },
    {
      "cell_type": "code",
      "metadata": {
        "id": "yZ0xS1TMKaMS",
        "colab": {
          "base_uri": "https://localhost:8080/",
          "height": 280
        },
        "outputId": "d14ea034-c6c8-4ea2-9f1d-4bb2813d1b63"
      },
      "source": [
        "x = np.linspace(2000,8000,1000)\n",
        "y = x*wm+bm\n",
        "plt.plot(x,y)\n",
        "for i in range(10):\n",
        "  d = df.sample(1000,random_state=i)\n",
        "  plt.scatter(d[x_col[0]].values,d[y_col[0]].values,label=str(i))\n",
        "plt.xlabel(x_col[0])\n",
        "plt.ylabel(y_col[0])\n",
        "plt.legend()\n",
        "plt.show()"
      ],
      "execution_count": 9,
      "outputs": [
        {
          "output_type": "display_data",
          "data": {
            "image/png": "[encoded data removed]",
            "text/plain": [
              "<Figure size 432x288 with 1 Axes>"
            ]
          },
          "metadata": {
            "tags": [],
            "needs_background": "light"
          }
        }
      ]
    },
    {
      "cell_type": "markdown",
      "metadata": {
        "id": "pIS3VK1lQYMf"
      },
      "source": [
        "# class F"
      ]
    },
    {
      "cell_type": "code",
      "metadata": {
        "id": "KPRaUwjMM24P",
        "colab": {
          "base_uri": "https://localhost:8080/"
        },
        "outputId": "0a61cb4d-2358-4c65-bbc2-9793e2e24e85"
      },
      "source": [
        "class F(object):\n",
        "  def __init__(self,w,b):\n",
        "    self.w = w\n",
        "    self.b = b\n",
        "  def __call__(self,x):\n",
        "    return x*self.w+self.b\n",
        "\n",
        "f = F(wm,bm)\n",
        "d = df[x_col+y_col].dropna(axis=0).sample(1000)\n",
        "x = d[x_col[0]].values\n",
        "y = d[y_col[0]].values\n",
        "y_hat = f(x)\n",
        "\n",
        "from sklearn.metrics import r2_score\n",
        "r2_score(y,y_hat)"
      ],
      "execution_count": 10,
      "outputs": [
        {
          "output_type": "execute_result",
          "data": {
            "text/plain": [
              "0.9715730749416484"
            ]
          },
          "metadata": {
            "tags": []
          },
          "execution_count": 10
        }
      ]
    },
    {
      "cell_type": "markdown",
      "metadata": {
        "id": "TG5FUqdDopLQ"
      },
      "source": [
        "# optimization Unit_consumption"
      ]
    },
    {
      "cell_type": "code",
      "metadata": {
        "id": "0I8oTkiiQFzt",
        "outputId": "28e9e79c-5e25-4a72-9821-a39597c86082",
        "colab": {
          "base_uri": "https://localhost:8080/",
          "height": 382,
          "referenced_widgets": [
            "80872d223542462e8ccaa673b48f24d5",
            "0b68f0fc92a34614877536e7a0584ee6",
            "b2aaefbb00df497ba7e30fb33e2575e9",
            "4ae8bcb283d24883a459a6bee5a22e22",
            "7f9e965ecc45427796e510b1543ce1d9",
            "1bf277e89b154b77849bc0fa24614cb8",
            "6d868cc880f745e3b3b10e6de2f6ce74",
            "8a199285a88944ae9bffdc3019bd1dbf"
          ]
        }
      },
      "source": [
        "#Unit_consumption\n",
        "uc_lst = []\n",
        "d = df[x_col+y_col].dropna(axis=0)\n",
        "for i in tqdm(range(10000)):\n",
        "  s = d.sample(1000,random_state=i)\n",
        "  uc = np.mean(s[x_col[0]].values/s[y_col[0]].values)\n",
        "  uc_lst.append(uc)\n",
        "sns.kdeplot(uc_lst)"
      ],
      "execution_count": 20,
      "outputs": [
        {
          "output_type": "stream",
          "text": [
            "/usr/local/lib/python3.6/dist-packages/ipykernel_launcher.py:4: TqdmDeprecationWarning: This function will be removed in tqdm==5.0.0\n",
            "Please use `tqdm.notebook.tqdm` instead of `tqdm.tqdm_notebook`\n",
            "  after removing the cwd from sys.path.\n"
          ],
          "name": "stderr"
        },
        {
          "output_type": "display_data",
          "data": {
            "application/vnd.jupyter.widget-view+json": {
              "model_id": "80872d223542462e8ccaa673b48f24d5",
              "version_minor": 0,
              "version_major": 2
            },
            "text/plain": [
              "HBox(children=(FloatProgress(value=0.0, max=10000.0), HTML(value='')))"
            ]
          },
          "metadata": {
            "tags": []
          }
        },
        {
          "output_type": "stream",
          "text": [
            "\n"
          ],
          "name": "stdout"
        },
        {
          "output_type": "execute_result",
          "data": {
            "text/plain": [
              "<matplotlib.axes._subplots.AxesSubplot at 0x7ff1370a94a8>"
            ]
          },
          "metadata": {
            "tags": []
          },
          "execution_count": 20
        },
        {
          "output_type": "display_data",
          "data": {
            "image/png": "[encoded data removed]",
            "text/plain": [
              "<Figure size 432x288 with 1 Axes>"
            ]
          },
          "metadata": {
            "tags": [],
            "needs_background": "light"
          }
        }
      ]
    },
    {
      "cell_type": "code",
      "metadata": {
        "id": "s3RtdV2cor3e",
        "outputId": "772458a7-4d5c-4924-fac5-df839d5a0b2d",
        "colab": {
          "base_uri": "https://localhost:8080/"
        }
      },
      "source": [
        "uc_criteria = np.mean(uc_lst).round(4)\n",
        "uc_criteria"
      ],
      "execution_count": 23,
      "outputs": [
        {
          "output_type": "execute_result",
          "data": {
            "text/plain": [
              "0.9108"
            ]
          },
          "metadata": {
            "tags": []
          },
          "execution_count": 23
        }
      ]
    },
    {
      "cell_type": "code",
      "metadata": {
        "id": "ZN1Zbh8MqVvX",
        "outputId": "4dbed8d0-b6c3-4789-f3ab-8546537045be",
        "colab": {
          "base_uri": "https://localhost:8080/",
          "height": 204
        }
      },
      "source": [
        "df['Unit_consumption'] = df[x_col[0]].values/df[y_col[0]].values\n",
        "df[['Unit_consumption']].sample(5)"
      ],
      "execution_count": 24,
      "outputs": [
        {
          "output_type": "execute_result",
          "data": {
            "text/html": [
              "<div>\n",
              "<style scoped>\n",
              "    .dataframe tbody tr th:only-of-type {\n",
              "        vertical-align: middle;\n",
              "    }\n",
              "\n",
              "    .dataframe tbody tr th {\n",
              "        vertical-align: top;\n",
              "    }\n",
              "\n",
              "    .dataframe thead th {\n",
              "        text-align: right;\n",
              "    }\n",
              "</style>\n",
              "<table border=\"1\" class=\"dataframe\">\n",
              "  <thead>\n",
              "    <tr style=\"text-align: right;\">\n",
              "      <th></th>\n",
              "      <th>Unit_consumption</th>\n",
              "    </tr>\n",
              "  </thead>\n",
              "  <tbody>\n",
              "    <tr>\n",
              "      <th>2019-05-24 15:50:00</th>\n",
              "      <td>NaN</td>\n",
              "    </tr>\n",
              "    <tr>\n",
              "      <th>2017-09-16 20:50:00</th>\n",
              "      <td>0.910053</td>\n",
              "    </tr>\n",
              "    <tr>\n",
              "      <th>2020-07-15 08:40:00</th>\n",
              "      <td>0.908388</td>\n",
              "    </tr>\n",
              "    <tr>\n",
              "      <th>2020-06-29 04:30:00</th>\n",
              "      <td>0.937214</td>\n",
              "    </tr>\n",
              "    <tr>\n",
              "      <th>2018-04-12 03:00:00</th>\n",
              "      <td>NaN</td>\n",
              "    </tr>\n",
              "  </tbody>\n",
              "</table>\n",
              "</div>"
            ],
            "text/plain": [
              "                     Unit_consumption\n",
              "2019-05-24 15:50:00               NaN\n",
              "2017-09-16 20:50:00          0.910053\n",
              "2020-07-15 08:40:00          0.908388\n",
              "2020-06-29 04:30:00          0.937214\n",
              "2018-04-12 03:00:00               NaN"
            ]
          },
          "metadata": {
            "tags": []
          },
          "execution_count": 24
        }
      ]
    },
    {
      "cell_type": "code",
      "metadata": {
        "id": "nKg69OlUq0xP",
        "outputId": "7dbde4b6-1114-41bb-e057-16e50ee11260",
        "colab": {
          "base_uri": "https://localhost:8080/",
          "height": 280
        }
      },
      "source": [
        "x = np.linspace(2000,8000,1000)\n",
        "y = x*wm+bm\n",
        "plt.plot(x,y)\n",
        "for i in range(10):\n",
        "  d = df.sample(1000,random_state=i)\n",
        "  good = d[d['Unit_consumption'] < uc_criteria]\n",
        "  bad = d[d['Unit_consumption'] > uc_criteria]\n",
        "  if i == 0:\n",
        "    plt.scatter(good[x_col[0]].values,good[y_col[0]].values,color='red',marker='.',label='good')\n",
        "    plt.scatter(bad[x_col[0]].values,bad[y_col[0]].values,color='green',marker='.',label='bad')\n",
        "  else:\n",
        "    plt.scatter(good[x_col[0]].values,good[y_col[0]].values,color='red',marker='.')\n",
        "    plt.scatter(bad[x_col[0]].values,bad[y_col[0]].values,color='green',marker='.')\n",
        "plt.xlabel(x_col[0])\n",
        "plt.ylabel(y_col[0])\n",
        "plt.legend()\n",
        "plt.show()"
      ],
      "execution_count": 55,
      "outputs": [
        {
          "output_type": "display_data",
          "data": {
            "image/png": "[encoded data removed]",
            "text/plain": [
              "<Figure size 432x288 with 1 Axes>"
            ]
          },
          "metadata": {
            "tags": [],
            "needs_background": "light"
          }
        }
      ]
    },
    {
      "cell_type": "code",
      "metadata": {
        "id": "s2S0xAn2rRm1",
        "outputId": "702c78fa-ef7d-4128-85ef-05dfdfe83b20",
        "colab": {
          "base_uri": "https://localhost:8080/",
          "height": 831
        }
      },
      "source": [
        "d = df.sample(1000)\n",
        "\n",
        "good = d[d['Unit_consumption'] < uc_criteria]\n",
        "bad = d[d['Unit_consumption'] > uc_criteria]\n",
        "\n",
        "good = (good - good.min())/(good.max()-good.min())\n",
        "bad = (bad - bad.min())/(bad.max()-bad.min())\n",
        "\n",
        "good.boxplot(column=tag[tag.category=='可控制因子'].TAG.tolist(),rot=90)\n",
        "plt.title('good')\n",
        "plt.show()\n",
        "\n",
        "bad.boxplot(column=tag[tag.category=='可控制因子'].TAG.tolist(),rot=90)\n",
        "plt.title('bad')\n",
        "plt.show()"
      ],
      "execution_count": 62,
      "outputs": [
        {
          "output_type": "stream",
          "text": [
            "/usr/local/lib/python3.6/dist-packages/numpy/core/_asarray.py:83: VisibleDeprecationWarning: Creating an ndarray from ragged nested sequences (which is a list-or-tuple of lists-or-tuples-or ndarrays with different lengths or shapes) is deprecated. If you meant to do this, you must specify 'dtype=object' when creating the ndarray\n",
            "  return array(a, dtype, copy=False, order=order)\n"
          ],
          "name": "stderr"
        },
        {
          "output_type": "display_data",
          "data": {
            "image/png": "[encoded data removed]",
            "text/plain": [
              "<Figure size 432x288 with 1 Axes>"
            ]
          },
          "metadata": {
            "tags": [],
            "needs_background": "light"
          }
        },
        {
          "output_type": "stream",
          "text": [
            "/usr/local/lib/python3.6/dist-packages/numpy/core/_asarray.py:83: VisibleDeprecationWarning: Creating an ndarray from ragged nested sequences (which is a list-or-tuple of lists-or-tuples-or ndarrays with different lengths or shapes) is deprecated. If you meant to do this, you must specify 'dtype=object' when creating the ndarray\n",
            "  return array(a, dtype, copy=False, order=order)\n"
          ],
          "name": "stderr"
        },
        {
          "output_type": "display_data",
          "data": {
            "image/png": "[encoded data removed]",
            "text/plain": [
              "<Figure size 432x288 with 1 Axes>"
            ]
          },
          "metadata": {
            "tags": [],
            "needs_background": "light"
          }
        }
      ]
    },
    {
      "cell_type": "code",
      "metadata": {
        "id": "sa9Iwf6ksYHV"
      },
      "source": [
        ""
      ],
      "execution_count": null,
      "outputs": []
    }
  ]
}