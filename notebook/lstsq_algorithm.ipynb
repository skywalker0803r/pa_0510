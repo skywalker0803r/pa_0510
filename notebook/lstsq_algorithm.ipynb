{
  "nbformat": 4,
  "nbformat_minor": 0,
  "metadata": {
    "colab": {
      "name": "pa.ipynb",
      "provenance": [],
      "mount_file_id": "1XD42XGKa_lXwHOCjzd0bNFHsEkYh4wjC",
      "authorship_tag": "ABX9TyMB7B6nhnOZhOksx/lmvAo5",
      "include_colab_link": true
    },
    "kernelspec": {
      "name": "python3",
      "display_name": "Python 3"
    },
    "widgets": {
      "application/vnd.jupyter.widget-state+json": {
        "06f1d187dfab485dba93178677432595": {
          "model_module": "@jupyter-widgets/controls",
          "model_name": "HBoxModel",
          "state": {
            "_view_name": "HBoxView",
            "_dom_classes": [],
            "_model_name": "HBoxModel",
            "_view_module": "@jupyter-widgets/controls",
            "_model_module_version": "1.5.0",
            "_view_count": null,
            "_view_module_version": "1.5.0",
            "box_style": "",
            "layout": "IPY_MODEL_dca13875246d4ceaa865368d606bc783",
            "_model_module": "@jupyter-widgets/controls",
            "children": [
              "IPY_MODEL_c658a35c8e4d430c8cee764737c9aa27",
              "IPY_MODEL_f96f3f35399446d5ad4986b2b1a724ac"
            ]
          }
        },
        "dca13875246d4ceaa865368d606bc783": {
          "model_module": "@jupyter-widgets/base",
          "model_name": "LayoutModel",
          "state": {
            "_view_name": "LayoutView",
            "grid_template_rows": null,
            "right": null,
            "justify_content": null,
            "_view_module": "@jupyter-widgets/base",
            "overflow": null,
            "_model_module_version": "1.2.0",
            "_view_count": null,
            "flex_flow": null,
            "width": null,
            "min_width": null,
            "border": null,
            "align_items": null,
            "bottom": null,
            "_model_module": "@jupyter-widgets/base",
            "top": null,
            "grid_column": null,
            "overflow_y": null,
            "overflow_x": null,
            "grid_auto_flow": null,
            "grid_area": null,
            "grid_template_columns": null,
            "flex": null,
            "_model_name": "LayoutModel",
            "justify_items": null,
            "grid_row": null,
            "max_height": null,
            "align_content": null,
            "visibility": null,
            "align_self": null,
            "height": null,
            "min_height": null,
            "padding": null,
            "grid_auto_rows": null,
            "grid_gap": null,
            "max_width": null,
            "order": null,
            "_view_module_version": "1.2.0",
            "grid_template_areas": null,
            "object_position": null,
            "object_fit": null,
            "grid_auto_columns": null,
            "margin": null,
            "display": null,
            "left": null
          }
        },
        "c658a35c8e4d430c8cee764737c9aa27": {
          "model_module": "@jupyter-widgets/controls",
          "model_name": "FloatProgressModel",
          "state": {
            "_view_name": "ProgressView",
            "style": "IPY_MODEL_c34464c0328f4c71afb4d1bdc56a44cd",
            "_dom_classes": [],
            "description": "100%",
            "_model_name": "FloatProgressModel",
            "bar_style": "success",
            "max": 1000,
            "_view_module": "@jupyter-widgets/controls",
            "_model_module_version": "1.5.0",
            "value": 1000,
            "_view_count": null,
            "_view_module_version": "1.5.0",
            "orientation": "horizontal",
            "min": 0,
            "description_tooltip": null,
            "_model_module": "@jupyter-widgets/controls",
            "layout": "IPY_MODEL_dbc3b76c2c0241f0b3b57bd587e91f83"
          }
        },
        "f96f3f35399446d5ad4986b2b1a724ac": {
          "model_module": "@jupyter-widgets/controls",
          "model_name": "HTMLModel",
          "state": {
            "_view_name": "HTMLView",
            "style": "IPY_MODEL_47bd8e72666e4392a2611f72e54ec905",
            "_dom_classes": [],
            "description": "",
            "_model_name": "HTMLModel",
            "placeholder": "​",
            "_view_module": "@jupyter-widgets/controls",
            "_model_module_version": "1.5.0",
            "value": " 1000/1000 [00:33&lt;00:00, 29.86it/s]",
            "_view_count": null,
            "_view_module_version": "1.5.0",
            "description_tooltip": null,
            "_model_module": "@jupyter-widgets/controls",
            "layout": "IPY_MODEL_dcd30f4dd4454c46952f40179461eaf9"
          }
        },
        "c34464c0328f4c71afb4d1bdc56a44cd": {
          "model_module": "@jupyter-widgets/controls",
          "model_name": "ProgressStyleModel",
          "state": {
            "_view_name": "StyleView",
            "_model_name": "ProgressStyleModel",
            "description_width": "initial",
            "_view_module": "@jupyter-widgets/base",
            "_model_module_version": "1.5.0",
            "_view_count": null,
            "_view_module_version": "1.2.0",
            "bar_color": null,
            "_model_module": "@jupyter-widgets/controls"
          }
        },
        "dbc3b76c2c0241f0b3b57bd587e91f83": {
          "model_module": "@jupyter-widgets/base",
          "model_name": "LayoutModel",
          "state": {
            "_view_name": "LayoutView",
            "grid_template_rows": null,
            "right": null,
            "justify_content": null,
            "_view_module": "@jupyter-widgets/base",
            "overflow": null,
            "_model_module_version": "1.2.0",
            "_view_count": null,
            "flex_flow": null,
            "width": null,
            "min_width": null,
            "border": null,
            "align_items": null,
            "bottom": null,
            "_model_module": "@jupyter-widgets/base",
            "top": null,
            "grid_column": null,
            "overflow_y": null,
            "overflow_x": null,
            "grid_auto_flow": null,
            "grid_area": null,
            "grid_template_columns": null,
            "flex": null,
            "_model_name": "LayoutModel",
            "justify_items": null,
            "grid_row": null,
            "max_height": null,
            "align_content": null,
            "visibility": null,
            "align_self": null,
            "height": null,
            "min_height": null,
            "padding": null,
            "grid_auto_rows": null,
            "grid_gap": null,
            "max_width": null,
            "order": null,
            "_view_module_version": "1.2.0",
            "grid_template_areas": null,
            "object_position": null,
            "object_fit": null,
            "grid_auto_columns": null,
            "margin": null,
            "display": null,
            "left": null
          }
        },
        "47bd8e72666e4392a2611f72e54ec905": {
          "model_module": "@jupyter-widgets/controls",
          "model_name": "DescriptionStyleModel",
          "state": {
            "_view_name": "StyleView",
            "_model_name": "DescriptionStyleModel",
            "description_width": "",
            "_view_module": "@jupyter-widgets/base",
            "_model_module_version": "1.5.0",
            "_view_count": null,
            "_view_module_version": "1.2.0",
            "_model_module": "@jupyter-widgets/controls"
          }
        },
        "dcd30f4dd4454c46952f40179461eaf9": {
          "model_module": "@jupyter-widgets/base",
          "model_name": "LayoutModel",
          "state": {
            "_view_name": "LayoutView",
            "grid_template_rows": null,
            "right": null,
            "justify_content": null,
            "_view_module": "@jupyter-widgets/base",
            "overflow": null,
            "_model_module_version": "1.2.0",
            "_view_count": null,
            "flex_flow": null,
            "width": null,
            "min_width": null,
            "border": null,
            "align_items": null,
            "bottom": null,
            "_model_module": "@jupyter-widgets/base",
            "top": null,
            "grid_column": null,
            "overflow_y": null,
            "overflow_x": null,
            "grid_auto_flow": null,
            "grid_area": null,
            "grid_template_columns": null,
            "flex": null,
            "_model_name": "LayoutModel",
            "justify_items": null,
            "grid_row": null,
            "max_height": null,
            "align_content": null,
            "visibility": null,
            "align_self": null,
            "height": null,
            "min_height": null,
            "padding": null,
            "grid_auto_rows": null,
            "grid_gap": null,
            "max_width": null,
            "order": null,
            "_view_module_version": "1.2.0",
            "grid_template_areas": null,
            "object_position": null,
            "object_fit": null,
            "grid_auto_columns": null,
            "margin": null,
            "display": null,
            "left": null
          }
        }
      }
    }
  },
  "cells": [
    {
      "cell_type": "markdown",
      "metadata": {
        "id": "view-in-github",
        "colab_type": "text"
      },
      "source": [
        "<a href=\"https://colab.research.google.com/github/skywalker0803r/pa_0510/blob/V3/notebook/lstsq_algorithm.ipynb\" target=\"_parent\"><img src=\"https://colab.research.google.com/assets/colab-badge.svg\" alt=\"Open In Colab\"/></a>"
      ]
    },
    {
      "cell_type": "code",
      "metadata": {
        "colab": {
          "base_uri": "https://localhost:8080/",
          "height": 204
        },
        "id": "ETPkCydi97gu",
        "outputId": "643bdb21-ce39-4d3b-9749-26954499a6e6"
      },
      "source": [
        "import pandas as pd\n",
        "import numpy as np\n",
        "\n",
        "df_path = '/content/drive/MyDrive/南亞PA廠/cleaned_data/train_cleaned.csv'\n",
        "tag_path = '/content/drive/MyDrive/南亞PA廠/cleaned_data/tag_cleaned.csv'\n",
        "df = pd.read_csv(df_path,index_col=0)\n",
        "tag = pd.read_csv(tag_path,index_col=0)\n",
        "tag.head()"
      ],
      "execution_count": 136,
      "outputs": [
        {
          "output_type": "execute_result",
          "data": {
            "text/html": [
              "<div>\n",
              "<style scoped>\n",
              "    .dataframe tbody tr th:only-of-type {\n",
              "        vertical-align: middle;\n",
              "    }\n",
              "\n",
              "    .dataframe tbody tr th {\n",
              "        vertical-align: top;\n",
              "    }\n",
              "\n",
              "    .dataframe thead th {\n",
              "        text-align: right;\n",
              "    }\n",
              "</style>\n",
              "<table border=\"1\" class=\"dataframe\">\n",
              "  <thead>\n",
              "    <tr style=\"text-align: right;\">\n",
              "      <th></th>\n",
              "      <th>item</th>\n",
              "      <th>TAG</th>\n",
              "      <th>chinese</th>\n",
              "      <th>character</th>\n",
              "      <th>unit</th>\n",
              "      <th>category</th>\n",
              "      <th>period</th>\n",
              "      <th>min</th>\n",
              "      <th>max</th>\n",
              "      <th>推測顯著性(依製程經驗)</th>\n",
              "    </tr>\n",
              "  </thead>\n",
              "  <tbody>\n",
              "    <tr>\n",
              "      <th>0</th>\n",
              "      <td>1.0</td>\n",
              "      <td>MLPAP_TJC-0627.PV</td>\n",
              "      <td>OX預熱器出口溫度</td>\n",
              "      <td>溫度</td>\n",
              "      <td>℃</td>\n",
              "      <td>可控制因子</td>\n",
              "      <td>1分鐘2筆</td>\n",
              "      <td>145</td>\n",
              "      <td>160</td>\n",
              "      <td>***</td>\n",
              "    </tr>\n",
              "    <tr>\n",
              "      <th>1</th>\n",
              "      <td>2.0</td>\n",
              "      <td>MLPAP_TRC-0610.PV</td>\n",
              "      <td>空氣預熱器出口溫度</td>\n",
              "      <td>溫度</td>\n",
              "      <td>℃</td>\n",
              "      <td>可控制因子</td>\n",
              "      <td>1分鐘2筆</td>\n",
              "      <td>160</td>\n",
              "      <td>200</td>\n",
              "      <td>***</td>\n",
              "    </tr>\n",
              "    <tr>\n",
              "      <th>2</th>\n",
              "      <td>3.0</td>\n",
              "      <td>MLPAP_FR-0632.PV</td>\n",
              "      <td>汽機風量</td>\n",
              "      <td>流量</td>\n",
              "      <td>KNM3/HR</td>\n",
              "      <td>可控制因子</td>\n",
              "      <td>1分鐘2筆</td>\n",
              "      <td>64</td>\n",
              "      <td>85.4</td>\n",
              "      <td>****</td>\n",
              "    </tr>\n",
              "    <tr>\n",
              "      <th>3</th>\n",
              "      <td>4.0</td>\n",
              "      <td>MLPAP_FQ-0619.PV</td>\n",
              "      <td>OX入料量</td>\n",
              "      <td>流量</td>\n",
              "      <td>kg/HR</td>\n",
              "      <td>可控制因子</td>\n",
              "      <td>1分鐘2筆</td>\n",
              "      <td>2000</td>\n",
              "      <td>8000</td>\n",
              "      <td>****</td>\n",
              "    </tr>\n",
              "    <tr>\n",
              "      <th>4</th>\n",
              "      <td>5.0</td>\n",
              "      <td>MLPAP_TJC-0757A.PV</td>\n",
              "      <td>反應槽鹽浴溫度</td>\n",
              "      <td>溫度</td>\n",
              "      <td>℃</td>\n",
              "      <td>可控制因子</td>\n",
              "      <td>1分鐘2筆</td>\n",
              "      <td>345</td>\n",
              "      <td>365</td>\n",
              "      <td>****</td>\n",
              "    </tr>\n",
              "  </tbody>\n",
              "</table>\n",
              "</div>"
            ],
            "text/plain": [
              "   item                 TAG    chinese  ...   min   max 推測顯著性(依製程經驗)\n",
              "0   1.0   MLPAP_TJC-0627.PV  OX預熱器出口溫度  ...   145   160          ***\n",
              "1   2.0   MLPAP_TRC-0610.PV  空氣預熱器出口溫度  ...   160   200          ***\n",
              "2   3.0    MLPAP_FR-0632.PV       汽機風量  ...    64  85.4         ****\n",
              "3   4.0    MLPAP_FQ-0619.PV      OX入料量  ...  2000  8000         ****\n",
              "4   5.0  MLPAP_TJC-0757A.PV    反應槽鹽浴溫度  ...   345   365         ****\n",
              "\n",
              "[5 rows x 10 columns]"
            ]
          },
          "metadata": {
            "tags": []
          },
          "execution_count": 136
        }
      ]
    },
    {
      "cell_type": "markdown",
      "metadata": {
        "id": "tg-_lbB0Abmw"
      },
      "source": [
        "# INPUT"
      ]
    },
    {
      "cell_type": "code",
      "metadata": {
        "colab": {
          "base_uri": "https://localhost:8080/",
          "height": 80
        },
        "id": "hnEM9y5yAOC1",
        "outputId": "30c09c0d-b88e-41fe-89f1-d4fcc4c4fb5a"
      },
      "source": [
        "tag[tag.TAG.str.contains('0619.PV')]"
      ],
      "execution_count": 137,
      "outputs": [
        {
          "output_type": "execute_result",
          "data": {
            "text/html": [
              "<div>\n",
              "<style scoped>\n",
              "    .dataframe tbody tr th:only-of-type {\n",
              "        vertical-align: middle;\n",
              "    }\n",
              "\n",
              "    .dataframe tbody tr th {\n",
              "        vertical-align: top;\n",
              "    }\n",
              "\n",
              "    .dataframe thead th {\n",
              "        text-align: right;\n",
              "    }\n",
              "</style>\n",
              "<table border=\"1\" class=\"dataframe\">\n",
              "  <thead>\n",
              "    <tr style=\"text-align: right;\">\n",
              "      <th></th>\n",
              "      <th>item</th>\n",
              "      <th>TAG</th>\n",
              "      <th>chinese</th>\n",
              "      <th>character</th>\n",
              "      <th>unit</th>\n",
              "      <th>category</th>\n",
              "      <th>period</th>\n",
              "      <th>min</th>\n",
              "      <th>max</th>\n",
              "      <th>推測顯著性(依製程經驗)</th>\n",
              "    </tr>\n",
              "  </thead>\n",
              "  <tbody>\n",
              "    <tr>\n",
              "      <th>3</th>\n",
              "      <td>4.0</td>\n",
              "      <td>MLPAP_FQ-0619.PV</td>\n",
              "      <td>OX入料量</td>\n",
              "      <td>流量</td>\n",
              "      <td>kg/HR</td>\n",
              "      <td>可控制因子</td>\n",
              "      <td>1分鐘2筆</td>\n",
              "      <td>2000</td>\n",
              "      <td>8000</td>\n",
              "      <td>****</td>\n",
              "    </tr>\n",
              "  </tbody>\n",
              "</table>\n",
              "</div>"
            ],
            "text/plain": [
              "   item               TAG chinese character  ... period   min   max 推測顯著性(依製程經驗)\n",
              "3   4.0  MLPAP_FQ-0619.PV   OX入料量        流量  ...  1分鐘2筆  2000  8000         ****\n",
              "\n",
              "[1 rows x 10 columns]"
            ]
          },
          "metadata": {
            "tags": []
          },
          "execution_count": 137
        }
      ]
    },
    {
      "cell_type": "markdown",
      "metadata": {
        "id": "O0WiCx5mAc3V"
      },
      "source": [
        "# OUTPUT"
      ]
    },
    {
      "cell_type": "code",
      "metadata": {
        "colab": {
          "base_uri": "https://localhost:8080/",
          "height": 80
        },
        "id": "SqshaWy0AaaD",
        "outputId": "f67bd2ba-4266-44f7-e0a1-97ba06e0390f"
      },
      "source": [
        "tag[tag.TAG.str.contains('0997.PV')]"
      ],
      "execution_count": 138,
      "outputs": [
        {
          "output_type": "execute_result",
          "data": {
            "text/html": [
              "<div>\n",
              "<style scoped>\n",
              "    .dataframe tbody tr th:only-of-type {\n",
              "        vertical-align: middle;\n",
              "    }\n",
              "\n",
              "    .dataframe tbody tr th {\n",
              "        vertical-align: top;\n",
              "    }\n",
              "\n",
              "    .dataframe thead th {\n",
              "        text-align: right;\n",
              "    }\n",
              "</style>\n",
              "<table border=\"1\" class=\"dataframe\">\n",
              "  <thead>\n",
              "    <tr style=\"text-align: right;\">\n",
              "      <th></th>\n",
              "      <th>item</th>\n",
              "      <th>TAG</th>\n",
              "      <th>chinese</th>\n",
              "      <th>character</th>\n",
              "      <th>unit</th>\n",
              "      <th>category</th>\n",
              "      <th>period</th>\n",
              "      <th>min</th>\n",
              "      <th>max</th>\n",
              "      <th>推測顯著性(依製程經驗)</th>\n",
              "    </tr>\n",
              "  </thead>\n",
              "  <tbody>\n",
              "    <tr>\n",
              "      <th>25</th>\n",
              "      <td>26.0</td>\n",
              "      <td>MLPAP_FQI-0997.PV</td>\n",
              "      <td>粗PA出料量</td>\n",
              "      <td>流量</td>\n",
              "      <td>KG/HR</td>\n",
              "      <td>不可控制因子</td>\n",
              "      <td>1分鐘2筆</td>\n",
              "      <td>2000</td>\n",
              "      <td>8800</td>\n",
              "      <td>***</td>\n",
              "    </tr>\n",
              "  </tbody>\n",
              "</table>\n",
              "</div>"
            ],
            "text/plain": [
              "    item                TAG chinese character  ... period   min   max 推測顯著性(依製程經驗)\n",
              "25  26.0  MLPAP_FQI-0997.PV  粗PA出料量        流量  ...  1分鐘2筆  2000  8800          ***\n",
              "\n",
              "[1 rows x 10 columns]"
            ]
          },
          "metadata": {
            "tags": []
          },
          "execution_count": 138
        }
      ]
    },
    {
      "cell_type": "markdown",
      "metadata": {
        "id": "LUWXjC6qA3qK"
      },
      "source": [
        "# columns"
      ]
    },
    {
      "cell_type": "code",
      "metadata": {
        "colab": {
          "base_uri": "https://localhost:8080/"
        },
        "id": "sKxbWnxLBlhG",
        "outputId": "44251549-c7e2-481c-b1a4-c8296922c270"
      },
      "source": [
        "x_col = tag[tag.TAG.str.contains('0619.PV')].TAG.tolist()\n",
        "y_col = tag[tag.TAG.str.contains('0997.PV')].TAG.tolist()\n",
        "x_col,y_col"
      ],
      "execution_count": 139,
      "outputs": [
        {
          "output_type": "execute_result",
          "data": {
            "text/plain": [
              "(['MLPAP_FQ-0619.PV'], ['MLPAP_FQI-0997.PV'])"
            ]
          },
          "metadata": {
            "tags": []
          },
          "execution_count": 139
        }
      ]
    },
    {
      "cell_type": "markdown",
      "metadata": {
        "id": "LDcqujxhQ7ez"
      },
      "source": [
        "# visualization"
      ]
    },
    {
      "cell_type": "code",
      "metadata": {
        "colab": {
          "base_uri": "https://localhost:8080/",
          "height": 282
        },
        "id": "3_TrvVOIEIsW",
        "outputId": "963b1439-0523-41a9-f358-717a67d990bf"
      },
      "source": [
        "import matplotlib.pyplot as plt\n",
        "import seaborn as sns\n",
        "\n",
        "for i in range(10):\n",
        "  d = df.sample(1000,random_state=i)\n",
        "  plt.scatter(d[x_col[0]].values,d[y_col[0]].values,label=str(i))\n",
        "plt.xlabel(x_col[0])\n",
        "plt.ylabel(y_col[0])\n",
        "plt.legend()\n",
        "plt.show()"
      ],
      "execution_count": 140,
      "outputs": [
        {
          "output_type": "display_data",
          "data": {
            "image/png": "[encoded data removed]",
            "text/plain": [
              "<Figure size 432x288 with 1 Axes>"
            ]
          },
          "metadata": {
            "tags": [],
            "needs_background": "light"
          }
        }
      ]
    },
    {
      "cell_type": "code",
      "metadata": {
        "colab": {
          "base_uri": "https://localhost:8080/",
          "height": 117,
          "referenced_widgets": [
            "06f1d187dfab485dba93178677432595",
            "dca13875246d4ceaa865368d606bc783",
            "c658a35c8e4d430c8cee764737c9aa27",
            "f96f3f35399446d5ad4986b2b1a724ac",
            "c34464c0328f4c71afb4d1bdc56a44cd",
            "dbc3b76c2c0241f0b3b57bd587e91f83",
            "47bd8e72666e4392a2611f72e54ec905",
            "dcd30f4dd4454c46952f40179461eaf9"
          ]
        },
        "id": "Qg3oC48hItuc",
        "outputId": "4dcd6e55-beec-4052-d43e-c3112784da1e"
      },
      "source": [
        "from numpy.linalg import inv\n",
        "from tqdm import tqdm_notebook as tqdm\n",
        "w_list = []\n",
        "b_list = []\n",
        "for i in tqdm(range(1000)):\n",
        "  d = df[x_col+y_col].dropna(axis=0).sample(1000,random_state=i)\n",
        "  A = d[x_col]\n",
        "  A['bias'] = 1\n",
        "  A = A.values\n",
        "  b = d[y_col].values\n",
        "  w = inv(A.T@A)@A.T@b\n",
        "  w_list.extend(w[0])\n",
        "  b_list.extend(w[1])"
      ],
      "execution_count": 141,
      "outputs": [
        {
          "output_type": "stream",
          "text": [
            "/usr/local/lib/python3.6/dist-packages/ipykernel_launcher.py:5: TqdmDeprecationWarning: This function will be removed in tqdm==5.0.0\n",
            "Please use `tqdm.notebook.tqdm` instead of `tqdm.tqdm_notebook`\n",
            "  \"\"\"\n"
          ],
          "name": "stderr"
        },
        {
          "output_type": "display_data",
          "data": {
            "application/vnd.jupyter.widget-view+json": {
              "model_id": "06f1d187dfab485dba93178677432595",
              "version_minor": 0,
              "version_major": 2
            },
            "text/plain": [
              "HBox(children=(FloatProgress(value=0.0, max=1000.0), HTML(value='')))"
            ]
          },
          "metadata": {
            "tags": []
          }
        },
        {
          "output_type": "stream",
          "text": [
            "\n"
          ],
          "name": "stdout"
        }
      ]
    },
    {
      "cell_type": "code",
      "metadata": {
        "colab": {
          "base_uri": "https://localhost:8080/",
          "height": 298
        },
        "id": "cX-sfBlxJMzy",
        "outputId": "f7565a83-edad-4ef5-93eb-e310121dd499"
      },
      "source": [
        "sns.kdeplot(w_list)\n",
        "wm = np.mean(w_list)\n",
        "plt.title('w')\n",
        "print(wm)"
      ],
      "execution_count": 142,
      "outputs": [
        {
          "output_type": "stream",
          "text": [
            "1.1575996945283165\n"
          ],
          "name": "stdout"
        },
        {
          "output_type": "display_data",
          "data": {
            "image/png": "[encoded data removed]",
            "text/plain": [
              "<Figure size 432x288 with 1 Axes>"
            ]
          },
          "metadata": {
            "tags": [],
            "needs_background": "light"
          }
        }
      ]
    },
    {
      "cell_type": "code",
      "metadata": {
        "id": "KHe11X49OyOu",
        "outputId": "5e719190-0386-4aa1-a3a6-013f0c942226",
        "colab": {
          "base_uri": "https://localhost:8080/",
          "height": 298
        }
      },
      "source": [
        "sns.kdeplot(b_list)\n",
        "bm = np.mean(b_list)\n",
        "plt.title('b')\n",
        "print(bm)"
      ],
      "execution_count": 143,
      "outputs": [
        {
          "output_type": "stream",
          "text": [
            "-416.47623385366427\n"
          ],
          "name": "stdout"
        },
        {
          "output_type": "display_data",
          "data": {
            "image/png": "[encoded data removed]",
            "text/plain": [
              "<Figure size 432x288 with 1 Axes>"
            ]
          },
          "metadata": {
            "tags": [],
            "needs_background": "light"
          }
        }
      ]
    },
    {
      "cell_type": "code",
      "metadata": {
        "id": "yZ0xS1TMKaMS",
        "outputId": "d492b1d4-3fb4-4c23-f45b-f6e573351989",
        "colab": {
          "base_uri": "https://localhost:8080/",
          "height": 280
        }
      },
      "source": [
        "x = np.linspace(2000,8000,1000)\n",
        "y = x*wm+bm\n",
        "plt.plot(x,y)\n",
        "for i in range(10):\n",
        "  d = df.sample(1000,random_state=i)\n",
        "  plt.scatter(d[x_col[0]].values,d[y_col[0]].values,label=str(i))\n",
        "plt.xlabel(x_col[0])\n",
        "plt.ylabel(y_col[0])\n",
        "plt.legend()\n",
        "plt.show()"
      ],
      "execution_count": 144,
      "outputs": [
        {
          "output_type": "display_data",
          "data": {
            "image/png": "[encoded data removed]",
            "text/plain": [
              "<Figure size 432x288 with 1 Axes>"
            ]
          },
          "metadata": {
            "tags": [],
            "needs_background": "light"
          }
        }
      ]
    },
    {
      "cell_type": "markdown",
      "metadata": {
        "id": "pIS3VK1lQYMf"
      },
      "source": [
        "# class F"
      ]
    },
    {
      "cell_type": "code",
      "metadata": {
        "id": "KPRaUwjMM24P",
        "outputId": "e2b054e2-d906-48bd-cbba-e7a188c590ff",
        "colab": {
          "base_uri": "https://localhost:8080/"
        }
      },
      "source": [
        "class F(object):\n",
        "  def __init__(self,w,b):\n",
        "    self.w = w\n",
        "    self.b = b\n",
        "  def __call__(self,x):\n",
        "    return x*self.w+self.b\n",
        "\n",
        "f = F(wm,bm)\n",
        "d = df[x_col+y_col].dropna(axis=0).sample(1000)\n",
        "x = d[x_col[0]].values\n",
        "y = d[y_col[0]].values\n",
        "y_hat = f(x)\n",
        "\n",
        "from sklearn.metrics import r2_score\n",
        "r2_score(y,y_hat)"
      ],
      "execution_count": 147,
      "outputs": [
        {
          "output_type": "execute_result",
          "data": {
            "text/plain": [
              "0.9727951406670563"
            ]
          },
          "metadata": {
            "tags": []
          },
          "execution_count": 147
        }
      ]
    },
    {
      "cell_type": "code",
      "metadata": {
        "id": "0I8oTkiiQFzt"
      },
      "source": [
        ""
      ],
      "execution_count": null,
      "outputs": []
    }
  ]
}