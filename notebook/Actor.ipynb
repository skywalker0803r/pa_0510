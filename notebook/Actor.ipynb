{
 "cells": [
  {
   "cell_type": "code",
   "execution_count": 1,
   "metadata": {},
   "outputs": [
    {
     "data": {
      "text/plain": [
       "['Critic.pkl', 'PAagent.pkl']"
      ]
     },
     "execution_count": 1,
     "metadata": {},
     "output_type": "execute_result"
    }
   ],
   "source": [
    "import pandas as pd\n",
    "import joblib\n",
    "import numpy as np\n",
    "import pandas as pd\n",
    "from torch import nn\n",
    "import torch\n",
    "import os\n",
    "import torch.optim as optim\n",
    "import warnings \n",
    "from utils import *\n",
    "warnings.simplefilter('ignore')\n",
    "from torch.nn import Linear,ReLU,Sigmoid\n",
    "torch.cuda.is_available()\n",
    "os.listdir('../model')"
   ]
  },
  {
   "cell_type": "code",
   "execution_count": 2,
   "metadata": {},
   "outputs": [
    {
     "data": {
      "text/plain": [
       "['dataset.pkl',\n",
       " 'PA_201605-2020001更新R8(20200423).csv',\n",
       " 'tag盤點表20200423.xlsx',\n",
       " 'PA_201605-2020001更新R9(20200508).csv',\n",
       " 'train_cleaned.csv',\n",
       " 'tag_cleaned.csv']"
      ]
     },
     "execution_count": 2,
     "metadata": {},
     "output_type": "execute_result"
    }
   ],
   "source": [
    "os.listdir('../data')"
   ]
  },
  {
   "cell_type": "code",
   "execution_count": 3,
   "metadata": {},
   "outputs": [],
   "source": [
    "tag = pd.read_csv('../data/tag_cleaned.csv')\n",
    "tag_map = dict(zip(tag.TAG,tag.chinese))"
   ]
  },
  {
   "cell_type": "markdown",
   "metadata": {},
   "source": [
    "# load critic and data"
   ]
  },
  {
   "cell_type": "code",
   "execution_count": 4,
   "metadata": {},
   "outputs": [],
   "source": [
    "critic = joblib.load('../model/Critic.pkl').eval()"
   ]
  },
  {
   "cell_type": "code",
   "execution_count": 5,
   "metadata": {},
   "outputs": [
    {
     "data": {
      "text/plain": [
       "dict_keys(['state', 'action', 'output', 'stream', 'idx', 'mm_state', 'mm_action', 'mm_output', 'mm_stream', 'state_col', 'action_col', 'output_col', 'stream_col'])"
      ]
     },
     "execution_count": 5,
     "metadata": {},
     "output_type": "execute_result"
    }
   ],
   "source": [
    "data = joblib.load('../data/dataset.pkl')\n",
    "data.keys()"
   ]
  },
  {
   "cell_type": "markdown",
   "metadata": {},
   "source": [
    "# data iter"
   ]
  },
  {
   "cell_type": "code",
   "execution_count": 6,
   "metadata": {},
   "outputs": [
    {
     "data": {
      "text/plain": [
       "(torch.Size([127660, 1]), torch.Size([127660, 1]))"
      ]
     },
     "execution_count": 6,
     "metadata": {},
     "output_type": "execute_result"
    }
   ],
   "source": [
    "state = torch.FloatTensor(data['state']).cuda()\n",
    "request = torch.FloatTensor(np.random.uniform(0,1,size=(state.shape[0],1))).cuda()\n",
    "state.shape,request.shape"
   ]
  },
  {
   "cell_type": "code",
   "execution_count": 7,
   "metadata": {},
   "outputs": [],
   "source": [
    "train = torch.utils.data.TensorDataset(state,request)\n",
    "train_iter = torch.utils.data.DataLoader(train, batch_size=256, shuffle=True)"
   ]
  },
  {
   "cell_type": "markdown",
   "metadata": {},
   "source": [
    "# Construct the neural network"
   ]
  },
  {
   "cell_type": "code",
   "execution_count": 8,
   "metadata": {},
   "outputs": [
    {
     "data": {
      "text/plain": [
       "(127660, 36, 11)"
      ]
     },
     "execution_count": 8,
     "metadata": {},
     "output_type": "execute_result"
    }
   ],
   "source": [
    "data['action'].shape"
   ]
  },
  {
   "cell_type": "code",
   "execution_count": 9,
   "metadata": {},
   "outputs": [],
   "source": [
    "class Actor(nn.Module):\n",
    "    def __init__(self):\n",
    "        super().__init__()\n",
    "        self.time_step = 36\n",
    "        self.num_sensor = 11\n",
    "        self.flat_size = self.time_step*self.num_sensor\n",
    "        self.fc = nn.Sequential(nn.Linear(2,128),nn.ReLU(),nn.Linear(128,self.flat_size))\n",
    "        \n",
    "    def forward(self,state,request):\n",
    "        action = self.fc(torch.cat((state,request),dim=1))\n",
    "        action = action.view(-1,self.time_step,self.num_sensor)\n",
    "        return F.sigmoid(action)"
   ]
  },
  {
   "cell_type": "code",
   "execution_count": 10,
   "metadata": {},
   "outputs": [],
   "source": [
    "def init_weights(m):\n",
    "    if hasattr(m,'weight'):\n",
    "        try:\n",
    "            torch.nn.init.xavier_uniform(m.weight)\n",
    "        except:\n",
    "            pass\n",
    "    \n",
    "    if hasattr(m,'bias'):\n",
    "        try:\n",
    "            m.bias.data.fill_(0)\n",
    "        except:\n",
    "            pass"
   ]
  },
  {
   "cell_type": "code",
   "execution_count": 11,
   "metadata": {},
   "outputs": [
    {
     "data": {
      "text/plain": [
       "Actor(\n",
       "  (fc): Sequential(\n",
       "    (0): Linear(in_features=2, out_features=128, bias=True)\n",
       "    (1): ReLU()\n",
       "    (2): Linear(in_features=128, out_features=396, bias=True)\n",
       "  )\n",
       ")"
      ]
     },
     "execution_count": 11,
     "metadata": {},
     "output_type": "execute_result"
    }
   ],
   "source": [
    "net = Actor().cuda()\n",
    "net.apply(init_weights)"
   ]
  },
  {
   "cell_type": "markdown",
   "metadata": {},
   "source": [
    "# forward test"
   ]
  },
  {
   "cell_type": "code",
   "execution_count": 12,
   "metadata": {},
   "outputs": [
    {
     "name": "stdout",
     "output_type": "stream",
     "text": [
      "torch.Size([127660, 36, 11])\n"
     ]
    }
   ],
   "source": [
    "print(net(state,request).shape)"
   ]
  },
  {
   "cell_type": "markdown",
   "metadata": {},
   "source": [
    "# objective"
   ]
  },
  {
   "cell_type": "code",
   "execution_count": 13,
   "metadata": {},
   "outputs": [],
   "source": [
    "time_step = 36\n",
    "num_sensor = 11"
   ]
  },
  {
   "cell_type": "code",
   "execution_count": 14,
   "metadata": {},
   "outputs": [],
   "source": [
    "loss_history = {}\n",
    "loss_history['loss1'] = []\n",
    "loss_history['loss2'] = []\n",
    "loss_history['loss3'] = []\n",
    "loss_history['loss4'] = []\n",
    "loss_history['loss5'] = []"
   ]
  },
  {
   "cell_type": "code",
   "execution_count": 15,
   "metadata": {},
   "outputs": [],
   "source": [
    "def obj_function(action,state,request):\n",
    "    output,stream = critic(state,action)\n",
    "    \n",
    "    # 滿足使用者需求\n",
    "    loss1 = ((request - output)**2).mean()\n",
    "    \n",
    "    # 最小化蒸氣量\n",
    "    loss2 = (stream**2).mean()\n",
    "    \n",
    "    # 入料跟出料質量平衡\n",
    "    feed = action.reshape(-1,time_step,num_sensor)[:,:,0]\n",
    "    loss3 = ((0.6*feed - request)**2).mean()\n",
    "    \n",
    "    # 避免鹽浴溫差太大\n",
    "    temp_1 = action.reshape(-1,time_step,num_sensor)[:,:,4]\n",
    "    temp_2 = action.reshape(-1,time_step,num_sensor)[:,:,-1]\n",
    "    loss4 = ((temp_1 - temp_2)**2).mean()\n",
    "    \n",
    "    # 避免變異數太大(時間軸上)\n",
    "    loss5 = action.reshape(-1,time_step,num_sensor).std(axis=1)\n",
    "    loss5 = loss5.sum(axis=-1).mean(axis=0) # instance wise => batch wise\n",
    "    \n",
    "    # 紀錄\n",
    "    loss_history['loss1'].append(loss1.item())\n",
    "    loss_history['loss2'].append(loss2.item())\n",
    "    loss_history['loss3'].append(loss3.item())\n",
    "    loss_history['loss4'].append(loss4.item())\n",
    "    loss_history['loss5'].append(loss5.item())\n",
    "    \n",
    "    return loss1 + loss2 + loss3 + loss4 + loss5"
   ]
  },
  {
   "cell_type": "code",
   "execution_count": 16,
   "metadata": {},
   "outputs": [
    {
     "data": {
      "text/plain": [
       "tensor(0.8761, device='cuda:0', grad_fn=<AddBackward0>)"
      ]
     },
     "execution_count": 16,
     "metadata": {},
     "output_type": "execute_result"
    }
   ],
   "source": [
    "obj_function(net(state,request),state,request)"
   ]
  },
  {
   "cell_type": "markdown",
   "metadata": {},
   "source": [
    "# optimizer"
   ]
  },
  {
   "cell_type": "code",
   "execution_count": 17,
   "metadata": {},
   "outputs": [],
   "source": [
    "optimizer = optim.Adam(net.parameters(),lr=1e-4)"
   ]
  },
  {
   "cell_type": "markdown",
   "metadata": {},
   "source": [
    "# train loop"
   ]
  },
  {
   "cell_type": "code",
   "execution_count": 18,
   "metadata": {},
   "outputs": [],
   "source": [
    "def train(net,train_iter,obj_function,optimizer,num_epochs=100):\n",
    "    train_history = []\n",
    "    for epoch in range(num_epochs):\n",
    "        train_avg_loss = 0\n",
    "        t = 0\n",
    "        \n",
    "        for state,request in train_iter:\n",
    "            action = net(state,request)\n",
    "            loss = obj_function(action,state,request)\n",
    "            loss.backward()\n",
    "            optimizer.step()\n",
    "            optimizer.zero_grad()\n",
    "            train_avg_loss += loss.item()\n",
    "            t += 1\n",
    "        \n",
    "        train_avg_loss /= t\n",
    "        print(\"epochs {} loss {:.4f}\".format(epoch,train_avg_loss))\n",
    "        train_history.append(train_avg_loss)\n",
    "    \n",
    "    # plt train loss\n",
    "    plt.plot(np.array(train_history))\n",
    "    plt.title('train loss')\n",
    "    return net"
   ]
  },
  {
   "cell_type": "code",
   "execution_count": 19,
   "metadata": {},
   "outputs": [
    {
     "name": "stdout",
     "output_type": "stream",
     "text": [
      "epochs 0 loss 0.6410\n",
      "epochs 1 loss 0.3201\n",
      "epochs 2 loss 0.2156\n",
      "epochs 3 loss 0.1747\n",
      "epochs 4 loss 0.1470\n",
      "epochs 5 loss 0.1281\n",
      "epochs 6 loss 0.1141\n",
      "epochs 7 loss 0.1028\n",
      "epochs 8 loss 0.0933\n",
      "epochs 9 loss 0.0853\n"
     ]
    },
    {
     "data": {
      "image/png": "[encoded data removed]",
      "text/plain": [
       "<Figure size 432x288 with 1 Axes>"
      ]
     },
     "metadata": {
      "needs_background": "light"
     },
     "output_type": "display_data"
    }
   ],
   "source": [
    "actor = train(net,train_iter,obj_function,optimizer,num_epochs=10)"
   ]
  },
  {
   "cell_type": "code",
   "execution_count": 20,
   "metadata": {},
   "outputs": [
    {
     "data": {
      "image/png": "[encoded data removed]",
      "text/plain": [
       "<Figure size 432x288 with 1 Axes>"
      ]
     },
     "metadata": {
      "needs_background": "light"
     },
     "output_type": "display_data"
    }
   ],
   "source": [
    "for k,v in loss_history.items():\n",
    "    plt.plot(pd.Series(v).rolling(5).mean(),label=k)\n",
    "plt.legend()\n",
    "plt.show()"
   ]
  },
  {
   "cell_type": "markdown",
   "metadata": {},
   "source": [
    "# build api"
   ]
  },
  {
   "cell_type": "code",
   "execution_count": 21,
   "metadata": {},
   "outputs": [],
   "source": [
    "class PA_ROBOT:\n",
    "    def __init__(self):\n",
    "        self.mm_output = data['mm_output']\n",
    "        self.mm_stream = data['mm_stream']\n",
    "        self.mm_state = data['mm_state']\n",
    "        self.mm_action = data['mm_action']\n",
    "        self.action_col = data['action_col']\n",
    "        self.tag_map = tag_map\n",
    "        self.actor = actor\n",
    "        self.critic = critic\n",
    "    \n",
    "    def get_advice(self,state,request):\n",
    "        # sacle inputs\n",
    "        request = self.mm_output.transform([[request]])\n",
    "        state = self.mm_state.transform([[state]])\n",
    "        \n",
    "        # tensor input\n",
    "        request = torch.FloatTensor([request]).cuda().reshape(-1,1)\n",
    "        state = torch.FloatTensor([state]).cuda().reshape(-1,1)\n",
    "        \n",
    "        # actor forward\n",
    "        action = self.actor(state,request)\n",
    "        \n",
    "        # critic forward\n",
    "        output,stream = self.critic(state,action)\n",
    "        output = output.detach().cpu().numpy()\n",
    "        stream = stream.detach().cpu().numpy()\n",
    "        output = self.mm_output.inverse_transform(output)\n",
    "        stream = self.mm_stream.inverse_transform(stream)\n",
    "        \n",
    "        action = action.detach().cpu().numpy()\n",
    "        action = np.array([self.mm_action.inverse_transform(i) for i in action]).squeeze(0)\n",
    "        advice = pd.DataFrame(index = self.action_col)\n",
    "        advice['chinese'] = advice.index.map(self.tag_map) \n",
    "        advice['mean'] = action.mean(axis=0)\n",
    "        advice['max'] = action.max(axis=0)\n",
    "        advice['min'] = action.min(axis=0)\n",
    "        \n",
    "        return advice,output,stream"
   ]
  },
  {
   "cell_type": "code",
   "execution_count": 22,
   "metadata": {},
   "outputs": [],
   "source": [
    "robot = PA_ROBOT()"
   ]
  },
  {
   "cell_type": "code",
   "execution_count": 23,
   "metadata": {},
   "outputs": [
    {
     "name": "stdout",
     "output_type": "stream",
     "text": [
      "output: [[7652.9795]] stream: [[15971.109]]\n"
     ]
    },
    {
     "data": {
      "text/html": [
       "<div>\n",
       "<style scoped>\n",
       "    .dataframe tbody tr th:only-of-type {\n",
       "        vertical-align: middle;\n",
       "    }\n",
       "\n",
       "    .dataframe tbody tr th {\n",
       "        vertical-align: top;\n",
       "    }\n",
       "\n",
       "    .dataframe thead th {\n",
       "        text-align: right;\n",
       "    }\n",
       "</style>\n",
       "<table border=\"1\" class=\"dataframe\">\n",
       "  <thead>\n",
       "    <tr style=\"text-align: right;\">\n",
       "      <th></th>\n",
       "      <th>chinese</th>\n",
       "      <th>mean</th>\n",
       "      <th>max</th>\n",
       "      <th>min</th>\n",
       "    </tr>\n",
       "  </thead>\n",
       "  <tbody>\n",
       "    <tr>\n",
       "      <th>MLPAP_FQ-0619.PV</th>\n",
       "      <td>OX入料量</td>\n",
       "      <td>6795.212891</td>\n",
       "      <td>6795.632324</td>\n",
       "      <td>6794.666016</td>\n",
       "    </tr>\n",
       "    <tr>\n",
       "      <th>MLPAP_TJC-0627.PV</th>\n",
       "      <td>OX預熱器出口溫度</td>\n",
       "      <td>145.730652</td>\n",
       "      <td>145.732071</td>\n",
       "      <td>145.729721</td>\n",
       "    </tr>\n",
       "    <tr>\n",
       "      <th>MLPAP_TRC-0610.PV</th>\n",
       "      <td>空氣預熱器出口溫度</td>\n",
       "      <td>160.676743</td>\n",
       "      <td>160.677032</td>\n",
       "      <td>160.676529</td>\n",
       "    </tr>\n",
       "    <tr>\n",
       "      <th>MLPAP_FR-0632.PV</th>\n",
       "      <td>汽機風量</td>\n",
       "      <td>83.912849</td>\n",
       "      <td>83.913269</td>\n",
       "      <td>83.912384</td>\n",
       "    </tr>\n",
       "    <tr>\n",
       "      <th>MLPAP_TJC-0757A.PV</th>\n",
       "      <td>反應槽鹽浴溫度</td>\n",
       "      <td>351.827820</td>\n",
       "      <td>351.829620</td>\n",
       "      <td>351.826416</td>\n",
       "    </tr>\n",
       "    <tr>\n",
       "      <th>MLPAP_PIC-0761.PV</th>\n",
       "      <td>鹽浴冷卻器(E112)出口壓力</td>\n",
       "      <td>49.657234</td>\n",
       "      <td>49.657257</td>\n",
       "      <td>49.657230</td>\n",
       "    </tr>\n",
       "    <tr>\n",
       "      <th>MLPAP_TJC-1721.PV</th>\n",
       "      <td>轉換式冷凝器冷油溫度</td>\n",
       "      <td>62.152466</td>\n",
       "      <td>62.154320</td>\n",
       "      <td>62.151943</td>\n",
       "    </tr>\n",
       "    <tr>\n",
       "      <th>MLPAP_TRC-1734.PV</th>\n",
       "      <td>轉換式冷凝器熱油溫度</td>\n",
       "      <td>191.226074</td>\n",
       "      <td>191.228058</td>\n",
       "      <td>191.222519</td>\n",
       "    </tr>\n",
       "    <tr>\n",
       "      <th>MLPAP_TRC-0747.PV</th>\n",
       "      <td>E220出口溫度</td>\n",
       "      <td>108.577782</td>\n",
       "      <td>108.582611</td>\n",
       "      <td>108.576752</td>\n",
       "    </tr>\n",
       "    <tr>\n",
       "      <th>MLPAP_TJ-0757B.PV</th>\n",
       "      <td>反應槽鹽浴溫度</td>\n",
       "      <td>347.564697</td>\n",
       "      <td>347.565857</td>\n",
       "      <td>347.563995</td>\n",
       "    </tr>\n",
       "    <tr>\n",
       "      <th>濃度</th>\n",
       "      <td>NaN</td>\n",
       "      <td>319829.375000</td>\n",
       "      <td>319930.937500</td>\n",
       "      <td>319753.750000</td>\n",
       "    </tr>\n",
       "  </tbody>\n",
       "</table>\n",
       "</div>"
      ],
      "text/plain": [
       "                            chinese           mean            max  \\\n",
       "MLPAP_FQ-0619.PV              OX入料量    6795.212891    6795.632324   \n",
       "MLPAP_TJC-0627.PV         OX預熱器出口溫度     145.730652     145.732071   \n",
       "MLPAP_TRC-0610.PV         空氣預熱器出口溫度     160.676743     160.677032   \n",
       "MLPAP_FR-0632.PV               汽機風量      83.912849      83.913269   \n",
       "MLPAP_TJC-0757A.PV          反應槽鹽浴溫度     351.827820     351.829620   \n",
       "MLPAP_PIC-0761.PV   鹽浴冷卻器(E112)出口壓力      49.657234      49.657257   \n",
       "MLPAP_TJC-1721.PV        轉換式冷凝器冷油溫度      62.152466      62.154320   \n",
       "MLPAP_TRC-1734.PV        轉換式冷凝器熱油溫度     191.226074     191.228058   \n",
       "MLPAP_TRC-0747.PV          E220出口溫度     108.577782     108.582611   \n",
       "MLPAP_TJ-0757B.PV           反應槽鹽浴溫度     347.564697     347.565857   \n",
       "濃度                              NaN  319829.375000  319930.937500   \n",
       "\n",
       "                              min  \n",
       "MLPAP_FQ-0619.PV      6794.666016  \n",
       "MLPAP_TJC-0627.PV      145.729721  \n",
       "MLPAP_TRC-0610.PV      160.676529  \n",
       "MLPAP_FR-0632.PV        83.912384  \n",
       "MLPAP_TJC-0757A.PV     351.826416  \n",
       "MLPAP_PIC-0761.PV       49.657230  \n",
       "MLPAP_TJC-1721.PV       62.151943  \n",
       "MLPAP_TRC-1734.PV      191.222519  \n",
       "MLPAP_TRC-0747.PV      108.576752  \n",
       "MLPAP_TJ-0757B.PV      347.563995  \n",
       "濃度                  319753.750000  "
      ]
     },
     "execution_count": 23,
     "metadata": {},
     "output_type": "execute_result"
    }
   ],
   "source": [
    "advice,output,stream = robot.get_advice(0.5,8000)\n",
    "print('output:',output,'stream:',stream)\n",
    "advice"
   ]
  },
  {
   "cell_type": "code",
   "execution_count": 24,
   "metadata": {},
   "outputs": [
    {
     "name": "stdout",
     "output_type": "stream",
     "text": [
      "[[0.8879173]]\n"
     ]
    }
   ],
   "source": [
    "print(advice.loc['MLPAP_FQ-0619.PV','mean']/output)"
   ]
  },
  {
   "cell_type": "markdown",
   "metadata": {},
   "source": [
    "# save"
   ]
  },
  {
   "cell_type": "code",
   "execution_count": 25,
   "metadata": {},
   "outputs": [
    {
     "data": {
      "text/plain": [
       "['../model/PAagent.pkl']"
      ]
     },
     "execution_count": 25,
     "metadata": {},
     "output_type": "execute_result"
    }
   ],
   "source": [
    "joblib.dump(robot,'../model/PAagent.pkl')"
   ]
  },
  {
   "cell_type": "code",
   "execution_count": null,
   "metadata": {},
   "outputs": [],
   "source": []
  }
 ],
 "metadata": {
  "kernelspec": {
   "display_name": "Python 3",
   "language": "python",
   "name": "python3"
  },
  "language_info": {
   "codemirror_mode": {
    "name": "ipython",
    "version": 3
   },
   "file_extension": ".py",
   "mimetype": "text/x-python",
   "name": "python",
   "nbconvert_exporter": "python",
   "pygments_lexer": "ipython3",
   "version": "3.7.6"
  }
 },
 "nbformat": 4,
 "nbformat_minor": 2
}
