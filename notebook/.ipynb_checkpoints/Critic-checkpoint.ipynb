{
 "cells": [
  {
   "cell_type": "code",
   "execution_count": 1,
   "metadata": {},
   "outputs": [
    {
     "data": {
      "text/plain": [
       "['dataset.pkl',\n",
       " 'PA_201605-2020001更新R9(20200508).csv',\n",
       " 'tag_cleaned.csv',\n",
       " 'tag盤點表20200423.xlsx',\n",
       " 'train_cleaned.csv']"
      ]
     },
     "execution_count": 1,
     "metadata": {},
     "output_type": "execute_result"
    }
   ],
   "source": [
    "import pandas as pd\n",
    "import numpy as np\n",
    "import torch.nn.functional as F\n",
    "import warnings\n",
    "warnings.simplefilter('ignore')\n",
    "import torchviz\n",
    "import seaborn as sns\n",
    "import matplotlib.pyplot as plt\n",
    "from tqdm import tqdm_notebook as tqdm\n",
    "from torch.utils.tensorboard import SummaryWriter\n",
    "import torch\n",
    "import torch.nn as nn\n",
    "import torch.utils.data as Data\n",
    "import torchvision\n",
    "import joblib\n",
    "import os\n",
    "from sklearn.preprocessing import StandardScaler\n",
    "import time\n",
    "def get_col(df,name):\n",
    "    return df.columns[df.columns.str.contains(name)].tolist()\n",
    "os.listdir('../data')"
   ]
  },
  {
   "cell_type": "markdown",
   "metadata": {},
   "source": [
    "# load data"
   ]
  },
  {
   "cell_type": "code",
   "execution_count": 2,
   "metadata": {},
   "outputs": [],
   "source": [
    "tag = pd.read_csv('../data/tag_cleaned.csv',index_col=0)\n",
    "tag = tag.loc[tag.category=='可控制因子']"
   ]
  },
  {
   "cell_type": "code",
   "execution_count": 3,
   "metadata": {},
   "outputs": [
    {
     "data": {
      "text/plain": [
       "dict_keys(['d', 'a', 'v', 'idx', 'mm_d', 'mm_a', 'mm_v', 'd_col', 'a_col', 'v_col'])"
      ]
     },
     "execution_count": 3,
     "metadata": {},
     "output_type": "execute_result"
    }
   ],
   "source": [
    "data = joblib.load('../data/dataset.pkl')\n",
    "data.keys()"
   ]
  },
  {
   "cell_type": "markdown",
   "metadata": {},
   "source": [
    "# tensor data"
   ]
  },
  {
   "cell_type": "code",
   "execution_count": 4,
   "metadata": {},
   "outputs": [],
   "source": [
    "d = torch.FloatTensor(data['d']).cuda()\n",
    "a = torch.FloatTensor(data['a']).cuda()\n",
    "v = torch.FloatTensor(data['v']).cuda()"
   ]
  },
  {
   "cell_type": "markdown",
   "metadata": {},
   "source": [
    "# split data"
   ]
  },
  {
   "cell_type": "code",
   "execution_count": 5,
   "metadata": {},
   "outputs": [
    {
     "name": "stdout",
     "output_type": "stream",
     "text": [
      "108398 121948\n"
     ]
    }
   ],
   "source": [
    "sp1 = int(len(d)*0.8)\n",
    "sp2 = int(len(d)*0.9)\n",
    "print(sp1,sp2)"
   ]
  },
  {
   "cell_type": "markdown",
   "metadata": {},
   "source": [
    "# data_iter"
   ]
  },
  {
   "cell_type": "code",
   "execution_count": 6,
   "metadata": {},
   "outputs": [],
   "source": [
    "train = torch.utils.data.TensorDataset(d[:sp1],a[:sp1],v[:sp1])\n",
    "valid = torch.utils.data.TensorDataset(d[sp1:sp2],a[sp1:sp2],v[sp1:sp2])\n",
    "test = torch.utils.data.TensorDataset(d[sp2:],a[sp2:],v[sp2:])\n",
    "\n",
    "train_iter = torch.utils.data.DataLoader(train, batch_size=256, shuffle=True)\n",
    "valid_iter = torch.utils.data.DataLoader(valid, batch_size=256, shuffle=True)"
   ]
  },
  {
   "cell_type": "code",
   "execution_count": 7,
   "metadata": {},
   "outputs": [
    {
     "name": "stdout",
     "output_type": "stream",
     "text": [
      "torch.Size([135498, 36, 13])\n"
     ]
    }
   ],
   "source": [
    "print(a.shape)\n",
    "time_step = a.shape[1]\n",
    "num_sensor = a.shape[2]"
   ]
  },
  {
   "cell_type": "markdown",
   "metadata": {},
   "source": [
    "# Construct the neural network"
   ]
  },
  {
   "cell_type": "code",
   "execution_count": 8,
   "metadata": {},
   "outputs": [],
   "source": [
    "class panet(nn.Module):\n",
    "    def __init__(self):\n",
    "        super().__init__()\n",
    "        self.time_step = time_step\n",
    "        self.num_sensor = num_sensor\n",
    "        self.flat_size = time_step*num_sensor\n",
    "        \n",
    "        self.w = nn.Sequential(nn.Linear(self.flat_size,128),# 操作條件 -> 權重\n",
    "                               nn.ReLU(),\n",
    "                               nn.Linear(128,time_step))\n",
    "        \n",
    "        self.b = nn.Sequential(nn.Linear(self.flat_size,128),# 操作條件 -> 偏移\n",
    "                               nn.ReLU(),\n",
    "                               nn.Linear(128,1))\n",
    "        \n",
    "        self.p = nn.Linear(1,1,bias=False) # 入料/出料 比例\n",
    "        \n",
    "    def forward(self,d,a):\n",
    "        feed,factor = self.fetch(a) #把入料和其他因子分開\n",
    "        W = F.softmax(self.w(a.view(-1,self.flat_size))**2,dim=1) #全部因子丟進去算權重\n",
    "        b = self.b(a.view(-1,self.flat_size)) #全部因子丟進去算偏移\n",
    "        WX = torch.sum(feed*W,dim=1).view(-1,1) #入料跟權重做內積\n",
    "        output = self.p(WX) + b #類似線性回歸\n",
    "        return F.sigmoid(output) #限縮到正常範圍內\n",
    "        \n",
    "    def fetch(self,a):\n",
    "        batch_size = a.shape[0]\n",
    "        feed = a[:,:,0]\n",
    "        factor = a[:,:,1:].reshape(batch_size,-1)\n",
    "        return feed,factor"
   ]
  },
  {
   "cell_type": "code",
   "execution_count": 9,
   "metadata": {},
   "outputs": [],
   "source": [
    "def init_weights(m):\n",
    "    if hasattr(m,'weight'):\n",
    "        try:\n",
    "            torch.nn.init.xavier_uniform(m.weight)\n",
    "        except:\n",
    "            pass\n",
    "    if hasattr(m,'bias'):\n",
    "        try:\n",
    "            m.bias.data.fill_(0)\n",
    "        except:\n",
    "            pass"
   ]
  },
  {
   "cell_type": "code",
   "execution_count": 10,
   "metadata": {},
   "outputs": [
    {
     "data": {
      "text/plain": [
       "panet(\n",
       "  (w): Sequential(\n",
       "    (0): Linear(in_features=468, out_features=128, bias=True)\n",
       "    (1): ReLU()\n",
       "    (2): Linear(in_features=128, out_features=36, bias=True)\n",
       "  )\n",
       "  (b): Sequential(\n",
       "    (0): Linear(in_features=468, out_features=128, bias=True)\n",
       "    (1): ReLU()\n",
       "    (2): Linear(in_features=128, out_features=1, bias=True)\n",
       "  )\n",
       "  (p): Linear(in_features=1, out_features=1, bias=False)\n",
       ")"
      ]
     },
     "execution_count": 10,
     "metadata": {},
     "output_type": "execute_result"
    }
   ],
   "source": [
    "net = panet().cuda()\n",
    "net.apply(init_weights)"
   ]
  },
  {
   "cell_type": "markdown",
   "metadata": {},
   "source": [
    "# forward test"
   ]
  },
  {
   "cell_type": "code",
   "execution_count": 11,
   "metadata": {},
   "outputs": [
    {
     "data": {
      "text/plain": [
       "tensor([[0.2804],\n",
       "        [0.2804],\n",
       "        [0.2807],\n",
       "        ...,\n",
       "        [0.3046],\n",
       "        [0.3050],\n",
       "        [0.3056]], device='cuda:0', grad_fn=<SigmoidBackward>)"
      ]
     },
     "execution_count": 11,
     "metadata": {},
     "output_type": "execute_result"
    }
   ],
   "source": [
    "net(d,a)"
   ]
  },
  {
   "cell_type": "markdown",
   "metadata": {},
   "source": [
    "# tensorboard"
   ]
  },
  {
   "cell_type": "code",
   "execution_count": 27,
   "metadata": {},
   "outputs": [],
   "source": [
    "with SummaryWriter(comment='Net')as w:\n",
    "    w.add_graph(net, (test.tensors[0:2]))"
   ]
  },
  {
   "cell_type": "markdown",
   "metadata": {},
   "source": [
    "# loss and opt"
   ]
  },
  {
   "cell_type": "code",
   "execution_count": 28,
   "metadata": {},
   "outputs": [],
   "source": [
    "optimizer = torch.optim.Adam(net.parameters(),lr=1e-4)\n",
    "loss_function = nn.MSELoss()"
   ]
  },
  {
   "cell_type": "markdown",
   "metadata": {},
   "source": [
    "# train and eval"
   ]
  },
  {
   "cell_type": "code",
   "execution_count": 29,
   "metadata": {},
   "outputs": [],
   "source": [
    "def train(net,train_iter,valid_iter,loss_function,optimizer,num_epochs=100):\n",
    "    train_history = []\n",
    "    valid_history = []\n",
    "    best_loss = np.inf\n",
    "    best_net = None\n",
    "    \n",
    "    for epoch in range(num_epochs): \n",
    "        \n",
    "        # train model\n",
    "        net.train()\n",
    "        train_loss,i = 0,0\n",
    "        for d,a,v in train_iter:\n",
    "            loss = loss_function(net(d,a),v)\n",
    "            loss.backward()\n",
    "            optimizer.step()\n",
    "            optimizer.zero_grad()\n",
    "            train_loss += loss.item()\n",
    "            i += 1\n",
    "        \n",
    "        # eval model\n",
    "        with torch.no_grad():\n",
    "            net.eval()\n",
    "            val_loss,j = 0,0\n",
    "            for d,a,v in valid_iter:\n",
    "                loss = loss_function(net(d,a),v)\n",
    "                val_loss += loss.item()\n",
    "                j += 1\n",
    "        \n",
    "        # caculate avg loss\n",
    "        train_avg_loss = train_loss/i\n",
    "        val_avg_loss = val_loss/j\n",
    "        \n",
    "        # save the best model\n",
    "        if val_avg_loss <= best_loss:\n",
    "            best_loss = val_avg_loss\n",
    "            best_net = net\n",
    "            print('model record!')\n",
    "        \n",
    "        # record history and print loss of the epoch\n",
    "        train_history.append(train_avg_loss)\n",
    "        valid_history.append(val_avg_loss)\n",
    "        print(\"epochs {} train_avg_loss {:.4f} valid_avg_loss {:.4f}\".format(epoch,train_avg_loss,val_avg_loss))\n",
    "        \n",
    "    # plot result\n",
    "    print('best val_avg_loss is ',best_loss)\n",
    "    fig = plt.figure(figsize=(20,5))\n",
    "    plt.plot(np.array(train_history),label='train')\n",
    "    plt.plot(np.array(valid_history),label='valid')\n",
    "    plt.legend()\n",
    "    plt.title('loss')\n",
    "    plt.show()\n",
    "    \n",
    "    return best_net"
   ]
  },
  {
   "cell_type": "code",
   "execution_count": 30,
   "metadata": {},
   "outputs": [
    {
     "name": "stdout",
     "output_type": "stream",
     "text": [
      "model record!\n",
      "epochs 0 train_avg_loss 0.0045 valid_avg_loss 0.0060\n",
      "model record!\n",
      "epochs 1 train_avg_loss 0.0015 valid_avg_loss 0.0038\n",
      "model record!\n",
      "epochs 2 train_avg_loss 0.0011 valid_avg_loss 0.0016\n",
      "model record!\n",
      "epochs 3 train_avg_loss 0.0010 valid_avg_loss 0.0012\n",
      "epochs 4 train_avg_loss 0.0009 valid_avg_loss 0.0012\n",
      "epochs 5 train_avg_loss 0.0009 valid_avg_loss 0.0013\n",
      "model record!\n",
      "epochs 6 train_avg_loss 0.0009 valid_avg_loss 0.0012\n",
      "model record!\n",
      "epochs 7 train_avg_loss 0.0009 valid_avg_loss 0.0010\n",
      "epochs 8 train_avg_loss 0.0009 valid_avg_loss 0.0012\n",
      "epochs 9 train_avg_loss 0.0009 valid_avg_loss 0.0012\n",
      "epochs 10 train_avg_loss 0.0009 valid_avg_loss 0.0010\n",
      "epochs 11 train_avg_loss 0.0009 valid_avg_loss 0.0011\n",
      "epochs 12 train_avg_loss 0.0009 valid_avg_loss 0.0011\n",
      "model record!\n",
      "epochs 13 train_avg_loss 0.0009 valid_avg_loss 0.0010\n",
      "epochs 14 train_avg_loss 0.0009 valid_avg_loss 0.0016\n",
      "epochs 15 train_avg_loss 0.0009 valid_avg_loss 0.0013\n",
      "epochs 16 train_avg_loss 0.0009 valid_avg_loss 0.0010\n",
      "epochs 17 train_avg_loss 0.0009 valid_avg_loss 0.0012\n",
      "epochs 18 train_avg_loss 0.0009 valid_avg_loss 0.0013\n",
      "epochs 19 train_avg_loss 0.0009 valid_avg_loss 0.0010\n",
      "model record!\n",
      "epochs 20 train_avg_loss 0.0009 valid_avg_loss 0.0009\n",
      "epochs 21 train_avg_loss 0.0009 valid_avg_loss 0.0010\n",
      "epochs 22 train_avg_loss 0.0009 valid_avg_loss 0.0012\n",
      "epochs 23 train_avg_loss 0.0008 valid_avg_loss 0.0013\n",
      "epochs 24 train_avg_loss 0.0008 valid_avg_loss 0.0010\n",
      "epochs 25 train_avg_loss 0.0008 valid_avg_loss 0.0011\n",
      "epochs 26 train_avg_loss 0.0008 valid_avg_loss 0.0011\n",
      "epochs 27 train_avg_loss 0.0008 valid_avg_loss 0.0010\n",
      "epochs 28 train_avg_loss 0.0008 valid_avg_loss 0.0012\n",
      "model record!\n",
      "epochs 29 train_avg_loss 0.0008 valid_avg_loss 0.0008\n",
      "best val_avg_loss is  0.000848617482675626\n"
     ]
    },
    {
     "data": {
      "image/png": "[encoded data removed]",
      "text/plain": [
       "<Figure size 1440x360 with 1 Axes>"
      ]
     },
     "metadata": {
      "needs_background": "light"
     },
     "output_type": "display_data"
    }
   ],
   "source": [
    "net = train(net,train_iter,valid_iter,loss_function,optimizer,num_epochs=30)"
   ]
  },
  {
   "cell_type": "markdown",
   "metadata": {},
   "source": [
    "# make prediction"
   ]
  },
  {
   "cell_type": "code",
   "execution_count": 70,
   "metadata": {},
   "outputs": [
    {
     "data": {
      "text/plain": [
       "(13550,)"
      ]
     },
     "execution_count": 70,
     "metadata": {},
     "output_type": "execute_result"
    }
   ],
   "source": [
    "y_pred = net(test.tensors[0],test.tensors[1]).detach().cpu().numpy()\n",
    "y_pred = data['mm_v'].inverse_transform(y_pred).ravel()\n",
    "y_pred.shape"
   ]
  },
  {
   "cell_type": "code",
   "execution_count": 71,
   "metadata": {},
   "outputs": [
    {
     "data": {
      "text/plain": [
       "(13550,)"
      ]
     },
     "execution_count": 71,
     "metadata": {},
     "output_type": "execute_result"
    }
   ],
   "source": [
    "y_real = test.tensors[2].detach().cpu().numpy()\n",
    "y_real = data['mm_v'].inverse_transform(y_real).ravel()\n",
    "y_real.shape"
   ]
  },
  {
   "cell_type": "code",
   "execution_count": 72,
   "metadata": {},
   "outputs": [
    {
     "data": {
      "text/plain": [
       "(13550,)"
      ]
     },
     "execution_count": 72,
     "metadata": {},
     "output_type": "execute_result"
    }
   ],
   "source": [
    "feed = test.tensors[1].detach().cpu().numpy()\n",
    "temp = [data['mm_a'].inverse_transform(feed[i]) for i in range(len(feed))]\n",
    "feed = np.array(temp)[:,:,0][:,0]\n",
    "feed.shape"
   ]
  },
  {
   "cell_type": "code",
   "execution_count": 81,
   "metadata": {},
   "outputs": [
    {
     "data": {
      "text/html": [
       "<div>\n",
       "<style scoped>\n",
       "    .dataframe tbody tr th:only-of-type {\n",
       "        vertical-align: middle;\n",
       "    }\n",
       "\n",
       "    .dataframe tbody tr th {\n",
       "        vertical-align: top;\n",
       "    }\n",
       "\n",
       "    .dataframe thead th {\n",
       "        text-align: right;\n",
       "    }\n",
       "</style>\n",
       "<table border=\"1\" class=\"dataframe\">\n",
       "  <thead>\n",
       "    <tr style=\"text-align: right;\">\n",
       "      <th></th>\n",
       "      <th>0619</th>\n",
       "      <th>0997_real</th>\n",
       "      <th>0997_pred</th>\n",
       "      <th>真實單耗</th>\n",
       "      <th>預測單耗</th>\n",
       "    </tr>\n",
       "  </thead>\n",
       "  <tbody>\n",
       "    <tr>\n",
       "      <td>0</td>\n",
       "      <td>7606.520996</td>\n",
       "      <td>8354.058594</td>\n",
       "      <td>8261.627930</td>\n",
       "      <td>0.910518</td>\n",
       "      <td>0.920705</td>\n",
       "    </tr>\n",
       "    <tr>\n",
       "      <td>1</td>\n",
       "      <td>7606.520996</td>\n",
       "      <td>8354.058594</td>\n",
       "      <td>8264.270508</td>\n",
       "      <td>0.910518</td>\n",
       "      <td>0.920410</td>\n",
       "    </tr>\n",
       "    <tr>\n",
       "      <td>2</td>\n",
       "      <td>7606.520996</td>\n",
       "      <td>8354.058594</td>\n",
       "      <td>8264.678711</td>\n",
       "      <td>0.910518</td>\n",
       "      <td>0.920365</td>\n",
       "    </tr>\n",
       "    <tr>\n",
       "      <td>3</td>\n",
       "      <td>7604.869629</td>\n",
       "      <td>8348.802734</td>\n",
       "      <td>8263.273438</td>\n",
       "      <td>0.910893</td>\n",
       "      <td>0.920322</td>\n",
       "    </tr>\n",
       "    <tr>\n",
       "      <td>4</td>\n",
       "      <td>7604.869629</td>\n",
       "      <td>8348.802734</td>\n",
       "      <td>8260.157227</td>\n",
       "      <td>0.910893</td>\n",
       "      <td>0.920669</td>\n",
       "    </tr>\n",
       "  </tbody>\n",
       "</table>\n",
       "</div>"
      ],
      "text/plain": [
       "          0619    0997_real    0997_pred      真實單耗      預測單耗\n",
       "0  7606.520996  8354.058594  8261.627930  0.910518  0.920705\n",
       "1  7606.520996  8354.058594  8264.270508  0.910518  0.920410\n",
       "2  7606.520996  8354.058594  8264.678711  0.910518  0.920365\n",
       "3  7604.869629  8348.802734  8263.273438  0.910893  0.920322\n",
       "4  7604.869629  8348.802734  8260.157227  0.910893  0.920669"
      ]
     },
     "execution_count": 81,
     "metadata": {},
     "output_type": "execute_result"
    }
   ],
   "source": [
    "table = pd.DataFrame()\n",
    "table['0619'] = feed\n",
    "table['0997_real'] = y_real\n",
    "table['0997_pred'] = y_pred\n",
    "table['真實單耗'] = feed/y_real\n",
    "table['預測單耗'] = feed/y_pred\n",
    "table.head()"
   ]
  },
  {
   "cell_type": "code",
   "execution_count": 86,
   "metadata": {},
   "outputs": [
    {
     "data": {
      "text/html": [
       "<div>\n",
       "<style scoped>\n",
       "    .dataframe tbody tr th:only-of-type {\n",
       "        vertical-align: middle;\n",
       "    }\n",
       "\n",
       "    .dataframe tbody tr th {\n",
       "        vertical-align: top;\n",
       "    }\n",
       "\n",
       "    .dataframe thead th {\n",
       "        text-align: right;\n",
       "    }\n",
       "</style>\n",
       "<table border=\"1\" class=\"dataframe\">\n",
       "  <thead>\n",
       "    <tr style=\"text-align: right;\">\n",
       "      <th></th>\n",
       "      <th>R2(出料)</th>\n",
       "      <th>RMSE(單耗)</th>\n",
       "      <th>MAPE(單耗)</th>\n",
       "    </tr>\n",
       "  </thead>\n",
       "  <tbody>\n",
       "    <tr>\n",
       "      <td>0</td>\n",
       "      <td>0.855363</td>\n",
       "      <td>0.028148</td>\n",
       "      <td>1.885841</td>\n",
       "    </tr>\n",
       "  </tbody>\n",
       "</table>\n",
       "</div>"
      ],
      "text/plain": [
       "     R2(出料)  RMSE(單耗)  MAPE(單耗)\n",
       "0  0.855363  0.028148  1.885841"
      ]
     },
     "execution_count": 86,
     "metadata": {},
     "output_type": "execute_result"
    }
   ],
   "source": [
    "from sklearn.metrics import r2_score,mean_squared_error\n",
    "from math import sqrt\n",
    "\n",
    "def mape(a, b): \n",
    "    mask = a != 0\n",
    "    return (np.fabs(a - b)/a)[mask].mean()*100\n",
    "\n",
    "metric = pd.DataFrame(index=[0],columns=['R2(出料)','RMSE(單耗)','MAPE(單耗)'])\n",
    "metric['R2(出料)'] = r2_score(table['0997_real'],table['0997_pred'])\n",
    "metric['RMSE(單耗)'] = sqrt(mean_squared_error(table['真實單耗'],table['預測單耗']))\n",
    "metric['MAPE(單耗)'] = mape(table['真實單耗'],table['預測單耗'])\n",
    "metric"
   ]
  },
  {
   "cell_type": "code",
   "execution_count": 88,
   "metadata": {},
   "outputs": [
    {
     "name": "stdout",
     "output_type": "stream",
     "text": [
      "save done!\n"
     ]
    }
   ],
   "source": [
    "joblib.dump(net,'../model/Critic.pkl')\n",
    "print('save done!')"
   ]
  },
  {
   "cell_type": "code",
   "execution_count": null,
   "metadata": {},
   "outputs": [],
   "source": []
  }
 ],
 "metadata": {
  "kernelspec": {
   "display_name": "Python 3",
   "language": "python",
   "name": "python3"
  },
  "language_info": {
   "codemirror_mode": {
    "name": "ipython",
    "version": 3
   },
   "file_extension": ".py",
   "mimetype": "text/x-python",
   "name": "python",
   "nbconvert_exporter": "python",
   "pygments_lexer": "ipython3",
   "version": "3.7.4"
  }
 },
 "nbformat": 4,
 "nbformat_minor": 2
}
