{
 "cells": [
  {
   "cell_type": "code",
   "execution_count": 1,
   "metadata": {},
   "outputs": [
    {
     "data": {
      "text/plain": [
       "['dataset.pkl',\n",
       " 'PA_201605-2020001更新R8(20200423).csv',\n",
       " 'tag盤點表20200423.xlsx',\n",
       " 'PA_201605-2020001更新R9(20200508).csv',\n",
       " 'train_cleaned.csv',\n",
       " 'tag_cleaned.csv']"
      ]
     },
     "execution_count": 1,
     "metadata": {},
     "output_type": "execute_result"
    }
   ],
   "source": [
    "import pandas as pd\n",
    "import numpy as np\n",
    "import torch.nn.functional as F\n",
    "from copy import deepcopy\n",
    "import warnings\n",
    "warnings.simplefilter('ignore')\n",
    "import torchviz\n",
    "import seaborn as sns\n",
    "import matplotlib.pyplot as plt\n",
    "from tqdm import tqdm_notebook as tqdm\n",
    "from torch.utils.tensorboard import SummaryWriter\n",
    "import torch\n",
    "import torch.nn as nn\n",
    "import torch.utils.data as Data\n",
    "import torchvision\n",
    "import joblib\n",
    "import os\n",
    "from sklearn.preprocessing import StandardScaler\n",
    "import time\n",
    "def get_col(df,name):\n",
    "    return df.columns[df.columns.str.contains(name)].tolist()\n",
    "os.listdir('../data')"
   ]
  },
  {
   "cell_type": "markdown",
   "metadata": {},
   "source": [
    "# load data"
   ]
  },
  {
   "cell_type": "code",
   "execution_count": 2,
   "metadata": {},
   "outputs": [],
   "source": [
    "tag = pd.read_csv('../data/tag_cleaned.csv',index_col=0)\n",
    "tag = tag.loc[tag.category=='可控制因子']"
   ]
  },
  {
   "cell_type": "code",
   "execution_count": 3,
   "metadata": {},
   "outputs": [
    {
     "data": {
      "text/plain": [
       "dict_keys(['state', 'action', 'output', 'stream', 'idx', 'mm_state', 'mm_action', 'mm_output', 'mm_stream', 'state_col', 'action_col', 'output_col', 'stream_col'])"
      ]
     },
     "execution_count": 3,
     "metadata": {},
     "output_type": "execute_result"
    }
   ],
   "source": [
    "data = joblib.load('../data/dataset.pkl')\n",
    "data.keys()"
   ]
  },
  {
   "cell_type": "markdown",
   "metadata": {},
   "source": [
    "# tensor data"
   ]
  },
  {
   "cell_type": "code",
   "execution_count": 4,
   "metadata": {},
   "outputs": [],
   "source": [
    "state = torch.FloatTensor(data['state']).cuda()\n",
    "action = torch.FloatTensor(data['action']).cuda()\n",
    "output = torch.FloatTensor(data['output']).cuda()\n",
    "stream = torch.FloatTensor(data['stream']).cuda()"
   ]
  },
  {
   "cell_type": "markdown",
   "metadata": {},
   "source": [
    "# split data"
   ]
  },
  {
   "cell_type": "code",
   "execution_count": 5,
   "metadata": {},
   "outputs": [
    {
     "name": "stdout",
     "output_type": "stream",
     "text": [
      "102128 114894\n"
     ]
    }
   ],
   "source": [
    "sp1 = int(len(state)*0.8)\n",
    "sp2 = int(len(state)*0.9)\n",
    "print(sp1,sp2)"
   ]
  },
  {
   "cell_type": "markdown",
   "metadata": {},
   "source": [
    "# data_iter"
   ]
  },
  {
   "cell_type": "code",
   "execution_count": 6,
   "metadata": {},
   "outputs": [],
   "source": [
    "train = torch.utils.data.TensorDataset(state[:sp1],action[:sp1],output[:sp1],stream[:sp1])\n",
    "valid = torch.utils.data.TensorDataset(state[sp1:sp2],action[sp1:sp2],output[sp1:sp2],stream[sp1:sp2])\n",
    "test = torch.utils.data.TensorDataset(state[sp2:],action[sp2:],output[sp2:],stream[sp2:])\n",
    "\n",
    "train_iter = torch.utils.data.DataLoader(train, batch_size=128, shuffle=True)\n",
    "valid_iter = torch.utils.data.DataLoader(valid, batch_size=128, shuffle=True)"
   ]
  },
  {
   "cell_type": "code",
   "execution_count": 7,
   "metadata": {},
   "outputs": [
    {
     "name": "stdout",
     "output_type": "stream",
     "text": [
      "torch.Size([127660, 36, 11])\n"
     ]
    }
   ],
   "source": [
    "print(action.shape)\n",
    "time_step = action.shape[1]\n",
    "num_sensor = action.shape[2]"
   ]
  },
  {
   "cell_type": "markdown",
   "metadata": {},
   "source": [
    "# Construct the neural network"
   ]
  },
  {
   "cell_type": "code",
   "execution_count": 8,
   "metadata": {},
   "outputs": [],
   "source": [
    "class Critic(nn.Module):\n",
    "    def __init__(self):\n",
    "        super().__init__()\n",
    "        \n",
    "        self.time_step = time_step\n",
    "        self.num_sensor = num_sensor\n",
    "        self.h_size = 64\n",
    "        self.kernel_size = 36\n",
    "        \n",
    "        # output model\n",
    "        self.output_layer = nn.Sequential(nn.Linear(460,self.h_size),\n",
    "                                          nn.ReLU(),\n",
    "                                          nn.Linear(self.h_size,1),\n",
    "                                         )\n",
    "        \n",
    "        self.output_conv_layer = nn.Sequential(nn.Conv1d(self.num_sensor,\n",
    "                                                         self.h_size-1,\n",
    "                                                         kernel_size=self.kernel_size),\n",
    "                                               nn.ReLU(),\n",
    "                                              )\n",
    "        \n",
    "        # stream model\n",
    "        self.stream_layer = nn.Sequential(nn.Linear(460,self.h_size),\n",
    "                                          nn.ReLU(),\n",
    "                                          nn.Linear(self.h_size,1),\n",
    "                                         )\n",
    "        \n",
    "        self.stream_conv_layer = nn.Sequential(nn.Conv1d(self.num_sensor,\n",
    "                                                         self.h_size-1,\n",
    "                                                         kernel_size=self.kernel_size),\n",
    "                                               nn.ReLU(),\n",
    "                                              )\n",
    "        \n",
    "        \n",
    "    def forward(self,state,action):\n",
    "        \n",
    "        # get batch_size\n",
    "        batch_size = state.shape[0]\n",
    "        \n",
    "        # make features\n",
    "        state = state.reshape(batch_size,-1)\n",
    "        action_reshape = action.reshape(batch_size,-1)\n",
    "        action_output = self.output_conv_layer(action.permute(0,2,1)).reshape(batch_size,-1)\n",
    "        action_stream = self.stream_conv_layer(action.permute(0,2,1)).reshape(batch_size,-1)\n",
    "        \n",
    "        # combine features\n",
    "        combine_output = torch.cat((state,action_reshape,action_output),dim = -1)\n",
    "        combine_stream = torch.cat((state,action_reshape,action_stream),dim = -1)\n",
    "        \n",
    "        # get output and stream\n",
    "        output = self.output_layer(combine_output)\n",
    "        stream = self.stream_layer(combine_stream)\n",
    "        \n",
    "        return F.sigmoid(output),F.sigmoid(stream)"
   ]
  },
  {
   "cell_type": "code",
   "execution_count": 9,
   "metadata": {},
   "outputs": [],
   "source": [
    "def init_weights(m):\n",
    "    if hasattr(m,'weight'):\n",
    "        try:\n",
    "            torch.nn.init.xavier_uniform(m.weight)\n",
    "        except:\n",
    "            pass\n",
    "    \n",
    "    if hasattr(m,'bias'):\n",
    "        try:\n",
    "            m.bias.data.fill_(0.1)\n",
    "        except:\n",
    "            pass"
   ]
  },
  {
   "cell_type": "code",
   "execution_count": 10,
   "metadata": {},
   "outputs": [
    {
     "data": {
      "text/plain": [
       "Critic(\n",
       "  (output_layer): Sequential(\n",
       "    (0): Linear(in_features=460, out_features=64, bias=True)\n",
       "    (1): ReLU()\n",
       "    (2): Linear(in_features=64, out_features=1, bias=True)\n",
       "  )\n",
       "  (output_conv_layer): Sequential(\n",
       "    (0): Conv1d(11, 63, kernel_size=(36,), stride=(1,))\n",
       "    (1): ReLU()\n",
       "  )\n",
       "  (stream_layer): Sequential(\n",
       "    (0): Linear(in_features=460, out_features=64, bias=True)\n",
       "    (1): ReLU()\n",
       "    (2): Linear(in_features=64, out_features=1, bias=True)\n",
       "  )\n",
       "  (stream_conv_layer): Sequential(\n",
       "    (0): Conv1d(11, 63, kernel_size=(36,), stride=(1,))\n",
       "    (1): ReLU()\n",
       "  )\n",
       ")"
      ]
     },
     "execution_count": 10,
     "metadata": {},
     "output_type": "execute_result"
    }
   ],
   "source": [
    "net = Critic().cuda()\n",
    "net.apply(init_weights)"
   ]
  },
  {
   "cell_type": "markdown",
   "metadata": {},
   "source": [
    "# forward test"
   ]
  },
  {
   "cell_type": "code",
   "execution_count": 11,
   "metadata": {},
   "outputs": [
    {
     "name": "stdout",
     "output_type": "stream",
     "text": [
      "torch.Size([127660, 1])\n",
      "torch.Size([127660, 1])\n"
     ]
    }
   ],
   "source": [
    "a,b = net(state,action)\n",
    "print(a.shape)\n",
    "print(b.shape)"
   ]
  },
  {
   "cell_type": "markdown",
   "metadata": {},
   "source": [
    "# tensorboard"
   ]
  },
  {
   "cell_type": "code",
   "execution_count": 12,
   "metadata": {},
   "outputs": [],
   "source": [
    "with SummaryWriter(comment='Net')as w:\n",
    "    w.add_graph(net, (test.tensors[0:2]))"
   ]
  },
  {
   "cell_type": "markdown",
   "metadata": {},
   "source": [
    "# loss and opt"
   ]
  },
  {
   "cell_type": "code",
   "execution_count": 13,
   "metadata": {},
   "outputs": [],
   "source": [
    "optimizer = torch.optim.Adam(net.parameters(),lr=1e-3)"
   ]
  },
  {
   "cell_type": "code",
   "execution_count": 14,
   "metadata": {},
   "outputs": [],
   "source": [
    "def loss_function(output,stream,target_output,target_stream):\n",
    "    loss1 = ((output-target_output)**2).sum()\n",
    "    loss2 = ((stream-target_stream)**2).sum()\n",
    "    return loss1 + loss2"
   ]
  },
  {
   "cell_type": "markdown",
   "metadata": {},
   "source": [
    "# train and eval"
   ]
  },
  {
   "cell_type": "code",
   "execution_count": 15,
   "metadata": {},
   "outputs": [],
   "source": [
    "def train(net,train_iter,valid_iter,loss_function,optimizer,num_epochs=100):\n",
    "    train_history = []\n",
    "    valid_history = []\n",
    "    best_loss = np.inf\n",
    "    best_net = None\n",
    "    for epoch in range(num_epochs): \n",
    "        \n",
    "        # train model\n",
    "        net.train()\n",
    "        train_loss,i = 0,0\n",
    "        for state,action,output,stream in train_iter:\n",
    "            output_pred,stream_pred = net(state,action)\n",
    "            loss = loss_function(output_pred,stream_pred,output,stream)\n",
    "            train_loss += loss.item()\n",
    "            i += 1\n",
    "            \n",
    "            # update model\n",
    "            loss.backward()\n",
    "            optimizer.step()\n",
    "            optimizer.zero_grad()\n",
    "        \n",
    "        # eval model (afater update model)\n",
    "        with torch.no_grad():\n",
    "            net.eval()\n",
    "            val_loss,j = 0,0\n",
    "            for state,action,output,stream in valid_iter:\n",
    "                output_pred,stream_pred = net(state,action)\n",
    "                loss = loss_function(output_pred,stream_pred,output,stream)\n",
    "                val_loss += loss.item()\n",
    "                j += 1\n",
    "        \n",
    "        # caculate avg_loss\n",
    "        train_avg_loss = train_loss/i\n",
    "        val_avg_loss = val_loss/j\n",
    "        \n",
    "        # save the best_model\n",
    "        if val_avg_loss <= best_loss:\n",
    "            best_loss = val_avg_loss\n",
    "            best_net = deepcopy(net) #backup the model(deepcopy)\n",
    "            print('model recorded!')\n",
    "        \n",
    "        # record history and print loss of the epoch\n",
    "        train_history.append(train_avg_loss)\n",
    "        valid_history.append(val_avg_loss)\n",
    "        print(\"epochs {} train_avg_loss {:.4f} valid_avg_loss {:.4f}\".format(\n",
    "            epoch,train_avg_loss,val_avg_loss))\n",
    "        \n",
    "    # plot result\n",
    "    print('best val_avg_loss is ',best_loss)\n",
    "    \n",
    "    fig = plt.figure(figsize=(20,5))\n",
    "    plt.plot(np.array(train_history),label='train')\n",
    "    plt.plot(np.array(valid_history),label='valid')\n",
    "    plt.legend()\n",
    "    plt.title('loss')\n",
    "    plt.show()\n",
    "    \n",
    "    return best_net.eval()"
   ]
  },
  {
   "cell_type": "code",
   "execution_count": 16,
   "metadata": {},
   "outputs": [
    {
     "name": "stdout",
     "output_type": "stream",
     "text": [
      "model recorded!\n",
      "epochs 0 train_avg_loss 0.4972 valid_avg_loss 3.3524\n",
      "model recorded!\n",
      "epochs 1 train_avg_loss 0.1985 valid_avg_loss 2.4558\n",
      "model recorded!\n",
      "epochs 2 train_avg_loss 0.1718 valid_avg_loss 1.1892\n",
      "epochs 3 train_avg_loss 0.1562 valid_avg_loss 1.1895\n",
      "model recorded!\n",
      "epochs 4 train_avg_loss 0.1491 valid_avg_loss 0.6839\n",
      "model recorded!\n",
      "epochs 5 train_avg_loss 0.1363 valid_avg_loss 0.4877\n",
      "epochs 6 train_avg_loss 0.1317 valid_avg_loss 0.6165\n",
      "epochs 7 train_avg_loss 0.1287 valid_avg_loss 0.9278\n",
      "epochs 8 train_avg_loss 0.1207 valid_avg_loss 1.5988\n",
      "epochs 9 train_avg_loss 0.1188 valid_avg_loss 0.8231\n",
      "epochs 10 train_avg_loss 0.1197 valid_avg_loss 0.8914\n",
      "epochs 11 train_avg_loss 0.1154 valid_avg_loss 0.7255\n",
      "epochs 12 train_avg_loss 0.1157 valid_avg_loss 0.7575\n",
      "epochs 13 train_avg_loss 0.1121 valid_avg_loss 1.0050\n",
      "epochs 14 train_avg_loss 0.1128 valid_avg_loss 0.8509\n",
      "epochs 15 train_avg_loss 0.1088 valid_avg_loss 0.9841\n",
      "epochs 16 train_avg_loss 0.1072 valid_avg_loss 0.7693\n",
      "epochs 17 train_avg_loss 0.1087 valid_avg_loss 0.9133\n",
      "epochs 18 train_avg_loss 0.1075 valid_avg_loss 0.9610\n",
      "epochs 19 train_avg_loss 0.1085 valid_avg_loss 1.3213\n",
      "epochs 20 train_avg_loss 0.1062 valid_avg_loss 1.0684\n",
      "epochs 21 train_avg_loss 0.1062 valid_avg_loss 1.4592\n",
      "epochs 22 train_avg_loss 0.1048 valid_avg_loss 1.1416\n",
      "epochs 23 train_avg_loss 0.1051 valid_avg_loss 1.1750\n",
      "epochs 24 train_avg_loss 0.1039 valid_avg_loss 1.2947\n",
      "epochs 25 train_avg_loss 0.1037 valid_avg_loss 1.2340\n",
      "epochs 26 train_avg_loss 0.1037 valid_avg_loss 1.4306\n",
      "epochs 27 train_avg_loss 0.1035 valid_avg_loss 1.4260\n",
      "epochs 28 train_avg_loss 0.1026 valid_avg_loss 1.5793\n",
      "epochs 29 train_avg_loss 0.1030 valid_avg_loss 1.3190\n",
      "best val_avg_loss is  0.4877475091814995\n"
     ]
    },
    {
     "data": {
      "image/png": "[encoded data removed]",
      "text/plain": [
       "<Figure size 1440x360 with 1 Axes>"
      ]
     },
     "metadata": {
      "needs_background": "light"
     },
     "output_type": "display_data"
    }
   ],
   "source": [
    "net = train(net,train_iter,valid_iter,loss_function,optimizer,num_epochs=30)"
   ]
  },
  {
   "cell_type": "markdown",
   "metadata": {},
   "source": [
    "# make prediction"
   ]
  },
  {
   "cell_type": "code",
   "execution_count": 17,
   "metadata": {},
   "outputs": [],
   "source": [
    "from sklearn.metrics import r2_score,mean_squared_error\n",
    "from math import sqrt\n",
    "\n",
    "def mape(a, b): \n",
    "    mask = a != 0\n",
    "    return (np.fabs(a - b)/a)[mask].mean()*100"
   ]
  },
  {
   "cell_type": "code",
   "execution_count": 18,
   "metadata": {},
   "outputs": [],
   "source": [
    "def make_prediction(state,action,output,streamn):\n",
    "    \n",
    "    # get output\n",
    "    y_pred = net(state,action)[0].detach().cpu().numpy()\n",
    "    y_pred = data['mm_output'].inverse_transform(y_pred).ravel()\n",
    "    \n",
    "    y_real = output.detach().cpu().numpy()\n",
    "    y_real = data['mm_output'].inverse_transform(y_real).ravel()\n",
    "    \n",
    "    # get stream\n",
    "    y_pred2 = net(state,action)[1].detach().cpu().numpy()\n",
    "    y_pred2 = data['mm_stream'].inverse_transform(y_pred2).ravel()\n",
    "    \n",
    "    y_real2 = stream.detach().cpu().numpy()\n",
    "    y_real2 = data['mm_stream'].inverse_transform(y_real2).ravel()\n",
    "    \n",
    "    # add number to this table\n",
    "    table = pd.DataFrame()\n",
    "    \n",
    "    # add feed\n",
    "    feed = action.detach().cpu().numpy()\n",
    "    temp = [data['mm_action'].inverse_transform(feed[i]) for i in range(len(feed))]\n",
    "    feed = np.array(temp)[:,:,0][:,0]\n",
    "    table['0619'] = feed\n",
    "    \n",
    "    # add output\n",
    "    table['0997_real'] = y_real\n",
    "    table['0997_pred'] = y_pred\n",
    "    table['真實單耗'] = feed/y_real\n",
    "    table['預測單耗'] = feed/y_pred\n",
    "    \n",
    "    # add stream\n",
    "    table['真實蒸氣'] = y_real2\n",
    "    table['預測蒸氣'] = y_pred2\n",
    "    table['真實蒸氣單耗'] = feed/y_real2\n",
    "    table['預測蒸氣單耗'] = feed/y_pred2\n",
    "    \n",
    "    return table"
   ]
  },
  {
   "cell_type": "code",
   "execution_count": 19,
   "metadata": {},
   "outputs": [],
   "source": [
    "def make_metric(table):\n",
    "    \n",
    "    metric = pd.DataFrame(index=[0],columns=['R2(出料)','RMSE(單耗)','MAPE(單耗)'])\n",
    "    metric['R2(出料)'] = r2_score(table['0997_real'],table['0997_pred'])\n",
    "    metric['RMSE(單耗)'] = sqrt(mean_squared_error(table['真實單耗'],table['預測單耗']))\n",
    "    metric['MAPE(單耗)'] = mape(table['真實單耗'],table['預測單耗'])\n",
    "    metric.index.name = '出料'\n",
    "    \n",
    "    metric2 = pd.DataFrame(index=[0],columns=['R2(蒸氣)','RMSE(蒸氣單耗)','MAPE(蒸氣單耗)'])\n",
    "    metric2['R2(蒸氣)'] = r2_score(table['真實蒸氣'],table['預測蒸氣'])\n",
    "    metric2['RMSE(蒸氣單耗)'] = sqrt(mean_squared_error(table['真實蒸氣單耗'],table['預測蒸氣單耗']))\n",
    "    metric2['MAPE(蒸氣單耗)'] = mape(table['真實蒸氣單耗'],table['預測蒸氣單耗'])\n",
    "    metric2.index.name = '蒸氣'\n",
    "    \n",
    "    return metric,metric2"
   ]
  },
  {
   "cell_type": "markdown",
   "metadata": {},
   "source": [
    "# train metric"
   ]
  },
  {
   "cell_type": "code",
   "execution_count": 20,
   "metadata": {},
   "outputs": [
    {
     "data": {
      "text/html": [
       "<div>\n",
       "<style scoped>\n",
       "    .dataframe tbody tr th:only-of-type {\n",
       "        vertical-align: middle;\n",
       "    }\n",
       "\n",
       "    .dataframe tbody tr th {\n",
       "        vertical-align: top;\n",
       "    }\n",
       "\n",
       "    .dataframe thead th {\n",
       "        text-align: right;\n",
       "    }\n",
       "</style>\n",
       "<table border=\"1\" class=\"dataframe\">\n",
       "  <thead>\n",
       "    <tr style=\"text-align: right;\">\n",
       "      <th></th>\n",
       "      <th>R2(出料)</th>\n",
       "      <th>RMSE(單耗)</th>\n",
       "      <th>MAPE(單耗)</th>\n",
       "    </tr>\n",
       "    <tr>\n",
       "      <th>出料</th>\n",
       "      <th></th>\n",
       "      <th></th>\n",
       "      <th></th>\n",
       "    </tr>\n",
       "  </thead>\n",
       "  <tbody>\n",
       "    <tr>\n",
       "      <th>0</th>\n",
       "      <td>0.943878</td>\n",
       "      <td>0.013849</td>\n",
       "      <td>1.061953</td>\n",
       "    </tr>\n",
       "  </tbody>\n",
       "</table>\n",
       "</div>"
      ],
      "text/plain": [
       "      R2(出料)  RMSE(單耗)  MAPE(單耗)\n",
       "出料                              \n",
       "0   0.943878  0.013849  1.061953"
      ]
     },
     "execution_count": 20,
     "metadata": {},
     "output_type": "execute_result"
    }
   ],
   "source": [
    "state ,action, output, stream = train_iter.dataset.tensors\n",
    "table = make_prediction(state,action,output,stream)\n",
    "metric,metric2 = make_metric(table)\n",
    "metric"
   ]
  },
  {
   "cell_type": "code",
   "execution_count": 21,
   "metadata": {},
   "outputs": [
    {
     "data": {
      "text/html": [
       "<div>\n",
       "<style scoped>\n",
       "    .dataframe tbody tr th:only-of-type {\n",
       "        vertical-align: middle;\n",
       "    }\n",
       "\n",
       "    .dataframe tbody tr th {\n",
       "        vertical-align: top;\n",
       "    }\n",
       "\n",
       "    .dataframe thead th {\n",
       "        text-align: right;\n",
       "    }\n",
       "</style>\n",
       "<table border=\"1\" class=\"dataframe\">\n",
       "  <thead>\n",
       "    <tr style=\"text-align: right;\">\n",
       "      <th></th>\n",
       "      <th>R2(蒸氣)</th>\n",
       "      <th>RMSE(蒸氣單耗)</th>\n",
       "      <th>MAPE(蒸氣單耗)</th>\n",
       "    </tr>\n",
       "    <tr>\n",
       "      <th>蒸氣</th>\n",
       "      <th></th>\n",
       "      <th></th>\n",
       "      <th></th>\n",
       "    </tr>\n",
       "  </thead>\n",
       "  <tbody>\n",
       "    <tr>\n",
       "      <th>0</th>\n",
       "      <td>0.973348</td>\n",
       "      <td>0.001826</td>\n",
       "      <td>0.740357</td>\n",
       "    </tr>\n",
       "  </tbody>\n",
       "</table>\n",
       "</div>"
      ],
      "text/plain": [
       "      R2(蒸氣)  RMSE(蒸氣單耗)  MAPE(蒸氣單耗)\n",
       "蒸氣                                  \n",
       "0   0.973348    0.001826    0.740357"
      ]
     },
     "execution_count": 21,
     "metadata": {},
     "output_type": "execute_result"
    }
   ],
   "source": [
    "metric2"
   ]
  },
  {
   "cell_type": "markdown",
   "metadata": {},
   "source": [
    "# test metric"
   ]
  },
  {
   "cell_type": "code",
   "execution_count": 22,
   "metadata": {},
   "outputs": [
    {
     "data": {
      "text/html": [
       "<div>\n",
       "<style scoped>\n",
       "    .dataframe tbody tr th:only-of-type {\n",
       "        vertical-align: middle;\n",
       "    }\n",
       "\n",
       "    .dataframe tbody tr th {\n",
       "        vertical-align: top;\n",
       "    }\n",
       "\n",
       "    .dataframe thead th {\n",
       "        text-align: right;\n",
       "    }\n",
       "</style>\n",
       "<table border=\"1\" class=\"dataframe\">\n",
       "  <thead>\n",
       "    <tr style=\"text-align: right;\">\n",
       "      <th></th>\n",
       "      <th>R2(出料)</th>\n",
       "      <th>RMSE(單耗)</th>\n",
       "      <th>MAPE(單耗)</th>\n",
       "    </tr>\n",
       "    <tr>\n",
       "      <th>出料</th>\n",
       "      <th></th>\n",
       "      <th></th>\n",
       "      <th></th>\n",
       "    </tr>\n",
       "  </thead>\n",
       "  <tbody>\n",
       "    <tr>\n",
       "      <th>0</th>\n",
       "      <td>0.871627</td>\n",
       "      <td>0.024409</td>\n",
       "      <td>1.897221</td>\n",
       "    </tr>\n",
       "  </tbody>\n",
       "</table>\n",
       "</div>"
      ],
      "text/plain": [
       "      R2(出料)  RMSE(單耗)  MAPE(單耗)\n",
       "出料                              \n",
       "0   0.871627  0.024409  1.897221"
      ]
     },
     "execution_count": 22,
     "metadata": {},
     "output_type": "execute_result"
    }
   ],
   "source": [
    "state ,action, output, stream = test.tensors\n",
    "table = make_prediction(state,action,output,stream)\n",
    "metric,metric2 = make_metric(table)\n",
    "metric"
   ]
  },
  {
   "cell_type": "code",
   "execution_count": 23,
   "metadata": {},
   "outputs": [
    {
     "data": {
      "text/html": [
       "<div>\n",
       "<style scoped>\n",
       "    .dataframe tbody tr th:only-of-type {\n",
       "        vertical-align: middle;\n",
       "    }\n",
       "\n",
       "    .dataframe tbody tr th {\n",
       "        vertical-align: top;\n",
       "    }\n",
       "\n",
       "    .dataframe thead th {\n",
       "        text-align: right;\n",
       "    }\n",
       "</style>\n",
       "<table border=\"1\" class=\"dataframe\">\n",
       "  <thead>\n",
       "    <tr style=\"text-align: right;\">\n",
       "      <th></th>\n",
       "      <th>R2(蒸氣)</th>\n",
       "      <th>RMSE(蒸氣單耗)</th>\n",
       "      <th>MAPE(蒸氣單耗)</th>\n",
       "    </tr>\n",
       "    <tr>\n",
       "      <th>蒸氣</th>\n",
       "      <th></th>\n",
       "      <th></th>\n",
       "      <th></th>\n",
       "    </tr>\n",
       "  </thead>\n",
       "  <tbody>\n",
       "    <tr>\n",
       "      <th>0</th>\n",
       "      <td>-1.079611</td>\n",
       "      <td>0.01708</td>\n",
       "      <td>8.664125</td>\n",
       "    </tr>\n",
       "  </tbody>\n",
       "</table>\n",
       "</div>"
      ],
      "text/plain": [
       "      R2(蒸氣)  RMSE(蒸氣單耗)  MAPE(蒸氣單耗)\n",
       "蒸氣                                  \n",
       "0  -1.079611     0.01708    8.664125"
      ]
     },
     "execution_count": 23,
     "metadata": {},
     "output_type": "execute_result"
    }
   ],
   "source": [
    "metric2"
   ]
  },
  {
   "cell_type": "markdown",
   "metadata": {},
   "source": [
    "# save "
   ]
  },
  {
   "cell_type": "code",
   "execution_count": 24,
   "metadata": {},
   "outputs": [
    {
     "name": "stdout",
     "output_type": "stream",
     "text": [
      "save done!\n"
     ]
    }
   ],
   "source": [
    "joblib.dump(net,'../model/Critic.pkl')\n",
    "print('save done!')"
   ]
  },
  {
   "cell_type": "code",
   "execution_count": null,
   "metadata": {},
   "outputs": [],
   "source": []
  }
 ],
 "metadata": {
  "kernelspec": {
   "display_name": "Python 3",
   "language": "python",
   "name": "python3"
  },
  "language_info": {
   "codemirror_mode": {
    "name": "ipython",
    "version": 3
   },
   "file_extension": ".py",
   "mimetype": "text/x-python",
   "name": "python",
   "nbconvert_exporter": "python",
   "pygments_lexer": "ipython3",
   "version": "3.7.6"
  }
 },
 "nbformat": 4,
 "nbformat_minor": 2
}
