{
 "cells": [
  {
   "cell_type": "code",
   "execution_count": 1,
   "metadata": {},
   "outputs": [
    {
     "data": {
      "text/plain": [
       "['dataset.pkl',\n",
       " 'PA_201605-2020001更新R8(20200423).csv',\n",
       " 'tag盤點表20200423.xlsx',\n",
       " 'PA_201605-2020001更新R9(20200508).csv',\n",
       " 'train_cleaned.csv',\n",
       " 'tag_cleaned.csv']"
      ]
     },
     "execution_count": 1,
     "metadata": {},
     "output_type": "execute_result"
    }
   ],
   "source": [
    "import os\n",
    "import matplotlib.pyplot as plt\n",
    "import seaborn as sns\n",
    "import pandas as pd\n",
    "import warnings \n",
    "warnings.simplefilter('ignore')\n",
    "os.listdir('../data')"
   ]
  },
  {
   "cell_type": "markdown",
   "metadata": {},
   "source": [
    "# load tag"
   ]
  },
  {
   "cell_type": "code",
   "execution_count": 2,
   "metadata": {},
   "outputs": [
    {
     "data": {
      "text/html": [
       "<div>\n",
       "<style scoped>\n",
       "    .dataframe tbody tr th:only-of-type {\n",
       "        vertical-align: middle;\n",
       "    }\n",
       "\n",
       "    .dataframe tbody tr th {\n",
       "        vertical-align: top;\n",
       "    }\n",
       "\n",
       "    .dataframe thead th {\n",
       "        text-align: right;\n",
       "    }\n",
       "</style>\n",
       "<table border=\"1\" class=\"dataframe\">\n",
       "  <thead>\n",
       "    <tr style=\"text-align: right;\">\n",
       "      <th></th>\n",
       "      <th>item</th>\n",
       "      <th>TAG</th>\n",
       "      <th>chinese</th>\n",
       "      <th>character</th>\n",
       "      <th>unit</th>\n",
       "      <th>category</th>\n",
       "      <th>period</th>\n",
       "      <th>min</th>\n",
       "      <th>max</th>\n",
       "      <th>推測顯著性(依製程經驗)</th>\n",
       "    </tr>\n",
       "  </thead>\n",
       "  <tbody>\n",
       "    <tr>\n",
       "      <th>27</th>\n",
       "      <td>28.0</td>\n",
       "      <td>MLPAP_FR-0755PV(轉換後)</td>\n",
       "      <td>反應槽16K蒸氣輸出</td>\n",
       "      <td>流量</td>\n",
       "      <td>T/HR</td>\n",
       "      <td>不可控制因子</td>\n",
       "      <td>1分鐘2筆</td>\n",
       "      <td>0</td>\n",
       "      <td>25</td>\n",
       "      <td>***</td>\n",
       "    </tr>\n",
       "    <tr>\n",
       "      <th>28</th>\n",
       "      <td>29.0</td>\n",
       "      <td>MLPAP_FR-0791.PV</td>\n",
       "      <td>反應槽50K蒸氣輸出</td>\n",
       "      <td>流量</td>\n",
       "      <td>T/HR</td>\n",
       "      <td>不可控制因子</td>\n",
       "      <td>1分鐘2筆</td>\n",
       "      <td>10</td>\n",
       "      <td>35</td>\n",
       "      <td>***</td>\n",
       "    </tr>\n",
       "    <tr>\n",
       "      <th>29</th>\n",
       "      <td>30.0</td>\n",
       "      <td>MLPAP_FI-V211.PV(轉換後)</td>\n",
       "      <td>副反應槽蒸氣輸出</td>\n",
       "      <td>流量</td>\n",
       "      <td>KG/HR</td>\n",
       "      <td>不可控制因子</td>\n",
       "      <td>1分鐘2筆</td>\n",
       "      <td>0</td>\n",
       "      <td>6900</td>\n",
       "      <td>***</td>\n",
       "    </tr>\n",
       "  </tbody>\n",
       "</table>\n",
       "</div>"
      ],
      "text/plain": [
       "    item                    TAG     chinese character   unit category period  \\\n",
       "27  28.0   MLPAP_FR-0755PV(轉換後)  反應槽16K蒸氣輸出        流量   T/HR   不可控制因子  1分鐘2筆   \n",
       "28  29.0       MLPAP_FR-0791.PV  反應槽50K蒸氣輸出        流量   T/HR   不可控制因子  1分鐘2筆   \n",
       "29  30.0  MLPAP_FI-V211.PV(轉換後)    副反應槽蒸氣輸出        流量  KG/HR   不可控制因子  1分鐘2筆   \n",
       "\n",
       "   min   max 推測顯著性(依製程經驗)  \n",
       "27   0    25          ***  \n",
       "28  10    35          ***  \n",
       "29   0  6900          ***  "
      ]
     },
     "execution_count": 2,
     "metadata": {},
     "output_type": "execute_result"
    }
   ],
   "source": [
    "tag = pd.read_csv('../data/tag_cleaned.csv',index_col=0)\n",
    "tag[tag.chinese.str.contains('蒸氣') == True]"
   ]
  },
  {
   "cell_type": "code",
   "execution_count": 3,
   "metadata": {},
   "outputs": [
    {
     "data": {
      "text/html": [
       "<div>\n",
       "<style scoped>\n",
       "    .dataframe tbody tr th:only-of-type {\n",
       "        vertical-align: middle;\n",
       "    }\n",
       "\n",
       "    .dataframe tbody tr th {\n",
       "        vertical-align: top;\n",
       "    }\n",
       "\n",
       "    .dataframe thead th {\n",
       "        text-align: right;\n",
       "    }\n",
       "</style>\n",
       "<table border=\"1\" class=\"dataframe\">\n",
       "  <thead>\n",
       "    <tr style=\"text-align: right;\">\n",
       "      <th></th>\n",
       "      <th>item</th>\n",
       "      <th>TAG</th>\n",
       "      <th>chinese</th>\n",
       "      <th>character</th>\n",
       "      <th>unit</th>\n",
       "      <th>category</th>\n",
       "      <th>period</th>\n",
       "      <th>min</th>\n",
       "      <th>max</th>\n",
       "      <th>推測顯著性(依製程經驗)</th>\n",
       "    </tr>\n",
       "  </thead>\n",
       "  <tbody>\n",
       "    <tr>\n",
       "      <th>4</th>\n",
       "      <td>5.0</td>\n",
       "      <td>MLPAP_TJC-0757A.PV</td>\n",
       "      <td>反應槽鹽浴溫度</td>\n",
       "      <td>溫度</td>\n",
       "      <td>℃</td>\n",
       "      <td>可控制因子</td>\n",
       "      <td>1分鐘2筆</td>\n",
       "      <td>345</td>\n",
       "      <td>365</td>\n",
       "      <td>****</td>\n",
       "    </tr>\n",
       "    <tr>\n",
       "      <th>7</th>\n",
       "      <td>8.0</td>\n",
       "      <td>MLPAP_PIC-0761.PV</td>\n",
       "      <td>鹽浴冷卻器(E112)出口壓力</td>\n",
       "      <td>壓力</td>\n",
       "      <td>BAR</td>\n",
       "      <td>可控制因子</td>\n",
       "      <td>1分鐘2筆</td>\n",
       "      <td>40</td>\n",
       "      <td>55</td>\n",
       "      <td>***</td>\n",
       "    </tr>\n",
       "    <tr>\n",
       "      <th>8</th>\n",
       "      <td>9.0</td>\n",
       "      <td>MLPAP_TRC-0762.PV</td>\n",
       "      <td>鹽浴冷卻器(E112)入口溫度</td>\n",
       "      <td>溫度</td>\n",
       "      <td>℃</td>\n",
       "      <td>可控制因子</td>\n",
       "      <td>1分鐘2筆</td>\n",
       "      <td>345</td>\n",
       "      <td>365</td>\n",
       "      <td>***</td>\n",
       "    </tr>\n",
       "    <tr>\n",
       "      <th>88</th>\n",
       "      <td>89.0</td>\n",
       "      <td>MLPAP_TJC-0757.PV</td>\n",
       "      <td>反應器A/B側鹽浴溫度差</td>\n",
       "      <td>溫度</td>\n",
       "      <td>℃</td>\n",
       "      <td>可控制因子</td>\n",
       "      <td>1分鐘2筆</td>\n",
       "      <td>-3</td>\n",
       "      <td>3</td>\n",
       "      <td>***</td>\n",
       "    </tr>\n",
       "    <tr>\n",
       "      <th>94</th>\n",
       "      <td>5.0</td>\n",
       "      <td>MLPAP_TJ-0757B.PV</td>\n",
       "      <td>反應槽鹽浴溫度</td>\n",
       "      <td>溫度</td>\n",
       "      <td>℃</td>\n",
       "      <td>可控制因子</td>\n",
       "      <td>1分鐘2筆</td>\n",
       "      <td>345</td>\n",
       "      <td>365</td>\n",
       "      <td>****</td>\n",
       "    </tr>\n",
       "  </tbody>\n",
       "</table>\n",
       "</div>"
      ],
      "text/plain": [
       "    item                 TAG          chinese character unit category period  \\\n",
       "4    5.0  MLPAP_TJC-0757A.PV          反應槽鹽浴溫度        溫度    ℃    可控制因子  1分鐘2筆   \n",
       "7    8.0   MLPAP_PIC-0761.PV  鹽浴冷卻器(E112)出口壓力        壓力  BAR    可控制因子  1分鐘2筆   \n",
       "8    9.0   MLPAP_TRC-0762.PV  鹽浴冷卻器(E112)入口溫度        溫度    ℃    可控制因子  1分鐘2筆   \n",
       "88  89.0   MLPAP_TJC-0757.PV     反應器A/B側鹽浴溫度差        溫度    ℃    可控制因子  1分鐘2筆   \n",
       "94   5.0   MLPAP_TJ-0757B.PV          反應槽鹽浴溫度        溫度    ℃    可控制因子  1分鐘2筆   \n",
       "\n",
       "    min  max 推測顯著性(依製程經驗)  \n",
       "4   345  365         ****  \n",
       "7    40   55          ***  \n",
       "8   345  365          ***  \n",
       "88   -3    3          ***  \n",
       "94  345  365         ****  "
      ]
     },
     "execution_count": 3,
     "metadata": {},
     "output_type": "execute_result"
    }
   ],
   "source": [
    "temp_col = tag[tag.chinese.str.contains('鹽浴') == True][tag['category']=='可控制因子']\n",
    "temp_col"
   ]
  },
  {
   "cell_type": "code",
   "execution_count": 4,
   "metadata": {},
   "outputs": [
    {
     "data": {
      "text/plain": [
       "['MLPAP_TJC-0757A.PV',\n",
       " 'MLPAP_PIC-0761.PV',\n",
       " 'MLPAP_TRC-0762.PV',\n",
       " 'MLPAP_TJC-0757.PV',\n",
       " 'MLPAP_TJ-0757B.PV']"
      ]
     },
     "execution_count": 4,
     "metadata": {},
     "output_type": "execute_result"
    }
   ],
   "source": [
    "temp_col = temp_col.TAG.values.tolist()\n",
    "temp_col"
   ]
  },
  {
   "cell_type": "code",
   "execution_count": 5,
   "metadata": {},
   "outputs": [
    {
     "data": {
      "text/html": [
       "<div>\n",
       "<style scoped>\n",
       "    .dataframe tbody tr th:only-of-type {\n",
       "        vertical-align: middle;\n",
       "    }\n",
       "\n",
       "    .dataframe tbody tr th {\n",
       "        vertical-align: top;\n",
       "    }\n",
       "\n",
       "    .dataframe thead th {\n",
       "        text-align: right;\n",
       "    }\n",
       "</style>\n",
       "<table border=\"1\" class=\"dataframe\">\n",
       "  <thead>\n",
       "    <tr style=\"text-align: right;\">\n",
       "      <th></th>\n",
       "      <th>item</th>\n",
       "      <th>TAG</th>\n",
       "      <th>chinese</th>\n",
       "      <th>character</th>\n",
       "      <th>unit</th>\n",
       "      <th>category</th>\n",
       "      <th>period</th>\n",
       "      <th>min</th>\n",
       "      <th>max</th>\n",
       "      <th>推測顯著性(依製程經驗)</th>\n",
       "    </tr>\n",
       "  </thead>\n",
       "  <tbody>\n",
       "    <tr>\n",
       "      <th>25</th>\n",
       "      <td>26.0</td>\n",
       "      <td>MLPAP_FQI-0997.PV</td>\n",
       "      <td>粗PA出料量</td>\n",
       "      <td>流量</td>\n",
       "      <td>KG/HR</td>\n",
       "      <td>不可控制因子</td>\n",
       "      <td>1分鐘2筆</td>\n",
       "      <td>5000</td>\n",
       "      <td>10000</td>\n",
       "      <td>***</td>\n",
       "    </tr>\n",
       "  </tbody>\n",
       "</table>\n",
       "</div>"
      ],
      "text/plain": [
       "    item                TAG chinese character   unit category period   min  \\\n",
       "25  26.0  MLPAP_FQI-0997.PV  粗PA出料量        流量  KG/HR   不可控制因子  1分鐘2筆  5000   \n",
       "\n",
       "      max 推測顯著性(依製程經驗)  \n",
       "25  10000          ***  "
      ]
     },
     "execution_count": 5,
     "metadata": {},
     "output_type": "execute_result"
    }
   ],
   "source": [
    "tag[tag.TAG.str.contains('0997') == True]"
   ]
  },
  {
   "cell_type": "code",
   "execution_count": 6,
   "metadata": {},
   "outputs": [
    {
     "data": {
      "text/html": [
       "<div>\n",
       "<style scoped>\n",
       "    .dataframe tbody tr th:only-of-type {\n",
       "        vertical-align: middle;\n",
       "    }\n",
       "\n",
       "    .dataframe tbody tr th {\n",
       "        vertical-align: top;\n",
       "    }\n",
       "\n",
       "    .dataframe thead th {\n",
       "        text-align: right;\n",
       "    }\n",
       "</style>\n",
       "<table border=\"1\" class=\"dataframe\">\n",
       "  <thead>\n",
       "    <tr style=\"text-align: right;\">\n",
       "      <th></th>\n",
       "      <th>item</th>\n",
       "      <th>TAG</th>\n",
       "      <th>chinese</th>\n",
       "      <th>character</th>\n",
       "      <th>unit</th>\n",
       "      <th>category</th>\n",
       "      <th>period</th>\n",
       "      <th>min</th>\n",
       "      <th>max</th>\n",
       "      <th>推測顯著性(依製程經驗)</th>\n",
       "    </tr>\n",
       "  </thead>\n",
       "  <tbody>\n",
       "    <tr>\n",
       "      <th>3</th>\n",
       "      <td>4.0</td>\n",
       "      <td>MLPAP_FQ-0619.PV</td>\n",
       "      <td>OX入料量</td>\n",
       "      <td>流量</td>\n",
       "      <td>kg/HR</td>\n",
       "      <td>可控制因子</td>\n",
       "      <td>1分鐘2筆</td>\n",
       "      <td>2000</td>\n",
       "      <td>8000</td>\n",
       "      <td>****</td>\n",
       "    </tr>\n",
       "  </tbody>\n",
       "</table>\n",
       "</div>"
      ],
      "text/plain": [
       "   item               TAG chinese character   unit category period   min  \\\n",
       "3   4.0  MLPAP_FQ-0619.PV   OX入料量        流量  kg/HR    可控制因子  1分鐘2筆  2000   \n",
       "\n",
       "    max 推測顯著性(依製程經驗)  \n",
       "3  8000         ****  "
      ]
     },
     "execution_count": 6,
     "metadata": {},
     "output_type": "execute_result"
    }
   ],
   "source": [
    "tag[tag.TAG.str.contains('0619') == True]"
   ]
  },
  {
   "cell_type": "markdown",
   "metadata": {},
   "source": [
    "# load df"
   ]
  },
  {
   "cell_type": "code",
   "execution_count": 7,
   "metadata": {},
   "outputs": [
    {
     "data": {
      "text/html": [
       "<div>\n",
       "<style scoped>\n",
       "    .dataframe tbody tr th:only-of-type {\n",
       "        vertical-align: middle;\n",
       "    }\n",
       "\n",
       "    .dataframe tbody tr th {\n",
       "        vertical-align: top;\n",
       "    }\n",
       "\n",
       "    .dataframe thead th {\n",
       "        text-align: right;\n",
       "    }\n",
       "</style>\n",
       "<table border=\"1\" class=\"dataframe\">\n",
       "  <thead>\n",
       "    <tr style=\"text-align: right;\">\n",
       "      <th></th>\n",
       "      <th>MLPAP_FR-0755PV(轉換後)</th>\n",
       "      <th>MLPAP_FR-0791.PV</th>\n",
       "    </tr>\n",
       "  </thead>\n",
       "  <tbody>\n",
       "    <tr>\n",
       "      <th>count</th>\n",
       "      <td>191480.000000</td>\n",
       "      <td>139701.000000</td>\n",
       "    </tr>\n",
       "    <tr>\n",
       "      <th>mean</th>\n",
       "      <td>11.714535</td>\n",
       "      <td>29.996246</td>\n",
       "    </tr>\n",
       "    <tr>\n",
       "      <th>std</th>\n",
       "      <td>5.795241</td>\n",
       "      <td>2.471797</td>\n",
       "    </tr>\n",
       "    <tr>\n",
       "      <th>min</th>\n",
       "      <td>0.000000</td>\n",
       "      <td>11.567328</td>\n",
       "    </tr>\n",
       "    <tr>\n",
       "      <th>25%</th>\n",
       "      <td>4.654758</td>\n",
       "      <td>29.141523</td>\n",
       "    </tr>\n",
       "    <tr>\n",
       "      <th>50%</th>\n",
       "      <td>13.243394</td>\n",
       "      <td>30.330880</td>\n",
       "    </tr>\n",
       "    <tr>\n",
       "      <th>75%</th>\n",
       "      <td>16.630638</td>\n",
       "      <td>31.354757</td>\n",
       "    </tr>\n",
       "    <tr>\n",
       "      <th>max</th>\n",
       "      <td>23.088831</td>\n",
       "      <td>34.836643</td>\n",
       "    </tr>\n",
       "  </tbody>\n",
       "</table>\n",
       "</div>"
      ],
      "text/plain": [
       "       MLPAP_FR-0755PV(轉換後)  MLPAP_FR-0791.PV\n",
       "count         191480.000000     139701.000000\n",
       "mean              11.714535         29.996246\n",
       "std                5.795241          2.471797\n",
       "min                0.000000         11.567328\n",
       "25%                4.654758         29.141523\n",
       "50%               13.243394         30.330880\n",
       "75%               16.630638         31.354757\n",
       "max               23.088831         34.836643"
      ]
     },
     "execution_count": 7,
     "metadata": {},
     "output_type": "execute_result"
    }
   ],
   "source": [
    "df = pd.read_csv('../data/train_cleaned.csv',index_col=0)\n",
    "y_col = ['MLPAP_FR-0755PV(轉換後)','MLPAP_FR-0791.PV']\n",
    "df[y_col].describe()"
   ]
  },
  {
   "cell_type": "markdown",
   "metadata": {},
   "source": [
    "# total_stream corr with others"
   ]
  },
  {
   "cell_type": "code",
   "execution_count": 8,
   "metadata": {},
   "outputs": [
    {
     "data": {
      "text/plain": [
       "count    139591.000000\n",
       "mean      44226.495198\n",
       "std        5268.458119\n",
       "min       13978.628516\n",
       "25%       41200.861692\n",
       "50%       45574.576378\n",
       "75%       48101.296186\n",
       "max       49620.235443\n",
       "Name: total_stream, dtype: float64"
      ]
     },
     "execution_count": 8,
     "metadata": {},
     "output_type": "execute_result"
    }
   ],
   "source": [
    "df['total_stream'] = df[y_col[0]]*1000 + df[y_col[1]]*1000\n",
    "df['total_stream'].describe()"
   ]
  },
  {
   "cell_type": "code",
   "execution_count": 9,
   "metadata": {},
   "outputs": [
    {
     "data": {
      "text/html": [
       "<div>\n",
       "<style scoped>\n",
       "    .dataframe tbody tr th:only-of-type {\n",
       "        vertical-align: middle;\n",
       "    }\n",
       "\n",
       "    .dataframe tbody tr th {\n",
       "        vertical-align: top;\n",
       "    }\n",
       "\n",
       "    .dataframe thead th {\n",
       "        text-align: right;\n",
       "    }\n",
       "</style>\n",
       "<table border=\"1\" class=\"dataframe\">\n",
       "  <thead>\n",
       "    <tr style=\"text-align: right;\">\n",
       "      <th></th>\n",
       "      <th>total_stream</th>\n",
       "    </tr>\n",
       "  </thead>\n",
       "  <tbody>\n",
       "    <tr>\n",
       "      <th>total_stream</th>\n",
       "      <td>1.000000</td>\n",
       "    </tr>\n",
       "    <tr>\n",
       "      <th>MLPAP_FR-0755PV(轉換後)</th>\n",
       "      <td>0.876179</td>\n",
       "    </tr>\n",
       "    <tr>\n",
       "      <th>MLPAP_FQ-0619.PV</th>\n",
       "      <td>0.836927</td>\n",
       "    </tr>\n",
       "    <tr>\n",
       "      <th>MLPAP_FQI-0997.PV</th>\n",
       "      <td>0.782226</td>\n",
       "    </tr>\n",
       "    <tr>\n",
       "      <th>MLPAP_TJ-0706B11</th>\n",
       "      <td>0.751513</td>\n",
       "    </tr>\n",
       "    <tr>\n",
       "      <th>...</th>\n",
       "      <td>...</td>\n",
       "    </tr>\n",
       "    <tr>\n",
       "      <th>MLPAP_TJ-0716A02</th>\n",
       "      <td>-0.487909</td>\n",
       "    </tr>\n",
       "    <tr>\n",
       "      <th>MLPAP_TJR-0721.PV</th>\n",
       "      <td>-0.683986</td>\n",
       "    </tr>\n",
       "    <tr>\n",
       "      <th>MLPAP_TJR-0762B1.PV</th>\n",
       "      <td>NaN</td>\n",
       "    </tr>\n",
       "    <tr>\n",
       "      <th>MLPAP_TJR-0762B2.PV</th>\n",
       "      <td>NaN</td>\n",
       "    </tr>\n",
       "    <tr>\n",
       "      <th>Unnamed: 96</th>\n",
       "      <td>NaN</td>\n",
       "    </tr>\n",
       "  </tbody>\n",
       "</table>\n",
       "<p>96 rows × 1 columns</p>\n",
       "</div>"
      ],
      "text/plain": [
       "                      total_stream\n",
       "total_stream              1.000000\n",
       "MLPAP_FR-0755PV(轉換後)      0.876179\n",
       "MLPAP_FQ-0619.PV          0.836927\n",
       "MLPAP_FQI-0997.PV         0.782226\n",
       "MLPAP_TJ-0706B11          0.751513\n",
       "...                            ...\n",
       "MLPAP_TJ-0716A02         -0.487909\n",
       "MLPAP_TJR-0721.PV        -0.683986\n",
       "MLPAP_TJR-0762B1.PV            NaN\n",
       "MLPAP_TJR-0762B2.PV            NaN\n",
       "Unnamed: 96                    NaN\n",
       "\n",
       "[96 rows x 1 columns]"
      ]
     },
     "execution_count": 9,
     "metadata": {},
     "output_type": "execute_result"
    }
   ],
   "source": [
    "temp = df.corr(method='spearman')[['total_stream']]\n",
    "temp.sort_values(by='total_stream',ascending=False)"
   ]
  },
  {
   "cell_type": "markdown",
   "metadata": {},
   "source": [
    "# line plot"
   ]
  },
  {
   "cell_type": "code",
   "execution_count": 10,
   "metadata": {},
   "outputs": [],
   "source": [
    "from sklearn.preprocessing import StandardScaler,MinMaxScaler\n",
    "\n",
    "s = 0\n",
    "e = -1\n",
    "ss = MinMaxScaler()\n",
    "plot_data = ss.fit_transform(df[['MLPAP_FQ-0619.PV']+temp_col+['total_stream']])\n",
    "plot_data = plot_data[s:e,:]"
   ]
  },
  {
   "cell_type": "code",
   "execution_count": 11,
   "metadata": {},
   "outputs": [
    {
     "data": {
      "text/plain": [
       "\"\\nfig = go.Figure()\\nfig.add_trace(go.Scatter(x=[*range(len(plot_data))], y=plot_data[:,0],name='0619'))\\nfig.add_trace(go.Scatter(x=[*range(len(plot_data))], y=plot_data[:,-1],name='stream'))\\nfor idx,name in enumerate(temp_col):\\n    fig.add_trace(go.Scatter(x=[*range(len(plot_data))], y=plot_data[:,idx+1],name=name))\\nfig.show()\\n\""
      ]
     },
     "execution_count": 11,
     "metadata": {},
     "output_type": "execute_result"
    }
   ],
   "source": [
    "import plotly.graph_objects as go\n",
    "'''\n",
    "fig = go.Figure()\n",
    "fig.add_trace(go.Scatter(x=[*range(len(plot_data))], y=plot_data[:,0],name='0619'))\n",
    "fig.add_trace(go.Scatter(x=[*range(len(plot_data))], y=plot_data[:,-1],name='stream'))\n",
    "for idx,name in enumerate(temp_col):\n",
    "    fig.add_trace(go.Scatter(x=[*range(len(plot_data))], y=plot_data[:,idx+1],name=name))\n",
    "fig.show()\n",
    "'''"
   ]
  },
  {
   "cell_type": "code",
   "execution_count": null,
   "metadata": {},
   "outputs": [],
   "source": []
  }
 ],
 "metadata": {
  "kernelspec": {
   "display_name": "Python 3",
   "language": "python",
   "name": "python3"
  },
  "language_info": {
   "codemirror_mode": {
    "name": "ipython",
    "version": 3
   },
   "file_extension": ".py",
   "mimetype": "text/x-python",
   "name": "python",
   "nbconvert_exporter": "python",
   "pygments_lexer": "ipython3",
   "version": "3.7.6"
  }
 },
 "nbformat": 4,
 "nbformat_minor": 4
}
