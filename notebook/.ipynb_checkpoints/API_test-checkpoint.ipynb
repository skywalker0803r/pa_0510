{
 "cells": [
  {
   "cell_type": "code",
   "execution_count": 1,
   "metadata": {},
   "outputs": [
    {
     "data": {
      "text/plain": [
       "['Critic.pkl', 'PAagent.pkl']"
      ]
     },
     "execution_count": 1,
     "metadata": {},
     "output_type": "execute_result"
    }
   ],
   "source": [
    "import os\n",
    "from utils import *\n",
    "import joblib\n",
    "os.listdir('../model')"
   ]
  },
  {
   "cell_type": "code",
   "execution_count": 2,
   "metadata": {},
   "outputs": [],
   "source": [
    "agent = joblib.load('../model/PAagent.pkl')"
   ]
  },
  {
   "cell_type": "code",
   "execution_count": 3,
   "metadata": {},
   "outputs": [],
   "source": [
    "set_state = 0.75\n",
    "set_request = 8000"
   ]
  },
  {
   "cell_type": "code",
   "execution_count": 4,
   "metadata": {},
   "outputs": [
    {
     "name": "stdout",
     "output_type": "stream",
     "text": [
      "state 0.75\n",
      "request 8000\n",
      "output 7498.9556\n",
      "stream 15294.286\n"
     ]
    },
    {
     "data": {
      "text/html": [
       "<div>\n",
       "<style scoped>\n",
       "    .dataframe tbody tr th:only-of-type {\n",
       "        vertical-align: middle;\n",
       "    }\n",
       "\n",
       "    .dataframe tbody tr th {\n",
       "        vertical-align: top;\n",
       "    }\n",
       "\n",
       "    .dataframe thead th {\n",
       "        text-align: right;\n",
       "    }\n",
       "</style>\n",
       "<table border=\"1\" class=\"dataframe\">\n",
       "  <thead>\n",
       "    <tr style=\"text-align: right;\">\n",
       "      <th></th>\n",
       "      <th>chinese</th>\n",
       "      <th>mean</th>\n",
       "      <th>max</th>\n",
       "      <th>min</th>\n",
       "    </tr>\n",
       "  </thead>\n",
       "  <tbody>\n",
       "    <tr>\n",
       "      <th>MLPAP_FQ-0619.PV</th>\n",
       "      <td>OX入料量</td>\n",
       "      <td>6724.221191</td>\n",
       "      <td>6724.701660</td>\n",
       "      <td>6723.586914</td>\n",
       "    </tr>\n",
       "    <tr>\n",
       "      <th>MLPAP_TJC-0627.PV</th>\n",
       "      <td>OX預熱器出口溫度</td>\n",
       "      <td>145.458115</td>\n",
       "      <td>145.459503</td>\n",
       "      <td>145.457306</td>\n",
       "    </tr>\n",
       "    <tr>\n",
       "      <th>MLPAP_TRC-0610.PV</th>\n",
       "      <td>空氣預熱器出口溫度</td>\n",
       "      <td>160.496719</td>\n",
       "      <td>160.496964</td>\n",
       "      <td>160.496597</td>\n",
       "    </tr>\n",
       "    <tr>\n",
       "      <th>MLPAP_FR-0632.PV</th>\n",
       "      <td>汽機風量</td>\n",
       "      <td>84.383179</td>\n",
       "      <td>84.383507</td>\n",
       "      <td>84.382805</td>\n",
       "    </tr>\n",
       "    <tr>\n",
       "      <th>MLPAP_TJC-0757A.PV</th>\n",
       "      <td>反應槽鹽浴溫度</td>\n",
       "      <td>351.415955</td>\n",
       "      <td>351.417908</td>\n",
       "      <td>351.414398</td>\n",
       "    </tr>\n",
       "    <tr>\n",
       "      <th>MLPAP_PIC-0761.PV</th>\n",
       "      <td>鹽浴冷卻器(E112)出口壓力</td>\n",
       "      <td>49.678707</td>\n",
       "      <td>49.678715</td>\n",
       "      <td>49.678696</td>\n",
       "    </tr>\n",
       "    <tr>\n",
       "      <th>MLPAP_TJC-1721.PV</th>\n",
       "      <td>轉換式冷凝器冷油溫度</td>\n",
       "      <td>62.161663</td>\n",
       "      <td>62.163734</td>\n",
       "      <td>62.161072</td>\n",
       "    </tr>\n",
       "    <tr>\n",
       "      <th>MLPAP_TRC-1734.PV</th>\n",
       "      <td>轉換式冷凝器熱油溫度</td>\n",
       "      <td>191.719604</td>\n",
       "      <td>191.721664</td>\n",
       "      <td>191.715851</td>\n",
       "    </tr>\n",
       "    <tr>\n",
       "      <th>MLPAP_TRC-0747.PV</th>\n",
       "      <td>E220出口溫度</td>\n",
       "      <td>107.690735</td>\n",
       "      <td>107.695038</td>\n",
       "      <td>107.689735</td>\n",
       "    </tr>\n",
       "    <tr>\n",
       "      <th>MLPAP_TJ-0757B.PV</th>\n",
       "      <td>反應槽鹽浴溫度</td>\n",
       "      <td>347.227844</td>\n",
       "      <td>347.228943</td>\n",
       "      <td>347.227173</td>\n",
       "    </tr>\n",
       "  </tbody>\n",
       "</table>\n",
       "</div>"
      ],
      "text/plain": [
       "                            chinese         mean          max          min\n",
       "MLPAP_FQ-0619.PV              OX入料量  6724.221191  6724.701660  6723.586914\n",
       "MLPAP_TJC-0627.PV         OX預熱器出口溫度   145.458115   145.459503   145.457306\n",
       "MLPAP_TRC-0610.PV         空氣預熱器出口溫度   160.496719   160.496964   160.496597\n",
       "MLPAP_FR-0632.PV               汽機風量    84.383179    84.383507    84.382805\n",
       "MLPAP_TJC-0757A.PV          反應槽鹽浴溫度   351.415955   351.417908   351.414398\n",
       "MLPAP_PIC-0761.PV   鹽浴冷卻器(E112)出口壓力    49.678707    49.678715    49.678696\n",
       "MLPAP_TJC-1721.PV        轉換式冷凝器冷油溫度    62.161663    62.163734    62.161072\n",
       "MLPAP_TRC-1734.PV        轉換式冷凝器熱油溫度   191.719604   191.721664   191.715851\n",
       "MLPAP_TRC-0747.PV          E220出口溫度   107.690735   107.695038   107.689735\n",
       "MLPAP_TJ-0757B.PV           反應槽鹽浴溫度   347.227844   347.228943   347.227173"
      ]
     },
     "execution_count": 4,
     "metadata": {},
     "output_type": "execute_result"
    }
   ],
   "source": [
    "state = set_state\n",
    "request = set_request\n",
    "advice,output,stream = agent.get_advice(state,request)\n",
    "print('state',state)\n",
    "print('request',request)\n",
    "print('output',output[0][0])\n",
    "print('stream',stream[0][0])\n",
    "advice[:-1]"
   ]
  },
  {
   "cell_type": "markdown",
   "metadata": {},
   "source": [
    "# compare with real data"
   ]
  },
  {
   "cell_type": "code",
   "execution_count": 5,
   "metadata": {},
   "outputs": [
    {
     "name": "stdout",
     "output_type": "stream",
     "text": [
      "state 0.7862110013763111\n",
      "output 8000.0087890625\n"
     ]
    },
    {
     "data": {
      "text/html": [
       "<div>\n",
       "<style scoped>\n",
       "    .dataframe tbody tr th:only-of-type {\n",
       "        vertical-align: middle;\n",
       "    }\n",
       "\n",
       "    .dataframe tbody tr th {\n",
       "        vertical-align: top;\n",
       "    }\n",
       "\n",
       "    .dataframe thead th {\n",
       "        text-align: right;\n",
       "    }\n",
       "</style>\n",
       "<table border=\"1\" class=\"dataframe\">\n",
       "  <thead>\n",
       "    <tr style=\"text-align: right;\">\n",
       "      <th></th>\n",
       "      <th>chinese</th>\n",
       "      <th>mean</th>\n",
       "      <th>max</th>\n",
       "      <th>min</th>\n",
       "    </tr>\n",
       "  </thead>\n",
       "  <tbody>\n",
       "    <tr>\n",
       "      <th>MLPAP_FQ-0619.PV</th>\n",
       "      <td>OX入料量</td>\n",
       "      <td>7390.843892</td>\n",
       "      <td>7400.593018</td>\n",
       "      <td>7366.314209</td>\n",
       "    </tr>\n",
       "    <tr>\n",
       "      <th>MLPAP_TJC-0627.PV</th>\n",
       "      <td>OX預熱器出口溫度</td>\n",
       "      <td>153.992506</td>\n",
       "      <td>154.000954</td>\n",
       "      <td>153.980659</td>\n",
       "    </tr>\n",
       "    <tr>\n",
       "      <th>MLPAP_TRC-0610.PV</th>\n",
       "      <td>空氣預熱器出口溫度</td>\n",
       "      <td>184.221340</td>\n",
       "      <td>184.330620</td>\n",
       "      <td>183.745155</td>\n",
       "    </tr>\n",
       "    <tr>\n",
       "      <th>MLPAP_FR-0632.PV</th>\n",
       "      <td>汽機風量</td>\n",
       "      <td>81.913972</td>\n",
       "      <td>82.007267</td>\n",
       "      <td>81.690845</td>\n",
       "    </tr>\n",
       "    <tr>\n",
       "      <th>MLPAP_TJC-0757A.PV</th>\n",
       "      <td>反應槽鹽浴溫度</td>\n",
       "      <td>352.126391</td>\n",
       "      <td>352.130020</td>\n",
       "      <td>352.119995</td>\n",
       "    </tr>\n",
       "    <tr>\n",
       "      <th>MLPAP_PIC-0761.PV</th>\n",
       "      <td>鹽浴冷卻器(E112)出口壓力</td>\n",
       "      <td>49.300212</td>\n",
       "      <td>49.301197</td>\n",
       "      <td>49.299963</td>\n",
       "    </tr>\n",
       "    <tr>\n",
       "      <th>MLPAP_TJC-1721.PV</th>\n",
       "      <td>轉換式冷凝器冷油溫度</td>\n",
       "      <td>60.077690</td>\n",
       "      <td>60.126905</td>\n",
       "      <td>59.976233</td>\n",
       "    </tr>\n",
       "    <tr>\n",
       "      <th>MLPAP_TRC-1734.PV</th>\n",
       "      <td>轉換式冷凝器熱油溫度</td>\n",
       "      <td>180.507126</td>\n",
       "      <td>180.548889</td>\n",
       "      <td>180.439583</td>\n",
       "    </tr>\n",
       "    <tr>\n",
       "      <th>MLPAP_TRC-0747.PV</th>\n",
       "      <td>E220出口溫度</td>\n",
       "      <td>168.521236</td>\n",
       "      <td>168.600006</td>\n",
       "      <td>168.354416</td>\n",
       "    </tr>\n",
       "    <tr>\n",
       "      <th>MLPAP_TJ-0757B.PV</th>\n",
       "      <td>反應槽鹽浴溫度</td>\n",
       "      <td>351.930408</td>\n",
       "      <td>351.937775</td>\n",
       "      <td>351.917191</td>\n",
       "    </tr>\n",
       "  </tbody>\n",
       "</table>\n",
       "</div>"
      ],
      "text/plain": [
       "                            chinese         mean          max          min\n",
       "MLPAP_FQ-0619.PV              OX入料量  7390.843892  7400.593018  7366.314209\n",
       "MLPAP_TJC-0627.PV         OX預熱器出口溫度   153.992506   154.000954   153.980659\n",
       "MLPAP_TRC-0610.PV         空氣預熱器出口溫度   184.221340   184.330620   183.745155\n",
       "MLPAP_FR-0632.PV               汽機風量    81.913972    82.007267    81.690845\n",
       "MLPAP_TJC-0757A.PV          反應槽鹽浴溫度   352.126391   352.130020   352.119995\n",
       "MLPAP_PIC-0761.PV   鹽浴冷卻器(E112)出口壓力    49.300212    49.301197    49.299963\n",
       "MLPAP_TJC-1721.PV        轉換式冷凝器冷油溫度    60.077690    60.126905    59.976233\n",
       "MLPAP_TRC-1734.PV        轉換式冷凝器熱油溫度   180.507126   180.548889   180.439583\n",
       "MLPAP_TRC-0747.PV          E220出口溫度   168.521236   168.600006   168.354416\n",
       "MLPAP_TJ-0757B.PV           反應槽鹽浴溫度   351.930408   351.937775   351.917191"
      ]
     },
     "execution_count": 5,
     "metadata": {},
     "output_type": "execute_result"
    }
   ],
   "source": [
    "tag = pd.read_csv('../data/tag_cleaned.csv',index_col=0)\n",
    "tag_dict = dict(zip(tag.TAG,tag.chinese))\n",
    "data = joblib.load('../data/dataset.pkl')\n",
    "data.keys()\n",
    "\n",
    "#load real data\n",
    "state = data['mm_state'].inverse_transform(data['state'])\n",
    "action = [data['mm_action'].inverse_transform(i) for i in data['action']]\n",
    "output = data['mm_output'].inverse_transform(data['output'])\n",
    "stream = data['mm_stream'].inverse_transform(data['stream'])\n",
    "\n",
    "#calculate distance\n",
    "distance_state = (state - set_state)**2\n",
    "distance_output = (output - set_request)**2\n",
    "min_distance_idx =  np.argmin(distance_state + distance_output)\n",
    "min_distance_idx\n",
    "\n",
    "# show result\n",
    "real_output = output[min_distance_idx][0]\n",
    "real_state = state[min_distance_idx][0]\n",
    "print('state',real_state)\n",
    "print('output',real_output)\n",
    "\n",
    "real = pd.DataFrame(action[min_distance_idx],columns=data['action_col'])\n",
    "real.loc['mean'] = real.mean(axis=0)\n",
    "real.loc['max'] = real.max(axis=0)\n",
    "real.loc['min'] = real.min(axis=0)\n",
    "real = real.iloc[-3:,:].T\n",
    "real['chinese'] = real.index.map(tag_dict)\n",
    "real = real[advice.columns]\n",
    "real[:-1]"
   ]
  },
  {
   "cell_type": "code",
   "execution_count": 6,
   "metadata": {},
   "outputs": [
    {
     "name": "stdout",
     "output_type": "stream",
     "text": [
      "delta\n"
     ]
    },
    {
     "data": {
      "text/plain": [
       "<matplotlib.image.AxesImage at 0x7fc5c22cad90>"
      ]
     },
     "execution_count": 6,
     "metadata": {},
     "output_type": "execute_result"
    },
    {
     "data": {
      "image/png": "[encoded data removed]",
      "text/plain": [
       "<Figure size 432x288 with 1 Axes>"
      ]
     },
     "metadata": {
      "needs_background": "light"
     },
     "output_type": "display_data"
    }
   ],
   "source": [
    "delta = abs(advice.iloc[:,[1]] - real.iloc[:,[1]]) / real.iloc[:,[1]]\n",
    "delta = delta[:-1]\n",
    "print('delta')\n",
    "plt.imshow(delta.values,cmap='gray')"
   ]
  },
  {
   "cell_type": "code",
   "execution_count": null,
   "metadata": {},
   "outputs": [],
   "source": []
  },
  {
   "cell_type": "code",
   "execution_count": null,
   "metadata": {},
   "outputs": [],
   "source": []
  }
 ],
 "metadata": {
  "kernelspec": {
   "display_name": "Python 3",
   "language": "python",
   "name": "python3"
  },
  "language_info": {
   "codemirror_mode": {
    "name": "ipython",
    "version": 3
   },
   "file_extension": ".py",
   "mimetype": "text/x-python",
   "name": "python",
   "nbconvert_exporter": "python",
   "pygments_lexer": "ipython3",
   "version": "3.7.6"
  }
 },
 "nbformat": 4,
 "nbformat_minor": 2
}
