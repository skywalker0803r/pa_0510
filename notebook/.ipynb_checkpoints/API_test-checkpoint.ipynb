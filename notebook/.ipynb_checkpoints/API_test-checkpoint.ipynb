{
 "cells": [
  {
   "cell_type": "code",
   "execution_count": 1,
   "metadata": {},
   "outputs": [
    {
     "data": {
      "text/plain": [
       "['Critic.pkl', 'PAagent.pkl']"
      ]
     },
     "execution_count": 1,
     "metadata": {},
     "output_type": "execute_result"
    }
   ],
   "source": [
    "import os\n",
    "from utils import *\n",
    "import joblib\n",
    "os.listdir('../model')"
   ]
  },
  {
   "cell_type": "code",
   "execution_count": 2,
   "metadata": {},
   "outputs": [],
   "source": [
    "agent = joblib.load('../model/PAagent.pkl')"
   ]
  },
  {
   "cell_type": "code",
   "execution_count": 3,
   "metadata": {},
   "outputs": [
    {
     "data": {
      "text/plain": [
       "(                            chinese         mean          max          min\n",
       " MLPAP_FQ-0619.PV              OX入料量  4975.918945  5431.280273  4057.640137\n",
       " MLPAP_TRC-0747.PV          E220出口溫度   141.925827   147.288040   126.349510\n",
       " MLPAP_TJC-0757A.PV          反應槽鹽浴溫度   355.070099   357.745880   351.155579\n",
       " MLPAP_LRC-0729.PV           鍋爐水液位控制    40.426304    45.991383    33.864395\n",
       " MLPAP_LIC-0738.PV     汽鼓(V211)鍋爐水液位    39.589401    47.109421    31.245623\n",
       " MLPAP_TRC-0762.PV   鹽浴冷卻器(E112)入口溫度   354.941101   358.010254   352.941559\n",
       " MLPAP_TRC-1734.PV        轉換式冷凝器熱油溫度   181.209610   184.862122   177.761169\n",
       " MLPAP_TJC-0627.PV         OX預熱器出口溫度   150.816208   153.397369   149.893051\n",
       " MLPAP_PIC-0761.PV   鹽浴冷卻器(E112)出口壓力    45.009735    46.796093    44.075600\n",
       " MLPAP_TJ-0757B.PV           反應槽鹽浴溫度   355.253479   359.971802   353.975037\n",
       " MLPAP_FR-0632.PV               汽機風量    58.648411    66.974365    52.909569\n",
       " MLPAP_TJC-1721.PV        轉換式冷凝器冷油溫度    60.903732    62.455746    58.659149\n",
       " MLPAP_TRC-0610.PV         空氣預熱器出口溫度   180.130447   186.945541   177.197159,\n",
       " array(7164.767, dtype=float32))"
      ]
     },
     "execution_count": 3,
     "metadata": {},
     "output_type": "execute_result"
    }
   ],
   "source": [
    "agent.get_advice(7200,0.3)"
   ]
  },
  {
   "cell_type": "code",
   "execution_count": null,
   "metadata": {},
   "outputs": [],
   "source": []
  }
 ],
 "metadata": {
  "kernelspec": {
   "display_name": "Python 3",
   "language": "python",
   "name": "python3"
  },
  "language_info": {
   "codemirror_mode": {
    "name": "ipython",
    "version": 3
   },
   "file_extension": ".py",
   "mimetype": "text/x-python",
   "name": "python",
   "nbconvert_exporter": "python",
   "pygments_lexer": "ipython3",
   "version": "3.7.4"
  }
 },
 "nbformat": 4,
 "nbformat_minor": 2
}
