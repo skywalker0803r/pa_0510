{
 "cells": [
  {
   "cell_type": "code",
   "execution_count": 18,
   "metadata": {},
   "outputs": [
    {
     "data": {
      "text/plain": [
       "['Critic.pkl', 'PAagent.pkl', 'stream_lasso_weight.pkl']"
      ]
     },
     "execution_count": 18,
     "metadata": {},
     "output_type": "execute_result"
    }
   ],
   "source": [
    "import os\n",
    "from utils import *\n",
    "import joblib\n",
    "os.listdir('../model')"
   ]
  },
  {
   "cell_type": "code",
   "execution_count": 19,
   "metadata": {},
   "outputs": [
    {
     "data": {
      "text/plain": [
       "['dataset.pkl',\n",
       " 'PA_201605-2020001更新R10(20200602).csv',\n",
       " 'PA_201605-2020001更新R9(20200508).csv',\n",
       " 'tag_cleaned.csv',\n",
       " 'tag盤點表20200423.xlsx',\n",
       " 'tag盤點表20200602R1.xlsx',\n",
       " 'train_cleaned.csv']"
      ]
     },
     "execution_count": 19,
     "metadata": {},
     "output_type": "execute_result"
    }
   ],
   "source": [
    "os.listdir('../data')"
   ]
  },
  {
   "cell_type": "code",
   "execution_count": 20,
   "metadata": {},
   "outputs": [],
   "source": [
    "tag = pd.read_excel('../data/tag盤點表20200602R1.xlsx')\n",
    "tag = tag[['TAG','chinese','min','max']]\n",
    "tag = tag.set_index('TAG')"
   ]
  },
  {
   "cell_type": "code",
   "execution_count": 21,
   "metadata": {},
   "outputs": [],
   "source": [
    "agent = joblib.load('../model/PAagent.pkl')"
   ]
  },
  {
   "cell_type": "code",
   "execution_count": 22,
   "metadata": {},
   "outputs": [],
   "source": [
    "set_state = [0.75,0.75]\n",
    "set_request = 8000"
   ]
  },
  {
   "cell_type": "code",
   "execution_count": 23,
   "metadata": {},
   "outputs": [
    {
     "name": "stdout",
     "output_type": "stream",
     "text": [
      "state [0.75, 0.75]\n",
      "request 8000\n",
      "output 8399.982\n",
      "stream 34953.375\n",
      "單耗 0.8625165\n"
     ]
    },
    {
     "data": {
      "text/html": [
       "<div>\n",
       "<style scoped>\n",
       "    .dataframe tbody tr th:only-of-type {\n",
       "        vertical-align: middle;\n",
       "    }\n",
       "\n",
       "    .dataframe tbody tr th {\n",
       "        vertical-align: top;\n",
       "    }\n",
       "\n",
       "    .dataframe thead th {\n",
       "        text-align: right;\n",
       "    }\n",
       "</style>\n",
       "<table border=\"1\" class=\"dataframe\">\n",
       "  <thead>\n",
       "    <tr style=\"text-align: right;\">\n",
       "      <th></th>\n",
       "      <th>chinese</th>\n",
       "      <th>mean</th>\n",
       "      <th>max</th>\n",
       "      <th>min</th>\n",
       "      <th>超出規格</th>\n",
       "    </tr>\n",
       "  </thead>\n",
       "  <tbody>\n",
       "    <tr>\n",
       "      <td>MLPAP_FQ-0619.PV</td>\n",
       "      <td>OX入料量</td>\n",
       "      <td>7244.875488</td>\n",
       "      <td>7245.123535</td>\n",
       "      <td>7244.695312</td>\n",
       "      <td>False</td>\n",
       "    </tr>\n",
       "    <tr>\n",
       "      <td>MLPAP_TJC-0627.PV</td>\n",
       "      <td>OX預熱器出口溫度</td>\n",
       "      <td>150.859634</td>\n",
       "      <td>150.860458</td>\n",
       "      <td>150.858963</td>\n",
       "      <td>False</td>\n",
       "    </tr>\n",
       "    <tr>\n",
       "      <td>MLPAP_TRC-0610.PV</td>\n",
       "      <td>空氣預熱器出口溫度</td>\n",
       "      <td>180.053665</td>\n",
       "      <td>180.057968</td>\n",
       "      <td>180.051132</td>\n",
       "      <td>False</td>\n",
       "    </tr>\n",
       "    <tr>\n",
       "      <td>MLPAP_FR-0632.PV</td>\n",
       "      <td>汽機風量</td>\n",
       "      <td>57.089401</td>\n",
       "      <td>57.096397</td>\n",
       "      <td>57.081398</td>\n",
       "      <td>True</td>\n",
       "    </tr>\n",
       "    <tr>\n",
       "      <td>MLPAP_TJC-0757A.PV</td>\n",
       "      <td>反應槽鹽浴溫度</td>\n",
       "      <td>354.471222</td>\n",
       "      <td>354.472748</td>\n",
       "      <td>354.469543</td>\n",
       "      <td>False</td>\n",
       "    </tr>\n",
       "    <tr>\n",
       "      <td>MLPAP_PIC-0761.PV</td>\n",
       "      <td>鹽浴冷卻器(E112)出口壓力</td>\n",
       "      <td>45.034813</td>\n",
       "      <td>45.035469</td>\n",
       "      <td>45.033939</td>\n",
       "      <td>False</td>\n",
       "    </tr>\n",
       "    <tr>\n",
       "      <td>MLPAP_TRC-0762.PV</td>\n",
       "      <td>鹽浴冷卻器(E112)入口溫度</td>\n",
       "      <td>356.033569</td>\n",
       "      <td>356.035187</td>\n",
       "      <td>356.032410</td>\n",
       "      <td>False</td>\n",
       "    </tr>\n",
       "    <tr>\n",
       "      <td>MLPAP_TJC-1721.PV</td>\n",
       "      <td>轉換式冷凝器冷油溫度</td>\n",
       "      <td>61.639160</td>\n",
       "      <td>61.639812</td>\n",
       "      <td>61.638485</td>\n",
       "      <td>False</td>\n",
       "    </tr>\n",
       "    <tr>\n",
       "      <td>MLPAP_TRC-1734.PV</td>\n",
       "      <td>轉換式冷凝器熱油溫度</td>\n",
       "      <td>184.238556</td>\n",
       "      <td>184.240540</td>\n",
       "      <td>184.236618</td>\n",
       "      <td>False</td>\n",
       "    </tr>\n",
       "    <tr>\n",
       "      <td>MLPAP_TRC-0747.PV</td>\n",
       "      <td>E220出口溫度</td>\n",
       "      <td>137.396912</td>\n",
       "      <td>137.405243</td>\n",
       "      <td>137.390671</td>\n",
       "      <td>False</td>\n",
       "    </tr>\n",
       "    <tr>\n",
       "      <td>MLPAP_TJ-0757B.PV</td>\n",
       "      <td>反應槽鹽浴溫度</td>\n",
       "      <td>354.222809</td>\n",
       "      <td>354.225006</td>\n",
       "      <td>354.220520</td>\n",
       "      <td>False</td>\n",
       "    </tr>\n",
       "    <tr>\n",
       "      <td>濃度</td>\n",
       "      <td>NaN</td>\n",
       "      <td>491712.843750</td>\n",
       "      <td>491756.125000</td>\n",
       "      <td>491672.656250</td>\n",
       "      <td>False</td>\n",
       "    </tr>\n",
       "  </tbody>\n",
       "</table>\n",
       "</div>"
      ],
      "text/plain": [
       "                            chinese           mean            max  \\\n",
       "MLPAP_FQ-0619.PV              OX入料量    7244.875488    7245.123535   \n",
       "MLPAP_TJC-0627.PV         OX預熱器出口溫度     150.859634     150.860458   \n",
       "MLPAP_TRC-0610.PV         空氣預熱器出口溫度     180.053665     180.057968   \n",
       "MLPAP_FR-0632.PV               汽機風量      57.089401      57.096397   \n",
       "MLPAP_TJC-0757A.PV          反應槽鹽浴溫度     354.471222     354.472748   \n",
       "MLPAP_PIC-0761.PV   鹽浴冷卻器(E112)出口壓力      45.034813      45.035469   \n",
       "MLPAP_TRC-0762.PV   鹽浴冷卻器(E112)入口溫度     356.033569     356.035187   \n",
       "MLPAP_TJC-1721.PV        轉換式冷凝器冷油溫度      61.639160      61.639812   \n",
       "MLPAP_TRC-1734.PV        轉換式冷凝器熱油溫度     184.238556     184.240540   \n",
       "MLPAP_TRC-0747.PV          E220出口溫度     137.396912     137.405243   \n",
       "MLPAP_TJ-0757B.PV           反應槽鹽浴溫度     354.222809     354.225006   \n",
       "濃度                              NaN  491712.843750  491756.125000   \n",
       "\n",
       "                              min   超出規格  \n",
       "MLPAP_FQ-0619.PV      7244.695312  False  \n",
       "MLPAP_TJC-0627.PV      150.858963  False  \n",
       "MLPAP_TRC-0610.PV      180.051132  False  \n",
       "MLPAP_FR-0632.PV        57.081398   True  \n",
       "MLPAP_TJC-0757A.PV     354.469543  False  \n",
       "MLPAP_PIC-0761.PV       45.033939  False  \n",
       "MLPAP_TRC-0762.PV      356.032410  False  \n",
       "MLPAP_TJC-1721.PV       61.638485  False  \n",
       "MLPAP_TRC-1734.PV      184.236618  False  \n",
       "MLPAP_TRC-0747.PV      137.390671  False  \n",
       "MLPAP_TJ-0757B.PV      354.220520  False  \n",
       "濃度                  491672.656250  False  "
      ]
     },
     "execution_count": 23,
     "metadata": {},
     "output_type": "execute_result"
    }
   ],
   "source": [
    "state = set_state\n",
    "request = set_request\n",
    "advice,output,stream = agent.get_advice(state,request)\n",
    "print('state',state)\n",
    "print('request',request)\n",
    "print('output',output[0][0])\n",
    "print('stream',stream[0][0])\n",
    "print('單耗',advice.iloc[0,2]/output[0][0])\n",
    "c1 = tag.loc[advice.index,'min'] - advice['min'] > 0\n",
    "c2 = tag.loc[advice.index,'max'] - advice['max'] < 0\n",
    "advice['超出規格'] = c1|c2\n",
    "advice"
   ]
  },
  {
   "cell_type": "code",
   "execution_count": 24,
   "metadata": {},
   "outputs": [],
   "source": [
    "advice = advice.drop('超出規格',axis=1)"
   ]
  },
  {
   "cell_type": "markdown",
   "metadata": {},
   "source": [
    "# compare with real data"
   ]
  },
  {
   "cell_type": "code",
   "execution_count": 26,
   "metadata": {},
   "outputs": [
    {
     "name": "stdout",
     "output_type": "stream",
     "text": [
      "124712\n",
      "state 0.792836761309041\n",
      "output 8000.00048828125\n"
     ]
    },
    {
     "data": {
      "text/html": [
       "<div>\n",
       "<style scoped>\n",
       "    .dataframe tbody tr th:only-of-type {\n",
       "        vertical-align: middle;\n",
       "    }\n",
       "\n",
       "    .dataframe tbody tr th {\n",
       "        vertical-align: top;\n",
       "    }\n",
       "\n",
       "    .dataframe thead th {\n",
       "        text-align: right;\n",
       "    }\n",
       "</style>\n",
       "<table border=\"1\" class=\"dataframe\">\n",
       "  <thead>\n",
       "    <tr style=\"text-align: right;\">\n",
       "      <th></th>\n",
       "      <th>chinese</th>\n",
       "      <th>mean</th>\n",
       "      <th>max</th>\n",
       "      <th>min</th>\n",
       "    </tr>\n",
       "  </thead>\n",
       "  <tbody>\n",
       "    <tr>\n",
       "      <td>MLPAP_FQ-0619.PV</td>\n",
       "      <td>OX入料量</td>\n",
       "      <td>7361.531114</td>\n",
       "      <td>7371.545166</td>\n",
       "      <td>7356.604492</td>\n",
       "    </tr>\n",
       "    <tr>\n",
       "      <td>MLPAP_TJC-0627.PV</td>\n",
       "      <td>OX預熱器出口溫度</td>\n",
       "      <td>154.006842</td>\n",
       "      <td>154.011902</td>\n",
       "      <td>153.997490</td>\n",
       "    </tr>\n",
       "    <tr>\n",
       "      <td>MLPAP_TRC-0610.PV</td>\n",
       "      <td>空氣預熱器出口溫度</td>\n",
       "      <td>184.486153</td>\n",
       "      <td>184.558487</td>\n",
       "      <td>184.401398</td>\n",
       "    </tr>\n",
       "    <tr>\n",
       "      <td>MLPAP_FR-0632.PV</td>\n",
       "      <td>汽機風量</td>\n",
       "      <td>81.612895</td>\n",
       "      <td>81.694683</td>\n",
       "      <td>81.536331</td>\n",
       "    </tr>\n",
       "    <tr>\n",
       "      <td>MLPAP_TJC-0757A.PV</td>\n",
       "      <td>反應槽鹽浴溫度</td>\n",
       "      <td>352.318297</td>\n",
       "      <td>352.324814</td>\n",
       "      <td>352.309998</td>\n",
       "    </tr>\n",
       "    <tr>\n",
       "      <td>MLPAP_PIC-0761.PV</td>\n",
       "      <td>鹽浴冷卻器(E112)出口壓力</td>\n",
       "      <td>49.304421</td>\n",
       "      <td>49.305019</td>\n",
       "      <td>49.301197</td>\n",
       "    </tr>\n",
       "    <tr>\n",
       "      <td>MLPAP_TRC-0762.PV</td>\n",
       "      <td>鹽浴冷卻器(E112)入口溫度</td>\n",
       "      <td>357.090692</td>\n",
       "      <td>357.147446</td>\n",
       "      <td>357.066162</td>\n",
       "    </tr>\n",
       "    <tr>\n",
       "      <td>MLPAP_TJC-1721.PV</td>\n",
       "      <td>轉換式冷凝器冷油溫度</td>\n",
       "      <td>60.033730</td>\n",
       "      <td>60.071190</td>\n",
       "      <td>59.992336</td>\n",
       "    </tr>\n",
       "    <tr>\n",
       "      <td>MLPAP_TRC-1734.PV</td>\n",
       "      <td>轉換式冷凝器熱油溫度</td>\n",
       "      <td>180.516385</td>\n",
       "      <td>180.570419</td>\n",
       "      <td>180.438278</td>\n",
       "    </tr>\n",
       "    <tr>\n",
       "      <td>MLPAP_TRC-0747.PV</td>\n",
       "      <td>E220出口溫度</td>\n",
       "      <td>168.511820</td>\n",
       "      <td>168.584732</td>\n",
       "      <td>168.500000</td>\n",
       "    </tr>\n",
       "    <tr>\n",
       "      <td>MLPAP_TJ-0757B.PV</td>\n",
       "      <td>反應槽鹽浴溫度</td>\n",
       "      <td>352.044197</td>\n",
       "      <td>352.064789</td>\n",
       "      <td>352.022491</td>\n",
       "    </tr>\n",
       "    <tr>\n",
       "      <td>濃度</td>\n",
       "      <td>NaN</td>\n",
       "      <td>600795.957350</td>\n",
       "      <td>602216.046110</td>\n",
       "      <td>599830.540211</td>\n",
       "    </tr>\n",
       "  </tbody>\n",
       "</table>\n",
       "</div>"
      ],
      "text/plain": [
       "                            chinese           mean            max  \\\n",
       "MLPAP_FQ-0619.PV              OX入料量    7361.531114    7371.545166   \n",
       "MLPAP_TJC-0627.PV         OX預熱器出口溫度     154.006842     154.011902   \n",
       "MLPAP_TRC-0610.PV         空氣預熱器出口溫度     184.486153     184.558487   \n",
       "MLPAP_FR-0632.PV               汽機風量      81.612895      81.694683   \n",
       "MLPAP_TJC-0757A.PV          反應槽鹽浴溫度     352.318297     352.324814   \n",
       "MLPAP_PIC-0761.PV   鹽浴冷卻器(E112)出口壓力      49.304421      49.305019   \n",
       "MLPAP_TRC-0762.PV   鹽浴冷卻器(E112)入口溫度     357.090692     357.147446   \n",
       "MLPAP_TJC-1721.PV        轉換式冷凝器冷油溫度      60.033730      60.071190   \n",
       "MLPAP_TRC-1734.PV        轉換式冷凝器熱油溫度     180.516385     180.570419   \n",
       "MLPAP_TRC-0747.PV          E220出口溫度     168.511820     168.584732   \n",
       "MLPAP_TJ-0757B.PV           反應槽鹽浴溫度     352.044197     352.064789   \n",
       "濃度                              NaN  600795.957350  602216.046110   \n",
       "\n",
       "                              min  \n",
       "MLPAP_FQ-0619.PV      7356.604492  \n",
       "MLPAP_TJC-0627.PV      153.997490  \n",
       "MLPAP_TRC-0610.PV      184.401398  \n",
       "MLPAP_FR-0632.PV        81.536331  \n",
       "MLPAP_TJC-0757A.PV     352.309998  \n",
       "MLPAP_PIC-0761.PV       49.301197  \n",
       "MLPAP_TRC-0762.PV      357.066162  \n",
       "MLPAP_TJC-1721.PV       59.992336  \n",
       "MLPAP_TRC-1734.PV      180.438278  \n",
       "MLPAP_TRC-0747.PV      168.500000  \n",
       "MLPAP_TJ-0757B.PV      352.022491  \n",
       "濃度                  599830.540211  "
      ]
     },
     "execution_count": 26,
     "metadata": {},
     "output_type": "execute_result"
    }
   ],
   "source": [
    "tag = pd.read_csv('../data/tag_cleaned.csv',index_col=0)\n",
    "tag_dict = dict(zip(tag.TAG,tag.chinese))\n",
    "data = joblib.load('../data/dataset.pkl')\n",
    "data.keys()\n",
    "\n",
    "#load real data\n",
    "state = data['mm_state'].inverse_transform(data['state'])\n",
    "action = [data['mm_action'].inverse_transform(i) for i in data['action']]\n",
    "output = data['mm_output'].inverse_transform(data['output'])\n",
    "stream = data['mm_stream'].inverse_transform(data['stream'])\n",
    "\n",
    "#calculate distance\n",
    "distance_state = ((state - set_state)**2).sum()\n",
    "distance_output = (output - set_request)**2\n",
    "min_distance_idx =  np.argmin(distance_state + distance_output)\n",
    "print(len(distance_state + distance_output))\n",
    "\n",
    "# show result\n",
    "real_output = output[min_distance_idx][0]\n",
    "real_state = state[min_distance_idx][0]\n",
    "print('state',real_state)\n",
    "print('output',real_output)\n",
    "\n",
    "real = pd.DataFrame(action[min_distance_idx],columns=data['action_col'])\n",
    "real.loc['mean'] = real.mean(axis=0)\n",
    "real.loc['max'] = real.max(axis=0)\n",
    "real.loc['min'] = real.min(axis=0)\n",
    "real = real.iloc[-3:,:].T\n",
    "real['chinese'] = real.index.map(tag_dict)\n",
    "real = real[advice.columns]\n",
    "real"
   ]
  },
  {
   "cell_type": "code",
   "execution_count": 27,
   "metadata": {},
   "outputs": [
    {
     "name": "stdout",
     "output_type": "stream",
     "text": [
      "delta\n"
     ]
    },
    {
     "data": {
      "text/plain": [
       "<matplotlib.image.AxesImage at 0x1f00d960f48>"
      ]
     },
     "execution_count": 27,
     "metadata": {},
     "output_type": "execute_result"
    },
    {
     "data": {
      "image/png": "[encoded data removed]",
      "text/plain": [
       "<Figure size 432x288 with 1 Axes>"
      ]
     },
     "metadata": {
      "needs_background": "light"
     },
     "output_type": "display_data"
    }
   ],
   "source": [
    "delta = abs(advice.iloc[:,[1]] - real.iloc[:,[1]]) / real.iloc[:,[1]]\n",
    "delta = delta[:-1]\n",
    "print('delta')\n",
    "plt.imshow(delta.values,cmap='gray')"
   ]
  },
  {
   "cell_type": "markdown",
   "metadata": {},
   "source": [
    "# plot 趨勢圖"
   ]
  },
  {
   "cell_type": "code",
   "execution_count": 28,
   "metadata": {},
   "outputs": [],
   "source": [
    "def get_actor_action(state,request):\n",
    "    advice,output,stream = agent.get_advice(state,request)\n",
    "    return advice"
   ]
  },
  {
   "cell_type": "code",
   "execution_count": 32,
   "metadata": {},
   "outputs": [],
   "source": [
    "def get_real_action(state,request):\n",
    "    \n",
    "    #load real data\n",
    "    state = data['mm_state'].inverse_transform(data['state'])\n",
    "    action = [data['mm_action'].inverse_transform(i) for i in data['action']]\n",
    "    output = data['mm_output'].inverse_transform(data['output'])\n",
    "    stream = data['mm_stream'].inverse_transform(data['stream'])\n",
    "    \n",
    "    #calculate distance\n",
    "    distance_state = ((state - set_state)**2).sum()\n",
    "    distance_output = (output - set_request)**2\n",
    "    min_distance_idx =  np.argmin(distance_state + distance_output)\n",
    "    \n",
    "    # show result\n",
    "    real = pd.DataFrame(action[min_distance_idx],columns=data['action_col'])\n",
    "    real.loc['mean'] = real.mean(axis=0)\n",
    "    real.loc['max'] = real.max(axis=0)\n",
    "    real.loc['min'] = real.min(axis=0)\n",
    "    real = real.iloc[-3:,:].T\n",
    "    real['chinese'] = real.index.map(tag_dict)\n",
    "    real = real[advice.columns]\n",
    "    return real"
   ]
  },
  {
   "cell_type": "code",
   "execution_count": 33,
   "metadata": {},
   "outputs": [],
   "source": [
    "pred = {}\n",
    "real = {}\n",
    "for t in [0,0.25,0.5,0.75]:\n",
    "    pred[t] = get_actor_action([t,t],8000)\n",
    "    real[t] = get_real_action([t,t],8000)"
   ]
  },
  {
   "cell_type": "code",
   "execution_count": 34,
   "metadata": {},
   "outputs": [
    {
     "data": {
      "image/png": "[encoded data removed]",
      "text/plain": [
       "<Figure size 1440x1440 with 12 Axes>"
      ]
     },
     "metadata": {
      "needs_background": "light"
     },
     "output_type": "display_data"
    }
   ],
   "source": [
    "plt.figure(figsize=(20,20))\n",
    "for idx,y_name in enumerate(data['action_col']):\n",
    "    plt.subplot(4,3,idx+1)\n",
    "    plt.plot([v.loc[y_name,'mean'] for k,v in pred.items()],label='advice')\n",
    "    plt.plot([v.loc[y_name,'mean'] for k,v in real.items()],label='real')\n",
    "    plt.title(y_name)\n",
    "    plt.legend()\n",
    "plt.show()"
   ]
  },
  {
   "cell_type": "code",
   "execution_count": null,
   "metadata": {},
   "outputs": [],
   "source": []
  }
 ],
 "metadata": {
  "kernelspec": {
   "display_name": "Python 3",
   "language": "python",
   "name": "python3"
  },
  "language_info": {
   "codemirror_mode": {
    "name": "ipython",
    "version": 3
   },
   "file_extension": ".py",
   "mimetype": "text/x-python",
   "name": "python",
   "nbconvert_exporter": "python",
   "pygments_lexer": "ipython3",
   "version": "3.7.4"
  }
 },
 "nbformat": 4,
 "nbformat_minor": 2
}
