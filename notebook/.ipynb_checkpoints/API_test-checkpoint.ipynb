{
 "cells": [
  {
   "cell_type": "code",
   "execution_count": 1,
   "metadata": {},
   "outputs": [
    {
     "data": {
      "text/plain": [
       "['Critic.pkl', 'PAagent.pkl', 'stream_lasso_weight.pkl']"
      ]
     },
     "execution_count": 1,
     "metadata": {},
     "output_type": "execute_result"
    }
   ],
   "source": [
    "import os\n",
    "from utils import *\n",
    "import joblib\n",
    "os.listdir('../model')"
   ]
  },
  {
   "cell_type": "code",
   "execution_count": 2,
   "metadata": {},
   "outputs": [
    {
     "data": {
      "text/plain": [
       "['dataset.pkl',\n",
       " 'PA_201605-2020001更新R10(20200602).csv',\n",
       " 'tag_cleaned.csv',\n",
       " 'tag盤點表20200423.xlsx',\n",
       " 'tag盤點表20200602R1.xlsx',\n",
       " 'train_cleaned.csv',\n",
       " '反應槽(20200201-20200212)開車資料.csv']"
      ]
     },
     "execution_count": 2,
     "metadata": {},
     "output_type": "execute_result"
    }
   ],
   "source": [
    "os.listdir('../data')"
   ]
  },
  {
   "cell_type": "code",
   "execution_count": 3,
   "metadata": {},
   "outputs": [],
   "source": [
    "tag = pd.read_excel('../data/tag盤點表20200602R1.xlsx')\n",
    "tag = tag[['TAG','chinese','min','max']]\n",
    "tag = tag.set_index('TAG')"
   ]
  },
  {
   "cell_type": "code",
   "execution_count": 4,
   "metadata": {},
   "outputs": [],
   "source": [
    "agent = joblib.load('../model/PAagent.pkl')"
   ]
  },
  {
   "cell_type": "code",
   "execution_count": 5,
   "metadata": {},
   "outputs": [],
   "source": [
    "set_state = [0.99,30]\n",
    "set_request = 8000"
   ]
  },
  {
   "cell_type": "code",
   "execution_count": 6,
   "metadata": {},
   "outputs": [
    {
     "name": "stdout",
     "output_type": "stream",
     "text": [
      "state [0.99, 30]\n",
      "request 8000\n",
      "output 7951.841\n",
      "stream 59291.223\n",
      "單耗 0.8792095\n",
      "蒸氣單耗 0.11791516\n"
     ]
    },
    {
     "data": {
      "text/html": [
       "<div>\n",
       "<style scoped>\n",
       "    .dataframe tbody tr th:only-of-type {\n",
       "        vertical-align: middle;\n",
       "    }\n",
       "\n",
       "    .dataframe tbody tr th {\n",
       "        vertical-align: top;\n",
       "    }\n",
       "\n",
       "    .dataframe thead th {\n",
       "        text-align: right;\n",
       "    }\n",
       "</style>\n",
       "<table border=\"1\" class=\"dataframe\">\n",
       "  <thead>\n",
       "    <tr style=\"text-align: right;\">\n",
       "      <th></th>\n",
       "      <th>chinese</th>\n",
       "      <th>mean</th>\n",
       "      <th>max</th>\n",
       "      <th>min</th>\n",
       "      <th>超出規格</th>\n",
       "    </tr>\n",
       "  </thead>\n",
       "  <tbody>\n",
       "    <tr>\n",
       "      <td>MLPAP_FQ-0619.PV</td>\n",
       "      <td>OX入料量</td>\n",
       "      <td>6991.333984</td>\n",
       "      <td>6991.593750</td>\n",
       "      <td>6991.062500</td>\n",
       "      <td>False</td>\n",
       "    </tr>\n",
       "    <tr>\n",
       "      <td>MLPAP_TJC-0627.PV</td>\n",
       "      <td>OX預熱器出口溫度</td>\n",
       "      <td>151.126724</td>\n",
       "      <td>151.127579</td>\n",
       "      <td>151.125793</td>\n",
       "      <td>False</td>\n",
       "    </tr>\n",
       "    <tr>\n",
       "      <td>MLPAP_TRC-0610.PV</td>\n",
       "      <td>空氣預熱器出口溫度</td>\n",
       "      <td>180.148865</td>\n",
       "      <td>180.152985</td>\n",
       "      <td>180.144699</td>\n",
       "      <td>False</td>\n",
       "    </tr>\n",
       "    <tr>\n",
       "      <td>MLPAP_FR-0632.PV</td>\n",
       "      <td>汽機風量</td>\n",
       "      <td>72.814201</td>\n",
       "      <td>72.816055</td>\n",
       "      <td>72.811539</td>\n",
       "      <td>False</td>\n",
       "    </tr>\n",
       "    <tr>\n",
       "      <td>MLPAP_TJC-0757A.PV</td>\n",
       "      <td>反應槽鹽浴溫度</td>\n",
       "      <td>356.752655</td>\n",
       "      <td>356.754608</td>\n",
       "      <td>356.750061</td>\n",
       "      <td>False</td>\n",
       "    </tr>\n",
       "    <tr>\n",
       "      <td>MLPAP_PIC-0761.PV</td>\n",
       "      <td>鹽浴冷卻器(E112)出口壓力</td>\n",
       "      <td>46.131283</td>\n",
       "      <td>46.132481</td>\n",
       "      <td>46.130219</td>\n",
       "      <td>False</td>\n",
       "    </tr>\n",
       "    <tr>\n",
       "      <td>MLPAP_TJC-1721.PV</td>\n",
       "      <td>轉換式冷凝器冷油溫度</td>\n",
       "      <td>61.537338</td>\n",
       "      <td>61.538116</td>\n",
       "      <td>61.536594</td>\n",
       "      <td>False</td>\n",
       "    </tr>\n",
       "    <tr>\n",
       "      <td>MLPAP_TRC-1734.PV</td>\n",
       "      <td>轉換式冷凝器熱油溫度</td>\n",
       "      <td>183.499237</td>\n",
       "      <td>183.502075</td>\n",
       "      <td>183.496811</td>\n",
       "      <td>False</td>\n",
       "    </tr>\n",
       "    <tr>\n",
       "      <td>MLPAP_TRC-0747.PV</td>\n",
       "      <td>E220出口溫度</td>\n",
       "      <td>153.577881</td>\n",
       "      <td>153.589874</td>\n",
       "      <td>153.570724</td>\n",
       "      <td>False</td>\n",
       "    </tr>\n",
       "    <tr>\n",
       "      <td>MLPAP_TJ-0757B.PV</td>\n",
       "      <td>反應槽鹽浴溫度</td>\n",
       "      <td>356.607605</td>\n",
       "      <td>356.609436</td>\n",
       "      <td>356.605316</td>\n",
       "      <td>False</td>\n",
       "    </tr>\n",
       "    <tr>\n",
       "      <td>濃度</td>\n",
       "      <td>NaN</td>\n",
       "      <td>93.687790</td>\n",
       "      <td>93.688652</td>\n",
       "      <td>93.686310</td>\n",
       "      <td>False</td>\n",
       "    </tr>\n",
       "  </tbody>\n",
       "</table>\n",
       "</div>"
      ],
      "text/plain": [
       "                            chinese         mean          max          min  \\\n",
       "MLPAP_FQ-0619.PV              OX入料量  6991.333984  6991.593750  6991.062500   \n",
       "MLPAP_TJC-0627.PV         OX預熱器出口溫度   151.126724   151.127579   151.125793   \n",
       "MLPAP_TRC-0610.PV         空氣預熱器出口溫度   180.148865   180.152985   180.144699   \n",
       "MLPAP_FR-0632.PV               汽機風量    72.814201    72.816055    72.811539   \n",
       "MLPAP_TJC-0757A.PV          反應槽鹽浴溫度   356.752655   356.754608   356.750061   \n",
       "MLPAP_PIC-0761.PV   鹽浴冷卻器(E112)出口壓力    46.131283    46.132481    46.130219   \n",
       "MLPAP_TJC-1721.PV        轉換式冷凝器冷油溫度    61.537338    61.538116    61.536594   \n",
       "MLPAP_TRC-1734.PV        轉換式冷凝器熱油溫度   183.499237   183.502075   183.496811   \n",
       "MLPAP_TRC-0747.PV          E220出口溫度   153.577881   153.589874   153.570724   \n",
       "MLPAP_TJ-0757B.PV           反應槽鹽浴溫度   356.607605   356.609436   356.605316   \n",
       "濃度                              NaN    93.687790    93.688652    93.686310   \n",
       "\n",
       "                     超出規格  \n",
       "MLPAP_FQ-0619.PV    False  \n",
       "MLPAP_TJC-0627.PV   False  \n",
       "MLPAP_TRC-0610.PV   False  \n",
       "MLPAP_FR-0632.PV    False  \n",
       "MLPAP_TJC-0757A.PV  False  \n",
       "MLPAP_PIC-0761.PV   False  \n",
       "MLPAP_TJC-1721.PV   False  \n",
       "MLPAP_TRC-1734.PV   False  \n",
       "MLPAP_TRC-0747.PV   False  \n",
       "MLPAP_TJ-0757B.PV   False  \n",
       "濃度                  False  "
      ]
     },
     "execution_count": 6,
     "metadata": {},
     "output_type": "execute_result"
    }
   ],
   "source": [
    "state = set_state\n",
    "request = set_request\n",
    "advice,output,stream,單耗,蒸氣單耗 = agent.get_advice(state,request)\n",
    "print('state',state)\n",
    "print('request',request)\n",
    "print('output',output[0][0])\n",
    "print('stream',stream[0][0])\n",
    "print('單耗',單耗)\n",
    "print('蒸氣單耗',蒸氣單耗)\n",
    "c1 = tag.loc[advice.index,'min'] - advice['min'] > 0\n",
    "c2 = tag.loc[advice.index,'max'] - advice['max'] < 0\n",
    "advice['超出規格'] = c1|c2\n",
    "advice"
   ]
  },
  {
   "cell_type": "code",
   "execution_count": 7,
   "metadata": {},
   "outputs": [],
   "source": [
    "advice = advice.drop('超出規格',axis=1)"
   ]
  },
  {
   "cell_type": "markdown",
   "metadata": {},
   "source": [
    "# compare with real data"
   ]
  },
  {
   "cell_type": "code",
   "execution_count": 8,
   "metadata": {},
   "outputs": [
    {
     "name": "stdout",
     "output_type": "stream",
     "text": [
      "state [ 0.79283676 31.19188944]\n",
      "output 8000.00048828125\n",
      "stream 39812.4942779541\n",
      "單耗 0.9214430895115301\n",
      "蒸氣單耗 0.1851565770923719\n"
     ]
    },
    {
     "data": {
      "text/html": [
       "<div>\n",
       "<style scoped>\n",
       "    .dataframe tbody tr th:only-of-type {\n",
       "        vertical-align: middle;\n",
       "    }\n",
       "\n",
       "    .dataframe tbody tr th {\n",
       "        vertical-align: top;\n",
       "    }\n",
       "\n",
       "    .dataframe thead th {\n",
       "        text-align: right;\n",
       "    }\n",
       "</style>\n",
       "<table border=\"1\" class=\"dataframe\">\n",
       "  <thead>\n",
       "    <tr style=\"text-align: right;\">\n",
       "      <th></th>\n",
       "      <th>chinese</th>\n",
       "      <th>mean</th>\n",
       "      <th>max</th>\n",
       "      <th>min</th>\n",
       "    </tr>\n",
       "  </thead>\n",
       "  <tbody>\n",
       "    <tr>\n",
       "      <td>MLPAP_FQ-0619.PV</td>\n",
       "      <td>OX入料量</td>\n",
       "      <td>7361.531114</td>\n",
       "      <td>7371.545166</td>\n",
       "      <td>7356.604492</td>\n",
       "    </tr>\n",
       "    <tr>\n",
       "      <td>MLPAP_TJC-0627.PV</td>\n",
       "      <td>OX預熱器出口溫度</td>\n",
       "      <td>154.006842</td>\n",
       "      <td>154.011902</td>\n",
       "      <td>153.997490</td>\n",
       "    </tr>\n",
       "    <tr>\n",
       "      <td>MLPAP_TRC-0610.PV</td>\n",
       "      <td>空氣預熱器出口溫度</td>\n",
       "      <td>184.486153</td>\n",
       "      <td>184.558487</td>\n",
       "      <td>184.401398</td>\n",
       "    </tr>\n",
       "    <tr>\n",
       "      <td>MLPAP_FR-0632.PV</td>\n",
       "      <td>汽機風量</td>\n",
       "      <td>81.612895</td>\n",
       "      <td>81.694683</td>\n",
       "      <td>81.536331</td>\n",
       "    </tr>\n",
       "    <tr>\n",
       "      <td>MLPAP_TJC-0757A.PV</td>\n",
       "      <td>反應槽鹽浴溫度</td>\n",
       "      <td>352.318297</td>\n",
       "      <td>352.324814</td>\n",
       "      <td>352.309998</td>\n",
       "    </tr>\n",
       "    <tr>\n",
       "      <td>MLPAP_PIC-0761.PV</td>\n",
       "      <td>鹽浴冷卻器(E112)出口壓力</td>\n",
       "      <td>49.304421</td>\n",
       "      <td>49.305019</td>\n",
       "      <td>49.301197</td>\n",
       "    </tr>\n",
       "    <tr>\n",
       "      <td>MLPAP_TJC-1721.PV</td>\n",
       "      <td>轉換式冷凝器冷油溫度</td>\n",
       "      <td>60.033730</td>\n",
       "      <td>60.071190</td>\n",
       "      <td>59.992336</td>\n",
       "    </tr>\n",
       "    <tr>\n",
       "      <td>MLPAP_TRC-1734.PV</td>\n",
       "      <td>轉換式冷凝器熱油溫度</td>\n",
       "      <td>180.516385</td>\n",
       "      <td>180.570419</td>\n",
       "      <td>180.438278</td>\n",
       "    </tr>\n",
       "    <tr>\n",
       "      <td>MLPAP_TRC-0747.PV</td>\n",
       "      <td>E220出口溫度</td>\n",
       "      <td>168.511820</td>\n",
       "      <td>168.584732</td>\n",
       "      <td>168.500000</td>\n",
       "    </tr>\n",
       "    <tr>\n",
       "      <td>MLPAP_TJ-0757B.PV</td>\n",
       "      <td>反應槽鹽浴溫度</td>\n",
       "      <td>352.044197</td>\n",
       "      <td>352.064789</td>\n",
       "      <td>352.022491</td>\n",
       "    </tr>\n",
       "    <tr>\n",
       "      <td>濃度</td>\n",
       "      <td>NaN</td>\n",
       "      <td>90.200584</td>\n",
       "      <td>90.254729</td>\n",
       "      <td>90.167399</td>\n",
       "    </tr>\n",
       "  </tbody>\n",
       "</table>\n",
       "</div>"
      ],
      "text/plain": [
       "                            chinese         mean          max          min\n",
       "MLPAP_FQ-0619.PV              OX入料量  7361.531114  7371.545166  7356.604492\n",
       "MLPAP_TJC-0627.PV         OX預熱器出口溫度   154.006842   154.011902   153.997490\n",
       "MLPAP_TRC-0610.PV         空氣預熱器出口溫度   184.486153   184.558487   184.401398\n",
       "MLPAP_FR-0632.PV               汽機風量    81.612895    81.694683    81.536331\n",
       "MLPAP_TJC-0757A.PV          反應槽鹽浴溫度   352.318297   352.324814   352.309998\n",
       "MLPAP_PIC-0761.PV   鹽浴冷卻器(E112)出口壓力    49.304421    49.305019    49.301197\n",
       "MLPAP_TJC-1721.PV        轉換式冷凝器冷油溫度    60.033730    60.071190    59.992336\n",
       "MLPAP_TRC-1734.PV        轉換式冷凝器熱油溫度   180.516385   180.570419   180.438278\n",
       "MLPAP_TRC-0747.PV          E220出口溫度   168.511820   168.584732   168.500000\n",
       "MLPAP_TJ-0757B.PV           反應槽鹽浴溫度   352.044197   352.064789   352.022491\n",
       "濃度                              NaN    90.200584    90.254729    90.167399"
      ]
     },
     "execution_count": 8,
     "metadata": {},
     "output_type": "execute_result"
    }
   ],
   "source": [
    "tag = pd.read_csv('../data/tag_cleaned.csv',index_col=0)\n",
    "tag_dict = dict(zip(tag.TAG,tag.chinese))\n",
    "data = joblib.load('../data/dataset.pkl')\n",
    "data.keys()\n",
    "\n",
    "#load real data\n",
    "state = data['mm_state'].inverse_transform(data['state'])\n",
    "action = [data['mm_action'].inverse_transform(i) for i in data['action']]\n",
    "output = data['mm_output'].inverse_transform(data['output'])\n",
    "stream = data['mm_stream'].inverse_transform(data['stream'])\n",
    "\n",
    "#calculate distance\n",
    "distance_state = ((state - set_state)**2).sum()\n",
    "distance_output = (output - set_request)**2\n",
    "min_distance_idx =  np.argmin(distance_state + distance_output)\n",
    "\n",
    "# show result\n",
    "real_feed = action[min_distance_idx][0][0]\n",
    "real_output = output[min_distance_idx][0]\n",
    "real_state = state[min_distance_idx]\n",
    "real_stream = stream[min_distance_idx][0]\n",
    "print('state',real_state)\n",
    "print('output',real_output)\n",
    "print('stream',real_stream)\n",
    "print('單耗',real_feed/real_output)\n",
    "print('蒸氣單耗',real_feed/real_stream)\n",
    "\n",
    "real = pd.DataFrame(action[min_distance_idx],columns=data['action_col'])\n",
    "real.loc['mean'] = real.mean(axis=0)\n",
    "real.loc['max'] = real.max(axis=0)\n",
    "real.loc['min'] = real.min(axis=0)\n",
    "real = real.iloc[-3:,:].T\n",
    "real['chinese'] = real.index.map(tag_dict)\n",
    "real = real[advice.columns]\n",
    "real"
   ]
  },
  {
   "cell_type": "code",
   "execution_count": 9,
   "metadata": {},
   "outputs": [
    {
     "name": "stdout",
     "output_type": "stream",
     "text": [
      "delta\n"
     ]
    },
    {
     "data": {
      "text/plain": [
       "<matplotlib.image.AxesImage at 0x1f6c80c5e48>"
      ]
     },
     "execution_count": 9,
     "metadata": {},
     "output_type": "execute_result"
    },
    {
     "data": {
      "image/png": "[encoded data removed]",
      "text/plain": [
       "<Figure size 432x288 with 1 Axes>"
      ]
     },
     "metadata": {
      "needs_background": "light"
     },
     "output_type": "display_data"
    }
   ],
   "source": [
    "delta = abs(advice.iloc[:,[1]] - real.iloc[:,[1]]) / real.iloc[:,[1]]\n",
    "delta = delta[:-1]\n",
    "print('delta')\n",
    "plt.imshow(delta.values,cmap='gray')"
   ]
  },
  {
   "cell_type": "markdown",
   "metadata": {},
   "source": [
    "# plot 趨勢圖"
   ]
  },
  {
   "cell_type": "code",
   "execution_count": 10,
   "metadata": {},
   "outputs": [],
   "source": [
    "def get_actor_action(state,request):\n",
    "    advice,output,stream,_,_ = agent.get_advice(state,request)\n",
    "    return advice"
   ]
  },
  {
   "cell_type": "code",
   "execution_count": 11,
   "metadata": {},
   "outputs": [],
   "source": [
    "def get_real_action(state,request):\n",
    "    \n",
    "    #load real data\n",
    "    state = data['mm_state'].inverse_transform(data['state'])\n",
    "    action = [data['mm_action'].inverse_transform(i) for i in data['action']]\n",
    "    output = data['mm_output'].inverse_transform(data['output'])\n",
    "    stream = data['mm_stream'].inverse_transform(data['stream'])\n",
    "    \n",
    "    #calculate distance\n",
    "    distance_state = ((state - set_state)**2).sum()\n",
    "    distance_output = (output - set_request)**2\n",
    "    min_distance_idx =  np.argmin(distance_state + distance_output)\n",
    "    \n",
    "    # show result\n",
    "    real = pd.DataFrame(action[min_distance_idx],columns=data['action_col'])\n",
    "    real.loc['mean'] = real.mean(axis=0)\n",
    "    real.loc['max'] = real.max(axis=0)\n",
    "    real.loc['min'] = real.min(axis=0)\n",
    "    real = real.iloc[-3:,:].T\n",
    "    real['chinese'] = real.index.map(tag_dict)\n",
    "    real = real[advice.columns]\n",
    "    return real"
   ]
  },
  {
   "cell_type": "code",
   "execution_count": 12,
   "metadata": {},
   "outputs": [],
   "source": [
    "pred = {}\n",
    "real = {}\n",
    "for t in [0,0.25,0.5,0.75]:\n",
    "    pred[t] = get_actor_action([t,30],8000)\n",
    "    real[t] = get_real_action([t,30],8000)"
   ]
  },
  {
   "cell_type": "code",
   "execution_count": 13,
   "metadata": {},
   "outputs": [
    {
     "data": {
      "image/png": "[encoded data removed]",
      "text/plain": [
       "<Figure size 1440x1440 with 11 Axes>"
      ]
     },
     "metadata": {
      "needs_background": "light"
     },
     "output_type": "display_data"
    }
   ],
   "source": [
    "plt.figure(figsize=(20,20))\n",
    "for idx,y_name in enumerate(data['action_col']):\n",
    "    plt.subplot(4,3,idx+1)\n",
    "    plt.plot([v.loc[y_name,'mean'] for k,v in pred.items()],label='advice')\n",
    "    plt.plot([v.loc[y_name,'mean'] for k,v in real.items()],label='real')\n",
    "    plt.title(y_name)\n",
    "    plt.legend()\n",
    "plt.show()"
   ]
  },
  {
   "cell_type": "code",
   "execution_count": null,
   "metadata": {},
   "outputs": [],
   "source": []
  },
  {
   "cell_type": "code",
   "execution_count": null,
   "metadata": {},
   "outputs": [],
   "source": []
  }
 ],
 "metadata": {
  "kernelspec": {
   "display_name": "Python 3",
   "language": "python",
   "name": "python3"
  },
  "language_info": {
   "codemirror_mode": {
    "name": "ipython",
    "version": 3
   },
   "file_extension": ".py",
   "mimetype": "text/x-python",
   "name": "python",
   "nbconvert_exporter": "python",
   "pygments_lexer": "ipython3",
   "version": "3.7.4"
  }
 },
 "nbformat": 4,
 "nbformat_minor": 2
}
