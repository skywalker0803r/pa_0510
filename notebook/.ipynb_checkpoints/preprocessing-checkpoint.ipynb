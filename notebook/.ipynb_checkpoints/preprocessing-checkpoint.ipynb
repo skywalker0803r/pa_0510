{
 "cells": [
  {
   "cell_type": "code",
   "execution_count": 1,
   "metadata": {},
   "outputs": [],
   "source": [
    "import pandas as pd\n",
    "import numpy as np\n",
    "import torchviz\n",
    "import seaborn as sns\n",
    "import matplotlib.pyplot as plt\n",
    "from tqdm import tqdm_notebook as tqdm\n",
    "from torch.utils.tensorboard import SummaryWriter\n",
    "import torch\n",
    "import torch.nn as nn\n",
    "import torch.utils.data as Data\n",
    "import torchvision\n",
    "import joblib\n",
    "from sklearn.preprocessing import MinMaxScaler\n",
    "import time\n",
    "import warnings\n",
    "warnings.simplefilter('ignore')\n",
    "def get_col(df,name):\n",
    "    return df.columns[df.columns.str.contains(name)].tolist()"
   ]
  },
  {
   "cell_type": "markdown",
   "metadata": {},
   "source": [
    "# load data"
   ]
  },
  {
   "cell_type": "code",
   "execution_count": 2,
   "metadata": {},
   "outputs": [],
   "source": [
    "tag = pd.read_csv('../data/tag_cleaned.csv',index_col=0)\n",
    "tag_map = dict(zip(tag.TAG,tag.chinese))"
   ]
  },
  {
   "cell_type": "code",
   "execution_count": 3,
   "metadata": {},
   "outputs": [
    {
     "name": "stdout",
     "output_type": "stream",
     "text": [
      "(193824, 95)\n"
     ]
    },
    {
     "data": {
      "text/html": [
       "<div>\n",
       "<style scoped>\n",
       "    .dataframe tbody tr th:only-of-type {\n",
       "        vertical-align: middle;\n",
       "    }\n",
       "\n",
       "    .dataframe tbody tr th {\n",
       "        vertical-align: top;\n",
       "    }\n",
       "\n",
       "    .dataframe thead th {\n",
       "        text-align: right;\n",
       "    }\n",
       "</style>\n",
       "<table border=\"1\" class=\"dataframe\">\n",
       "  <thead>\n",
       "    <tr style=\"text-align: right;\">\n",
       "      <th></th>\n",
       "      <th>MLPAP_TJ-0706B02</th>\n",
       "      <th>MLPAP_TJ-0706B03</th>\n",
       "      <th>MLPAP_TJ-0706B04</th>\n",
       "      <th>MLPAP_TJ-0706B05</th>\n",
       "      <th>MLPAP_TJ-0706B06</th>\n",
       "      <th>MLPAP_TJ-0706B07</th>\n",
       "      <th>MLPAP_TJ-0706B08</th>\n",
       "      <th>MLPAP_TJ-0706B09</th>\n",
       "      <th>MLPAP_TJ-0706B10</th>\n",
       "      <th>MLPAP_TJ-0706B11</th>\n",
       "      <th>...</th>\n",
       "      <th>MLPAP_FR-0755PV(轉換後)</th>\n",
       "      <th>MLPAP_FR-0791.PV</th>\n",
       "      <th>MLPAP_FI-V211.PV(轉換後)</th>\n",
       "      <th>MLPAP_PI-0658.PV</th>\n",
       "      <th>MLPAP_TJC-0757.PV</th>\n",
       "      <th>MLPAP_V225-PHD</th>\n",
       "      <th>MLPAP_PI-0771.PV</th>\n",
       "      <th>MLPAP_TRC-0747.PV</th>\n",
       "      <th>Unnamed: 96</th>\n",
       "      <th>MLPAP_TRC-0497.PV</th>\n",
       "    </tr>\n",
       "  </thead>\n",
       "  <tbody>\n",
       "    <tr>\n",
       "      <td>2017-06-28 16:50:00</td>\n",
       "      <td>375.500000</td>\n",
       "      <td>393.000000</td>\n",
       "      <td>397.774445</td>\n",
       "      <td>403.415726</td>\n",
       "      <td>399.074905</td>\n",
       "      <td>399.450134</td>\n",
       "      <td>399.000000</td>\n",
       "      <td>403.171112</td>\n",
       "      <td>403.274902</td>\n",
       "      <td>398.000000</td>\n",
       "      <td>...</td>\n",
       "      <td>15.108860</td>\n",
       "      <td>33.374123</td>\n",
       "      <td>NaN</td>\n",
       "      <td>NaN</td>\n",
       "      <td>2.612654</td>\n",
       "      <td>0.035</td>\n",
       "      <td>133.854492</td>\n",
       "      <td>173.500900</td>\n",
       "      <td>NaN</td>\n",
       "      <td>7520.000000</td>\n",
       "    </tr>\n",
       "    <tr>\n",
       "      <td>2017-06-08 02:20:00</td>\n",
       "      <td>376.000000</td>\n",
       "      <td>394.000000</td>\n",
       "      <td>399.000000</td>\n",
       "      <td>404.705170</td>\n",
       "      <td>400.000000</td>\n",
       "      <td>400.000000</td>\n",
       "      <td>399.533615</td>\n",
       "      <td>403.280090</td>\n",
       "      <td>403.000000</td>\n",
       "      <td>396.013229</td>\n",
       "      <td>...</td>\n",
       "      <td>12.953272</td>\n",
       "      <td>NaN</td>\n",
       "      <td>NaN</td>\n",
       "      <td>494.239716</td>\n",
       "      <td>2.313998</td>\n",
       "      <td>0.027</td>\n",
       "      <td>133.188858</td>\n",
       "      <td>174.149796</td>\n",
       "      <td>NaN</td>\n",
       "      <td>7827.967285</td>\n",
       "    </tr>\n",
       "    <tr>\n",
       "      <td>2017-03-13 19:30:00</td>\n",
       "      <td>378.000000</td>\n",
       "      <td>396.200012</td>\n",
       "      <td>401.322067</td>\n",
       "      <td>410.213516</td>\n",
       "      <td>406.187881</td>\n",
       "      <td>407.000000</td>\n",
       "      <td>406.000000</td>\n",
       "      <td>408.000000</td>\n",
       "      <td>403.000000</td>\n",
       "      <td>391.025085</td>\n",
       "      <td>...</td>\n",
       "      <td>14.393404</td>\n",
       "      <td>32.603439</td>\n",
       "      <td>NaN</td>\n",
       "      <td>488.777924</td>\n",
       "      <td>2.619755</td>\n",
       "      <td>0.024</td>\n",
       "      <td>136.617592</td>\n",
       "      <td>172.374321</td>\n",
       "      <td>NaN</td>\n",
       "      <td>0.000000</td>\n",
       "    </tr>\n",
       "    <tr>\n",
       "      <td>2019-02-28 09:00:00</td>\n",
       "      <td>381.051285</td>\n",
       "      <td>396.000000</td>\n",
       "      <td>399.000000</td>\n",
       "      <td>403.000000</td>\n",
       "      <td>400.000000</td>\n",
       "      <td>400.601166</td>\n",
       "      <td>400.000000</td>\n",
       "      <td>398.000000</td>\n",
       "      <td>397.000000</td>\n",
       "      <td>394.025101</td>\n",
       "      <td>...</td>\n",
       "      <td>8.704697</td>\n",
       "      <td>32.222403</td>\n",
       "      <td>6757.37793</td>\n",
       "      <td>NaN</td>\n",
       "      <td>-0.275361</td>\n",
       "      <td>0.015</td>\n",
       "      <td>121.987431</td>\n",
       "      <td>169.852020</td>\n",
       "      <td>NaN</td>\n",
       "      <td>0.000000</td>\n",
       "    </tr>\n",
       "    <tr>\n",
       "      <td>2018-06-20 04:20:00</td>\n",
       "      <td>383.899994</td>\n",
       "      <td>399.949890</td>\n",
       "      <td>403.199997</td>\n",
       "      <td>407.399979</td>\n",
       "      <td>403.300018</td>\n",
       "      <td>403.300095</td>\n",
       "      <td>402.972122</td>\n",
       "      <td>402.000000</td>\n",
       "      <td>401.000000</td>\n",
       "      <td>399.000000</td>\n",
       "      <td>...</td>\n",
       "      <td>20.171934</td>\n",
       "      <td>29.015205</td>\n",
       "      <td>NaN</td>\n",
       "      <td>NaN</td>\n",
       "      <td>0.162376</td>\n",
       "      <td>0.048</td>\n",
       "      <td>137.091003</td>\n",
       "      <td>171.773911</td>\n",
       "      <td>NaN</td>\n",
       "      <td>8793.812500</td>\n",
       "    </tr>\n",
       "  </tbody>\n",
       "</table>\n",
       "<p>5 rows × 95 columns</p>\n",
       "</div>"
      ],
      "text/plain": [
       "                     MLPAP_TJ-0706B02  MLPAP_TJ-0706B03  MLPAP_TJ-0706B04  \\\n",
       "2017-06-28 16:50:00        375.500000        393.000000        397.774445   \n",
       "2017-06-08 02:20:00        376.000000        394.000000        399.000000   \n",
       "2017-03-13 19:30:00        378.000000        396.200012        401.322067   \n",
       "2019-02-28 09:00:00        381.051285        396.000000        399.000000   \n",
       "2018-06-20 04:20:00        383.899994        399.949890        403.199997   \n",
       "\n",
       "                     MLPAP_TJ-0706B05  MLPAP_TJ-0706B06  MLPAP_TJ-0706B07  \\\n",
       "2017-06-28 16:50:00        403.415726        399.074905        399.450134   \n",
       "2017-06-08 02:20:00        404.705170        400.000000        400.000000   \n",
       "2017-03-13 19:30:00        410.213516        406.187881        407.000000   \n",
       "2019-02-28 09:00:00        403.000000        400.000000        400.601166   \n",
       "2018-06-20 04:20:00        407.399979        403.300018        403.300095   \n",
       "\n",
       "                     MLPAP_TJ-0706B08  MLPAP_TJ-0706B09  MLPAP_TJ-0706B10  \\\n",
       "2017-06-28 16:50:00        399.000000        403.171112        403.274902   \n",
       "2017-06-08 02:20:00        399.533615        403.280090        403.000000   \n",
       "2017-03-13 19:30:00        406.000000        408.000000        403.000000   \n",
       "2019-02-28 09:00:00        400.000000        398.000000        397.000000   \n",
       "2018-06-20 04:20:00        402.972122        402.000000        401.000000   \n",
       "\n",
       "                     MLPAP_TJ-0706B11  ...  MLPAP_FR-0755PV(轉換後)  \\\n",
       "2017-06-28 16:50:00        398.000000  ...             15.108860   \n",
       "2017-06-08 02:20:00        396.013229  ...             12.953272   \n",
       "2017-03-13 19:30:00        391.025085  ...             14.393404   \n",
       "2019-02-28 09:00:00        394.025101  ...              8.704697   \n",
       "2018-06-20 04:20:00        399.000000  ...             20.171934   \n",
       "\n",
       "                     MLPAP_FR-0791.PV  MLPAP_FI-V211.PV(轉換後)  \\\n",
       "2017-06-28 16:50:00         33.374123                    NaN   \n",
       "2017-06-08 02:20:00               NaN                    NaN   \n",
       "2017-03-13 19:30:00         32.603439                    NaN   \n",
       "2019-02-28 09:00:00         32.222403             6757.37793   \n",
       "2018-06-20 04:20:00         29.015205                    NaN   \n",
       "\n",
       "                     MLPAP_PI-0658.PV  MLPAP_TJC-0757.PV  MLPAP_V225-PHD  \\\n",
       "2017-06-28 16:50:00               NaN           2.612654           0.035   \n",
       "2017-06-08 02:20:00        494.239716           2.313998           0.027   \n",
       "2017-03-13 19:30:00        488.777924           2.619755           0.024   \n",
       "2019-02-28 09:00:00               NaN          -0.275361           0.015   \n",
       "2018-06-20 04:20:00               NaN           0.162376           0.048   \n",
       "\n",
       "                     MLPAP_PI-0771.PV  MLPAP_TRC-0747.PV  Unnamed: 96  \\\n",
       "2017-06-28 16:50:00        133.854492         173.500900          NaN   \n",
       "2017-06-08 02:20:00        133.188858         174.149796          NaN   \n",
       "2017-03-13 19:30:00        136.617592         172.374321          NaN   \n",
       "2019-02-28 09:00:00        121.987431         169.852020          NaN   \n",
       "2018-06-20 04:20:00        137.091003         171.773911          NaN   \n",
       "\n",
       "                     MLPAP_TRC-0497.PV  \n",
       "2017-06-28 16:50:00        7520.000000  \n",
       "2017-06-08 02:20:00        7827.967285  \n",
       "2017-03-13 19:30:00           0.000000  \n",
       "2019-02-28 09:00:00           0.000000  \n",
       "2018-06-20 04:20:00        8793.812500  \n",
       "\n",
       "[5 rows x 95 columns]"
      ]
     },
     "execution_count": 3,
     "metadata": {},
     "output_type": "execute_result"
    }
   ],
   "source": [
    "df = pd.read_csv('../data/train_cleaned.csv',index_col=0,parse_dates=True)\n",
    "print(df.shape)\n",
    "df.sample(5)"
   ]
  },
  {
   "cell_type": "markdown",
   "metadata": {},
   "source": [
    "# define columns"
   ]
  },
  {
   "cell_type": "code",
   "execution_count": 4,
   "metadata": {},
   "outputs": [
    {
     "name": "stdout",
     "output_type": "stream",
     "text": [
      "['MLPAP_FQ-0619.PV', 'MLPAP_TJC-0627.PV', 'MLPAP_TRC-0610.PV', 'MLPAP_FR-0632.PV', 'MLPAP_TJC-0757A.PV', 'MLPAP_PIC-0741.PV', 'MLPAP_LIC-0738.PV', 'MLPAP_PIC-0761.PV', 'MLPAP_TRC-0762.PV', 'MLPAP_LRC-0729.PV', 'MLPAP_TJC-1721.PV', 'MLPAP_TRC-1734.PV', 'MLPAP_TRC-0747.PV', 'MLPAP_TJ-0757B.PV'] 14\n",
      "['MLPAP_FQI-0997.PV']\n",
      "['DATA OF USE']\n"
     ]
    }
   ],
   "source": [
    "a = tag[tag['category']=='可控制因子']['TAG'].values.tolist()\n",
    "a.remove('MLPAP_FQ-0619.PV')\n",
    "a.remove('MLPAP_TJC-0757.PV')\n",
    "a.insert(0,'MLPAP_FQ-0619.PV')\n",
    "\n",
    "v = get_col(df,'0997')\n",
    "\n",
    "d = get_col(df,'DATA OF USE')\n",
    "\n",
    "print(a,len(a))\n",
    "print(v)\n",
    "print(d)"
   ]
  },
  {
   "cell_type": "markdown",
   "metadata": {},
   "source": [
    "# select columns"
   ]
  },
  {
   "cell_type": "code",
   "execution_count": 5,
   "metadata": {},
   "outputs": [],
   "source": [
    "df = df[a+v+d]"
   ]
  },
  {
   "cell_type": "markdown",
   "metadata": {},
   "source": [
    "# miss value"
   ]
  },
  {
   "cell_type": "code",
   "execution_count": 6,
   "metadata": {},
   "outputs": [
    {
     "data": {
      "text/plain": [
       "<matplotlib.axes._subplots.AxesSubplot at 0x17c1ab0a788>"
      ]
     },
     "execution_count": 6,
     "metadata": {},
     "output_type": "execute_result"
    },
    {
     "data": {
      "image/png": "[encoded data removed]",
      "text/plain": [
       "<Figure size 1440x360 with 1 Axes>"
      ]
     },
     "metadata": {
      "needs_background": "light"
     },
     "output_type": "display_data"
    }
   ],
   "source": [
    "fig = plt.figure(figsize=(20,5))\n",
    "sns.heatmap(df.isnull(),yticklabels=False,cbar=False,cmap='viridis')"
   ]
  },
  {
   "cell_type": "markdown",
   "metadata": {},
   "source": [
    "# drop miss value column wise"
   ]
  },
  {
   "cell_type": "code",
   "execution_count": 7,
   "metadata": {},
   "outputs": [
    {
     "data": {
      "text/plain": [
       "<matplotlib.axes._subplots.AxesSubplot at 0x17c1ad87d08>"
      ]
     },
     "execution_count": 7,
     "metadata": {},
     "output_type": "execute_result"
    },
    {
     "data": {
      "image/png": "[encoded data removed]",
      "text/plain": [
       "<Figure size 1440x360 with 1 Axes>"
      ]
     },
     "metadata": {
      "needs_background": "light"
     },
     "output_type": "display_data"
    }
   ],
   "source": [
    "df = df.dropna(axis=1,thresh=len(df)*0.6)\n",
    "fig = plt.figure(figsize=(20,5))\n",
    "sns.heatmap(df.isnull(),yticklabels=False,cbar=False,cmap='viridis')"
   ]
  },
  {
   "cell_type": "code",
   "execution_count": 8,
   "metadata": {},
   "outputs": [
    {
     "data": {
      "text/plain": [
       "['MLPAP_FQ-0619.PV',\n",
       " 'MLPAP_TRC-0747.PV',\n",
       " 'MLPAP_TJC-0757A.PV',\n",
       " 'MLPAP_LRC-0729.PV',\n",
       " 'MLPAP_LIC-0738.PV',\n",
       " 'MLPAP_TRC-0762.PV',\n",
       " 'MLPAP_TRC-1734.PV',\n",
       " 'MLPAP_TJC-0627.PV',\n",
       " 'MLPAP_PIC-0761.PV',\n",
       " 'MLPAP_TJ-0757B.PV',\n",
       " 'MLPAP_FR-0632.PV',\n",
       " 'MLPAP_TJC-1721.PV',\n",
       " 'MLPAP_TRC-0610.PV']"
      ]
     },
     "execution_count": 8,
     "metadata": {},
     "output_type": "execute_result"
    }
   ],
   "source": [
    "# 'MLPAP_FQ-0619.PV' first\n",
    "a = list(set(df.columns)&set(a))\n",
    "a.remove('MLPAP_FQ-0619.PV')\n",
    "a.insert(0,'MLPAP_FQ-0619.PV')\n",
    "a"
   ]
  },
  {
   "cell_type": "markdown",
   "metadata": {},
   "source": [
    "# scale data"
   ]
  },
  {
   "cell_type": "code",
   "execution_count": 9,
   "metadata": {},
   "outputs": [
    {
     "data": {
      "text/html": [
       "<div>\n",
       "<style scoped>\n",
       "    .dataframe tbody tr th:only-of-type {\n",
       "        vertical-align: middle;\n",
       "    }\n",
       "\n",
       "    .dataframe tbody tr th {\n",
       "        vertical-align: top;\n",
       "    }\n",
       "\n",
       "    .dataframe thead th {\n",
       "        text-align: right;\n",
       "    }\n",
       "</style>\n",
       "<table border=\"1\" class=\"dataframe\">\n",
       "  <thead>\n",
       "    <tr style=\"text-align: right;\">\n",
       "      <th></th>\n",
       "      <th>MLPAP_FQ-0619.PV</th>\n",
       "      <th>MLPAP_TJC-0627.PV</th>\n",
       "      <th>MLPAP_TRC-0610.PV</th>\n",
       "      <th>MLPAP_FR-0632.PV</th>\n",
       "      <th>MLPAP_TJC-0757A.PV</th>\n",
       "      <th>MLPAP_LIC-0738.PV</th>\n",
       "      <th>MLPAP_PIC-0761.PV</th>\n",
       "      <th>MLPAP_TRC-0762.PV</th>\n",
       "      <th>MLPAP_LRC-0729.PV</th>\n",
       "      <th>MLPAP_TJC-1721.PV</th>\n",
       "      <th>MLPAP_TRC-1734.PV</th>\n",
       "      <th>MLPAP_TRC-0747.PV</th>\n",
       "      <th>MLPAP_TJ-0757B.PV</th>\n",
       "      <th>MLPAP_FQI-0997.PV</th>\n",
       "      <th>DATA OF USE</th>\n",
       "    </tr>\n",
       "  </thead>\n",
       "  <tbody>\n",
       "    <tr>\n",
       "      <td>2019-09-01 01:20:00</td>\n",
       "      <td>NaN</td>\n",
       "      <td>NaN</td>\n",
       "      <td>0.500434</td>\n",
       "      <td>NaN</td>\n",
       "      <td>NaN</td>\n",
       "      <td>NaN</td>\n",
       "      <td>NaN</td>\n",
       "      <td>NaN</td>\n",
       "      <td>NaN</td>\n",
       "      <td>0.388620</td>\n",
       "      <td>0.485725</td>\n",
       "      <td>0.415077</td>\n",
       "      <td>NaN</td>\n",
       "      <td>NaN</td>\n",
       "      <td>0.899003</td>\n",
       "    </tr>\n",
       "    <tr>\n",
       "      <td>2016-09-12 01:10:00</td>\n",
       "      <td>0.896737</td>\n",
       "      <td>0.091526</td>\n",
       "      <td>0.697553</td>\n",
       "      <td>0.834766</td>\n",
       "      <td>0.120521</td>\n",
       "      <td>0.397067</td>\n",
       "      <td>0.978146</td>\n",
       "      <td>0.371240</td>\n",
       "      <td>0.337447</td>\n",
       "      <td>0.453661</td>\n",
       "      <td>0.478074</td>\n",
       "      <td>0.839972</td>\n",
       "      <td>0.175931</td>\n",
       "      <td>0.651867</td>\n",
       "      <td>0.093624</td>\n",
       "    </tr>\n",
       "    <tr>\n",
       "      <td>2018-11-06 20:30:00</td>\n",
       "      <td>0.887047</td>\n",
       "      <td>0.621610</td>\n",
       "      <td>0.617131</td>\n",
       "      <td>0.888485</td>\n",
       "      <td>0.299132</td>\n",
       "      <td>0.548058</td>\n",
       "      <td>0.946166</td>\n",
       "      <td>0.588948</td>\n",
       "      <td>0.544351</td>\n",
       "      <td>0.417925</td>\n",
       "      <td>0.532991</td>\n",
       "      <td>0.837627</td>\n",
       "      <td>0.338612</td>\n",
       "      <td>0.646021</td>\n",
       "      <td>0.677450</td>\n",
       "    </tr>\n",
       "    <tr>\n",
       "      <td>2017-02-24 05:40:00</td>\n",
       "      <td>NaN</td>\n",
       "      <td>NaN</td>\n",
       "      <td>0.061973</td>\n",
       "      <td>NaN</td>\n",
       "      <td>NaN</td>\n",
       "      <td>NaN</td>\n",
       "      <td>NaN</td>\n",
       "      <td>NaN</td>\n",
       "      <td>NaN</td>\n",
       "      <td>0.440504</td>\n",
       "      <td>0.402796</td>\n",
       "      <td>0.444349</td>\n",
       "      <td>NaN</td>\n",
       "      <td>NaN</td>\n",
       "      <td>0.216352</td>\n",
       "    </tr>\n",
       "    <tr>\n",
       "      <td>2019-06-09 00:00:00</td>\n",
       "      <td>0.908495</td>\n",
       "      <td>0.715056</td>\n",
       "      <td>0.612934</td>\n",
       "      <td>0.933714</td>\n",
       "      <td>0.324650</td>\n",
       "      <td>0.825816</td>\n",
       "      <td>0.957449</td>\n",
       "      <td>0.583446</td>\n",
       "      <td>0.928180</td>\n",
       "      <td>0.429932</td>\n",
       "      <td>0.480382</td>\n",
       "      <td>0.809078</td>\n",
       "      <td>0.326415</td>\n",
       "      <td>0.591744</td>\n",
       "      <td>0.836553</td>\n",
       "    </tr>\n",
       "  </tbody>\n",
       "</table>\n",
       "</div>"
      ],
      "text/plain": [
       "                     MLPAP_FQ-0619.PV  MLPAP_TJC-0627.PV  MLPAP_TRC-0610.PV  \\\n",
       "2019-09-01 01:20:00               NaN                NaN           0.500434   \n",
       "2016-09-12 01:10:00          0.896737           0.091526           0.697553   \n",
       "2018-11-06 20:30:00          0.887047           0.621610           0.617131   \n",
       "2017-02-24 05:40:00               NaN                NaN           0.061973   \n",
       "2019-06-09 00:00:00          0.908495           0.715056           0.612934   \n",
       "\n",
       "                     MLPAP_FR-0632.PV  MLPAP_TJC-0757A.PV  MLPAP_LIC-0738.PV  \\\n",
       "2019-09-01 01:20:00               NaN                 NaN                NaN   \n",
       "2016-09-12 01:10:00          0.834766            0.120521           0.397067   \n",
       "2018-11-06 20:30:00          0.888485            0.299132           0.548058   \n",
       "2017-02-24 05:40:00               NaN                 NaN                NaN   \n",
       "2019-06-09 00:00:00          0.933714            0.324650           0.825816   \n",
       "\n",
       "                     MLPAP_PIC-0761.PV  MLPAP_TRC-0762.PV  MLPAP_LRC-0729.PV  \\\n",
       "2019-09-01 01:20:00                NaN                NaN                NaN   \n",
       "2016-09-12 01:10:00           0.978146           0.371240           0.337447   \n",
       "2018-11-06 20:30:00           0.946166           0.588948           0.544351   \n",
       "2017-02-24 05:40:00                NaN                NaN                NaN   \n",
       "2019-06-09 00:00:00           0.957449           0.583446           0.928180   \n",
       "\n",
       "                     MLPAP_TJC-1721.PV  MLPAP_TRC-1734.PV  MLPAP_TRC-0747.PV  \\\n",
       "2019-09-01 01:20:00           0.388620           0.485725           0.415077   \n",
       "2016-09-12 01:10:00           0.453661           0.478074           0.839972   \n",
       "2018-11-06 20:30:00           0.417925           0.532991           0.837627   \n",
       "2017-02-24 05:40:00           0.440504           0.402796           0.444349   \n",
       "2019-06-09 00:00:00           0.429932           0.480382           0.809078   \n",
       "\n",
       "                     MLPAP_TJ-0757B.PV  MLPAP_FQI-0997.PV  DATA OF USE  \n",
       "2019-09-01 01:20:00                NaN                NaN     0.899003  \n",
       "2016-09-12 01:10:00           0.175931           0.651867     0.093624  \n",
       "2018-11-06 20:30:00           0.338612           0.646021     0.677450  \n",
       "2017-02-24 05:40:00                NaN                NaN     0.216352  \n",
       "2019-06-09 00:00:00           0.326415           0.591744     0.836553  "
      ]
     },
     "execution_count": 9,
     "metadata": {},
     "output_type": "execute_result"
    }
   ],
   "source": [
    "mm_d = MinMaxScaler()\n",
    "mm_a = MinMaxScaler()\n",
    "mm_v = MinMaxScaler()\n",
    "\n",
    "df[d] = mm_d.fit_transform(df[d])\n",
    "df[a] = mm_a.fit_transform(df[a])\n",
    "df[v] = mm_v.fit_transform(df[v])\n",
    "\n",
    "df.sample(5)"
   ]
  },
  {
   "cell_type": "markdown",
   "metadata": {},
   "source": [
    "# build dataset for modeling"
   ]
  },
  {
   "cell_type": "code",
   "execution_count": 10,
   "metadata": {},
   "outputs": [],
   "source": [
    "def build_dataset(df,n):\n",
    "    data = {'d':[],'a':[],'v':[],'idx':[]}\n",
    "    for i in tqdm(range(0,len(df)-n,1)):\n",
    "        curr = df.iloc[i:i+n] #一小段資料\n",
    "        if np.isnan(curr.values).sum() == 0: #確保這段資料無缺失值\n",
    "            data['d'].append(curr[d].values.mean())#這段時間的觸媒使用時間均值\n",
    "            data['a'].append(curr[a].values)# 這段時間所有操作\n",
    "            data['v'].append(curr[v].values[-1])#這段時間最後一個時間點的出料\n",
    "            data['idx'].append(curr.index[-1])#這段時間最後對應的時間點\n",
    "    \n",
    "    data['d'] = np.array(data['d']).reshape(-1,1)\n",
    "    data['a'] = np.array(data['a'])\n",
    "    data['v'] = np.array(data['v'])\n",
    "    \n",
    "    data['mm_d'] = mm_d\n",
    "    data['mm_a'] = mm_a\n",
    "    data['mm_v'] = mm_v\n",
    "    \n",
    "    data['d_col'] = d\n",
    "    data['a_col'] = a\n",
    "    data['v_col'] = v\n",
    "    \n",
    "    return data"
   ]
  },
  {
   "cell_type": "code",
   "execution_count": 11,
   "metadata": {},
   "outputs": [
    {
     "data": {
      "application/vnd.jupyter.widget-view+json": {
       "model_id": "a3fef2c27bf141e9af81e2defeb5bb56",
       "version_major": 2,
       "version_minor": 0
      },
      "text/plain": [
       "HBox(children=(IntProgress(value=0, max=193788), HTML(value='')))"
      ]
     },
     "metadata": {},
     "output_type": "display_data"
    },
    {
     "name": "stdout",
     "output_type": "stream",
     "text": [
      "\n"
     ]
    }
   ],
   "source": [
    "data = build_dataset(df,36)"
   ]
  },
  {
   "cell_type": "code",
   "execution_count": 12,
   "metadata": {},
   "outputs": [
    {
     "data": {
      "text/plain": [
       "dict_keys(['d', 'a', 'v', 'idx', 'mm_d', 'mm_a', 'mm_v', 'd_col', 'a_col', 'v_col'])"
      ]
     },
     "execution_count": 12,
     "metadata": {},
     "output_type": "execute_result"
    }
   ],
   "source": [
    "data.keys()"
   ]
  },
  {
   "cell_type": "code",
   "execution_count": 13,
   "metadata": {},
   "outputs": [
    {
     "data": {
      "text/plain": [
       "['../data/dataset.pkl']"
      ]
     },
     "execution_count": 13,
     "metadata": {},
     "output_type": "execute_result"
    }
   ],
   "source": [
    "joblib.dump(data,'../data/dataset.pkl')"
   ]
  },
  {
   "cell_type": "code",
   "execution_count": null,
   "metadata": {},
   "outputs": [],
   "source": []
  }
 ],
 "metadata": {
  "kernelspec": {
   "display_name": "Python 3",
   "language": "python",
   "name": "python3"
  },
  "language_info": {
   "codemirror_mode": {
    "name": "ipython",
    "version": 3
   },
   "file_extension": ".py",
   "mimetype": "text/x-python",
   "name": "python",
   "nbconvert_exporter": "python",
   "pygments_lexer": "ipython3",
   "version": "3.7.4"
  }
 },
 "nbformat": 4,
 "nbformat_minor": 2
}
