{
 "cells": [
  {
   "cell_type": "code",
   "execution_count": 1,
   "metadata": {},
   "outputs": [
    {
     "data": {
      "text/plain": [
       "['Critic.pkl', 'PAagent.pkl', 'stream_lasso_weight.pkl']"
      ]
     },
     "execution_count": 1,
     "metadata": {},
     "output_type": "execute_result"
    }
   ],
   "source": [
    "import pandas as pd\n",
    "import joblib\n",
    "import numpy as np\n",
    "import pandas as pd\n",
    "from torch import nn\n",
    "import torch\n",
    "import os\n",
    "import torch.optim as optim\n",
    "import warnings \n",
    "from utils import *\n",
    "warnings.simplefilter('ignore')\n",
    "from torch.nn import Linear,ReLU,Sigmoid\n",
    "torch.cuda.is_available()\n",
    "os.listdir('../model')"
   ]
  },
  {
   "cell_type": "code",
   "execution_count": 2,
   "metadata": {},
   "outputs": [
    {
     "data": {
      "text/plain": [
       "['dataset.pkl',\n",
       " 'PA_201605-2020001更新R10(20200602).csv',\n",
       " 'PA_201605-2020001更新R9(20200508).csv',\n",
       " 'tag_cleaned.csv',\n",
       " 'tag盤點表20200423.xlsx',\n",
       " 'tag盤點表20200602R1.xlsx',\n",
       " 'train_cleaned.csv']"
      ]
     },
     "execution_count": 2,
     "metadata": {},
     "output_type": "execute_result"
    }
   ],
   "source": [
    "os.listdir('../data')"
   ]
  },
  {
   "cell_type": "code",
   "execution_count": 3,
   "metadata": {},
   "outputs": [],
   "source": [
    "tag = pd.read_csv('../data/tag_cleaned.csv')\n",
    "tag_map = dict(zip(tag.TAG,tag.chinese))"
   ]
  },
  {
   "cell_type": "markdown",
   "metadata": {},
   "source": [
    "# load critic , lasso_weight and data"
   ]
  },
  {
   "cell_type": "code",
   "execution_count": 4,
   "metadata": {},
   "outputs": [],
   "source": [
    "critic = joblib.load('../model/Critic.pkl').eval()\n",
    "lasso_w = torch.FloatTensor(joblib.load('../model/stream_lasso_weight.pkl')).cuda()"
   ]
  },
  {
   "cell_type": "code",
   "execution_count": 5,
   "metadata": {},
   "outputs": [
    {
     "data": {
      "text/plain": [
       "dict_keys(['state', 'action', 'output', 'stream', 'idx', 'mm_state', 'mm_action', 'mm_output', 'mm_stream', 'state_col', 'action_col', 'output_col', 'stream_col'])"
      ]
     },
     "execution_count": 5,
     "metadata": {},
     "output_type": "execute_result"
    }
   ],
   "source": [
    "data = joblib.load('../data/dataset.pkl')\n",
    "data.keys()"
   ]
  },
  {
   "cell_type": "markdown",
   "metadata": {},
   "source": [
    "# data iter"
   ]
  },
  {
   "cell_type": "code",
   "execution_count": 6,
   "metadata": {},
   "outputs": [
    {
     "data": {
      "text/plain": [
       "(torch.Size([124712, 2]), torch.Size([124712, 1]))"
      ]
     },
     "execution_count": 6,
     "metadata": {},
     "output_type": "execute_result"
    }
   ],
   "source": [
    "state = torch.FloatTensor(data['state']).cuda()\n",
    "request = torch.FloatTensor(np.random.uniform(0,1,size=(state.shape[0],1))).cuda()\n",
    "state.shape,request.shape"
   ]
  },
  {
   "cell_type": "code",
   "execution_count": 7,
   "metadata": {},
   "outputs": [],
   "source": [
    "train = torch.utils.data.TensorDataset(state,request)\n",
    "train_iter = torch.utils.data.DataLoader(train, batch_size=256, shuffle=True)"
   ]
  },
  {
   "cell_type": "markdown",
   "metadata": {},
   "source": [
    "# Construct the neural network"
   ]
  },
  {
   "cell_type": "code",
   "execution_count": 8,
   "metadata": {},
   "outputs": [
    {
     "data": {
      "text/plain": [
       "(124712, 36, 12)"
      ]
     },
     "execution_count": 8,
     "metadata": {},
     "output_type": "execute_result"
    }
   ],
   "source": [
    "data['action'].shape"
   ]
  },
  {
   "cell_type": "code",
   "execution_count": 9,
   "metadata": {},
   "outputs": [],
   "source": [
    "class Actor(nn.Module):\n",
    "    def __init__(self):\n",
    "        super().__init__()\n",
    "        self.time_step = 36\n",
    "        self.num_sensor = 12\n",
    "        self.flat_size = self.time_step*self.num_sensor\n",
    "        self.fc = nn.Sequential(nn.Linear(3,128),nn.ReLU(),nn.Linear(128,self.flat_size))\n",
    "        \n",
    "    def forward(self,state,request):\n",
    "        action = self.fc(torch.cat((state,request),dim=1))\n",
    "        action = action.view(-1,self.time_step,self.num_sensor)\n",
    "        return F.sigmoid(action)"
   ]
  },
  {
   "cell_type": "code",
   "execution_count": 10,
   "metadata": {},
   "outputs": [],
   "source": [
    "def init_weights(m):\n",
    "    if hasattr(m,'weight'):\n",
    "        try:\n",
    "            torch.nn.init.xavier_uniform(m.weight)\n",
    "        except:\n",
    "            pass\n",
    "    \n",
    "    if hasattr(m,'bias'):\n",
    "        try:\n",
    "            m.bias.data.fill_(0)\n",
    "        except:\n",
    "            pass"
   ]
  },
  {
   "cell_type": "code",
   "execution_count": 11,
   "metadata": {},
   "outputs": [
    {
     "data": {
      "text/plain": [
       "Actor(\n",
       "  (fc): Sequential(\n",
       "    (0): Linear(in_features=3, out_features=128, bias=True)\n",
       "    (1): ReLU()\n",
       "    (2): Linear(in_features=128, out_features=432, bias=True)\n",
       "  )\n",
       ")"
      ]
     },
     "execution_count": 11,
     "metadata": {},
     "output_type": "execute_result"
    }
   ],
   "source": [
    "net = Actor().cuda()\n",
    "net.apply(init_weights)"
   ]
  },
  {
   "cell_type": "markdown",
   "metadata": {},
   "source": [
    "# forward test"
   ]
  },
  {
   "cell_type": "code",
   "execution_count": 12,
   "metadata": {},
   "outputs": [
    {
     "name": "stdout",
     "output_type": "stream",
     "text": [
      "torch.Size([124712, 36, 12])\n"
     ]
    }
   ],
   "source": [
    "print(net(state,request).shape)"
   ]
  },
  {
   "cell_type": "markdown",
   "metadata": {},
   "source": [
    "# objective"
   ]
  },
  {
   "cell_type": "code",
   "execution_count": 13,
   "metadata": {},
   "outputs": [],
   "source": [
    "time_step = 36\n",
    "num_sensor = 12"
   ]
  },
  {
   "cell_type": "code",
   "execution_count": 14,
   "metadata": {},
   "outputs": [],
   "source": [
    "loss_history = {}\n",
    "loss_history['loss1'] = []\n",
    "loss_history['loss2'] = []\n",
    "loss_history['loss3'] = []\n",
    "loss_history['loss4'] = []\n",
    "loss_history['loss5'] = []"
   ]
  },
  {
   "cell_type": "code",
   "execution_count": 15,
   "metadata": {},
   "outputs": [],
   "source": [
    "def obj_function(action,state,request):\n",
    "    \n",
    "    # critic predict 0997 but not predict stream\n",
    "    output, _ = critic(state,action)\n",
    "    \n",
    "    # lasso predict stream\n",
    "    batch_size = action.shape[0]\n",
    "    stream = (action.reshape(batch_size,-1)@lasso_w).reshape(-1,1)\n",
    "    \n",
    "    # 滿足使用者需求\n",
    "    loss1 = ((request - output)**2).mean()\n",
    "    \n",
    "    # 最小化蒸氣量\n",
    "    loss2 = (stream**2).mean()\n",
    "    \n",
    "    # 入料跟出料質量平衡\n",
    "    feed = action.reshape(-1,time_step,num_sensor)[:,:,0]\n",
    "    loss3 = ((0.8*feed - request)**2).mean()\n",
    "    \n",
    "    # 避免鹽浴溫差太大\n",
    "    temp_1 = action.reshape(-1,time_step,num_sensor)[:,:,4]\n",
    "    temp_2 = action.reshape(-1,time_step,num_sensor)[:,:,-2]\n",
    "    loss4 = ((temp_1 - temp_2)**2).mean()\n",
    "    \n",
    "    # 避免變異數太大(時間軸上)\n",
    "    loss5 = action.reshape(-1,time_step,num_sensor).std(axis=1)\n",
    "    loss5 = loss5.sum(axis=-1).mean(axis=0) # instance wise => batch wise\n",
    "    \n",
    "    # 紀錄\n",
    "    loss_history['loss1'].append(loss1.item())\n",
    "    loss_history['loss2'].append(loss2.item())\n",
    "    loss_history['loss3'].append(loss3.item())\n",
    "    loss_history['loss4'].append(loss4.item())\n",
    "    loss_history['loss5'].append(loss5.item())\n",
    "    \n",
    "    return loss1 + 0*loss2 + loss3 + loss4 + loss5"
   ]
  },
  {
   "cell_type": "code",
   "execution_count": 16,
   "metadata": {},
   "outputs": [
    {
     "data": {
      "text/plain": [
       "tensor(0.3511, device='cuda:0', grad_fn=<AddBackward0>)"
      ]
     },
     "execution_count": 16,
     "metadata": {},
     "output_type": "execute_result"
    }
   ],
   "source": [
    "obj_function(net(state,request),state,request)"
   ]
  },
  {
   "cell_type": "markdown",
   "metadata": {},
   "source": [
    "# optimizer"
   ]
  },
  {
   "cell_type": "code",
   "execution_count": 17,
   "metadata": {},
   "outputs": [],
   "source": [
    "optimizer = optim.Adam(net.parameters(),lr=1e-4)"
   ]
  },
  {
   "cell_type": "markdown",
   "metadata": {},
   "source": [
    "# train loop"
   ]
  },
  {
   "cell_type": "code",
   "execution_count": 18,
   "metadata": {},
   "outputs": [],
   "source": [
    "def train(net,train_iter,obj_function,optimizer,num_epochs=100):\n",
    "    train_history = []\n",
    "    for epoch in range(num_epochs):\n",
    "        train_avg_loss = 0\n",
    "        t = 0\n",
    "        \n",
    "        for state,request in train_iter:\n",
    "            action = net(state,request)\n",
    "            loss = obj_function(action,state,request)\n",
    "            loss.backward()\n",
    "            optimizer.step()\n",
    "            optimizer.zero_grad()\n",
    "            train_avg_loss += loss.item()\n",
    "            t += 1\n",
    "        \n",
    "        train_avg_loss /= t\n",
    "        print(\"epochs {} loss {:.4f}\".format(epoch,train_avg_loss))\n",
    "        train_history.append(train_avg_loss)\n",
    "    \n",
    "    # plt train loss\n",
    "    plt.plot(np.array(train_history))\n",
    "    plt.title('train loss')\n",
    "    return net"
   ]
  },
  {
   "cell_type": "code",
   "execution_count": 19,
   "metadata": {},
   "outputs": [
    {
     "name": "stdout",
     "output_type": "stream",
     "text": [
      "epochs 0 loss 0.1941\n",
      "epochs 1 loss 0.1069\n",
      "epochs 2 loss 0.0623\n",
      "epochs 3 loss 0.0440\n",
      "epochs 4 loss 0.0337\n",
      "epochs 5 loss 0.0272\n",
      "epochs 6 loss 0.0228\n",
      "epochs 7 loss 0.0198\n",
      "epochs 8 loss 0.0176\n",
      "epochs 9 loss 0.0160\n",
      "epochs 10 loss 0.0148\n",
      "epochs 11 loss 0.0139\n",
      "epochs 12 loss 0.0131\n",
      "epochs 13 loss 0.0125\n",
      "epochs 14 loss 0.0121\n",
      "epochs 15 loss 0.0117\n",
      "epochs 16 loss 0.0114\n",
      "epochs 17 loss 0.0111\n",
      "epochs 18 loss 0.0109\n",
      "epochs 19 loss 0.0107\n",
      "epochs 20 loss 0.0105\n",
      "epochs 21 loss 0.0103\n",
      "epochs 22 loss 0.0102\n",
      "epochs 23 loss 0.0101\n",
      "epochs 24 loss 0.0100\n",
      "epochs 25 loss 0.0099\n",
      "epochs 26 loss 0.0098\n",
      "epochs 27 loss 0.0097\n",
      "epochs 28 loss 0.0097\n",
      "epochs 29 loss 0.0096\n"
     ]
    },
    {
     "data": {
      "image/png": "[encoded data removed]",
      "text/plain": [
       "<Figure size 432x288 with 1 Axes>"
      ]
     },
     "metadata": {
      "needs_background": "light"
     },
     "output_type": "display_data"
    }
   ],
   "source": [
    "actor = train(net,train_iter,obj_function,optimizer,num_epochs=30)"
   ]
  },
  {
   "cell_type": "code",
   "execution_count": 20,
   "metadata": {},
   "outputs": [
    {
     "data": {
      "image/png": "[encoded data removed]",
      "text/plain": [
       "<Figure size 432x288 with 1 Axes>"
      ]
     },
     "metadata": {
      "needs_background": "light"
     },
     "output_type": "display_data"
    }
   ],
   "source": [
    "for k,v in loss_history.items():\n",
    "    plt.plot(pd.Series(v).rolling(5).mean(),label=k)\n",
    "plt.legend()\n",
    "plt.show()"
   ]
  },
  {
   "cell_type": "markdown",
   "metadata": {},
   "source": [
    "# build api"
   ]
  },
  {
   "cell_type": "code",
   "execution_count": 21,
   "metadata": {},
   "outputs": [],
   "source": [
    "class PA_ROBOT:\n",
    "    def __init__(self):\n",
    "        self.mm_output = data['mm_output']\n",
    "        self.mm_stream = data['mm_stream']\n",
    "        self.mm_state = data['mm_state']\n",
    "        self.mm_action = data['mm_action']\n",
    "        self.action_col = data['action_col']\n",
    "        self.tag_map = tag_map\n",
    "        self.actor = actor\n",
    "        self.critic = critic\n",
    "        self.lasso_w = lasso_w\n",
    "    \n",
    "    def get_advice(self,state,request):\n",
    "        \n",
    "        # sacle input\n",
    "        request = self.mm_output.transform([[request]])\n",
    "        state = self.mm_state.transform([state])\n",
    "        \n",
    "        # tensor format input\n",
    "        request = torch.FloatTensor([request]).cuda().reshape(-1,1)\n",
    "        state = torch.FloatTensor(state).cuda()\n",
    "        \n",
    "        # actor forward\n",
    "        action = self.actor(state,request)\n",
    "        \n",
    "        # critic forward but not predict stream\n",
    "        output,_ = self.critic(state,action)\n",
    "        \n",
    "        # lasso predict stream\n",
    "        batch_size = action.shape[0]\n",
    "        stream = (action.reshape(batch_size,-1)@self.lasso_w).reshape(-1,1)\n",
    "        \n",
    "        # inverse transform\n",
    "        output = output.detach().cpu().numpy()\n",
    "        output = self.mm_output.inverse_transform(output)\n",
    "        stream = stream.detach().cpu().numpy()\n",
    "        stream = self.mm_stream.inverse_transform(stream)\n",
    "        action = action.detach().cpu().numpy()\n",
    "        action = np.array([self.mm_action.inverse_transform(i) for i in action]).squeeze(0)\n",
    "        \n",
    "        # create advice DataFrame\n",
    "        advice = pd.DataFrame(index = self.action_col)\n",
    "        advice['chinese'] = advice.index.map(self.tag_map) \n",
    "        advice['mean'] = action.mean(axis=0)\n",
    "        advice['max'] = action.max(axis=0)\n",
    "        advice['min'] = action.min(axis=0)\n",
    "        \n",
    "        return advice,output,stream"
   ]
  },
  {
   "cell_type": "code",
   "execution_count": 22,
   "metadata": {},
   "outputs": [],
   "source": [
    "robot = PA_ROBOT()"
   ]
  },
  {
   "cell_type": "code",
   "execution_count": 23,
   "metadata": {},
   "outputs": [
    {
     "name": "stdout",
     "output_type": "stream",
     "text": [
      "output: [[8415.327]] stream: [[34991.188]]\n"
     ]
    },
    {
     "data": {
      "text/html": [
       "<div>\n",
       "<style scoped>\n",
       "    .dataframe tbody tr th:only-of-type {\n",
       "        vertical-align: middle;\n",
       "    }\n",
       "\n",
       "    .dataframe tbody tr th {\n",
       "        vertical-align: top;\n",
       "    }\n",
       "\n",
       "    .dataframe thead th {\n",
       "        text-align: right;\n",
       "    }\n",
       "</style>\n",
       "<table border=\"1\" class=\"dataframe\">\n",
       "  <thead>\n",
       "    <tr style=\"text-align: right;\">\n",
       "      <th></th>\n",
       "      <th>chinese</th>\n",
       "      <th>mean</th>\n",
       "      <th>max</th>\n",
       "      <th>min</th>\n",
       "    </tr>\n",
       "  </thead>\n",
       "  <tbody>\n",
       "    <tr>\n",
       "      <td>MLPAP_FQ-0619.PV</td>\n",
       "      <td>OX入料量</td>\n",
       "      <td>7242.276855</td>\n",
       "      <td>7242.555176</td>\n",
       "      <td>7242.126953</td>\n",
       "    </tr>\n",
       "    <tr>\n",
       "      <td>MLPAP_TJC-0627.PV</td>\n",
       "      <td>OX預熱器出口溫度</td>\n",
       "      <td>150.840591</td>\n",
       "      <td>150.841461</td>\n",
       "      <td>150.839935</td>\n",
       "    </tr>\n",
       "    <tr>\n",
       "      <td>MLPAP_TRC-0610.PV</td>\n",
       "      <td>空氣預熱器出口溫度</td>\n",
       "      <td>180.009705</td>\n",
       "      <td>180.012848</td>\n",
       "      <td>180.007797</td>\n",
       "    </tr>\n",
       "    <tr>\n",
       "      <td>MLPAP_FR-0632.PV</td>\n",
       "      <td>汽機風量</td>\n",
       "      <td>57.067825</td>\n",
       "      <td>57.072548</td>\n",
       "      <td>57.062397</td>\n",
       "    </tr>\n",
       "    <tr>\n",
       "      <td>MLPAP_TJC-0757A.PV</td>\n",
       "      <td>反應槽鹽浴溫度</td>\n",
       "      <td>354.457184</td>\n",
       "      <td>354.458252</td>\n",
       "      <td>354.455963</td>\n",
       "    </tr>\n",
       "    <tr>\n",
       "      <td>MLPAP_PIC-0761.PV</td>\n",
       "      <td>鹽浴冷卻器(E112)出口壓力</td>\n",
       "      <td>44.971664</td>\n",
       "      <td>44.972103</td>\n",
       "      <td>44.970825</td>\n",
       "    </tr>\n",
       "    <tr>\n",
       "      <td>MLPAP_TRC-0762.PV</td>\n",
       "      <td>鹽浴冷卻器(E112)入口溫度</td>\n",
       "      <td>356.124329</td>\n",
       "      <td>356.125732</td>\n",
       "      <td>356.123077</td>\n",
       "    </tr>\n",
       "    <tr>\n",
       "      <td>MLPAP_TJC-1721.PV</td>\n",
       "      <td>轉換式冷凝器冷油溫度</td>\n",
       "      <td>61.634033</td>\n",
       "      <td>61.634747</td>\n",
       "      <td>61.633568</td>\n",
       "    </tr>\n",
       "    <tr>\n",
       "      <td>MLPAP_TRC-1734.PV</td>\n",
       "      <td>轉換式冷凝器熱油溫度</td>\n",
       "      <td>184.334732</td>\n",
       "      <td>184.336212</td>\n",
       "      <td>184.333435</td>\n",
       "    </tr>\n",
       "    <tr>\n",
       "      <td>MLPAP_TRC-0747.PV</td>\n",
       "      <td>E220出口溫度</td>\n",
       "      <td>136.770325</td>\n",
       "      <td>136.777115</td>\n",
       "      <td>136.765320</td>\n",
       "    </tr>\n",
       "    <tr>\n",
       "      <td>MLPAP_TJ-0757B.PV</td>\n",
       "      <td>反應槽鹽浴溫度</td>\n",
       "      <td>354.193115</td>\n",
       "      <td>354.194672</td>\n",
       "      <td>354.191406</td>\n",
       "    </tr>\n",
       "    <tr>\n",
       "      <td>濃度</td>\n",
       "      <td>NaN</td>\n",
       "      <td>494583.062500</td>\n",
       "      <td>494617.656250</td>\n",
       "      <td>494549.218750</td>\n",
       "    </tr>\n",
       "  </tbody>\n",
       "</table>\n",
       "</div>"
      ],
      "text/plain": [
       "                            chinese           mean            max  \\\n",
       "MLPAP_FQ-0619.PV              OX入料量    7242.276855    7242.555176   \n",
       "MLPAP_TJC-0627.PV         OX預熱器出口溫度     150.840591     150.841461   \n",
       "MLPAP_TRC-0610.PV         空氣預熱器出口溫度     180.009705     180.012848   \n",
       "MLPAP_FR-0632.PV               汽機風量      57.067825      57.072548   \n",
       "MLPAP_TJC-0757A.PV          反應槽鹽浴溫度     354.457184     354.458252   \n",
       "MLPAP_PIC-0761.PV   鹽浴冷卻器(E112)出口壓力      44.971664      44.972103   \n",
       "MLPAP_TRC-0762.PV   鹽浴冷卻器(E112)入口溫度     356.124329     356.125732   \n",
       "MLPAP_TJC-1721.PV        轉換式冷凝器冷油溫度      61.634033      61.634747   \n",
       "MLPAP_TRC-1734.PV        轉換式冷凝器熱油溫度     184.334732     184.336212   \n",
       "MLPAP_TRC-0747.PV          E220出口溫度     136.770325     136.777115   \n",
       "MLPAP_TJ-0757B.PV           反應槽鹽浴溫度     354.193115     354.194672   \n",
       "濃度                              NaN  494583.062500  494617.656250   \n",
       "\n",
       "                              min  \n",
       "MLPAP_FQ-0619.PV      7242.126953  \n",
       "MLPAP_TJC-0627.PV      150.839935  \n",
       "MLPAP_TRC-0610.PV      180.007797  \n",
       "MLPAP_FR-0632.PV        57.062397  \n",
       "MLPAP_TJC-0757A.PV     354.455963  \n",
       "MLPAP_PIC-0761.PV       44.970825  \n",
       "MLPAP_TRC-0762.PV      356.123077  \n",
       "MLPAP_TJC-1721.PV       61.633568  \n",
       "MLPAP_TRC-1734.PV      184.333435  \n",
       "MLPAP_TRC-0747.PV      136.765320  \n",
       "MLPAP_TJ-0757B.PV      354.191406  \n",
       "濃度                  494549.218750  "
      ]
     },
     "execution_count": 23,
     "metadata": {},
     "output_type": "execute_result"
    }
   ],
   "source": [
    "advice,output,stream = robot.get_advice([0.5,0.5],8000)\n",
    "print('output:',output,'stream:',stream)\n",
    "advice"
   ]
  },
  {
   "cell_type": "code",
   "execution_count": 24,
   "metadata": {},
   "outputs": [
    {
     "name": "stdout",
     "output_type": "stream",
     "text": [
      "[[0.8606055]]\n"
     ]
    }
   ],
   "source": [
    "print(advice.loc['MLPAP_FQ-0619.PV','mean']/output)"
   ]
  },
  {
   "cell_type": "markdown",
   "metadata": {},
   "source": [
    "# save"
   ]
  },
  {
   "cell_type": "code",
   "execution_count": 25,
   "metadata": {},
   "outputs": [
    {
     "data": {
      "text/plain": [
       "['../model/PAagent.pkl']"
      ]
     },
     "execution_count": 25,
     "metadata": {},
     "output_type": "execute_result"
    }
   ],
   "source": [
    "joblib.dump(robot,'../model/PAagent.pkl')"
   ]
  },
  {
   "cell_type": "code",
   "execution_count": null,
   "metadata": {},
   "outputs": [],
   "source": []
  }
 ],
 "metadata": {
  "kernelspec": {
   "display_name": "Python 3",
   "language": "python",
   "name": "python3"
  },
  "language_info": {
   "codemirror_mode": {
    "name": "ipython",
    "version": 3
   },
   "file_extension": ".py",
   "mimetype": "text/x-python",
   "name": "python",
   "nbconvert_exporter": "python",
   "pygments_lexer": "ipython3",
   "version": "3.7.4"
  }
 },
 "nbformat": 4,
 "nbformat_minor": 2
}
