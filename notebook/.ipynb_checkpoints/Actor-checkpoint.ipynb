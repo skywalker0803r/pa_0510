{
 "cells": [
  {
   "cell_type": "code",
   "execution_count": 1,
   "metadata": {},
   "outputs": [
    {
     "data": {
      "text/plain": [
       "['Critic.pkl', 'PAagent.pkl']"
      ]
     },
     "execution_count": 1,
     "metadata": {},
     "output_type": "execute_result"
    }
   ],
   "source": [
    "import pandas as pd\n",
    "import joblib\n",
    "import numpy as np\n",
    "import pandas as pd\n",
    "from torch import nn\n",
    "import torch\n",
    "import os\n",
    "import torch.optim as optim\n",
    "import warnings \n",
    "from utils import *\n",
    "warnings.simplefilter('ignore')\n",
    "from torch.nn import Linear,ReLU,Sigmoid\n",
    "torch.cuda.is_available()\n",
    "os.listdir('../model')"
   ]
  },
  {
   "cell_type": "code",
   "execution_count": 2,
   "metadata": {},
   "outputs": [
    {
     "data": {
      "text/plain": [
       "['dataset.pkl',\n",
       " 'PA_201605-2020001更新R8(20200423).csv',\n",
       " 'tag盤點表20200423.xlsx',\n",
       " 'PA_201605-2020001更新R9(20200508).csv',\n",
       " 'train_cleaned.csv',\n",
       " 'tag_cleaned.csv']"
      ]
     },
     "execution_count": 2,
     "metadata": {},
     "output_type": "execute_result"
    }
   ],
   "source": [
    "os.listdir('../data')"
   ]
  },
  {
   "cell_type": "code",
   "execution_count": 3,
   "metadata": {},
   "outputs": [],
   "source": [
    "tag = pd.read_csv('../data/tag_cleaned.csv')\n",
    "tag_map = dict(zip(tag.TAG,tag.chinese))"
   ]
  },
  {
   "cell_type": "markdown",
   "metadata": {},
   "source": [
    "# load critic and data"
   ]
  },
  {
   "cell_type": "code",
   "execution_count": 4,
   "metadata": {},
   "outputs": [],
   "source": [
    "critic = joblib.load('../model/Critic.pkl').eval()"
   ]
  },
  {
   "cell_type": "code",
   "execution_count": 5,
   "metadata": {},
   "outputs": [
    {
     "data": {
      "text/plain": [
       "dict_keys(['state', 'action', 'output', 'stream', 'idx', 'mm_state', 'mm_action', 'mm_output', 'mm_stream', 'state_col', 'action_col', 'output_col', 'stream_col'])"
      ]
     },
     "execution_count": 5,
     "metadata": {},
     "output_type": "execute_result"
    }
   ],
   "source": [
    "data = joblib.load('../data/dataset.pkl')\n",
    "data.keys()"
   ]
  },
  {
   "cell_type": "markdown",
   "metadata": {},
   "source": [
    "# data iter"
   ]
  },
  {
   "cell_type": "code",
   "execution_count": 6,
   "metadata": {},
   "outputs": [
    {
     "data": {
      "text/plain": [
       "(torch.Size([130823, 1]), torch.Size([130823, 1]))"
      ]
     },
     "execution_count": 6,
     "metadata": {},
     "output_type": "execute_result"
    }
   ],
   "source": [
    "state = torch.FloatTensor(data['state']).cuda()\n",
    "request = torch.FloatTensor(np.random.uniform(0,1,size=(state.shape[0],1))).cuda()\n",
    "state.shape,request.shape"
   ]
  },
  {
   "cell_type": "code",
   "execution_count": 7,
   "metadata": {},
   "outputs": [],
   "source": [
    "train = torch.utils.data.TensorDataset(state,request)\n",
    "train_iter = torch.utils.data.DataLoader(train, batch_size=256, shuffle=True)"
   ]
  },
  {
   "cell_type": "markdown",
   "metadata": {},
   "source": [
    "# Construct the neural network"
   ]
  },
  {
   "cell_type": "code",
   "execution_count": 8,
   "metadata": {},
   "outputs": [
    {
     "data": {
      "text/plain": [
       "(130823, 36, 13)"
      ]
     },
     "execution_count": 8,
     "metadata": {},
     "output_type": "execute_result"
    }
   ],
   "source": [
    "data['action'].shape"
   ]
  },
  {
   "cell_type": "code",
   "execution_count": 9,
   "metadata": {},
   "outputs": [],
   "source": [
    "class Actor(nn.Module):\n",
    "    def __init__(self):\n",
    "        super().__init__()\n",
    "        self.time_step = 36\n",
    "        self.num_sensor = 13\n",
    "        self.flat_size = self.time_step*self.num_sensor\n",
    "        self.fc = nn.Sequential(nn.Linear(2,128),nn.ReLU(),nn.Linear(128,self.flat_size))\n",
    "        \n",
    "    def forward(self,state,request):\n",
    "        action = self.fc(torch.cat((state,request),dim=1))\n",
    "        action = action.view(-1,self.time_step,self.num_sensor)\n",
    "        return F.sigmoid(action)"
   ]
  },
  {
   "cell_type": "code",
   "execution_count": 10,
   "metadata": {},
   "outputs": [],
   "source": [
    "def init_weights(m):\n",
    "    if hasattr(m,'weight'):\n",
    "        try:\n",
    "            torch.nn.init.xavier_uniform(m.weight)\n",
    "        except:\n",
    "            pass\n",
    "    \n",
    "    if hasattr(m,'bias'):\n",
    "        try:\n",
    "            m.bias.data.fill_(0)\n",
    "        except:\n",
    "            pass"
   ]
  },
  {
   "cell_type": "code",
   "execution_count": 11,
   "metadata": {},
   "outputs": [
    {
     "data": {
      "text/plain": [
       "Actor(\n",
       "  (fc): Sequential(\n",
       "    (0): Linear(in_features=2, out_features=128, bias=True)\n",
       "    (1): ReLU()\n",
       "    (2): Linear(in_features=128, out_features=468, bias=True)\n",
       "  )\n",
       ")"
      ]
     },
     "execution_count": 11,
     "metadata": {},
     "output_type": "execute_result"
    }
   ],
   "source": [
    "net = Actor().cuda()\n",
    "net.apply(init_weights)"
   ]
  },
  {
   "cell_type": "markdown",
   "metadata": {},
   "source": [
    "# forward test"
   ]
  },
  {
   "cell_type": "code",
   "execution_count": 12,
   "metadata": {},
   "outputs": [
    {
     "name": "stdout",
     "output_type": "stream",
     "text": [
      "torch.Size([130823, 36, 13])\n"
     ]
    }
   ],
   "source": [
    "print(net(state,request).shape)"
   ]
  },
  {
   "cell_type": "markdown",
   "metadata": {},
   "source": [
    "# objective"
   ]
  },
  {
   "cell_type": "code",
   "execution_count": 13,
   "metadata": {},
   "outputs": [],
   "source": [
    "time_step = 36\n",
    "num_sensor = 13"
   ]
  },
  {
   "cell_type": "code",
   "execution_count": 14,
   "metadata": {},
   "outputs": [],
   "source": [
    "def obj_function(action,state,request):\n",
    "    output,stream = critic(state,action)\n",
    "    \n",
    "    loss1 = ((request - output)**2).mean()\n",
    "    \n",
    "    loss2 = (stream**2).mean()\n",
    "    \n",
    "    feed = action.reshape(-1,time_step,num_sensor)[:,:,0]\n",
    "    temp_1 = action.reshape(-1,time_step,num_sensor)[:,:,4]\n",
    "    temp_2 = action.reshape(-1,time_step,num_sensor)[:,:,-1]\n",
    "    \n",
    "    loss3 = ((0.7*feed - request)**2).mean()\n",
    "    \n",
    "    loss4 = ((temp_1 - temp_2)**2).mean()\n",
    "    \n",
    "    return loss1 + loss2 + loss3 + loss4"
   ]
  },
  {
   "cell_type": "code",
   "execution_count": 15,
   "metadata": {},
   "outputs": [
    {
     "data": {
      "text/plain": [
       "tensor(0.5472, device='cuda:0', grad_fn=<AddBackward0>)"
      ]
     },
     "execution_count": 15,
     "metadata": {},
     "output_type": "execute_result"
    }
   ],
   "source": [
    "obj_function(net(state,request),state,request)"
   ]
  },
  {
   "cell_type": "markdown",
   "metadata": {},
   "source": [
    "# optimizer"
   ]
  },
  {
   "cell_type": "code",
   "execution_count": 16,
   "metadata": {},
   "outputs": [],
   "source": [
    "optimizer = optim.Adam(net.parameters(),lr=1e-4)"
   ]
  },
  {
   "cell_type": "markdown",
   "metadata": {},
   "source": [
    "# train loop"
   ]
  },
  {
   "cell_type": "code",
   "execution_count": 17,
   "metadata": {},
   "outputs": [],
   "source": [
    "def train(net,train_iter,obj_function,optimizer,num_epochs=100):\n",
    "    train_history = []\n",
    "    for epoch in range(num_epochs):\n",
    "        train_avg_loss = 0\n",
    "        t = 0\n",
    "        \n",
    "        for state,request in train_iter:\n",
    "            action = net(state,request)\n",
    "            loss = obj_function(action,state,request)\n",
    "            loss.backward()\n",
    "            optimizer.step()\n",
    "            optimizer.zero_grad()\n",
    "            train_avg_loss += loss.item()\n",
    "            t += 1\n",
    "        \n",
    "        train_avg_loss /= t\n",
    "        print(\"epochs {} loss {:.4f}\".format(epoch,train_avg_loss))\n",
    "        train_history.append(train_avg_loss)\n",
    "    \n",
    "    # plt train loss\n",
    "    plt.plot(np.array(train_history))\n",
    "    plt.title('train loss')\n",
    "    return net"
   ]
  },
  {
   "cell_type": "code",
   "execution_count": 18,
   "metadata": {},
   "outputs": [
    {
     "name": "stdout",
     "output_type": "stream",
     "text": [
      "epochs 0 loss 0.3555\n",
      "epochs 1 loss 0.1291\n",
      "epochs 2 loss 0.0704\n",
      "epochs 3 loss 0.0455\n",
      "epochs 4 loss 0.0329\n",
      "epochs 5 loss 0.0251\n",
      "epochs 6 loss 0.0201\n",
      "epochs 7 loss 0.0170\n",
      "epochs 8 loss 0.0153\n",
      "epochs 9 loss 0.0143\n",
      "epochs 10 loss 0.0137\n",
      "epochs 11 loss 0.0132\n",
      "epochs 12 loss 0.0129\n",
      "epochs 13 loss 0.0127\n",
      "epochs 14 loss 0.0126\n",
      "epochs 15 loss 0.0124\n",
      "epochs 16 loss 0.0123\n",
      "epochs 17 loss 0.0122\n",
      "epochs 18 loss 0.0120\n",
      "epochs 19 loss 0.0119\n"
     ]
    },
    {
     "data": {
      "image/png": "[encoded data removed]",
      "text/plain": [
       "<Figure size 432x288 with 1 Axes>"
      ]
     },
     "metadata": {
      "needs_background": "light"
     },
     "output_type": "display_data"
    }
   ],
   "source": [
    "actor = train(net,train_iter,obj_function,optimizer,num_epochs=20)"
   ]
  },
  {
   "cell_type": "markdown",
   "metadata": {},
   "source": [
    "# build api"
   ]
  },
  {
   "cell_type": "code",
   "execution_count": 19,
   "metadata": {},
   "outputs": [],
   "source": [
    "class PA_ROBOT:\n",
    "    def __init__(self):\n",
    "        self.mm_output = data['mm_output']\n",
    "        self.mm_stream = data['mm_stream']\n",
    "        self.mm_state = data['mm_state']\n",
    "        self.mm_action = data['mm_action']\n",
    "        self.action_col = data['action_col']\n",
    "        self.tag_map = tag_map\n",
    "        self.actor = actor\n",
    "        self.critic = critic\n",
    "    \n",
    "    def get_advice(self,state,request):\n",
    "        # sacle inpus\n",
    "        request = self.mm_output.transform([[request]])\n",
    "        state = self.mm_state.transform([[state]])\n",
    "        \n",
    "        # tensor input\n",
    "        request = torch.FloatTensor([request]).cuda().reshape(-1,1)\n",
    "        state = torch.FloatTensor([state]).cuda().reshape(-1,1)\n",
    "        \n",
    "        # actor forward\n",
    "        action = self.actor(state,request)\n",
    "        \n",
    "        # critic forward\n",
    "        output,stream = self.critic(state,action)\n",
    "        output = output.detach().cpu().numpy()\n",
    "        stream = stream.detach().cpu().numpy()\n",
    "        output = self.mm_output.inverse_transform(output)\n",
    "        stream = self.mm_stream.inverse_transform(stream)\n",
    "        \n",
    "        action = action.detach().cpu().numpy()\n",
    "        action = np.array([self.mm_action.inverse_transform(i) for i in action]).squeeze(0)\n",
    "        advice = pd.DataFrame(index = self.action_col)\n",
    "        advice['chinese'] = advice.index.map(self.tag_map) \n",
    "        advice['mean'] = action.mean(axis=0)\n",
    "        advice['max'] = action.max(axis=0)\n",
    "        advice['min'] = action.min(axis=0)\n",
    "        \n",
    "        return advice,output,stream"
   ]
  },
  {
   "cell_type": "code",
   "execution_count": 20,
   "metadata": {},
   "outputs": [],
   "source": [
    "robot = PA_ROBOT()"
   ]
  },
  {
   "cell_type": "code",
   "execution_count": 21,
   "metadata": {},
   "outputs": [
    {
     "name": "stdout",
     "output_type": "stream",
     "text": [
      "output: [[7949.6665]] stream: [[13108.55]]\n"
     ]
    },
    {
     "data": {
      "text/html": [
       "<div>\n",
       "<style scoped>\n",
       "    .dataframe tbody tr th:only-of-type {\n",
       "        vertical-align: middle;\n",
       "    }\n",
       "\n",
       "    .dataframe tbody tr th {\n",
       "        vertical-align: top;\n",
       "    }\n",
       "\n",
       "    .dataframe thead th {\n",
       "        text-align: right;\n",
       "    }\n",
       "</style>\n",
       "<table border=\"1\" class=\"dataframe\">\n",
       "  <thead>\n",
       "    <tr style=\"text-align: right;\">\n",
       "      <th></th>\n",
       "      <th>chinese</th>\n",
       "      <th>mean</th>\n",
       "      <th>max</th>\n",
       "      <th>min</th>\n",
       "    </tr>\n",
       "  </thead>\n",
       "  <tbody>\n",
       "    <tr>\n",
       "      <th>MLPAP_FQ-0619.PV</th>\n",
       "      <td>OX入料量</td>\n",
       "      <td>7288.194336</td>\n",
       "      <td>7301.541992</td>\n",
       "      <td>7272.133789</td>\n",
       "    </tr>\n",
       "    <tr>\n",
       "      <th>MLPAP_TJC-0627.PV</th>\n",
       "      <td>OX預熱器出口溫度</td>\n",
       "      <td>156.885559</td>\n",
       "      <td>159.466583</td>\n",
       "      <td>140.178192</td>\n",
       "    </tr>\n",
       "    <tr>\n",
       "      <th>MLPAP_TRC-0610.PV</th>\n",
       "      <td>空氣預熱器出口溫度</td>\n",
       "      <td>161.150726</td>\n",
       "      <td>173.239929</td>\n",
       "      <td>160.054230</td>\n",
       "    </tr>\n",
       "    <tr>\n",
       "      <th>MLPAP_FR-0632.PV</th>\n",
       "      <td>汽機風量</td>\n",
       "      <td>62.260654</td>\n",
       "      <td>86.801476</td>\n",
       "      <td>30.100142</td>\n",
       "    </tr>\n",
       "    <tr>\n",
       "      <th>MLPAP_TJC-0757A.PV</th>\n",
       "      <td>反應槽鹽浴溫度</td>\n",
       "      <td>363.913422</td>\n",
       "      <td>364.976685</td>\n",
       "      <td>345.744049</td>\n",
       "    </tr>\n",
       "    <tr>\n",
       "      <th>MLPAP_LIC-0738.PV</th>\n",
       "      <td>汽鼓(V211)鍋爐水液位</td>\n",
       "      <td>53.007301</td>\n",
       "      <td>59.906746</td>\n",
       "      <td>20.750818</td>\n",
       "    </tr>\n",
       "    <tr>\n",
       "      <th>MLPAP_PIC-0761.PV</th>\n",
       "      <td>鹽浴冷卻器(E112)出口壓力</td>\n",
       "      <td>43.533138</td>\n",
       "      <td>49.923923</td>\n",
       "      <td>40.004707</td>\n",
       "    </tr>\n",
       "    <tr>\n",
       "      <th>MLPAP_TRC-0762.PV</th>\n",
       "      <td>鹽浴冷卻器(E112)入口溫度</td>\n",
       "      <td>353.913605</td>\n",
       "      <td>364.967163</td>\n",
       "      <td>345.071198</td>\n",
       "    </tr>\n",
       "    <tr>\n",
       "      <th>MLPAP_LRC-0729.PV</th>\n",
       "      <td>鍋爐水液位控制</td>\n",
       "      <td>45.680405</td>\n",
       "      <td>59.908493</td>\n",
       "      <td>20.330919</td>\n",
       "    </tr>\n",
       "    <tr>\n",
       "      <th>MLPAP_TJC-1721.PV</th>\n",
       "      <td>轉換式冷凝器冷油溫度</td>\n",
       "      <td>59.839947</td>\n",
       "      <td>67.972343</td>\n",
       "      <td>55.009842</td>\n",
       "    </tr>\n",
       "    <tr>\n",
       "      <th>MLPAP_TRC-1734.PV</th>\n",
       "      <td>轉換式冷凝器熱油溫度</td>\n",
       "      <td>172.777695</td>\n",
       "      <td>199.946671</td>\n",
       "      <td>160.134171</td>\n",
       "    </tr>\n",
       "    <tr>\n",
       "      <th>MLPAP_TRC-0747.PV</th>\n",
       "      <td>E220出口溫度</td>\n",
       "      <td>125.914917</td>\n",
       "      <td>194.451950</td>\n",
       "      <td>100.043152</td>\n",
       "    </tr>\n",
       "    <tr>\n",
       "      <th>MLPAP_TJ-0757B.PV</th>\n",
       "      <td>反應槽鹽浴溫度</td>\n",
       "      <td>363.906250</td>\n",
       "      <td>364.972534</td>\n",
       "      <td>345.726440</td>\n",
       "    </tr>\n",
       "  </tbody>\n",
       "</table>\n",
       "</div>"
      ],
      "text/plain": [
       "                            chinese         mean          max          min\n",
       "MLPAP_FQ-0619.PV              OX入料量  7288.194336  7301.541992  7272.133789\n",
       "MLPAP_TJC-0627.PV         OX預熱器出口溫度   156.885559   159.466583   140.178192\n",
       "MLPAP_TRC-0610.PV         空氣預熱器出口溫度   161.150726   173.239929   160.054230\n",
       "MLPAP_FR-0632.PV               汽機風量    62.260654    86.801476    30.100142\n",
       "MLPAP_TJC-0757A.PV          反應槽鹽浴溫度   363.913422   364.976685   345.744049\n",
       "MLPAP_LIC-0738.PV     汽鼓(V211)鍋爐水液位    53.007301    59.906746    20.750818\n",
       "MLPAP_PIC-0761.PV   鹽浴冷卻器(E112)出口壓力    43.533138    49.923923    40.004707\n",
       "MLPAP_TRC-0762.PV   鹽浴冷卻器(E112)入口溫度   353.913605   364.967163   345.071198\n",
       "MLPAP_LRC-0729.PV           鍋爐水液位控制    45.680405    59.908493    20.330919\n",
       "MLPAP_TJC-1721.PV        轉換式冷凝器冷油溫度    59.839947    67.972343    55.009842\n",
       "MLPAP_TRC-1734.PV        轉換式冷凝器熱油溫度   172.777695   199.946671   160.134171\n",
       "MLPAP_TRC-0747.PV          E220出口溫度   125.914917   194.451950   100.043152\n",
       "MLPAP_TJ-0757B.PV           反應槽鹽浴溫度   363.906250   364.972534   345.726440"
      ]
     },
     "execution_count": 21,
     "metadata": {},
     "output_type": "execute_result"
    }
   ],
   "source": [
    "advice,output,stream = robot.get_advice(0.5,8000)\n",
    "print('output:',output,'stream:',stream)\n",
    "advice"
   ]
  },
  {
   "cell_type": "markdown",
   "metadata": {},
   "source": [
    "# save"
   ]
  },
  {
   "cell_type": "code",
   "execution_count": 22,
   "metadata": {},
   "outputs": [
    {
     "data": {
      "text/plain": [
       "['../model/PAagent.pkl']"
      ]
     },
     "execution_count": 22,
     "metadata": {},
     "output_type": "execute_result"
    }
   ],
   "source": [
    "joblib.dump(robot,'../model/PAagent.pkl')"
   ]
  },
  {
   "cell_type": "code",
   "execution_count": null,
   "metadata": {},
   "outputs": [],
   "source": []
  }
 ],
 "metadata": {
  "kernelspec": {
   "display_name": "Python 3",
   "language": "python",
   "name": "python3"
  },
  "language_info": {
   "codemirror_mode": {
    "name": "ipython",
    "version": 3
   },
   "file_extension": ".py",
   "mimetype": "text/x-python",
   "name": "python",
   "nbconvert_exporter": "python",
   "pygments_lexer": "ipython3",
   "version": "3.7.6"
  }
 },
 "nbformat": 4,
 "nbformat_minor": 2
}
