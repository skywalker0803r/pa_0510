{
 "cells": [
  {
   "cell_type": "code",
   "execution_count": 1,
   "metadata": {},
   "outputs": [
    {
     "data": {
      "text/plain": [
       "['Critic.pkl', 'PAagent.pkl']"
      ]
     },
     "execution_count": 1,
     "metadata": {},
     "output_type": "execute_result"
    }
   ],
   "source": [
    "import os\n",
    "from utils import *\n",
    "import joblib\n",
    "os.listdir('../model')"
   ]
  },
  {
   "cell_type": "code",
   "execution_count": 2,
   "metadata": {},
   "outputs": [],
   "source": [
    "agent = joblib.load('../model/PAagent.pkl')"
   ]
  },
  {
   "cell_type": "code",
   "execution_count": 6,
   "metadata": {},
   "outputs": [
    {
     "data": {
      "text/plain": [
       "(                            chinese         mean          max          min\n",
       " MLPAP_FQ-0619.PV              OX入料量  5295.955566  6790.385254  2268.436035\n",
       " MLPAP_TJC-0627.PV         OX預熱器出口溫度   156.400574   158.081345   148.836884\n",
       " MLPAP_TRC-0610.PV         空氣預熱器出口溫度   170.147797   195.977570   162.277237\n",
       " MLPAP_FR-0632.PV               汽機風量    63.810261    83.320312    30.884657\n",
       " MLPAP_TJC-0757A.PV          反應槽鹽浴溫度   359.795898   364.638092   346.166809\n",
       " MLPAP_LIC-0738.PV     汽鼓(V211)鍋爐水液位    58.292465    59.403728    56.197151\n",
       " MLPAP_PIC-0761.PV   鹽浴冷卻器(E112)出口壓力    44.157730    49.560528    40.890415\n",
       " MLPAP_TRC-0762.PV   鹽浴冷卻器(E112)入口溫度   349.093872   363.749420   345.471100\n",
       " MLPAP_LRC-0729.PV           鍋爐水液位控制    34.531815    56.414162    24.006893\n",
       " MLPAP_TJC-1721.PV        轉換式冷凝器冷油溫度    60.301445    66.841980    55.280792\n",
       " MLPAP_TRC-1734.PV        轉換式冷凝器熱油溫度   184.209061   198.175156   163.464142\n",
       " MLPAP_TRC-0747.PV          E220出口溫度   129.668030   179.311981   108.349701\n",
       " MLPAP_TJ-0757B.PV           反應槽鹽浴溫度   360.805969   364.664368   346.973846,\n",
       " array([[8149.049]], dtype=float32),\n",
       " array([[13553.533]], dtype=float32))"
      ]
     },
     "execution_count": 6,
     "metadata": {},
     "output_type": "execute_result"
    }
   ],
   "source": [
    "state = 0.3\n",
    "request = 8000\n",
    "agent.get_advice(state,request)"
   ]
  },
  {
   "cell_type": "code",
   "execution_count": null,
   "metadata": {},
   "outputs": [],
   "source": []
  }
 ],
 "metadata": {
  "kernelspec": {
   "display_name": "Python 3",
   "language": "python",
   "name": "python3"
  },
  "language_info": {
   "codemirror_mode": {
    "name": "ipython",
    "version": 3
   },
   "file_extension": ".py",
   "mimetype": "text/x-python",
   "name": "python",
   "nbconvert_exporter": "python",
   "pygments_lexer": "ipython3",
   "version": "3.7.6"
  }
 },
 "nbformat": 4,
 "nbformat_minor": 2
}
