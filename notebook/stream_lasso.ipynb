{
 "cells": [
  {
   "cell_type": "code",
   "execution_count": 1,
   "metadata": {},
   "outputs": [],
   "source": [
    "import numpy as np\n",
    "import joblib\n",
    "import warnings \n",
    "warnings.simplefilter('ignore')\n",
    "from sklearn.metrics import r2_score ,mean_squared_error\n",
    "from sklearn.linear_model import Lasso\n",
    "from xgboost import XGBRegressor\n",
    "from tqdm import tqdm_notebook as tqdm\n",
    "import pandas as pd\n",
    "from sklearn.svm import SVR\n",
    "\n",
    "def mape(y_true, y_pred): \n",
    "    y_true, y_pred = np.array(y_true), np.array(y_pred)\n",
    "    return np.mean(np.abs((y_true - y_pred) / y_true)) * 100"
   ]
  },
  {
   "cell_type": "markdown",
   "metadata": {},
   "source": [
    "# 讀取清洗過且經過預處理的資料"
   ]
  },
  {
   "cell_type": "code",
   "execution_count": 2,
   "metadata": {},
   "outputs": [
    {
     "output_type": "stream",
     "name": "stdout",
     "text": [
      "(59213, 434) (59213, 1)\n"
     ]
    }
   ],
   "source": [
    "data = joblib.load('../data/dataset.pkl')\n",
    "b = data['stream']\n",
    "A = np.hstack((data['action'].reshape(len(b),-1),data['state']))\n",
    "\n",
    "batch_size = b.shape[0]\n",
    "\n",
    "print(A.shape,b.shape)"
   ]
  },
  {
   "source": [
    "# 切分資料"
   ],
   "cell_type": "markdown",
   "metadata": {}
  },
  {
   "cell_type": "code",
   "execution_count": 3,
   "metadata": {},
   "outputs": [],
   "source": [
    "sp1 = -10000\n",
    "sp2 = -1585\n",
    "A_train = A[sp1:sp2]\n",
    "b_train = b[sp1:sp2]\n",
    "A_test = A[sp2:]\n",
    "b_test = b[sp2:]"
   ]
  },
  {
   "cell_type": "markdown",
   "metadata": {},
   "source": [
    "# 用 Lasso 找到一組參數 w"
   ]
  },
  {
   "cell_type": "code",
   "execution_count": 4,
   "metadata": {},
   "outputs": [],
   "source": [
    "def evaluate(y_real,y_pred,name):\n",
    "    score = pd.DataFrame(index = ['表現'],columns = ['R2','MSE','MAPE'])\n",
    "    score['R2'] = r2_score(y_real,y_pred)\n",
    "    score['MSE'] = mean_squared_error(y_real,y_pred)\n",
    "    score['MAPE'] = mape(y_real,y_pred)\n",
    "    score.index.name = name\n",
    "    return score"
   ]
  },
  {
   "cell_type": "code",
   "execution_count": 28,
   "metadata": {},
   "outputs": [
    {
     "output_type": "display_data",
     "data": {
      "text/plain": "HBox(children=(FloatProgress(value=0.0, max=11.0), HTML(value='')))",
      "application/vnd.jupyter.widget-view+json": {
       "version_major": 2,
       "version_minor": 0,
       "model_id": "a9910bbf697143e89b8900d05623a06b"
      }
     },
     "metadata": {}
    },
    {
     "output_type": "stream",
     "name": "stdout",
     "text": [
      "\n"
     ]
    }
   ],
   "source": [
    "params = {}\n",
    "s = 2.907000e-08\n",
    "t = s * 0.01\n",
    "e = s + 10*t\n",
    "for a in tqdm(np.arange(s,e,t)):\n",
    "    model = Lasso(a).fit(A_train,b_train)\n",
    "    y_pred = data['mm_stream'].inverse_transform(model.predict(A_test).reshape(-1,1))\n",
    "    y_real = data['mm_stream'].inverse_transform(b_test)\n",
    "    params[a] = evaluate(y_real,y_pred,'bababa')"
   ]
  },
  {
   "source": [
    "# 觀察不同lambda對r2分數的影響 選一個最好的lambda"
   ],
   "cell_type": "markdown",
   "metadata": {}
  },
  {
   "cell_type": "code",
   "execution_count": 29,
   "metadata": {},
   "outputs": [
    {
     "output_type": "execute_result",
     "data": {
      "text/plain": [
       "                    R2\n",
       "lambda                \n",
       "2.907000e-08  0.649661\n",
       "2.936070e-08  0.649688\n",
       "2.965140e-08  0.649702\n",
       "2.994210e-08  0.649710\n",
       "3.023280e-08  0.649711\n",
       "3.052350e-08  0.649718\n",
       "3.081420e-08  0.649713\n",
       "3.110490e-08  0.649696\n",
       "3.139560e-08  0.649680\n",
       "3.168630e-08  0.649653\n",
       "3.197700e-08  0.649606"
      ],
      "text/html": "<div>\n<style scoped>\n    .dataframe tbody tr th:only-of-type {\n        vertical-align: middle;\n    }\n\n    .dataframe tbody tr th {\n        vertical-align: top;\n    }\n\n    .dataframe thead th {\n        text-align: right;\n    }\n</style>\n<table border=\"1\" class=\"dataframe\">\n  <thead>\n    <tr style=\"text-align: right;\">\n      <th></th>\n      <th>R2</th>\n    </tr>\n    <tr>\n      <th>lambda</th>\n      <th></th>\n    </tr>\n  </thead>\n  <tbody>\n    <tr>\n      <th>2.907000e-08</th>\n      <td>0.649661</td>\n    </tr>\n    <tr>\n      <th>2.936070e-08</th>\n      <td>0.649688</td>\n    </tr>\n    <tr>\n      <th>2.965140e-08</th>\n      <td>0.649702</td>\n    </tr>\n    <tr>\n      <th>2.994210e-08</th>\n      <td>0.649710</td>\n    </tr>\n    <tr>\n      <th>3.023280e-08</th>\n      <td>0.649711</td>\n    </tr>\n    <tr>\n      <th>3.052350e-08</th>\n      <td>0.649718</td>\n    </tr>\n    <tr>\n      <th>3.081420e-08</th>\n      <td>0.649713</td>\n    </tr>\n    <tr>\n      <th>3.110490e-08</th>\n      <td>0.649696</td>\n    </tr>\n    <tr>\n      <th>3.139560e-08</th>\n      <td>0.649680</td>\n    </tr>\n    <tr>\n      <th>3.168630e-08</th>\n      <td>0.649653</td>\n    </tr>\n    <tr>\n      <th>3.197700e-08</th>\n      <td>0.649606</td>\n    </tr>\n  </tbody>\n</table>\n</div>"
     },
     "metadata": {},
     "execution_count": 29
    }
   ],
   "source": [
    "temp = pd.DataFrame([ i.R2.values[0] for i in params.values()],index=params.keys(),columns=['R2'])\n",
    "temp.index.name = 'lambda'\n",
    "temp"
   ]
  },
  {
   "cell_type": "code",
   "execution_count": 35,
   "metadata": {},
   "outputs": [
    {
     "output_type": "execute_result",
     "data": {
      "text/plain": [
       "3.05235e-08"
      ]
     },
     "metadata": {},
     "execution_count": 35
    }
   ],
   "source": [
    "a = temp.index[np.argmax(temp)]\n",
    "a"
   ]
  },
  {
   "source": [
    "# 建模"
   ],
   "cell_type": "markdown",
   "metadata": {}
  },
  {
   "cell_type": "code",
   "execution_count": 36,
   "metadata": {},
   "outputs": [],
   "source": [
    "model = Lasso(a).fit(A_train,b_train)"
   ]
  },
  {
   "cell_type": "code",
   "execution_count": null,
   "metadata": {},
   "outputs": [],
   "source": []
  },
  {
   "cell_type": "code",
   "execution_count": 37,
   "metadata": {},
   "outputs": [
    {
     "output_type": "execute_result",
     "data": {
      "text/plain": [
       "['MLPAP_FQ-0619.PV',\n",
       " 'MLPAP_TJC-0627.PV',\n",
       " 'MLPAP_TRC-0610.PV',\n",
       " 'MLPAP_FR-0632.PV',\n",
       " 'MLPAP_TJC-0757A.PV',\n",
       " 'MLPAP_PIC-0761.PV',\n",
       " 'MLPAP_TJC-1721.PV',\n",
       " 'MLPAP_TRC-1734.PV',\n",
       " 'MLPAP_TRC-0747.PV',\n",
       " 'MLPAP_TJ-0881.PV',\n",
       " 'MLPAP_TJ-0757B.PV',\n",
       " '濃度']"
      ]
     },
     "metadata": {},
     "execution_count": 37
    }
   ],
   "source": [
    "data['action_col']"
   ]
  },
  {
   "cell_type": "code",
   "execution_count": 38,
   "metadata": {},
   "outputs": [
    {
     "output_type": "execute_result",
     "data": {
      "text/plain": [
       "(59213, 36, 12)"
      ]
     },
     "metadata": {},
     "execution_count": 38
    }
   ],
   "source": [
    "data['action'].shape"
   ]
  },
  {
   "cell_type": "code",
   "execution_count": 39,
   "metadata": {},
   "outputs": [
    {
     "output_type": "execute_result",
     "data": {
      "text/plain": [
       "(59213,)"
      ]
     },
     "metadata": {},
     "execution_count": 39
    }
   ],
   "source": [
    "action = data['mm_action'].inverse_transform(data['action'].reshape(59213*36,12))\n",
    "feed = action[:,0]\n",
    "feed = feed[::36]\n",
    "feed.shape"
   ]
  },
  {
   "cell_type": "code",
   "execution_count": 40,
   "metadata": {},
   "outputs": [
    {
     "output_type": "execute_result",
     "data": {
      "text/plain": [
       "                   R2           MSE      MAPE\n",
       "train(蒸氣單耗)                                  \n",
       "表現           0.998436  5.732890e-07  0.270739"
      ],
      "text/html": "<div>\n<style scoped>\n    .dataframe tbody tr th:only-of-type {\n        vertical-align: middle;\n    }\n\n    .dataframe tbody tr th {\n        vertical-align: top;\n    }\n\n    .dataframe thead th {\n        text-align: right;\n    }\n</style>\n<table border=\"1\" class=\"dataframe\">\n  <thead>\n    <tr style=\"text-align: right;\">\n      <th></th>\n      <th>R2</th>\n      <th>MSE</th>\n      <th>MAPE</th>\n    </tr>\n    <tr>\n      <th>train(蒸氣單耗)</th>\n      <th></th>\n      <th></th>\n      <th></th>\n    </tr>\n  </thead>\n  <tbody>\n    <tr>\n      <th>表現</th>\n      <td>0.998436</td>\n      <td>5.732890e-07</td>\n      <td>0.270739</td>\n    </tr>\n  </tbody>\n</table>\n</div>"
     },
     "metadata": {},
     "execution_count": 40
    }
   ],
   "source": [
    "y_pred = data['mm_stream'].inverse_transform(model.predict(A_train).reshape(-1,1)).reshape(-1)\n",
    "y_real = data['mm_stream'].inverse_transform(b_train).reshape(-1)\n",
    "evaluate(feed[:8415]/y_real,feed[:8415]/y_pred,'train(蒸氣單耗)')"
   ]
  },
  {
   "cell_type": "code",
   "execution_count": 41,
   "metadata": {},
   "outputs": [
    {
     "output_type": "execute_result",
     "data": {
      "text/plain": [
       "                  R2           MSE    MAPE\n",
       "test(蒸氣單耗)                                \n",
       "表現          0.684766  5.142293e-07  0.2947"
      ],
      "text/html": "<div>\n<style scoped>\n    .dataframe tbody tr th:only-of-type {\n        vertical-align: middle;\n    }\n\n    .dataframe tbody tr th {\n        vertical-align: top;\n    }\n\n    .dataframe thead th {\n        text-align: right;\n    }\n</style>\n<table border=\"1\" class=\"dataframe\">\n  <thead>\n    <tr style=\"text-align: right;\">\n      <th></th>\n      <th>R2</th>\n      <th>MSE</th>\n      <th>MAPE</th>\n    </tr>\n    <tr>\n      <th>test(蒸氣單耗)</th>\n      <th></th>\n      <th></th>\n      <th></th>\n    </tr>\n  </thead>\n  <tbody>\n    <tr>\n      <th>表現</th>\n      <td>0.684766</td>\n      <td>5.142293e-07</td>\n      <td>0.2947</td>\n    </tr>\n  </tbody>\n</table>\n</div>"
     },
     "metadata": {},
     "execution_count": 41
    }
   ],
   "source": [
    "y_pred = data['mm_stream'].inverse_transform(model.predict(A_test).reshape(-1,1)).reshape(-1)\n",
    "y_real = data['mm_stream'].inverse_transform(b_test).reshape(-1)\n",
    "evaluate(feed[-1585:]/y_real,feed[-1585:]/y_pred,'test(蒸氣單耗)')"
   ]
  },
  {
   "source": [
    "# 保存權重"
   ],
   "cell_type": "markdown",
   "metadata": {}
  },
  {
   "cell_type": "code",
   "execution_count": 42,
   "metadata": {},
   "outputs": [
    {
     "output_type": "execute_result",
     "data": {
      "text/plain": [
       "['../model/stream_lasso_weight.pkl']"
      ]
     },
     "metadata": {},
     "execution_count": 42
    }
   ],
   "source": [
    "joblib.dump(model.coef_,'../model/stream_lasso_weight.pkl')"
   ]
  },
  {
   "cell_type": "code",
   "execution_count": null,
   "metadata": {},
   "outputs": [],
   "source": []
  },
  {
   "cell_type": "code",
   "execution_count": null,
   "metadata": {},
   "outputs": [],
   "source": []
  },
  {
   "cell_type": "code",
   "execution_count": null,
   "metadata": {},
   "outputs": [],
   "source": []
  }
 ],
 "metadata": {
  "kernelspec": {
   "display_name": "Python 3",
   "language": "python",
   "name": "python3"
  },
  "language_info": {
   "codemirror_mode": {
    "name": "ipython",
    "version": 3
   },
   "file_extension": ".py",
   "mimetype": "text/x-python",
   "name": "python",
   "nbconvert_exporter": "python",
   "pygments_lexer": "ipython3",
   "version": "3.7.6"
  }
 },
 "nbformat": 4,
 "nbformat_minor": 2
}