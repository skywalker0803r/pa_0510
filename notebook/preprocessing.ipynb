{
 "cells": [
  {
   "cell_type": "code",
   "execution_count": 75,
   "metadata": {},
   "outputs": [],
   "source": [
    "import pandas as pd\n",
    "import numpy as np\n",
    "import torchviz\n",
    "import seaborn as sns\n",
    "import matplotlib.pyplot as plt\n",
    "from tqdm import tqdm_notebook as tqdm\n",
    "from torch.utils.tensorboard import SummaryWriter\n",
    "import torch\n",
    "import torch.nn as nn\n",
    "import torch.utils.data as Data\n",
    "import torchvision\n",
    "import joblib\n",
    "from sklearn.preprocessing import MinMaxScaler\n",
    "import time\n",
    "import warnings\n",
    "warnings.simplefilter('ignore')\n",
    "def get_col(df,name):\n",
    "    return df.columns[df.columns.str.contains(name)].tolist()"
   ]
  },
  {
   "cell_type": "markdown",
   "metadata": {},
   "source": [
    "# load data"
   ]
  },
  {
   "cell_type": "code",
   "execution_count": 76,
   "metadata": {},
   "outputs": [
    {
     "output_type": "execute_result",
     "data": {
      "text/plain": [
       "    item                 TAG          chinese character     unit category  \\\n",
       "0    1.0   MLPAP_TJC-0627.PV        OX預熱器出口溫度        溫度        ℃    可控制因子   \n",
       "1    2.0   MLPAP_TRC-0610.PV        空氣預熱器出口溫度        溫度        ℃    可控制因子   \n",
       "2    3.0    MLPAP_FR-0632.PV             汽機風量        流量  KNM3/HR    可控制因子   \n",
       "3    4.0    MLPAP_FQ-0619.PV            OX入料量        流量    kg/HR    可控制因子   \n",
       "4    5.0  MLPAP_TJC-0757A.PV          反應槽鹽浴溫度        溫度        ℃    可控制因子   \n",
       "5    6.0   MLPAP_PIC-0741.PV    汽鼓(V211)鍋爐水壓力        壓力   KG/CM2    可控制因子   \n",
       "6    7.0   MLPAP_LIC-0738.PV    汽鼓(V211)鍋爐水液位        液位        %    可控制因子   \n",
       "7    8.0   MLPAP_PIC-0761.PV  鹽浴冷卻器(E212)出口壓力        壓力      BAR    可控制因子   \n",
       "9   10.0   MLPAP_LRC-0729.PV          鍋爐水液位控制        液位        %    可控制因子   \n",
       "10  11.0   MLPAP_TJC-1721.PV       轉換式冷凝器冷油溫度        溫度        ℃    可控制因子   \n",
       "11  12.0   MLPAP_TRC-1734.PV       轉換式冷凝器熱油溫度        溫度        ℃    可控制因子   \n",
       "88  89.0   MLPAP_TJC-0757.PV     反應器A/B側鹽浴溫度差        溫度        ℃    可控制因子   \n",
       "90  91.0   MLPAP_TRC-0747.PV         E220出口溫度        溫度        ℃    可控制因子   \n",
       "91  92.0    MLPAP_TJ-0881.PV        液態冷凝器出口溫度        溫度        ℃    可控制因子   \n",
       "93  94.0  MLPAP_FQI-0997.SMH         粗PA累積出料量        流量        T    可控制因子   \n",
       "95   5.0   MLPAP_TJ-0757B.PV          反應槽鹽浴溫度        溫度        ℃    可控制因子   \n",
       "\n",
       "   period   min     max 推測顯著性(依製程經驗)  \n",
       "0   1分鐘2筆   145     160          ***  \n",
       "1   1分鐘2筆   160     200          ***  \n",
       "2   1分鐘2筆    64    85.4         ****  \n",
       "3   1分鐘2筆  2000    8000         ****  \n",
       "4   1分鐘2筆   345     365         ****  \n",
       "5   1分鐘2筆    28      45            *  \n",
       "6   1分鐘2筆    20      60            *  \n",
       "7   1分鐘2筆    40      55          ***  \n",
       "9   1分鐘2筆    20      60            *  \n",
       "10  1分鐘2筆    55      68         ****  \n",
       "11  1分鐘2筆   160     200         ****  \n",
       "88  1分鐘2筆    -3       3          ***  \n",
       "90  1分鐘2筆   100     200          ***  \n",
       "91  1分鐘2筆   130     190          ***  \n",
       "93  1分鐘2筆     0  300000          ***  \n",
       "95  1分鐘2筆   345     365         ****  "
      ],
      "text/html": "<div>\n<style scoped>\n    .dataframe tbody tr th:only-of-type {\n        vertical-align: middle;\n    }\n\n    .dataframe tbody tr th {\n        vertical-align: top;\n    }\n\n    .dataframe thead th {\n        text-align: right;\n    }\n</style>\n<table border=\"1\" class=\"dataframe\">\n  <thead>\n    <tr style=\"text-align: right;\">\n      <th></th>\n      <th>item</th>\n      <th>TAG</th>\n      <th>chinese</th>\n      <th>character</th>\n      <th>unit</th>\n      <th>category</th>\n      <th>period</th>\n      <th>min</th>\n      <th>max</th>\n      <th>推測顯著性(依製程經驗)</th>\n    </tr>\n  </thead>\n  <tbody>\n    <tr>\n      <th>0</th>\n      <td>1.0</td>\n      <td>MLPAP_TJC-0627.PV</td>\n      <td>OX預熱器出口溫度</td>\n      <td>溫度</td>\n      <td>℃</td>\n      <td>可控制因子</td>\n      <td>1分鐘2筆</td>\n      <td>145</td>\n      <td>160</td>\n      <td>***</td>\n    </tr>\n    <tr>\n      <th>1</th>\n      <td>2.0</td>\n      <td>MLPAP_TRC-0610.PV</td>\n      <td>空氣預熱器出口溫度</td>\n      <td>溫度</td>\n      <td>℃</td>\n      <td>可控制因子</td>\n      <td>1分鐘2筆</td>\n      <td>160</td>\n      <td>200</td>\n      <td>***</td>\n    </tr>\n    <tr>\n      <th>2</th>\n      <td>3.0</td>\n      <td>MLPAP_FR-0632.PV</td>\n      <td>汽機風量</td>\n      <td>流量</td>\n      <td>KNM3/HR</td>\n      <td>可控制因子</td>\n      <td>1分鐘2筆</td>\n      <td>64</td>\n      <td>85.4</td>\n      <td>****</td>\n    </tr>\n    <tr>\n      <th>3</th>\n      <td>4.0</td>\n      <td>MLPAP_FQ-0619.PV</td>\n      <td>OX入料量</td>\n      <td>流量</td>\n      <td>kg/HR</td>\n      <td>可控制因子</td>\n      <td>1分鐘2筆</td>\n      <td>2000</td>\n      <td>8000</td>\n      <td>****</td>\n    </tr>\n    <tr>\n      <th>4</th>\n      <td>5.0</td>\n      <td>MLPAP_TJC-0757A.PV</td>\n      <td>反應槽鹽浴溫度</td>\n      <td>溫度</td>\n      <td>℃</td>\n      <td>可控制因子</td>\n      <td>1分鐘2筆</td>\n      <td>345</td>\n      <td>365</td>\n      <td>****</td>\n    </tr>\n    <tr>\n      <th>5</th>\n      <td>6.0</td>\n      <td>MLPAP_PIC-0741.PV</td>\n      <td>汽鼓(V211)鍋爐水壓力</td>\n      <td>壓力</td>\n      <td>KG/CM2</td>\n      <td>可控制因子</td>\n      <td>1分鐘2筆</td>\n      <td>28</td>\n      <td>45</td>\n      <td>*</td>\n    </tr>\n    <tr>\n      <th>6</th>\n      <td>7.0</td>\n      <td>MLPAP_LIC-0738.PV</td>\n      <td>汽鼓(V211)鍋爐水液位</td>\n      <td>液位</td>\n      <td>%</td>\n      <td>可控制因子</td>\n      <td>1分鐘2筆</td>\n      <td>20</td>\n      <td>60</td>\n      <td>*</td>\n    </tr>\n    <tr>\n      <th>7</th>\n      <td>8.0</td>\n      <td>MLPAP_PIC-0761.PV</td>\n      <td>鹽浴冷卻器(E212)出口壓力</td>\n      <td>壓力</td>\n      <td>BAR</td>\n      <td>可控制因子</td>\n      <td>1分鐘2筆</td>\n      <td>40</td>\n      <td>55</td>\n      <td>***</td>\n    </tr>\n    <tr>\n      <th>9</th>\n      <td>10.0</td>\n      <td>MLPAP_LRC-0729.PV</td>\n      <td>鍋爐水液位控制</td>\n      <td>液位</td>\n      <td>%</td>\n      <td>可控制因子</td>\n      <td>1分鐘2筆</td>\n      <td>20</td>\n      <td>60</td>\n      <td>*</td>\n    </tr>\n    <tr>\n      <th>10</th>\n      <td>11.0</td>\n      <td>MLPAP_TJC-1721.PV</td>\n      <td>轉換式冷凝器冷油溫度</td>\n      <td>溫度</td>\n      <td>℃</td>\n      <td>可控制因子</td>\n      <td>1分鐘2筆</td>\n      <td>55</td>\n      <td>68</td>\n      <td>****</td>\n    </tr>\n    <tr>\n      <th>11</th>\n      <td>12.0</td>\n      <td>MLPAP_TRC-1734.PV</td>\n      <td>轉換式冷凝器熱油溫度</td>\n      <td>溫度</td>\n      <td>℃</td>\n      <td>可控制因子</td>\n      <td>1分鐘2筆</td>\n      <td>160</td>\n      <td>200</td>\n      <td>****</td>\n    </tr>\n    <tr>\n      <th>88</th>\n      <td>89.0</td>\n      <td>MLPAP_TJC-0757.PV</td>\n      <td>反應器A/B側鹽浴溫度差</td>\n      <td>溫度</td>\n      <td>℃</td>\n      <td>可控制因子</td>\n      <td>1分鐘2筆</td>\n      <td>-3</td>\n      <td>3</td>\n      <td>***</td>\n    </tr>\n    <tr>\n      <th>90</th>\n      <td>91.0</td>\n      <td>MLPAP_TRC-0747.PV</td>\n      <td>E220出口溫度</td>\n      <td>溫度</td>\n      <td>℃</td>\n      <td>可控制因子</td>\n      <td>1分鐘2筆</td>\n      <td>100</td>\n      <td>200</td>\n      <td>***</td>\n    </tr>\n    <tr>\n      <th>91</th>\n      <td>92.0</td>\n      <td>MLPAP_TJ-0881.PV</td>\n      <td>液態冷凝器出口溫度</td>\n      <td>溫度</td>\n      <td>℃</td>\n      <td>可控制因子</td>\n      <td>1分鐘2筆</td>\n      <td>130</td>\n      <td>190</td>\n      <td>***</td>\n    </tr>\n    <tr>\n      <th>93</th>\n      <td>94.0</td>\n      <td>MLPAP_FQI-0997.SMH</td>\n      <td>粗PA累積出料量</td>\n      <td>流量</td>\n      <td>T</td>\n      <td>可控制因子</td>\n      <td>1分鐘2筆</td>\n      <td>0</td>\n      <td>300000</td>\n      <td>***</td>\n    </tr>\n    <tr>\n      <th>95</th>\n      <td>5.0</td>\n      <td>MLPAP_TJ-0757B.PV</td>\n      <td>反應槽鹽浴溫度</td>\n      <td>溫度</td>\n      <td>℃</td>\n      <td>可控制因子</td>\n      <td>1分鐘2筆</td>\n      <td>345</td>\n      <td>365</td>\n      <td>****</td>\n    </tr>\n  </tbody>\n</table>\n</div>"
     },
     "metadata": {},
     "execution_count": 76
    }
   ],
   "source": [
    "tag = pd.read_csv('../data/tag_cleaned.csv',index_col=0).dropna(axis=0)\n",
    "tag_map = dict(zip(tag.TAG,tag.chinese))\n",
    "tag[tag.category=='可控制因子']"
   ]
  },
  {
   "cell_type": "code",
   "execution_count": 77,
   "metadata": {},
   "outputs": [
    {
     "output_type": "execute_result",
     "data": {
      "text/plain": [
       "    item                TAG chinese character unit category period min max  \\\n",
       "92  93.0  MLPAP_TJ3-1110.PV    環境溫度        溫度    ℃   不可控制因子  1分鐘2筆  20  40   \n",
       "\n",
       "   推測顯著性(依製程經驗)  \n",
       "92          ***  "
      ],
      "text/html": "<div>\n<style scoped>\n    .dataframe tbody tr th:only-of-type {\n        vertical-align: middle;\n    }\n\n    .dataframe tbody tr th {\n        vertical-align: top;\n    }\n\n    .dataframe thead th {\n        text-align: right;\n    }\n</style>\n<table border=\"1\" class=\"dataframe\">\n  <thead>\n    <tr style=\"text-align: right;\">\n      <th></th>\n      <th>item</th>\n      <th>TAG</th>\n      <th>chinese</th>\n      <th>character</th>\n      <th>unit</th>\n      <th>category</th>\n      <th>period</th>\n      <th>min</th>\n      <th>max</th>\n      <th>推測顯著性(依製程經驗)</th>\n    </tr>\n  </thead>\n  <tbody>\n    <tr>\n      <th>92</th>\n      <td>93.0</td>\n      <td>MLPAP_TJ3-1110.PV</td>\n      <td>環境溫度</td>\n      <td>溫度</td>\n      <td>℃</td>\n      <td>不可控制因子</td>\n      <td>1分鐘2筆</td>\n      <td>20</td>\n      <td>40</td>\n      <td>***</td>\n    </tr>\n  </tbody>\n</table>\n</div>"
     },
     "metadata": {},
     "execution_count": 77
    }
   ],
   "source": [
    "tag[tag.chinese.str.contains('環境溫度')]"
   ]
  },
  {
   "cell_type": "code",
   "execution_count": 78,
   "metadata": {},
   "outputs": [
    {
     "output_type": "stream",
     "name": "stdout",
     "text": [
      "(228240, 96)\n"
     ]
    },
    {
     "output_type": "execute_result",
     "data": {
      "text/plain": [
       "                     MLPAP_TJ-0706B02  MLPAP_TJ-0706B03  MLPAP_TJ-0706B04  \\\n",
       "2016-05-24 12:50:00        409.000000        427.000000             429.0   \n",
       "2016-10-01 07:10:00        381.000000        402.000000             409.0   \n",
       "2016-11-15 03:00:00        378.000000        396.000000             402.0   \n",
       "2019-05-21 16:00:00        380.322617        395.000000             398.0   \n",
       "2019-03-26 06:10:00        382.000000        395.264557             397.0   \n",
       "\n",
       "                     MLPAP_TJ-0706B05  MLPAP_TJ-0706B06  MLPAP_TJ-0706B07  \\\n",
       "2016-05-24 12:50:00        430.000000             418.0             412.0   \n",
       "2016-10-01 07:10:00        415.000000             408.0             407.0   \n",
       "2016-11-15 03:00:00        408.497086             404.0             404.0   \n",
       "2019-05-21 16:00:00        403.000000             400.0             401.0   \n",
       "2019-03-26 06:10:00        400.000000             397.0             397.0   \n",
       "\n",
       "                     MLPAP_TJ-0706B08  MLPAP_TJ-0706B09  MLPAP_TJ-0706B10  \\\n",
       "2016-05-24 12:50:00        400.000000             391.0             384.0   \n",
       "2016-10-01 07:10:00        403.000000             397.0             386.0   \n",
       "2016-11-15 03:00:00        405.000000             406.0             398.0   \n",
       "2019-05-21 16:00:00        401.000000             399.0             398.0   \n",
       "2019-03-26 06:10:00        396.766891             394.0             392.0   \n",
       "\n",
       "                     MLPAP_TJ-0706B11  ...  MLPAP_FR-0791.PV  \\\n",
       "2016-05-24 12:50:00        380.000000  ...         26.708822   \n",
       "2016-10-01 07:10:00        378.000000  ...         28.486210   \n",
       "2016-11-15 03:00:00        387.000000  ...         31.692675   \n",
       "2019-05-21 16:00:00        395.000000  ...         31.230598   \n",
       "2019-03-26 06:10:00        389.119354  ...         30.606353   \n",
       "\n",
       "                     MLPAP_FI-V211.PV(轉換後)  MLPAP_PI-0658.PV  \\\n",
       "2016-05-24 12:50:00                    NaN        463.750412   \n",
       "2016-10-01 07:10:00                    NaN        410.000000   \n",
       "2016-11-15 03:00:00                    NaN        419.000000   \n",
       "2019-05-21 16:00:00            6662.100830               NaN   \n",
       "2019-03-26 06:10:00            6314.762451        456.000000   \n",
       "\n",
       "                     MLPAP_TJC-0757.PV  MLPAP_V225-PHD  MLPAP_PI-0771.PV  \\\n",
       "2016-05-24 12:50:00           0.600000           0.019         99.045490   \n",
       "2016-10-01 07:10:00           1.300000           0.036        110.598572   \n",
       "2016-11-15 03:00:00           2.149897           0.027        110.959949   \n",
       "2019-05-21 16:00:00           1.032767           0.016        122.458179   \n",
       "2019-03-26 06:10:00           0.700000           0.006        111.975937   \n",
       "\n",
       "                     MLPAP_TRC-0747.PV  MLPAP_TJ-0881.PV  MLPAP_TJ3-1110.PV  \\\n",
       "2016-05-24 12:50:00         179.950340        159.974663          27.759337   \n",
       "2016-10-01 07:10:00         173.199997        138.899994          26.000000   \n",
       "2016-11-15 03:00:00         172.200333        138.399994          24.200001   \n",
       "2019-05-21 16:00:00         169.100006        138.699997          26.100000   \n",
       "2019-03-26 06:10:00         168.199997        137.973320                NaN   \n",
       "\n",
       "                     MLPAP_FQI-0997.SMH  \n",
       "2016-05-24 12:50:00                 NaN  \n",
       "2016-10-01 07:10:00                 NaN  \n",
       "2016-11-15 03:00:00                 NaN  \n",
       "2019-05-21 16:00:00                 NaN  \n",
       "2019-03-26 06:10:00                 NaN  \n",
       "\n",
       "[5 rows x 96 columns]"
      ],
      "text/html": "<div>\n<style scoped>\n    .dataframe tbody tr th:only-of-type {\n        vertical-align: middle;\n    }\n\n    .dataframe tbody tr th {\n        vertical-align: top;\n    }\n\n    .dataframe thead th {\n        text-align: right;\n    }\n</style>\n<table border=\"1\" class=\"dataframe\">\n  <thead>\n    <tr style=\"text-align: right;\">\n      <th></th>\n      <th>MLPAP_TJ-0706B02</th>\n      <th>MLPAP_TJ-0706B03</th>\n      <th>MLPAP_TJ-0706B04</th>\n      <th>MLPAP_TJ-0706B05</th>\n      <th>MLPAP_TJ-0706B06</th>\n      <th>MLPAP_TJ-0706B07</th>\n      <th>MLPAP_TJ-0706B08</th>\n      <th>MLPAP_TJ-0706B09</th>\n      <th>MLPAP_TJ-0706B10</th>\n      <th>MLPAP_TJ-0706B11</th>\n      <th>...</th>\n      <th>MLPAP_FR-0791.PV</th>\n      <th>MLPAP_FI-V211.PV(轉換後)</th>\n      <th>MLPAP_PI-0658.PV</th>\n      <th>MLPAP_TJC-0757.PV</th>\n      <th>MLPAP_V225-PHD</th>\n      <th>MLPAP_PI-0771.PV</th>\n      <th>MLPAP_TRC-0747.PV</th>\n      <th>MLPAP_TJ-0881.PV</th>\n      <th>MLPAP_TJ3-1110.PV</th>\n      <th>MLPAP_FQI-0997.SMH</th>\n    </tr>\n  </thead>\n  <tbody>\n    <tr>\n      <th>2016-05-24 12:50:00</th>\n      <td>409.000000</td>\n      <td>427.000000</td>\n      <td>429.0</td>\n      <td>430.000000</td>\n      <td>418.0</td>\n      <td>412.0</td>\n      <td>400.000000</td>\n      <td>391.0</td>\n      <td>384.0</td>\n      <td>380.000000</td>\n      <td>...</td>\n      <td>26.708822</td>\n      <td>NaN</td>\n      <td>463.750412</td>\n      <td>0.600000</td>\n      <td>0.019</td>\n      <td>99.045490</td>\n      <td>179.950340</td>\n      <td>159.974663</td>\n      <td>27.759337</td>\n      <td>NaN</td>\n    </tr>\n    <tr>\n      <th>2016-10-01 07:10:00</th>\n      <td>381.000000</td>\n      <td>402.000000</td>\n      <td>409.0</td>\n      <td>415.000000</td>\n      <td>408.0</td>\n      <td>407.0</td>\n      <td>403.000000</td>\n      <td>397.0</td>\n      <td>386.0</td>\n      <td>378.000000</td>\n      <td>...</td>\n      <td>28.486210</td>\n      <td>NaN</td>\n      <td>410.000000</td>\n      <td>1.300000</td>\n      <td>0.036</td>\n      <td>110.598572</td>\n      <td>173.199997</td>\n      <td>138.899994</td>\n      <td>26.000000</td>\n      <td>NaN</td>\n    </tr>\n    <tr>\n      <th>2016-11-15 03:00:00</th>\n      <td>378.000000</td>\n      <td>396.000000</td>\n      <td>402.0</td>\n      <td>408.497086</td>\n      <td>404.0</td>\n      <td>404.0</td>\n      <td>405.000000</td>\n      <td>406.0</td>\n      <td>398.0</td>\n      <td>387.000000</td>\n      <td>...</td>\n      <td>31.692675</td>\n      <td>NaN</td>\n      <td>419.000000</td>\n      <td>2.149897</td>\n      <td>0.027</td>\n      <td>110.959949</td>\n      <td>172.200333</td>\n      <td>138.399994</td>\n      <td>24.200001</td>\n      <td>NaN</td>\n    </tr>\n    <tr>\n      <th>2019-05-21 16:00:00</th>\n      <td>380.322617</td>\n      <td>395.000000</td>\n      <td>398.0</td>\n      <td>403.000000</td>\n      <td>400.0</td>\n      <td>401.0</td>\n      <td>401.000000</td>\n      <td>399.0</td>\n      <td>398.0</td>\n      <td>395.000000</td>\n      <td>...</td>\n      <td>31.230598</td>\n      <td>6662.100830</td>\n      <td>NaN</td>\n      <td>1.032767</td>\n      <td>0.016</td>\n      <td>122.458179</td>\n      <td>169.100006</td>\n      <td>138.699997</td>\n      <td>26.100000</td>\n      <td>NaN</td>\n    </tr>\n    <tr>\n      <th>2019-03-26 06:10:00</th>\n      <td>382.000000</td>\n      <td>395.264557</td>\n      <td>397.0</td>\n      <td>400.000000</td>\n      <td>397.0</td>\n      <td>397.0</td>\n      <td>396.766891</td>\n      <td>394.0</td>\n      <td>392.0</td>\n      <td>389.119354</td>\n      <td>...</td>\n      <td>30.606353</td>\n      <td>6314.762451</td>\n      <td>456.000000</td>\n      <td>0.700000</td>\n      <td>0.006</td>\n      <td>111.975937</td>\n      <td>168.199997</td>\n      <td>137.973320</td>\n      <td>NaN</td>\n      <td>NaN</td>\n    </tr>\n  </tbody>\n</table>\n<p>5 rows × 96 columns</p>\n</div>"
     },
     "metadata": {},
     "execution_count": 78
    }
   ],
   "source": [
    "df = pd.read_csv('../data/train_cleaned.csv',index_col=0,parse_dates=True)\n",
    "print(df.shape)\n",
    "df.sample(5)"
   ]
  },
  {
   "cell_type": "markdown",
   "metadata": {},
   "source": [
    "# add total_stream"
   ]
  },
  {
   "cell_type": "code",
   "execution_count": 79,
   "metadata": {},
   "outputs": [
    {
     "output_type": "stream",
     "name": "stdout",
     "text": [
      "['MLPAP_FR-0755.PV(轉換後)', 'MLPAP_FR-0791.PV', 'MLPAP_FI-V211.PV(轉換後)']\n"
     ]
    },
    {
     "output_type": "execute_result",
     "data": {
      "text/plain": [
       "count    150576.000000\n",
       "mean      43582.928582\n",
       "std        5503.275059\n",
       "min       14086.172342\n",
       "25%       40355.246782\n",
       "50%       45336.857319\n",
       "75%       47993.137360\n",
       "max       49753.607750\n",
       "Name: stream, dtype: float64"
      ]
     },
     "metadata": {},
     "execution_count": 79
    }
   ],
   "source": [
    "stream_cols = tag[tag.chinese.str.contains('蒸氣')== True].TAG.tolist()\n",
    "print(stream_cols)\n",
    "df['stream'] = df[stream_cols[0]]*1000 + df[stream_cols[1]]*1000\n",
    "df['stream'].describe()"
   ]
  },
  {
   "cell_type": "markdown",
   "metadata": {},
   "source": [
    "# add new features"
   ]
  },
  {
   "cell_type": "code",
   "execution_count": 80,
   "metadata": {},
   "outputs": [
    {
     "output_type": "execute_result",
     "data": {
      "text/plain": [
       "2016-05-10 15:40:00    36.102136\n",
       "2016-05-10 15:50:00    36.071262\n",
       "2016-05-10 16:00:00    36.242898\n",
       "2016-05-10 16:10:00    36.313928\n",
       "2016-05-10 16:20:00    36.262361\n",
       "Name: 濃度, dtype: float64"
      ]
     },
     "metadata": {},
     "execution_count": 80
    }
   ],
   "source": [
    "df['濃度'] = df['MLPAP_FQ-0619.PV']/df['MLPAP_FR-0632.PV']\n",
    "df['濃度'].dropna().head()"
   ]
  },
  {
   "cell_type": "markdown",
   "metadata": {},
   "source": [
    "# define columns"
   ]
  },
  {
   "cell_type": "code",
   "execution_count": 81,
   "metadata": {},
   "outputs": [
    {
     "output_type": "execute_result",
     "data": {
      "text/plain": [
       "['MLPAP_TJC-0627.PV',\n",
       " 'MLPAP_TRC-0610.PV',\n",
       " 'MLPAP_FR-0632.PV',\n",
       " 'MLPAP_FQ-0619.PV',\n",
       " 'MLPAP_TJC-0757A.PV',\n",
       " 'MLPAP_PIC-0741.PV',\n",
       " 'MLPAP_LIC-0738.PV',\n",
       " 'MLPAP_PIC-0761.PV',\n",
       " 'MLPAP_LRC-0729.PV',\n",
       " 'MLPAP_TJC-1721.PV',\n",
       " 'MLPAP_TRC-1734.PV',\n",
       " 'MLPAP_TJC-0757.PV',\n",
       " 'MLPAP_TRC-0747.PV',\n",
       " 'MLPAP_TJ-0881.PV',\n",
       " 'MLPAP_FQI-0997.SMH',\n",
       " 'MLPAP_TJ-0757B.PV',\n",
       " '濃度']"
      ]
     },
     "metadata": {},
     "execution_count": 81
    }
   ],
   "source": [
    "action = tag[tag['category']=='可控制因子']['TAG'].values.tolist()\n",
    "action = action + ['濃度']\n",
    "action"
   ]
  },
  {
   "cell_type": "code",
   "execution_count": 82,
   "metadata": {},
   "outputs": [
    {
     "output_type": "stream",
     "name": "stdout",
     "text": [
      "action: 13\n"
     ]
    }
   ],
   "source": [
    "\n",
    "# delete not need columns\n",
    "action.remove('MLPAP_FQ-0619.PV')\n",
    "action.remove('MLPAP_TJC-0757.PV')\n",
    "action.remove('MLPAP_PIC-0741.PV')\n",
    "action.remove('MLPAP_LIC-0738.PV')\n",
    "action.remove('MLPAP_LRC-0729.PV')\n",
    "action.insert(0,'MLPAP_FQ-0619.PV')\n",
    "print('action:',len(action))"
   ]
  },
  {
   "cell_type": "code",
   "execution_count": 83,
   "metadata": {},
   "outputs": [
    {
     "output_type": "execute_result",
     "data": {
      "text/plain": [
       "['MLPAP_FQ-0619.PV',\n",
       " 'MLPAP_TJC-0627.PV',\n",
       " 'MLPAP_TRC-0610.PV',\n",
       " 'MLPAP_FR-0632.PV',\n",
       " 'MLPAP_TJC-0757A.PV',\n",
       " 'MLPAP_PIC-0761.PV',\n",
       " 'MLPAP_TJC-1721.PV',\n",
       " 'MLPAP_TRC-1734.PV',\n",
       " 'MLPAP_TRC-0747.PV',\n",
       " 'MLPAP_TJ-0881.PV',\n",
       " 'MLPAP_FQI-0997.SMH',\n",
       " 'MLPAP_TJ-0757B.PV',\n",
       " '濃度']"
      ]
     },
     "metadata": {},
     "execution_count": 83
    }
   ],
   "source": [
    "action"
   ]
  },
  {
   "cell_type": "code",
   "execution_count": 84,
   "metadata": {},
   "outputs": [],
   "source": [
    "action.remove('MLPAP_FQI-0997.SMH')"
   ]
  },
  {
   "cell_type": "code",
   "execution_count": 85,
   "metadata": {},
   "outputs": [
    {
     "output_type": "execute_result",
     "data": {
      "text/plain": [
       "['MLPAP_FQI-0997.PV']"
      ]
     },
     "metadata": {},
     "execution_count": 85
    }
   ],
   "source": [
    "output = get_col(df,'0997')\n",
    "output = [output[0]]\n",
    "output"
   ]
  },
  {
   "cell_type": "code",
   "execution_count": 86,
   "metadata": {},
   "outputs": [
    {
     "output_type": "stream",
     "name": "stdout",
     "text": [
      "stream: 1\n"
     ]
    }
   ],
   "source": [
    "stream = ['stream']\n",
    "print('stream:',len(stream))"
   ]
  },
  {
   "cell_type": "code",
   "execution_count": 87,
   "metadata": {},
   "outputs": [
    {
     "output_type": "stream",
     "name": "stdout",
     "text": [
      "state: 2\n"
     ]
    }
   ],
   "source": [
    "state = get_col(df,'DATA OF USE') + ['MLPAP_TJ3-1110.PV']#環境溫度\n",
    "print('state:',len(state))"
   ]
  },
  {
   "cell_type": "markdown",
   "metadata": {},
   "source": [
    "# select columns"
   ]
  },
  {
   "cell_type": "code",
   "execution_count": 88,
   "metadata": {},
   "outputs": [
    {
     "output_type": "stream",
     "name": "stdout",
     "text": [
      "(228240, 16)\n"
     ]
    }
   ],
   "source": [
    "df = df[state + action + output + stream]\n",
    "print(df.shape)"
   ]
  },
  {
   "cell_type": "markdown",
   "metadata": {},
   "source": [
    "# look miss value"
   ]
  },
  {
   "cell_type": "code",
   "execution_count": 89,
   "metadata": {},
   "outputs": [],
   "source": [
    "#fig = plt.figure(figsize=(20,5))\n",
    "#sns.heatmap(df.isnull(),yticklabels=False,cbar=False,cmap='viridis')"
   ]
  },
  {
   "cell_type": "code",
   "execution_count": 90,
   "metadata": {},
   "outputs": [
    {
     "output_type": "execute_result",
     "data": {
      "text/plain": [
       "count    128419.000000\n",
       "mean         90.449640\n",
       "std           6.346437\n",
       "min          33.152719\n",
       "25%          89.964452\n",
       "50%          91.577896\n",
       "75%          93.414036\n",
       "max          96.211089\n",
       "Name: 濃度, dtype: float64"
      ]
     },
     "metadata": {},
     "execution_count": 90
    }
   ],
   "source": [
    "df[action]['濃度'].describe()"
   ]
  },
  {
   "cell_type": "markdown",
   "metadata": {},
   "source": [
    "# scale data"
   ]
  },
  {
   "cell_type": "code",
   "execution_count": 91,
   "metadata": {},
   "outputs": [
    {
     "output_type": "execute_result",
     "data": {
      "text/plain": [
       "                     DATA OF USE  MLPAP_TJ3-1110.PV  MLPAP_FQ-0619.PV  \\\n",
       "2020-04-11 23:10:00     0.904699                NaN               NaN   \n",
       "2020-06-24 09:40:00     0.951039           0.565883          0.729709   \n",
       "2019-07-28 06:30:00     0.741459           0.481481               NaN   \n",
       "2019-03-27 06:00:00     0.663831           0.068783          0.789087   \n",
       "2019-08-03 19:40:00     0.745592           0.526176               NaN   \n",
       "\n",
       "                     MLPAP_TJC-0627.PV  MLPAP_TRC-0610.PV  MLPAP_FR-0632.PV  \\\n",
       "2020-04-11 23:10:00                NaN                NaN               NaN   \n",
       "2020-06-24 09:40:00           0.983347           0.703449               NaN   \n",
       "2019-07-28 06:30:00                NaN           0.527522               NaN   \n",
       "2019-03-27 06:00:00           0.732452           0.590353           0.55636   \n",
       "2019-08-03 19:40:00                NaN           0.506173               NaN   \n",
       "\n",
       "                     MLPAP_TJC-0757A.PV  MLPAP_PIC-0761.PV  MLPAP_TJC-1721.PV  \\\n",
       "2020-04-11 23:10:00                 NaN                NaN                NaN   \n",
       "2020-06-24 09:40:00            0.489362           0.943797           0.376366   \n",
       "2019-07-28 06:30:00                 NaN                NaN           0.351601   \n",
       "2019-03-27 06:00:00            0.234042           0.955038           0.394317   \n",
       "2019-08-03 19:40:00                 NaN                NaN           0.380810   \n",
       "\n",
       "                     MLPAP_TRC-1734.PV  MLPAP_TRC-0747.PV  MLPAP_TJ-0881.PV  \\\n",
       "2020-04-11 23:10:00                NaN                NaN               NaN   \n",
       "2020-06-24 09:40:00           0.336153           0.879921          0.229682   \n",
       "2019-07-28 06:30:00           0.294069           0.413472          0.809187   \n",
       "2019-03-27 06:00:00           0.302600           0.833735          0.208481   \n",
       "2019-08-03 19:40:00           0.865978           0.421225          0.837456   \n",
       "\n",
       "                     MLPAP_TJ-0757B.PV        濃度  MLPAP_FQI-0997.PV    stream  \n",
       "2020-04-11 23:10:00                NaN       NaN                NaN       NaN  \n",
       "2020-06-24 09:40:00           0.512821       NaN           0.777649  0.604541  \n",
       "2019-07-28 06:30:00                NaN       NaN                NaN       NaN  \n",
       "2019-03-27 06:00:00           0.276924  0.867132           0.768573  0.625515  \n",
       "2019-08-03 19:40:00                NaN       NaN                NaN       NaN  "
      ],
      "text/html": "<div>\n<style scoped>\n    .dataframe tbody tr th:only-of-type {\n        vertical-align: middle;\n    }\n\n    .dataframe tbody tr th {\n        vertical-align: top;\n    }\n\n    .dataframe thead th {\n        text-align: right;\n    }\n</style>\n<table border=\"1\" class=\"dataframe\">\n  <thead>\n    <tr style=\"text-align: right;\">\n      <th></th>\n      <th>DATA OF USE</th>\n      <th>MLPAP_TJ3-1110.PV</th>\n      <th>MLPAP_FQ-0619.PV</th>\n      <th>MLPAP_TJC-0627.PV</th>\n      <th>MLPAP_TRC-0610.PV</th>\n      <th>MLPAP_FR-0632.PV</th>\n      <th>MLPAP_TJC-0757A.PV</th>\n      <th>MLPAP_PIC-0761.PV</th>\n      <th>MLPAP_TJC-1721.PV</th>\n      <th>MLPAP_TRC-1734.PV</th>\n      <th>MLPAP_TRC-0747.PV</th>\n      <th>MLPAP_TJ-0881.PV</th>\n      <th>MLPAP_TJ-0757B.PV</th>\n      <th>濃度</th>\n      <th>MLPAP_FQI-0997.PV</th>\n      <th>stream</th>\n    </tr>\n  </thead>\n  <tbody>\n    <tr>\n      <th>2020-04-11 23:10:00</th>\n      <td>0.904699</td>\n      <td>NaN</td>\n      <td>NaN</td>\n      <td>NaN</td>\n      <td>NaN</td>\n      <td>NaN</td>\n      <td>NaN</td>\n      <td>NaN</td>\n      <td>NaN</td>\n      <td>NaN</td>\n      <td>NaN</td>\n      <td>NaN</td>\n      <td>NaN</td>\n      <td>NaN</td>\n      <td>NaN</td>\n      <td>NaN</td>\n    </tr>\n    <tr>\n      <th>2020-06-24 09:40:00</th>\n      <td>0.951039</td>\n      <td>0.565883</td>\n      <td>0.729709</td>\n      <td>0.983347</td>\n      <td>0.703449</td>\n      <td>NaN</td>\n      <td>0.489362</td>\n      <td>0.943797</td>\n      <td>0.376366</td>\n      <td>0.336153</td>\n      <td>0.879921</td>\n      <td>0.229682</td>\n      <td>0.512821</td>\n      <td>NaN</td>\n      <td>0.777649</td>\n      <td>0.604541</td>\n    </tr>\n    <tr>\n      <th>2019-07-28 06:30:00</th>\n      <td>0.741459</td>\n      <td>0.481481</td>\n      <td>NaN</td>\n      <td>NaN</td>\n      <td>0.527522</td>\n      <td>NaN</td>\n      <td>NaN</td>\n      <td>NaN</td>\n      <td>0.351601</td>\n      <td>0.294069</td>\n      <td>0.413472</td>\n      <td>0.809187</td>\n      <td>NaN</td>\n      <td>NaN</td>\n      <td>NaN</td>\n      <td>NaN</td>\n    </tr>\n    <tr>\n      <th>2019-03-27 06:00:00</th>\n      <td>0.663831</td>\n      <td>0.068783</td>\n      <td>0.789087</td>\n      <td>0.732452</td>\n      <td>0.590353</td>\n      <td>0.55636</td>\n      <td>0.234042</td>\n      <td>0.955038</td>\n      <td>0.394317</td>\n      <td>0.302600</td>\n      <td>0.833735</td>\n      <td>0.208481</td>\n      <td>0.276924</td>\n      <td>0.867132</td>\n      <td>0.768573</td>\n      <td>0.625515</td>\n    </tr>\n    <tr>\n      <th>2019-08-03 19:40:00</th>\n      <td>0.745592</td>\n      <td>0.526176</td>\n      <td>NaN</td>\n      <td>NaN</td>\n      <td>0.506173</td>\n      <td>NaN</td>\n      <td>NaN</td>\n      <td>NaN</td>\n      <td>0.380810</td>\n      <td>0.865978</td>\n      <td>0.421225</td>\n      <td>0.837456</td>\n      <td>NaN</td>\n      <td>NaN</td>\n      <td>NaN</td>\n      <td>NaN</td>\n    </tr>\n  </tbody>\n</table>\n</div>"
     },
     "metadata": {},
     "execution_count": 91
    }
   ],
   "source": [
    "mm_state = MinMaxScaler()\n",
    "mm_action = MinMaxScaler()\n",
    "mm_output = MinMaxScaler()\n",
    "mm_stream = MinMaxScaler()\n",
    "\n",
    "df[state] = mm_state.fit_transform(df[state])\n",
    "df[action] = mm_action.fit_transform(df[action])\n",
    "df[output] = mm_output.fit_transform(df[output])\n",
    "df[stream] = mm_stream.fit_transform(df[stream])\n",
    "\n",
    "df.sample(5)"
   ]
  },
  {
   "cell_type": "code",
   "execution_count": 92,
   "metadata": {},
   "outputs": [
    {
     "output_type": "execute_result",
     "data": {
      "text/plain": [
       "count    128419.000000\n",
       "mean          0.908633\n",
       "std           0.100644\n",
       "min           0.000000\n",
       "25%           0.900939\n",
       "50%           0.926525\n",
       "75%           0.955643\n",
       "max           1.000000\n",
       "Name: 濃度, dtype: float64"
      ]
     },
     "metadata": {},
     "execution_count": 92
    }
   ],
   "source": [
    "df[action]['濃度'].describe()"
   ]
  },
  {
   "cell_type": "code",
   "execution_count": 93,
   "metadata": {},
   "outputs": [
    {
     "output_type": "stream",
     "name": "stdout",
     "text": [
      "Your selected dataframe has 16 columns.\nThere are 16 columns that have missing values.\n"
     ]
    },
    {
     "output_type": "execute_result",
     "data": {
      "text/plain": [
       "                    Missing Values  % of Total Values\n",
       "MLPAP_TJC-0627.PV           103249               45.2\n",
       "濃度                           99821               43.7\n",
       "MLPAP_FR-0632.PV             99787               43.7\n",
       "MLPAP_FQI-0997.PV            77845               34.1\n",
       "stream                       77664               34.0\n",
       "MLPAP_TJ-0757B.PV            70136               30.7\n",
       "MLPAP_TJC-0757A.PV           70059               30.7\n",
       "MLPAP_FQ-0619.PV             69183               30.3\n",
       "MLPAP_TJ3-1110.PV            66331               29.1\n",
       "MLPAP_PIC-0761.PV            59989               26.3\n",
       "MLPAP_TRC-0610.PV            38913               17.0\n",
       "MLPAP_TJ-0881.PV             22807               10.0\n",
       "MLPAP_TRC-0747.PV            20169                8.8\n",
       "MLPAP_TJC-1721.PV            16483                7.2\n",
       "MLPAP_TRC-1734.PV            16361                7.2\n",
       "DATA OF USE                     35                0.0"
      ],
      "text/html": "<div>\n<style scoped>\n    .dataframe tbody tr th:only-of-type {\n        vertical-align: middle;\n    }\n\n    .dataframe tbody tr th {\n        vertical-align: top;\n    }\n\n    .dataframe thead th {\n        text-align: right;\n    }\n</style>\n<table border=\"1\" class=\"dataframe\">\n  <thead>\n    <tr style=\"text-align: right;\">\n      <th></th>\n      <th>Missing Values</th>\n      <th>% of Total Values</th>\n    </tr>\n  </thead>\n  <tbody>\n    <tr>\n      <th>MLPAP_TJC-0627.PV</th>\n      <td>103249</td>\n      <td>45.2</td>\n    </tr>\n    <tr>\n      <th>濃度</th>\n      <td>99821</td>\n      <td>43.7</td>\n    </tr>\n    <tr>\n      <th>MLPAP_FR-0632.PV</th>\n      <td>99787</td>\n      <td>43.7</td>\n    </tr>\n    <tr>\n      <th>MLPAP_FQI-0997.PV</th>\n      <td>77845</td>\n      <td>34.1</td>\n    </tr>\n    <tr>\n      <th>stream</th>\n      <td>77664</td>\n      <td>34.0</td>\n    </tr>\n    <tr>\n      <th>MLPAP_TJ-0757B.PV</th>\n      <td>70136</td>\n      <td>30.7</td>\n    </tr>\n    <tr>\n      <th>MLPAP_TJC-0757A.PV</th>\n      <td>70059</td>\n      <td>30.7</td>\n    </tr>\n    <tr>\n      <th>MLPAP_FQ-0619.PV</th>\n      <td>69183</td>\n      <td>30.3</td>\n    </tr>\n    <tr>\n      <th>MLPAP_TJ3-1110.PV</th>\n      <td>66331</td>\n      <td>29.1</td>\n    </tr>\n    <tr>\n      <th>MLPAP_PIC-0761.PV</th>\n      <td>59989</td>\n      <td>26.3</td>\n    </tr>\n    <tr>\n      <th>MLPAP_TRC-0610.PV</th>\n      <td>38913</td>\n      <td>17.0</td>\n    </tr>\n    <tr>\n      <th>MLPAP_TJ-0881.PV</th>\n      <td>22807</td>\n      <td>10.0</td>\n    </tr>\n    <tr>\n      <th>MLPAP_TRC-0747.PV</th>\n      <td>20169</td>\n      <td>8.8</td>\n    </tr>\n    <tr>\n      <th>MLPAP_TJC-1721.PV</th>\n      <td>16483</td>\n      <td>7.2</td>\n    </tr>\n    <tr>\n      <th>MLPAP_TRC-1734.PV</th>\n      <td>16361</td>\n      <td>7.2</td>\n    </tr>\n    <tr>\n      <th>DATA OF USE</th>\n      <td>35</td>\n      <td>0.0</td>\n    </tr>\n  </tbody>\n</table>\n</div>"
     },
     "metadata": {},
     "execution_count": 93
    }
   ],
   "source": [
    "# Function to calculate missing values by column# Funct \n",
    "def missing_values_table(df):\n",
    "        # Total missing values\n",
    "        mis_val = df.isnull().sum()\n",
    "        \n",
    "        # Percentage of missing values\n",
    "        mis_val_percent = 100 * df.isnull().sum() / len(df)\n",
    "        \n",
    "        # Make a table with the results\n",
    "        mis_val_table = pd.concat([mis_val, mis_val_percent], axis=1)\n",
    "        \n",
    "        # Rename the columns\n",
    "        mis_val_table_ren_columns = mis_val_table.rename(\n",
    "        columns = {0 : 'Missing Values', 1 : '% of Total Values'})\n",
    "        \n",
    "        # Sort the table by percentage of missing descending\n",
    "        mis_val_table_ren_columns = mis_val_table_ren_columns[\n",
    "            mis_val_table_ren_columns.iloc[:,1] != 0].sort_values(\n",
    "        '% of Total Values', ascending=False).round(1)\n",
    "        \n",
    "        # Print some summary information\n",
    "        print (\"Your selected dataframe has \" + str(df.shape[1]) + \" columns.\\n\"      \n",
    "            \"There are \" + str(mis_val_table_ren_columns.shape[0]) +\n",
    "              \" columns that have missing values.\")\n",
    "        \n",
    "        # Return the dataframe with missing information\n",
    "        return mis_val_table_ren_columns\n",
    "# Missing values statistics\n",
    "missing_values = missing_values_table(df)\n",
    "missing_values.head(20)"
   ]
  },
  {
   "cell_type": "code",
   "execution_count": null,
   "metadata": {},
   "outputs": [],
   "source": []
  },
  {
   "cell_type": "markdown",
   "metadata": {},
   "source": [
    "# build dataset for modeling"
   ]
  },
  {
   "cell_type": "code",
   "execution_count": 94,
   "metadata": {},
   "outputs": [],
   "source": [
    "def build_dataset(df,n):\n",
    "    \n",
    "    data = {'state':[],\n",
    "            'action':[],\n",
    "            'output':[],\n",
    "            'stream':[],\n",
    "            'idx':[],\n",
    "           }\n",
    "    \n",
    "    for i in tqdm(range(0,len(df)-n)):\n",
    "        curr = df.iloc[i:i+n] #一小段資料\n",
    "        if np.isnan(curr.values).sum() == 0: #確保這段資料無缺失值\n",
    "            \n",
    "            data['state'].append(curr[state].values.mean(axis=0)) #這段時間的 \"狀態\" 之均值\n",
    "            data['action'].append(curr[action].values)# 這段時間 \"所有\" 操作\n",
    "            data['output'].append(curr[output].values[-1])#這段時間 最後一個時間點 的出料(delay issue)\n",
    "            data['stream'].append(curr[stream].values[-1])#這段時間 最後一個時間點 的蒸氣(delay issue)\n",
    "            data['idx'].append(curr.index[-1]) #這段時間最後 出料對應的時間點\n",
    "    \n",
    "    # reshape\n",
    "    data['state'] = np.array(data['state'])\n",
    "    data['action'] = np.array(data['action'])\n",
    "    data['output'] = np.array(data['output']).reshape(-1,1)\n",
    "    data['stream'] = np.array(data['stream']).reshape(-1,1)\n",
    "    \n",
    "    # store mm_scaler\n",
    "    data['mm_state'] = mm_state\n",
    "    data['mm_action'] = mm_action\n",
    "    data['mm_output'] = mm_output\n",
    "    data['mm_stream'] = mm_stream\n",
    "    \n",
    "    # store col_name\n",
    "    data['state_col'] = state\n",
    "    data['action_col'] = action\n",
    "    data['output_col'] = output\n",
    "    data['stream_col'] = stream\n",
    "    \n",
    "    return data"
   ]
  },
  {
   "cell_type": "code",
   "execution_count": 95,
   "metadata": {},
   "outputs": [
    {
     "output_type": "display_data",
     "data": {
      "text/plain": "HBox(children=(FloatProgress(value=0.0, max=228204.0), HTML(value='')))",
      "application/vnd.jupyter.widget-view+json": {
       "version_major": 2,
       "version_minor": 0,
       "model_id": "ba78517f272f40dabab78e96f7305adc"
      }
     },
     "metadata": {}
    },
    {
     "output_type": "stream",
     "name": "stdout",
     "text": [
      "\n"
     ]
    }
   ],
   "source": [
    "data = build_dataset(df,36)"
   ]
  },
  {
   "cell_type": "code",
   "execution_count": 96,
   "metadata": {},
   "outputs": [
    {
     "output_type": "stream",
     "name": "stdout",
     "text": [
      "59213\n"
     ]
    }
   ],
   "source": [
    "print(len(data['idx']))"
   ]
  },
  {
   "cell_type": "markdown",
   "metadata": {},
   "source": [
    "# save"
   ]
  },
  {
   "cell_type": "code",
   "execution_count": 97,
   "metadata": {},
   "outputs": [
    {
     "output_type": "execute_result",
     "data": {
      "text/plain": [
       "['../data/dataset.pkl']"
      ]
     },
     "metadata": {},
     "execution_count": 97
    }
   ],
   "source": [
    "joblib.dump(data,'../data/dataset.pkl')"
   ]
  },
  {
   "cell_type": "code",
   "execution_count": null,
   "metadata": {},
   "outputs": [],
   "source": []
  }
 ],
 "metadata": {
  "kernelspec": {
   "display_name": "Python 3",
   "language": "python",
   "name": "python3"
  },
  "language_info": {
   "codemirror_mode": {
    "name": "ipython",
    "version": 3
   },
   "file_extension": ".py",
   "mimetype": "text/x-python",
   "name": "python",
   "nbconvert_exporter": "python",
   "pygments_lexer": "ipython3",
   "version": "3.8.3-final"
  }
 },
 "nbformat": 4,
 "nbformat_minor": 2
}