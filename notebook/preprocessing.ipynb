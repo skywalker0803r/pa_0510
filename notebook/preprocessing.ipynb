{
 "cells": [
  {
   "cell_type": "code",
   "execution_count": 1,
   "metadata": {},
   "outputs": [],
   "source": [
    "import pandas as pd\n",
    "import numpy as np\n",
    "import torchviz\n",
    "import seaborn as sns\n",
    "import matplotlib.pyplot as plt\n",
    "from tqdm import tqdm_notebook as tqdm\n",
    "from torch.utils.tensorboard import SummaryWriter\n",
    "import torch\n",
    "import torch.nn as nn\n",
    "import torch.utils.data as Data\n",
    "import torchvision\n",
    "import joblib\n",
    "from sklearn.preprocessing import MinMaxScaler\n",
    "import time\n",
    "import warnings\n",
    "warnings.simplefilter('ignore')\n",
    "def get_col(df,name):\n",
    "    return df.columns[df.columns.str.contains(name)].tolist()"
   ]
  },
  {
   "cell_type": "markdown",
   "metadata": {},
   "source": [
    "# load data"
   ]
  },
  {
   "cell_type": "code",
   "execution_count": 2,
   "metadata": {},
   "outputs": [],
   "source": [
    "tag = pd.read_csv('../data/tag_cleaned.csv',index_col=0)\n",
    "tag_map = dict(zip(tag.TAG,tag.chinese))"
   ]
  },
  {
   "cell_type": "code",
   "execution_count": 3,
   "metadata": {},
   "outputs": [
    {
     "name": "stdout",
     "output_type": "stream",
     "text": [
      "(193824, 95)\n"
     ]
    },
    {
     "data": {
      "text/html": [
       "<div>\n",
       "<style scoped>\n",
       "    .dataframe tbody tr th:only-of-type {\n",
       "        vertical-align: middle;\n",
       "    }\n",
       "\n",
       "    .dataframe tbody tr th {\n",
       "        vertical-align: top;\n",
       "    }\n",
       "\n",
       "    .dataframe thead th {\n",
       "        text-align: right;\n",
       "    }\n",
       "</style>\n",
       "<table border=\"1\" class=\"dataframe\">\n",
       "  <thead>\n",
       "    <tr style=\"text-align: right;\">\n",
       "      <th></th>\n",
       "      <th>MLPAP_TJ-0706B02</th>\n",
       "      <th>MLPAP_TJ-0706B03</th>\n",
       "      <th>MLPAP_TJ-0706B04</th>\n",
       "      <th>MLPAP_TJ-0706B05</th>\n",
       "      <th>MLPAP_TJ-0706B06</th>\n",
       "      <th>MLPAP_TJ-0706B07</th>\n",
       "      <th>MLPAP_TJ-0706B08</th>\n",
       "      <th>MLPAP_TJ-0706B09</th>\n",
       "      <th>MLPAP_TJ-0706B10</th>\n",
       "      <th>MLPAP_TJ-0706B11</th>\n",
       "      <th>...</th>\n",
       "      <th>MLPAP_FR-0755PV(轉換後)</th>\n",
       "      <th>MLPAP_FR-0791.PV</th>\n",
       "      <th>MLPAP_FI-V211.PV(轉換後)</th>\n",
       "      <th>MLPAP_PI-0658.PV</th>\n",
       "      <th>MLPAP_TJC-0757.PV</th>\n",
       "      <th>MLPAP_V225-PHD</th>\n",
       "      <th>MLPAP_PI-0771.PV</th>\n",
       "      <th>MLPAP_TRC-0747.PV</th>\n",
       "      <th>Unnamed: 96</th>\n",
       "      <th>MLPAP_TRC-0497.PV</th>\n",
       "    </tr>\n",
       "  </thead>\n",
       "  <tbody>\n",
       "    <tr>\n",
       "      <th>2016-07-30 10:20:00</th>\n",
       "      <td>387.0</td>\n",
       "      <td>410.09982</td>\n",
       "      <td>418.65027</td>\n",
       "      <td>427.00000</td>\n",
       "      <td>421.0</td>\n",
       "      <td>419.94836</td>\n",
       "      <td>415.00000</td>\n",
       "      <td>405.95172</td>\n",
       "      <td>392.96830</td>\n",
       "      <td>383.00000</td>\n",
       "      <td>...</td>\n",
       "      <td>16.648580</td>\n",
       "      <td>30.967512</td>\n",
       "      <td>NaN</td>\n",
       "      <td>486.49847</td>\n",
       "      <td>2.029989</td>\n",
       "      <td>0.039</td>\n",
       "      <td>138.000000</td>\n",
       "      <td>173.93372</td>\n",
       "      <td>NaN</td>\n",
       "      <td>8261.805</td>\n",
       "    </tr>\n",
       "    <tr>\n",
       "      <th>2016-09-20 01:00:00</th>\n",
       "      <td>381.0</td>\n",
       "      <td>401.00000</td>\n",
       "      <td>408.34283</td>\n",
       "      <td>416.09964</td>\n",
       "      <td>411.0</td>\n",
       "      <td>411.00000</td>\n",
       "      <td>410.00000</td>\n",
       "      <td>407.00000</td>\n",
       "      <td>395.00000</td>\n",
       "      <td>384.00000</td>\n",
       "      <td>...</td>\n",
       "      <td>18.108200</td>\n",
       "      <td>28.248755</td>\n",
       "      <td>NaN</td>\n",
       "      <td>423.63562</td>\n",
       "      <td>2.295043</td>\n",
       "      <td>0.043</td>\n",
       "      <td>114.891655</td>\n",
       "      <td>171.68623</td>\n",
       "      <td>NaN</td>\n",
       "      <td>8206.357</td>\n",
       "    </tr>\n",
       "    <tr>\n",
       "      <th>2019-03-07 23:20:00</th>\n",
       "      <td>380.0</td>\n",
       "      <td>395.09213</td>\n",
       "      <td>399.00000</td>\n",
       "      <td>403.00000</td>\n",
       "      <td>401.0</td>\n",
       "      <td>401.00494</td>\n",
       "      <td>401.00000</td>\n",
       "      <td>399.00000</td>\n",
       "      <td>398.00000</td>\n",
       "      <td>395.00000</td>\n",
       "      <td>...</td>\n",
       "      <td>14.338291</td>\n",
       "      <td>26.783918</td>\n",
       "      <td>6569.02</td>\n",
       "      <td>NaN</td>\n",
       "      <td>0.166344</td>\n",
       "      <td>0.014</td>\n",
       "      <td>130.612140</td>\n",
       "      <td>167.70000</td>\n",
       "      <td>NaN</td>\n",
       "      <td>8327.040</td>\n",
       "    </tr>\n",
       "    <tr>\n",
       "      <th>2017-02-16 13:00:00</th>\n",
       "      <td>376.0</td>\n",
       "      <td>393.15668</td>\n",
       "      <td>399.00000</td>\n",
       "      <td>405.00000</td>\n",
       "      <td>401.0</td>\n",
       "      <td>402.00000</td>\n",
       "      <td>403.05008</td>\n",
       "      <td>407.00000</td>\n",
       "      <td>403.17044</td>\n",
       "      <td>396.27087</td>\n",
       "      <td>...</td>\n",
       "      <td>16.362780</td>\n",
       "      <td>29.056238</td>\n",
       "      <td>NaN</td>\n",
       "      <td>420.12520</td>\n",
       "      <td>1.546241</td>\n",
       "      <td>0.024</td>\n",
       "      <td>107.794205</td>\n",
       "      <td>172.19420</td>\n",
       "      <td>NaN</td>\n",
       "      <td>7533.000</td>\n",
       "    </tr>\n",
       "    <tr>\n",
       "      <th>2017-06-28 14:10:00</th>\n",
       "      <td>375.0</td>\n",
       "      <td>392.35150</td>\n",
       "      <td>397.00000</td>\n",
       "      <td>403.00000</td>\n",
       "      <td>399.0</td>\n",
       "      <td>399.00000</td>\n",
       "      <td>399.00000</td>\n",
       "      <td>403.00000</td>\n",
       "      <td>403.00000</td>\n",
       "      <td>398.00000</td>\n",
       "      <td>...</td>\n",
       "      <td>15.244610</td>\n",
       "      <td>33.488810</td>\n",
       "      <td>NaN</td>\n",
       "      <td>NaN</td>\n",
       "      <td>2.620113</td>\n",
       "      <td>0.035</td>\n",
       "      <td>129.689380</td>\n",
       "      <td>173.70000</td>\n",
       "      <td>NaN</td>\n",
       "      <td>7533.000</td>\n",
       "    </tr>\n",
       "  </tbody>\n",
       "</table>\n",
       "<p>5 rows × 95 columns</p>\n",
       "</div>"
      ],
      "text/plain": [
       "                     MLPAP_TJ-0706B02  MLPAP_TJ-0706B03  MLPAP_TJ-0706B04  \\\n",
       "2016-07-30 10:20:00             387.0         410.09982         418.65027   \n",
       "2016-09-20 01:00:00             381.0         401.00000         408.34283   \n",
       "2019-03-07 23:20:00             380.0         395.09213         399.00000   \n",
       "2017-02-16 13:00:00             376.0         393.15668         399.00000   \n",
       "2017-06-28 14:10:00             375.0         392.35150         397.00000   \n",
       "\n",
       "                     MLPAP_TJ-0706B05  MLPAP_TJ-0706B06  MLPAP_TJ-0706B07  \\\n",
       "2016-07-30 10:20:00         427.00000             421.0         419.94836   \n",
       "2016-09-20 01:00:00         416.09964             411.0         411.00000   \n",
       "2019-03-07 23:20:00         403.00000             401.0         401.00494   \n",
       "2017-02-16 13:00:00         405.00000             401.0         402.00000   \n",
       "2017-06-28 14:10:00         403.00000             399.0         399.00000   \n",
       "\n",
       "                     MLPAP_TJ-0706B08  MLPAP_TJ-0706B09  MLPAP_TJ-0706B10  \\\n",
       "2016-07-30 10:20:00         415.00000         405.95172         392.96830   \n",
       "2016-09-20 01:00:00         410.00000         407.00000         395.00000   \n",
       "2019-03-07 23:20:00         401.00000         399.00000         398.00000   \n",
       "2017-02-16 13:00:00         403.05008         407.00000         403.17044   \n",
       "2017-06-28 14:10:00         399.00000         403.00000         403.00000   \n",
       "\n",
       "                     MLPAP_TJ-0706B11  ...  MLPAP_FR-0755PV(轉換後)  \\\n",
       "2016-07-30 10:20:00         383.00000  ...             16.648580   \n",
       "2016-09-20 01:00:00         384.00000  ...             18.108200   \n",
       "2019-03-07 23:20:00         395.00000  ...             14.338291   \n",
       "2017-02-16 13:00:00         396.27087  ...             16.362780   \n",
       "2017-06-28 14:10:00         398.00000  ...             15.244610   \n",
       "\n",
       "                     MLPAP_FR-0791.PV  MLPAP_FI-V211.PV(轉換後)  \\\n",
       "2016-07-30 10:20:00         30.967512                    NaN   \n",
       "2016-09-20 01:00:00         28.248755                    NaN   \n",
       "2019-03-07 23:20:00         26.783918                6569.02   \n",
       "2017-02-16 13:00:00         29.056238                    NaN   \n",
       "2017-06-28 14:10:00         33.488810                    NaN   \n",
       "\n",
       "                     MLPAP_PI-0658.PV  MLPAP_TJC-0757.PV  MLPAP_V225-PHD  \\\n",
       "2016-07-30 10:20:00         486.49847           2.029989           0.039   \n",
       "2016-09-20 01:00:00         423.63562           2.295043           0.043   \n",
       "2019-03-07 23:20:00               NaN           0.166344           0.014   \n",
       "2017-02-16 13:00:00         420.12520           1.546241           0.024   \n",
       "2017-06-28 14:10:00               NaN           2.620113           0.035   \n",
       "\n",
       "                     MLPAP_PI-0771.PV  MLPAP_TRC-0747.PV  Unnamed: 96  \\\n",
       "2016-07-30 10:20:00        138.000000          173.93372          NaN   \n",
       "2016-09-20 01:00:00        114.891655          171.68623          NaN   \n",
       "2019-03-07 23:20:00        130.612140          167.70000          NaN   \n",
       "2017-02-16 13:00:00        107.794205          172.19420          NaN   \n",
       "2017-06-28 14:10:00        129.689380          173.70000          NaN   \n",
       "\n",
       "                     MLPAP_TRC-0497.PV  \n",
       "2016-07-30 10:20:00           8261.805  \n",
       "2016-09-20 01:00:00           8206.357  \n",
       "2019-03-07 23:20:00           8327.040  \n",
       "2017-02-16 13:00:00           7533.000  \n",
       "2017-06-28 14:10:00           7533.000  \n",
       "\n",
       "[5 rows x 95 columns]"
      ]
     },
     "execution_count": 3,
     "metadata": {},
     "output_type": "execute_result"
    }
   ],
   "source": [
    "df = pd.read_csv('../data/train_cleaned.csv',index_col=0,parse_dates=True)\n",
    "print(df.shape)\n",
    "df.sample(5)"
   ]
  },
  {
   "cell_type": "markdown",
   "metadata": {},
   "source": [
    "# add total_stream"
   ]
  },
  {
   "cell_type": "code",
   "execution_count": 4,
   "metadata": {},
   "outputs": [
    {
     "name": "stdout",
     "output_type": "stream",
     "text": [
      "['MLPAP_FR-0755PV(轉換後)', 'MLPAP_FR-0791.PV', 'MLPAP_FI-V211.PV(轉換後)']\n"
     ]
    },
    {
     "data": {
      "text/plain": [
       "count    142409.000000\n",
       "mean      44127.819436\n",
       "std        5508.140284\n",
       "min       12403.367700\n",
       "25%       41163.371000\n",
       "50%       45579.059000\n",
       "75%       48093.826000\n",
       "max       51416.351000\n",
       "Name: stream, dtype: float64"
      ]
     },
     "execution_count": 4,
     "metadata": {},
     "output_type": "execute_result"
    }
   ],
   "source": [
    "stream_cols = tag[tag.chinese.str.contains('蒸氣')== True].TAG.tolist()\n",
    "print(stream_cols)\n",
    "df['stream'] = df[stream_cols[0]]*1000 + df[stream_cols[1]]*1000\n",
    "df['stream'].describe()"
   ]
  },
  {
   "cell_type": "markdown",
   "metadata": {},
   "source": [
    "# define columns"
   ]
  },
  {
   "cell_type": "code",
   "execution_count": 5,
   "metadata": {},
   "outputs": [
    {
     "name": "stdout",
     "output_type": "stream",
     "text": [
      "action: ['MLPAP_FQ-0619.PV', 'MLPAP_TJC-0627.PV', 'MLPAP_TRC-0610.PV', 'MLPAP_FR-0632.PV', 'MLPAP_TJC-0757A.PV', 'MLPAP_LIC-0738.PV', 'MLPAP_PIC-0761.PV', 'MLPAP_TRC-0762.PV', 'MLPAP_LRC-0729.PV', 'MLPAP_TJC-1721.PV', 'MLPAP_TRC-1734.PV', 'MLPAP_TRC-0747.PV', 'MLPAP_TJ-0757B.PV']\n",
      "\n",
      "output: ['MLPAP_FQI-0997.PV']\n",
      "\n",
      "stream: ['stream']\n",
      "\n",
      "state: ['DATA OF USE']\n"
     ]
    }
   ],
   "source": [
    "action = tag[tag['category']=='可控制因子']['TAG'].values.tolist()\n",
    "action.remove('MLPAP_FQ-0619.PV')\n",
    "action.remove('MLPAP_TJC-0757.PV')\n",
    "action.remove('MLPAP_PIC-0741.PV')\n",
    "action.insert(0,'MLPAP_FQ-0619.PV')\n",
    "\n",
    "output = get_col(df,'0997')\n",
    "\n",
    "stream = ['stream']\n",
    "\n",
    "state = get_col(df,'DATA OF USE')\n",
    "\n",
    "print('action:',action)\n",
    "print()\n",
    "\n",
    "print('output:',output)\n",
    "print()\n",
    "\n",
    "print('stream:',stream)\n",
    "print()\n",
    "\n",
    "print('state:',state)"
   ]
  },
  {
   "cell_type": "markdown",
   "metadata": {},
   "source": [
    "# select columns"
   ]
  },
  {
   "cell_type": "code",
   "execution_count": 6,
   "metadata": {},
   "outputs": [],
   "source": [
    "df = df[state + action + output + stream]"
   ]
  },
  {
   "cell_type": "markdown",
   "metadata": {},
   "source": [
    "# look miss value"
   ]
  },
  {
   "cell_type": "code",
   "execution_count": 7,
   "metadata": {},
   "outputs": [
    {
     "data": {
      "text/plain": [
       "<matplotlib.axes._subplots.AxesSubplot at 0x7f3de4e82a90>"
      ]
     },
     "execution_count": 7,
     "metadata": {},
     "output_type": "execute_result"
    },
    {
     "data": {
      "image/png": "[encoded data removed]",
      "text/plain": [
       "<Figure size 1440x360 with 1 Axes>"
      ]
     },
     "metadata": {
      "needs_background": "light"
     },
     "output_type": "display_data"
    }
   ],
   "source": [
    "fig = plt.figure(figsize=(20,5))\n",
    "sns.heatmap(df.isnull(),yticklabels=False,cbar=False,cmap='viridis')"
   ]
  },
  {
   "cell_type": "markdown",
   "metadata": {},
   "source": [
    "# scale data"
   ]
  },
  {
   "cell_type": "code",
   "execution_count": 8,
   "metadata": {},
   "outputs": [
    {
     "data": {
      "text/html": [
       "<div>\n",
       "<style scoped>\n",
       "    .dataframe tbody tr th:only-of-type {\n",
       "        vertical-align: middle;\n",
       "    }\n",
       "\n",
       "    .dataframe tbody tr th {\n",
       "        vertical-align: top;\n",
       "    }\n",
       "\n",
       "    .dataframe thead th {\n",
       "        text-align: right;\n",
       "    }\n",
       "</style>\n",
       "<table border=\"1\" class=\"dataframe\">\n",
       "  <thead>\n",
       "    <tr style=\"text-align: right;\">\n",
       "      <th></th>\n",
       "      <th>DATA OF USE</th>\n",
       "      <th>MLPAP_FQ-0619.PV</th>\n",
       "      <th>MLPAP_TJC-0627.PV</th>\n",
       "      <th>MLPAP_TRC-0610.PV</th>\n",
       "      <th>MLPAP_FR-0632.PV</th>\n",
       "      <th>MLPAP_TJC-0757A.PV</th>\n",
       "      <th>MLPAP_LIC-0738.PV</th>\n",
       "      <th>MLPAP_PIC-0761.PV</th>\n",
       "      <th>MLPAP_TRC-0762.PV</th>\n",
       "      <th>MLPAP_LRC-0729.PV</th>\n",
       "      <th>MLPAP_TJC-1721.PV</th>\n",
       "      <th>MLPAP_TRC-1734.PV</th>\n",
       "      <th>MLPAP_TRC-0747.PV</th>\n",
       "      <th>MLPAP_TJ-0757B.PV</th>\n",
       "      <th>MLPAP_FQI-0997.PV</th>\n",
       "      <th>stream</th>\n",
       "    </tr>\n",
       "  </thead>\n",
       "  <tbody>\n",
       "    <tr>\n",
       "      <th>2017-12-25 18:50:00</th>\n",
       "      <td>0.442636</td>\n",
       "      <td>NaN</td>\n",
       "      <td>NaN</td>\n",
       "      <td>NaN</td>\n",
       "      <td>NaN</td>\n",
       "      <td>NaN</td>\n",
       "      <td>0.258888</td>\n",
       "      <td>0.643512</td>\n",
       "      <td>NaN</td>\n",
       "      <td>NaN</td>\n",
       "      <td>0.339051</td>\n",
       "      <td>0.487223</td>\n",
       "      <td>0.443110</td>\n",
       "      <td>NaN</td>\n",
       "      <td>NaN</td>\n",
       "      <td>NaN</td>\n",
       "    </tr>\n",
       "    <tr>\n",
       "      <th>2017-07-28 18:10:00</th>\n",
       "      <td>0.331173</td>\n",
       "      <td>0.951489</td>\n",
       "      <td>0.276235</td>\n",
       "      <td>0.634700</td>\n",
       "      <td>0.950260</td>\n",
       "      <td>0.082687</td>\n",
       "      <td>0.399397</td>\n",
       "      <td>0.935611</td>\n",
       "      <td>0.419509</td>\n",
       "      <td>0.390622</td>\n",
       "      <td>0.386135</td>\n",
       "      <td>0.453835</td>\n",
       "      <td>0.774046</td>\n",
       "      <td>0.128948</td>\n",
       "      <td>0.744004</td>\n",
       "      <td>0.924751</td>\n",
       "    </tr>\n",
       "    <tr>\n",
       "      <th>2019-04-12 23:40:00</th>\n",
       "      <td>0.794199</td>\n",
       "      <td>0.919336</td>\n",
       "      <td>0.720323</td>\n",
       "      <td>0.529087</td>\n",
       "      <td>0.896530</td>\n",
       "      <td>0.294387</td>\n",
       "      <td>0.826876</td>\n",
       "      <td>0.934616</td>\n",
       "      <td>0.564740</td>\n",
       "      <td>0.529752</td>\n",
       "      <td>0.380983</td>\n",
       "      <td>0.454903</td>\n",
       "      <td>0.706179</td>\n",
       "      <td>0.307928</td>\n",
       "      <td>0.651524</td>\n",
       "      <td>0.717689</td>\n",
       "    </tr>\n",
       "    <tr>\n",
       "      <th>2018-03-08 11:30:00</th>\n",
       "      <td>0.496644</td>\n",
       "      <td>0.964347</td>\n",
       "      <td>0.482416</td>\n",
       "      <td>0.529309</td>\n",
       "      <td>0.958685</td>\n",
       "      <td>0.233525</td>\n",
       "      <td>0.624506</td>\n",
       "      <td>0.926058</td>\n",
       "      <td>0.526278</td>\n",
       "      <td>0.422853</td>\n",
       "      <td>0.392159</td>\n",
       "      <td>0.432201</td>\n",
       "      <td>0.753955</td>\n",
       "      <td>0.245050</td>\n",
       "      <td>0.759339</td>\n",
       "      <td>0.924133</td>\n",
       "    </tr>\n",
       "    <tr>\n",
       "      <th>2019-10-23 01:40:00</th>\n",
       "      <td>0.937649</td>\n",
       "      <td>NaN</td>\n",
       "      <td>NaN</td>\n",
       "      <td>0.397501</td>\n",
       "      <td>NaN</td>\n",
       "      <td>NaN</td>\n",
       "      <td>NaN</td>\n",
       "      <td>NaN</td>\n",
       "      <td>NaN</td>\n",
       "      <td>NaN</td>\n",
       "      <td>0.345993</td>\n",
       "      <td>0.482543</td>\n",
       "      <td>0.364817</td>\n",
       "      <td>NaN</td>\n",
       "      <td>NaN</td>\n",
       "      <td>NaN</td>\n",
       "    </tr>\n",
       "  </tbody>\n",
       "</table>\n",
       "</div>"
      ],
      "text/plain": [
       "                     DATA OF USE  MLPAP_FQ-0619.PV  MLPAP_TJC-0627.PV  \\\n",
       "2017-12-25 18:50:00     0.442636               NaN                NaN   \n",
       "2017-07-28 18:10:00     0.331173          0.951489           0.276235   \n",
       "2019-04-12 23:40:00     0.794199          0.919336           0.720323   \n",
       "2018-03-08 11:30:00     0.496644          0.964347           0.482416   \n",
       "2019-10-23 01:40:00     0.937649               NaN                NaN   \n",
       "\n",
       "                     MLPAP_TRC-0610.PV  MLPAP_FR-0632.PV  MLPAP_TJC-0757A.PV  \\\n",
       "2017-12-25 18:50:00                NaN               NaN                 NaN   \n",
       "2017-07-28 18:10:00           0.634700          0.950260            0.082687   \n",
       "2019-04-12 23:40:00           0.529087          0.896530            0.294387   \n",
       "2018-03-08 11:30:00           0.529309          0.958685            0.233525   \n",
       "2019-10-23 01:40:00           0.397501               NaN                 NaN   \n",
       "\n",
       "                     MLPAP_LIC-0738.PV  MLPAP_PIC-0761.PV  MLPAP_TRC-0762.PV  \\\n",
       "2017-12-25 18:50:00           0.258888           0.643512                NaN   \n",
       "2017-07-28 18:10:00           0.399397           0.935611           0.419509   \n",
       "2019-04-12 23:40:00           0.826876           0.934616           0.564740   \n",
       "2018-03-08 11:30:00           0.624506           0.926058           0.526278   \n",
       "2019-10-23 01:40:00                NaN                NaN                NaN   \n",
       "\n",
       "                     MLPAP_LRC-0729.PV  MLPAP_TJC-1721.PV  MLPAP_TRC-1734.PV  \\\n",
       "2017-12-25 18:50:00                NaN           0.339051           0.487223   \n",
       "2017-07-28 18:10:00           0.390622           0.386135           0.453835   \n",
       "2019-04-12 23:40:00           0.529752           0.380983           0.454903   \n",
       "2018-03-08 11:30:00           0.422853           0.392159           0.432201   \n",
       "2019-10-23 01:40:00                NaN           0.345993           0.482543   \n",
       "\n",
       "                     MLPAP_TRC-0747.PV  MLPAP_TJ-0757B.PV  MLPAP_FQI-0997.PV  \\\n",
       "2017-12-25 18:50:00           0.443110                NaN                NaN   \n",
       "2017-07-28 18:10:00           0.774046           0.128948           0.744004   \n",
       "2019-04-12 23:40:00           0.706179           0.307928           0.651524   \n",
       "2018-03-08 11:30:00           0.753955           0.245050           0.759339   \n",
       "2019-10-23 01:40:00           0.364817                NaN                NaN   \n",
       "\n",
       "                       stream  \n",
       "2017-12-25 18:50:00       NaN  \n",
       "2017-07-28 18:10:00  0.924751  \n",
       "2019-04-12 23:40:00  0.717689  \n",
       "2018-03-08 11:30:00  0.924133  \n",
       "2019-10-23 01:40:00       NaN  "
      ]
     },
     "execution_count": 8,
     "metadata": {},
     "output_type": "execute_result"
    }
   ],
   "source": [
    "mm_state = MinMaxScaler()\n",
    "mm_action = MinMaxScaler()\n",
    "mm_output = MinMaxScaler()\n",
    "mm_stream = MinMaxScaler()\n",
    "\n",
    "df[state] = mm_state.fit_transform(df[state])\n",
    "df[action] = mm_action.fit_transform(df[action])\n",
    "df[output] = mm_output.fit_transform(df[output])\n",
    "df[stream] = mm_stream.fit_transform(df[stream])\n",
    "\n",
    "df.sample(5)"
   ]
  },
  {
   "cell_type": "markdown",
   "metadata": {},
   "source": [
    "# build dataset for modeling"
   ]
  },
  {
   "cell_type": "code",
   "execution_count": 9,
   "metadata": {},
   "outputs": [],
   "source": [
    "def build_dataset(df,n):\n",
    "    \n",
    "    data = {'state':[],\n",
    "            'action':[],\n",
    "            'output':[],\n",
    "            'stream':[],\n",
    "            'idx':[]}\n",
    "    \n",
    "    for i in tqdm(range(0,len(df)-n)):\n",
    "        curr = df.iloc[i:i+n] #一小段資料\n",
    "        if np.isnan(curr.values).sum() == 0: #確保這段資料無缺失值\n",
    "            \n",
    "            data['state'].append(curr[state].values.mean())#這段時間的觸媒使用時間 均值\n",
    "            data['action'].append(curr[action].values)# 這段時間 \"所有\" 操作\n",
    "            data['output'].append(curr[output].values[-1])#這段時間 最後一個時間點 的出料\n",
    "            data['stream'].append(curr[stream].median())#這段時間蒸氣的 中位數\n",
    "            data['idx'].append(curr.index[-1]) #這段時間最後 出料對應的時間點\n",
    "    \n",
    "    # reshape\n",
    "    data['state'] = np.array(data['state']).reshape(-1,1)\n",
    "    data['action'] = np.array(data['action'])\n",
    "    data['output'] = np.array(data['output']).reshape(-1,1)\n",
    "    data['stream'] = np.array(data['stream']).reshape(-1,1)\n",
    "    \n",
    "    # store scaler\n",
    "    data['mm_state'] = mm_state\n",
    "    data['mm_action'] = mm_action\n",
    "    data['mm_output'] = mm_output\n",
    "    data['mm_stream'] = mm_stream\n",
    "    \n",
    "    # store col_name\n",
    "    data['state_col'] = state\n",
    "    data['action_col'] = action\n",
    "    data['output_col'] = output\n",
    "    data['stream_col'] = stream\n",
    "    \n",
    "    return data"
   ]
  },
  {
   "cell_type": "code",
   "execution_count": 10,
   "metadata": {},
   "outputs": [
    {
     "data": {
      "application/vnd.jupyter.widget-view+json": {
       "model_id": "39ee0c85b6b04368abd84fcf686ce89d",
       "version_major": 2,
       "version_minor": 0
      },
      "text/plain": [
       "HBox(children=(FloatProgress(value=0.0, max=193788.0), HTML(value='')))"
      ]
     },
     "metadata": {},
     "output_type": "display_data"
    },
    {
     "name": "stdout",
     "output_type": "stream",
     "text": [
      "\n"
     ]
    }
   ],
   "source": [
    "data = build_dataset(df,36)"
   ]
  },
  {
   "cell_type": "code",
   "execution_count": 11,
   "metadata": {},
   "outputs": [
    {
     "name": "stdout",
     "output_type": "stream",
     "text": [
      "130823\n"
     ]
    }
   ],
   "source": [
    "print(len(data['idx']))"
   ]
  },
  {
   "cell_type": "markdown",
   "metadata": {},
   "source": [
    "# save"
   ]
  },
  {
   "cell_type": "code",
   "execution_count": 12,
   "metadata": {},
   "outputs": [
    {
     "data": {
      "text/plain": [
       "['../data/dataset.pkl']"
      ]
     },
     "execution_count": 12,
     "metadata": {},
     "output_type": "execute_result"
    }
   ],
   "source": [
    "joblib.dump(data,'../data/dataset.pkl')"
   ]
  },
  {
   "cell_type": "code",
   "execution_count": null,
   "metadata": {},
   "outputs": [],
   "source": []
  }
 ],
 "metadata": {
  "kernelspec": {
   "display_name": "Python 3",
   "language": "python",
   "name": "python3"
  },
  "language_info": {
   "codemirror_mode": {
    "name": "ipython",
    "version": 3
   },
   "file_extension": ".py",
   "mimetype": "text/x-python",
   "name": "python",
   "nbconvert_exporter": "python",
   "pygments_lexer": "ipython3",
   "version": "3.7.6"
  }
 },
 "nbformat": 4,
 "nbformat_minor": 2
}
