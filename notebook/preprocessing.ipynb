{
 "cells": [
  {
   "cell_type": "code",
   "execution_count": 1,
   "metadata": {},
   "outputs": [],
   "source": [
    "import pandas as pd\n",
    "import numpy as np\n",
    "import torchviz\n",
    "import seaborn as sns\n",
    "import matplotlib.pyplot as plt\n",
    "from tqdm import tqdm_notebook as tqdm\n",
    "from torch.utils.tensorboard import SummaryWriter\n",
    "import torch\n",
    "import torch.nn as nn\n",
    "import torch.utils.data as Data\n",
    "import torchvision\n",
    "import joblib\n",
    "from sklearn.preprocessing import MinMaxScaler\n",
    "import time\n",
    "import warnings\n",
    "warnings.simplefilter('ignore')\n",
    "def get_col(df,name):\n",
    "    return df.columns[df.columns.str.contains(name)].tolist()"
   ]
  },
  {
   "cell_type": "markdown",
   "metadata": {},
   "source": [
    "# load data"
   ]
  },
  {
   "cell_type": "code",
   "execution_count": 2,
   "metadata": {},
   "outputs": [
    {
     "data": {
      "text/html": [
       "<div>\n",
       "<style scoped>\n",
       "    .dataframe tbody tr th:only-of-type {\n",
       "        vertical-align: middle;\n",
       "    }\n",
       "\n",
       "    .dataframe tbody tr th {\n",
       "        vertical-align: top;\n",
       "    }\n",
       "\n",
       "    .dataframe thead th {\n",
       "        text-align: right;\n",
       "    }\n",
       "</style>\n",
       "<table border=\"1\" class=\"dataframe\">\n",
       "  <thead>\n",
       "    <tr style=\"text-align: right;\">\n",
       "      <th></th>\n",
       "      <th>item</th>\n",
       "      <th>TAG</th>\n",
       "      <th>chinese</th>\n",
       "      <th>character</th>\n",
       "      <th>unit</th>\n",
       "      <th>category</th>\n",
       "      <th>period</th>\n",
       "      <th>min</th>\n",
       "      <th>max</th>\n",
       "      <th>推測顯著性(依製程經驗)</th>\n",
       "    </tr>\n",
       "  </thead>\n",
       "  <tbody>\n",
       "    <tr>\n",
       "      <td>0</td>\n",
       "      <td>1.0</td>\n",
       "      <td>MLPAP_TJC-0627.PV</td>\n",
       "      <td>OX預熱器出口溫度</td>\n",
       "      <td>溫度</td>\n",
       "      <td>℃</td>\n",
       "      <td>可控制因子</td>\n",
       "      <td>1分鐘2筆</td>\n",
       "      <td>140</td>\n",
       "      <td>160</td>\n",
       "      <td>***</td>\n",
       "    </tr>\n",
       "    <tr>\n",
       "      <td>1</td>\n",
       "      <td>2.0</td>\n",
       "      <td>MLPAP_TRC-0610.PV</td>\n",
       "      <td>空氣預熱器出口溫度</td>\n",
       "      <td>溫度</td>\n",
       "      <td>℃</td>\n",
       "      <td>可控制因子</td>\n",
       "      <td>1分鐘2筆</td>\n",
       "      <td>160</td>\n",
       "      <td>200</td>\n",
       "      <td>***</td>\n",
       "    </tr>\n",
       "    <tr>\n",
       "      <td>2</td>\n",
       "      <td>3.0</td>\n",
       "      <td>MLPAP_FR-0632.PV</td>\n",
       "      <td>汽機風量</td>\n",
       "      <td>流量</td>\n",
       "      <td>KNM3/HR</td>\n",
       "      <td>可控制因子</td>\n",
       "      <td>1分鐘2筆</td>\n",
       "      <td>64</td>\n",
       "      <td>90</td>\n",
       "      <td>****</td>\n",
       "    </tr>\n",
       "    <tr>\n",
       "      <td>3</td>\n",
       "      <td>4.0</td>\n",
       "      <td>MLPAP_FQ-0619.PV</td>\n",
       "      <td>OX入料量</td>\n",
       "      <td>流量</td>\n",
       "      <td>kg/HR</td>\n",
       "      <td>可控制因子</td>\n",
       "      <td>1分鐘2筆</td>\n",
       "      <td>2000</td>\n",
       "      <td>8000</td>\n",
       "      <td>****</td>\n",
       "    </tr>\n",
       "    <tr>\n",
       "      <td>4</td>\n",
       "      <td>5.0</td>\n",
       "      <td>MLPAP_TJC-0757A.PV</td>\n",
       "      <td>反應槽鹽浴溫度</td>\n",
       "      <td>溫度</td>\n",
       "      <td>℃</td>\n",
       "      <td>可控制因子</td>\n",
       "      <td>1分鐘2筆</td>\n",
       "      <td>345</td>\n",
       "      <td>365</td>\n",
       "      <td>****</td>\n",
       "    </tr>\n",
       "    <tr>\n",
       "      <td>5</td>\n",
       "      <td>6.0</td>\n",
       "      <td>MLPAP_PIC-0741.PV</td>\n",
       "      <td>汽鼓(V211)鍋爐水壓力</td>\n",
       "      <td>壓力</td>\n",
       "      <td>KG/CM2</td>\n",
       "      <td>可控制因子</td>\n",
       "      <td>1分鐘2筆</td>\n",
       "      <td>0</td>\n",
       "      <td>30.05</td>\n",
       "      <td>*</td>\n",
       "    </tr>\n",
       "    <tr>\n",
       "      <td>6</td>\n",
       "      <td>7.0</td>\n",
       "      <td>MLPAP_LIC-0738.PV</td>\n",
       "      <td>汽鼓(V211)鍋爐水液位</td>\n",
       "      <td>液位</td>\n",
       "      <td>%</td>\n",
       "      <td>可控制因子</td>\n",
       "      <td>1分鐘2筆</td>\n",
       "      <td>20</td>\n",
       "      <td>60</td>\n",
       "      <td>*</td>\n",
       "    </tr>\n",
       "    <tr>\n",
       "      <td>7</td>\n",
       "      <td>8.0</td>\n",
       "      <td>MLPAP_PIC-0761.PV</td>\n",
       "      <td>鹽浴冷卻器(E112)出口壓力</td>\n",
       "      <td>壓力</td>\n",
       "      <td>BAR</td>\n",
       "      <td>可控制因子</td>\n",
       "      <td>1分鐘2筆</td>\n",
       "      <td>40</td>\n",
       "      <td>55</td>\n",
       "      <td>***</td>\n",
       "    </tr>\n",
       "    <tr>\n",
       "      <td>8</td>\n",
       "      <td>9.0</td>\n",
       "      <td>MLPAP_TRC-0762.PV</td>\n",
       "      <td>鹽浴冷卻器(E112)入口溫度</td>\n",
       "      <td>溫度</td>\n",
       "      <td>℃</td>\n",
       "      <td>可控制因子</td>\n",
       "      <td>1分鐘2筆</td>\n",
       "      <td>345</td>\n",
       "      <td>365</td>\n",
       "      <td>***</td>\n",
       "    </tr>\n",
       "    <tr>\n",
       "      <td>9</td>\n",
       "      <td>10.0</td>\n",
       "      <td>MLPAP_LRC-0729.PV</td>\n",
       "      <td>鍋爐水液位控制</td>\n",
       "      <td>液位</td>\n",
       "      <td>%</td>\n",
       "      <td>可控制因子</td>\n",
       "      <td>1分鐘2筆</td>\n",
       "      <td>20</td>\n",
       "      <td>60</td>\n",
       "      <td>*</td>\n",
       "    </tr>\n",
       "    <tr>\n",
       "      <td>10</td>\n",
       "      <td>11.0</td>\n",
       "      <td>MLPAP_TJC-1721.PV</td>\n",
       "      <td>轉換式冷凝器冷油溫度</td>\n",
       "      <td>溫度</td>\n",
       "      <td>℃</td>\n",
       "      <td>可控制因子</td>\n",
       "      <td>1分鐘2筆</td>\n",
       "      <td>55</td>\n",
       "      <td>68</td>\n",
       "      <td>****</td>\n",
       "    </tr>\n",
       "    <tr>\n",
       "      <td>11</td>\n",
       "      <td>12.0</td>\n",
       "      <td>MLPAP_TRC-1734.PV</td>\n",
       "      <td>轉換式冷凝器熱油溫度</td>\n",
       "      <td>溫度</td>\n",
       "      <td>℃</td>\n",
       "      <td>可控制因子</td>\n",
       "      <td>1分鐘2筆</td>\n",
       "      <td>160</td>\n",
       "      <td>200</td>\n",
       "      <td>****</td>\n",
       "    </tr>\n",
       "    <tr>\n",
       "      <td>88</td>\n",
       "      <td>89.0</td>\n",
       "      <td>MLPAP_TJC-0757.PV</td>\n",
       "      <td>反應器A/B側鹽浴溫度差</td>\n",
       "      <td>溫度</td>\n",
       "      <td>℃</td>\n",
       "      <td>可控制因子</td>\n",
       "      <td>1分鐘2筆</td>\n",
       "      <td>-3</td>\n",
       "      <td>3</td>\n",
       "      <td>***</td>\n",
       "    </tr>\n",
       "    <tr>\n",
       "      <td>90</td>\n",
       "      <td>91.0</td>\n",
       "      <td>MLPAP_TRC-0747.PV</td>\n",
       "      <td>E220出口溫度</td>\n",
       "      <td>溫度</td>\n",
       "      <td>℃</td>\n",
       "      <td>可控制因子</td>\n",
       "      <td>1分鐘2筆</td>\n",
       "      <td>100</td>\n",
       "      <td>200</td>\n",
       "      <td>***</td>\n",
       "    </tr>\n",
       "    <tr>\n",
       "      <td>94</td>\n",
       "      <td>5.0</td>\n",
       "      <td>MLPAP_TJ-0757B.PV</td>\n",
       "      <td>反應槽鹽浴溫度</td>\n",
       "      <td>溫度</td>\n",
       "      <td>℃</td>\n",
       "      <td>可控制因子</td>\n",
       "      <td>1分鐘2筆</td>\n",
       "      <td>345</td>\n",
       "      <td>365</td>\n",
       "      <td>****</td>\n",
       "    </tr>\n",
       "  </tbody>\n",
       "</table>\n",
       "</div>"
      ],
      "text/plain": [
       "    item                 TAG          chinese character     unit category  \\\n",
       "0    1.0   MLPAP_TJC-0627.PV        OX預熱器出口溫度        溫度        ℃    可控制因子   \n",
       "1    2.0   MLPAP_TRC-0610.PV        空氣預熱器出口溫度        溫度        ℃    可控制因子   \n",
       "2    3.0    MLPAP_FR-0632.PV             汽機風量        流量  KNM3/HR    可控制因子   \n",
       "3    4.0    MLPAP_FQ-0619.PV            OX入料量        流量    kg/HR    可控制因子   \n",
       "4    5.0  MLPAP_TJC-0757A.PV          反應槽鹽浴溫度        溫度        ℃    可控制因子   \n",
       "5    6.0   MLPAP_PIC-0741.PV    汽鼓(V211)鍋爐水壓力        壓力   KG/CM2    可控制因子   \n",
       "6    7.0   MLPAP_LIC-0738.PV    汽鼓(V211)鍋爐水液位        液位        %    可控制因子   \n",
       "7    8.0   MLPAP_PIC-0761.PV  鹽浴冷卻器(E112)出口壓力        壓力      BAR    可控制因子   \n",
       "8    9.0   MLPAP_TRC-0762.PV  鹽浴冷卻器(E112)入口溫度        溫度        ℃    可控制因子   \n",
       "9   10.0   MLPAP_LRC-0729.PV          鍋爐水液位控制        液位        %    可控制因子   \n",
       "10  11.0   MLPAP_TJC-1721.PV       轉換式冷凝器冷油溫度        溫度        ℃    可控制因子   \n",
       "11  12.0   MLPAP_TRC-1734.PV       轉換式冷凝器熱油溫度        溫度        ℃    可控制因子   \n",
       "88  89.0   MLPAP_TJC-0757.PV     反應器A/B側鹽浴溫度差        溫度        ℃    可控制因子   \n",
       "90  91.0   MLPAP_TRC-0747.PV         E220出口溫度        溫度        ℃    可控制因子   \n",
       "94   5.0   MLPAP_TJ-0757B.PV          反應槽鹽浴溫度        溫度        ℃    可控制因子   \n",
       "\n",
       "   period   min    max 推測顯著性(依製程經驗)  \n",
       "0   1分鐘2筆   140    160          ***  \n",
       "1   1分鐘2筆   160    200          ***  \n",
       "2   1分鐘2筆    64     90         ****  \n",
       "3   1分鐘2筆  2000   8000         ****  \n",
       "4   1分鐘2筆   345    365         ****  \n",
       "5   1分鐘2筆     0  30.05            *  \n",
       "6   1分鐘2筆    20     60            *  \n",
       "7   1分鐘2筆    40     55          ***  \n",
       "8   1分鐘2筆   345    365          ***  \n",
       "9   1分鐘2筆    20     60            *  \n",
       "10  1分鐘2筆    55     68         ****  \n",
       "11  1分鐘2筆   160    200         ****  \n",
       "88  1分鐘2筆    -3      3          ***  \n",
       "90  1分鐘2筆   100    200          ***  \n",
       "94  1分鐘2筆   345    365         ****  "
      ]
     },
     "execution_count": 2,
     "metadata": {},
     "output_type": "execute_result"
    }
   ],
   "source": [
    "tag = pd.read_csv('../data/tag_cleaned.csv',index_col=0).dropna(axis=0)\n",
    "tag_map = dict(zip(tag.TAG,tag.chinese))\n",
    "tag[tag.category=='可控制因子']"
   ]
  },
  {
   "cell_type": "code",
   "execution_count": 3,
   "metadata": {},
   "outputs": [
    {
     "data": {
      "text/html": [
       "<div>\n",
       "<style scoped>\n",
       "    .dataframe tbody tr th:only-of-type {\n",
       "        vertical-align: middle;\n",
       "    }\n",
       "\n",
       "    .dataframe tbody tr th {\n",
       "        vertical-align: top;\n",
       "    }\n",
       "\n",
       "    .dataframe thead th {\n",
       "        text-align: right;\n",
       "    }\n",
       "</style>\n",
       "<table border=\"1\" class=\"dataframe\">\n",
       "  <thead>\n",
       "    <tr style=\"text-align: right;\">\n",
       "      <th></th>\n",
       "      <th>item</th>\n",
       "      <th>TAG</th>\n",
       "      <th>chinese</th>\n",
       "      <th>character</th>\n",
       "      <th>unit</th>\n",
       "      <th>category</th>\n",
       "      <th>period</th>\n",
       "      <th>min</th>\n",
       "      <th>max</th>\n",
       "      <th>推測顯著性(依製程經驗)</th>\n",
       "    </tr>\n",
       "  </thead>\n",
       "  <tbody>\n",
       "  </tbody>\n",
       "</table>\n",
       "</div>"
      ],
      "text/plain": [
       "Empty DataFrame\n",
       "Columns: [item, TAG, chinese, character, unit, category, period, min, max, 推測顯著性(依製程經驗)]\n",
       "Index: []"
      ]
     },
     "execution_count": 3,
     "metadata": {},
     "output_type": "execute_result"
    }
   ],
   "source": [
    "tag[tag.chinese.str.contains('環境溫度')]"
   ]
  },
  {
   "cell_type": "code",
   "execution_count": 4,
   "metadata": {},
   "outputs": [
    {
     "name": "stdout",
     "output_type": "stream",
     "text": [
      "(195409, 95)\n"
     ]
    },
    {
     "data": {
      "text/html": [
       "<div>\n",
       "<style scoped>\n",
       "    .dataframe tbody tr th:only-of-type {\n",
       "        vertical-align: middle;\n",
       "    }\n",
       "\n",
       "    .dataframe tbody tr th {\n",
       "        vertical-align: top;\n",
       "    }\n",
       "\n",
       "    .dataframe thead th {\n",
       "        text-align: right;\n",
       "    }\n",
       "</style>\n",
       "<table border=\"1\" class=\"dataframe\">\n",
       "  <thead>\n",
       "    <tr style=\"text-align: right;\">\n",
       "      <th></th>\n",
       "      <th>MLPAP_TJ-0706B02</th>\n",
       "      <th>MLPAP_TJ-0706B03</th>\n",
       "      <th>MLPAP_TJ-0706B04</th>\n",
       "      <th>MLPAP_TJ-0706B05</th>\n",
       "      <th>MLPAP_TJ-0706B06</th>\n",
       "      <th>MLPAP_TJ-0706B07</th>\n",
       "      <th>MLPAP_TJ-0706B08</th>\n",
       "      <th>MLPAP_TJ-0706B09</th>\n",
       "      <th>MLPAP_TJ-0706B10</th>\n",
       "      <th>MLPAP_TJ-0706B11</th>\n",
       "      <th>...</th>\n",
       "      <th>MLPAP_FR-0755PV(轉換後)</th>\n",
       "      <th>MLPAP_FR-0791.PV</th>\n",
       "      <th>MLPAP_FI-V211.PV(轉換後)</th>\n",
       "      <th>MLPAP_PI-0658.PV</th>\n",
       "      <th>MLPAP_TJC-0757.PV</th>\n",
       "      <th>MLPAP_V225-PHD</th>\n",
       "      <th>MLPAP_PI-0771.PV</th>\n",
       "      <th>MLPAP_TRC-0747.PV</th>\n",
       "      <th>MLPAP_TJR-0881.PV</th>\n",
       "      <th>MLPAP_TJ3-1110.PV</th>\n",
       "    </tr>\n",
       "  </thead>\n",
       "  <tbody>\n",
       "    <tr>\n",
       "      <td>2019-05-20 23:00:00</td>\n",
       "      <td>381.000000</td>\n",
       "      <td>395.249924</td>\n",
       "      <td>398.000000</td>\n",
       "      <td>403.000000</td>\n",
       "      <td>400.011932</td>\n",
       "      <td>401.000000</td>\n",
       "      <td>400.201767</td>\n",
       "      <td>398.199051</td>\n",
       "      <td>397.100037</td>\n",
       "      <td>394.0</td>\n",
       "      <td>...</td>\n",
       "      <td>10.819005</td>\n",
       "      <td>30.539781</td>\n",
       "      <td>6670.830078</td>\n",
       "      <td>NaN</td>\n",
       "      <td>0.945165</td>\n",
       "      <td>0.016</td>\n",
       "      <td>132.092003</td>\n",
       "      <td>169.183151</td>\n",
       "      <td>138.699997</td>\n",
       "      <td>24.050000</td>\n",
       "    </tr>\n",
       "    <tr>\n",
       "      <td>2017-10-09 01:30:00</td>\n",
       "      <td>378.000000</td>\n",
       "      <td>395.000000</td>\n",
       "      <td>398.949875</td>\n",
       "      <td>404.000000</td>\n",
       "      <td>399.999832</td>\n",
       "      <td>400.000000</td>\n",
       "      <td>398.949921</td>\n",
       "      <td>402.000000</td>\n",
       "      <td>402.600098</td>\n",
       "      <td>399.0</td>\n",
       "      <td>...</td>\n",
       "      <td>18.510202</td>\n",
       "      <td>30.100574</td>\n",
       "      <td>NaN</td>\n",
       "      <td>469.337250</td>\n",
       "      <td>0.474630</td>\n",
       "      <td>0.031</td>\n",
       "      <td>140.676498</td>\n",
       "      <td>172.384613</td>\n",
       "      <td>138.800003</td>\n",
       "      <td>30.668013</td>\n",
       "    </tr>\n",
       "    <tr>\n",
       "      <td>2019-06-11 21:20:00</td>\n",
       "      <td>382.184280</td>\n",
       "      <td>395.929581</td>\n",
       "      <td>397.576035</td>\n",
       "      <td>402.000000</td>\n",
       "      <td>399.000000</td>\n",
       "      <td>399.000000</td>\n",
       "      <td>399.000000</td>\n",
       "      <td>397.000000</td>\n",
       "      <td>396.000000</td>\n",
       "      <td>393.0</td>\n",
       "      <td>...</td>\n",
       "      <td>9.761417</td>\n",
       "      <td>30.009002</td>\n",
       "      <td>6723.736816</td>\n",
       "      <td>NaN</td>\n",
       "      <td>-0.461350</td>\n",
       "      <td>0.021</td>\n",
       "      <td>127.302792</td>\n",
       "      <td>168.800003</td>\n",
       "      <td>138.500000</td>\n",
       "      <td>28.405170</td>\n",
       "    </tr>\n",
       "    <tr>\n",
       "      <td>2017-01-09 10:40:00</td>\n",
       "      <td>376.000000</td>\n",
       "      <td>393.474838</td>\n",
       "      <td>399.000000</td>\n",
       "      <td>405.863052</td>\n",
       "      <td>401.675247</td>\n",
       "      <td>402.737717</td>\n",
       "      <td>404.000000</td>\n",
       "      <td>407.000000</td>\n",
       "      <td>403.000000</td>\n",
       "      <td>394.0</td>\n",
       "      <td>...</td>\n",
       "      <td>15.744979</td>\n",
       "      <td>29.535298</td>\n",
       "      <td>NaN</td>\n",
       "      <td>417.203720</td>\n",
       "      <td>1.425389</td>\n",
       "      <td>0.022</td>\n",
       "      <td>104.587494</td>\n",
       "      <td>172.000000</td>\n",
       "      <td>138.800003</td>\n",
       "      <td>18.850000</td>\n",
       "    </tr>\n",
       "    <tr>\n",
       "      <td>2018-01-10 16:00:00</td>\n",
       "      <td>385.551254</td>\n",
       "      <td>406.000000</td>\n",
       "      <td>410.000000</td>\n",
       "      <td>413.026489</td>\n",
       "      <td>404.551086</td>\n",
       "      <td>402.551437</td>\n",
       "      <td>396.699814</td>\n",
       "      <td>395.000000</td>\n",
       "      <td>391.126160</td>\n",
       "      <td>386.0</td>\n",
       "      <td>...</td>\n",
       "      <td>3.862067</td>\n",
       "      <td>NaN</td>\n",
       "      <td>NaN</td>\n",
       "      <td>370.363541</td>\n",
       "      <td>0.232968</td>\n",
       "      <td>0.005</td>\n",
       "      <td>126.514442</td>\n",
       "      <td>172.399994</td>\n",
       "      <td>138.500000</td>\n",
       "      <td>14.807474</td>\n",
       "    </tr>\n",
       "  </tbody>\n",
       "</table>\n",
       "<p>5 rows × 95 columns</p>\n",
       "</div>"
      ],
      "text/plain": [
       "                     MLPAP_TJ-0706B02  MLPAP_TJ-0706B03  MLPAP_TJ-0706B04  \\\n",
       "2019-05-20 23:00:00        381.000000        395.249924        398.000000   \n",
       "2017-10-09 01:30:00        378.000000        395.000000        398.949875   \n",
       "2019-06-11 21:20:00        382.184280        395.929581        397.576035   \n",
       "2017-01-09 10:40:00        376.000000        393.474838        399.000000   \n",
       "2018-01-10 16:00:00        385.551254        406.000000        410.000000   \n",
       "\n",
       "                     MLPAP_TJ-0706B05  MLPAP_TJ-0706B06  MLPAP_TJ-0706B07  \\\n",
       "2019-05-20 23:00:00        403.000000        400.011932        401.000000   \n",
       "2017-10-09 01:30:00        404.000000        399.999832        400.000000   \n",
       "2019-06-11 21:20:00        402.000000        399.000000        399.000000   \n",
       "2017-01-09 10:40:00        405.863052        401.675247        402.737717   \n",
       "2018-01-10 16:00:00        413.026489        404.551086        402.551437   \n",
       "\n",
       "                     MLPAP_TJ-0706B08  MLPAP_TJ-0706B09  MLPAP_TJ-0706B10  \\\n",
       "2019-05-20 23:00:00        400.201767        398.199051        397.100037   \n",
       "2017-10-09 01:30:00        398.949921        402.000000        402.600098   \n",
       "2019-06-11 21:20:00        399.000000        397.000000        396.000000   \n",
       "2017-01-09 10:40:00        404.000000        407.000000        403.000000   \n",
       "2018-01-10 16:00:00        396.699814        395.000000        391.126160   \n",
       "\n",
       "                     MLPAP_TJ-0706B11  ...  MLPAP_FR-0755PV(轉換後)  \\\n",
       "2019-05-20 23:00:00             394.0  ...             10.819005   \n",
       "2017-10-09 01:30:00             399.0  ...             18.510202   \n",
       "2019-06-11 21:20:00             393.0  ...              9.761417   \n",
       "2017-01-09 10:40:00             394.0  ...             15.744979   \n",
       "2018-01-10 16:00:00             386.0  ...              3.862067   \n",
       "\n",
       "                     MLPAP_FR-0791.PV  MLPAP_FI-V211.PV(轉換後)  \\\n",
       "2019-05-20 23:00:00         30.539781            6670.830078   \n",
       "2017-10-09 01:30:00         30.100574                    NaN   \n",
       "2019-06-11 21:20:00         30.009002            6723.736816   \n",
       "2017-01-09 10:40:00         29.535298                    NaN   \n",
       "2018-01-10 16:00:00               NaN                    NaN   \n",
       "\n",
       "                     MLPAP_PI-0658.PV  MLPAP_TJC-0757.PV  MLPAP_V225-PHD  \\\n",
       "2019-05-20 23:00:00               NaN           0.945165           0.016   \n",
       "2017-10-09 01:30:00        469.337250           0.474630           0.031   \n",
       "2019-06-11 21:20:00               NaN          -0.461350           0.021   \n",
       "2017-01-09 10:40:00        417.203720           1.425389           0.022   \n",
       "2018-01-10 16:00:00        370.363541           0.232968           0.005   \n",
       "\n",
       "                     MLPAP_PI-0771.PV  MLPAP_TRC-0747.PV  MLPAP_TJR-0881.PV  \\\n",
       "2019-05-20 23:00:00        132.092003         169.183151         138.699997   \n",
       "2017-10-09 01:30:00        140.676498         172.384613         138.800003   \n",
       "2019-06-11 21:20:00        127.302792         168.800003         138.500000   \n",
       "2017-01-09 10:40:00        104.587494         172.000000         138.800003   \n",
       "2018-01-10 16:00:00        126.514442         172.399994         138.500000   \n",
       "\n",
       "                     MLPAP_TJ3-1110.PV  \n",
       "2019-05-20 23:00:00          24.050000  \n",
       "2017-10-09 01:30:00          30.668013  \n",
       "2019-06-11 21:20:00          28.405170  \n",
       "2017-01-09 10:40:00          18.850000  \n",
       "2018-01-10 16:00:00          14.807474  \n",
       "\n",
       "[5 rows x 95 columns]"
      ]
     },
     "execution_count": 4,
     "metadata": {},
     "output_type": "execute_result"
    }
   ],
   "source": [
    "df = pd.read_csv('../data/train_cleaned.csv',index_col=0,parse_dates=True)\n",
    "print(df.shape)\n",
    "df.sample(5)"
   ]
  },
  {
   "cell_type": "markdown",
   "metadata": {},
   "source": [
    "# add total_stream"
   ]
  },
  {
   "cell_type": "code",
   "execution_count": 5,
   "metadata": {},
   "outputs": [
    {
     "name": "stdout",
     "output_type": "stream",
     "text": [
      "['MLPAP_FR-0755PV(轉換後)', 'MLPAP_FR-0791.PV', 'MLPAP_FI-V211.PV(轉換後)']\n"
     ]
    },
    {
     "data": {
      "text/plain": [
       "count    141103.000000\n",
       "mean      44115.899906\n",
       "std        5355.466705\n",
       "min       13978.628516\n",
       "25%       41126.315355\n",
       "50%       45552.974701\n",
       "75%       48084.104776\n",
       "max       49620.235443\n",
       "Name: stream, dtype: float64"
      ]
     },
     "execution_count": 5,
     "metadata": {},
     "output_type": "execute_result"
    }
   ],
   "source": [
    "stream_cols = tag[tag.chinese.str.contains('蒸氣')== True].TAG.tolist()\n",
    "print(stream_cols)\n",
    "df['stream'] = df[stream_cols[0]]*1000 + df[stream_cols[1]]*1000\n",
    "df['stream'].describe()"
   ]
  },
  {
   "cell_type": "markdown",
   "metadata": {},
   "source": [
    "# add new features"
   ]
  },
  {
   "cell_type": "code",
   "execution_count": 6,
   "metadata": {},
   "outputs": [
    {
     "data": {
      "text/plain": [
       "2016-05-10 02:50:00    34.086679\n",
       "2016-05-10 03:00:00    34.197328\n",
       "2016-05-10 03:10:00    34.212612\n",
       "2016-05-10 03:20:00    34.218369\n",
       "2016-05-10 03:30:00    34.224166\n",
       "Name: 濃度, dtype: float64"
      ]
     },
     "execution_count": 6,
     "metadata": {},
     "output_type": "execute_result"
    }
   ],
   "source": [
    "df['濃度'] = df['MLPAP_FQ-0619.PV']/df['MLPAP_FR-0632.PV']\n",
    "df['濃度'].dropna().head()"
   ]
  },
  {
   "cell_type": "markdown",
   "metadata": {},
   "source": [
    "# define columns"
   ]
  },
  {
   "cell_type": "code",
   "execution_count": 7,
   "metadata": {},
   "outputs": [
    {
     "name": "stdout",
     "output_type": "stream",
     "text": [
      "action: 11\n"
     ]
    }
   ],
   "source": [
    "action = tag[tag['category']=='可控制因子']['TAG'].values.tolist()\n",
    "action = action + ['濃度']\n",
    "\n",
    "# delete not need columns\n",
    "action.remove('MLPAP_FQ-0619.PV')\n",
    "action.remove('MLPAP_TJC-0757.PV')\n",
    "action.remove('MLPAP_TRC-0762.PV')#不需要\n",
    "action.remove('MLPAP_PIC-0741.PV')\n",
    "action.remove('MLPAP_LIC-0738.PV')\n",
    "action.remove('MLPAP_LRC-0729.PV')\n",
    "action.insert(0,'MLPAP_FQ-0619.PV')\n",
    "print('action:',len(action))"
   ]
  },
  {
   "cell_type": "code",
   "execution_count": 8,
   "metadata": {},
   "outputs": [
    {
     "data": {
      "text/plain": [
       "['MLPAP_FQ-0619.PV',\n",
       " 'MLPAP_TJC-0627.PV',\n",
       " 'MLPAP_TRC-0610.PV',\n",
       " 'MLPAP_FR-0632.PV',\n",
       " 'MLPAP_TJC-0757A.PV',\n",
       " 'MLPAP_PIC-0761.PV',\n",
       " 'MLPAP_TJC-1721.PV',\n",
       " 'MLPAP_TRC-1734.PV',\n",
       " 'MLPAP_TRC-0747.PV',\n",
       " 'MLPAP_TJ-0757B.PV',\n",
       " '濃度']"
      ]
     },
     "execution_count": 8,
     "metadata": {},
     "output_type": "execute_result"
    }
   ],
   "source": [
    "action"
   ]
  },
  {
   "cell_type": "code",
   "execution_count": 9,
   "metadata": {},
   "outputs": [
    {
     "name": "stdout",
     "output_type": "stream",
     "text": [
      "output: 1\n"
     ]
    }
   ],
   "source": [
    "output = get_col(df,'0997')\n",
    "print('output:',len(output))"
   ]
  },
  {
   "cell_type": "code",
   "execution_count": 10,
   "metadata": {},
   "outputs": [
    {
     "name": "stdout",
     "output_type": "stream",
     "text": [
      "stream: 1\n"
     ]
    }
   ],
   "source": [
    "stream = ['stream']\n",
    "print('stream:',len(stream))"
   ]
  },
  {
   "cell_type": "code",
   "execution_count": 11,
   "metadata": {},
   "outputs": [
    {
     "name": "stdout",
     "output_type": "stream",
     "text": [
      "state: 2\n"
     ]
    }
   ],
   "source": [
    "state = get_col(df,'DATA OF USE') + ['MLPAP_TJ3-1110.PV']#環境溫度\n",
    "print('state:',len(state))"
   ]
  },
  {
   "cell_type": "code",
   "execution_count": 12,
   "metadata": {},
   "outputs": [],
   "source": [
    "#other = ['MLPAP_TJR-0721.PV']"
   ]
  },
  {
   "cell_type": "markdown",
   "metadata": {},
   "source": [
    "# select columns"
   ]
  },
  {
   "cell_type": "code",
   "execution_count": 13,
   "metadata": {},
   "outputs": [
    {
     "name": "stdout",
     "output_type": "stream",
     "text": [
      "(195409, 15)\n"
     ]
    }
   ],
   "source": [
    "df = df[state + action + output + stream]\n",
    "print(df.shape)"
   ]
  },
  {
   "cell_type": "markdown",
   "metadata": {},
   "source": [
    "# look miss value"
   ]
  },
  {
   "cell_type": "code",
   "execution_count": 14,
   "metadata": {},
   "outputs": [
    {
     "data": {
      "text/plain": [
       "<matplotlib.axes._subplots.AxesSubplot at 0x1ff57390788>"
      ]
     },
     "execution_count": 14,
     "metadata": {},
     "output_type": "execute_result"
    },
    {
     "data": {
      "image/png": "[encoded data removed]",
      "text/plain": [
       "<Figure size 1440x360 with 1 Axes>"
      ]
     },
     "metadata": {
      "needs_background": "light"
     },
     "output_type": "display_data"
    }
   ],
   "source": [
    "fig = plt.figure(figsize=(20,5))\n",
    "sns.heatmap(df.isnull(),yticklabels=False,cbar=False,cmap='viridis')"
   ]
  },
  {
   "cell_type": "code",
   "execution_count": 15,
   "metadata": {},
   "outputs": [
    {
     "data": {
      "text/plain": [
       "count    145755.000000\n",
       "mean         89.864601\n",
       "std           7.643110\n",
       "min          33.215104\n",
       "25%          89.968909\n",
       "50%          91.393105\n",
       "75%          93.234293\n",
       "max          96.170792\n",
       "Name: 濃度, dtype: float64"
      ]
     },
     "execution_count": 15,
     "metadata": {},
     "output_type": "execute_result"
    }
   ],
   "source": [
    "df[action]['濃度'].describe()"
   ]
  },
  {
   "cell_type": "markdown",
   "metadata": {},
   "source": [
    "# scale data"
   ]
  },
  {
   "cell_type": "code",
   "execution_count": 16,
   "metadata": {},
   "outputs": [
    {
     "data": {
      "text/html": [
       "<div>\n",
       "<style scoped>\n",
       "    .dataframe tbody tr th:only-of-type {\n",
       "        vertical-align: middle;\n",
       "    }\n",
       "\n",
       "    .dataframe tbody tr th {\n",
       "        vertical-align: top;\n",
       "    }\n",
       "\n",
       "    .dataframe thead th {\n",
       "        text-align: right;\n",
       "    }\n",
       "</style>\n",
       "<table border=\"1\" class=\"dataframe\">\n",
       "  <thead>\n",
       "    <tr style=\"text-align: right;\">\n",
       "      <th></th>\n",
       "      <th>DATA OF USE</th>\n",
       "      <th>MLPAP_TJ3-1110.PV</th>\n",
       "      <th>MLPAP_FQ-0619.PV</th>\n",
       "      <th>MLPAP_TJC-0627.PV</th>\n",
       "      <th>MLPAP_TRC-0610.PV</th>\n",
       "      <th>MLPAP_FR-0632.PV</th>\n",
       "      <th>MLPAP_TJC-0757A.PV</th>\n",
       "      <th>MLPAP_PIC-0761.PV</th>\n",
       "      <th>MLPAP_TJC-1721.PV</th>\n",
       "      <th>MLPAP_TRC-1734.PV</th>\n",
       "      <th>MLPAP_TRC-0747.PV</th>\n",
       "      <th>MLPAP_TJ-0757B.PV</th>\n",
       "      <th>濃度</th>\n",
       "      <th>MLPAP_FQI-0997.PV</th>\n",
       "      <th>stream</th>\n",
       "    </tr>\n",
       "  </thead>\n",
       "  <tbody>\n",
       "    <tr>\n",
       "      <td>2018-12-18 03:20:00</td>\n",
       "      <td>0.708078</td>\n",
       "      <td>0.413338</td>\n",
       "      <td>NaN</td>\n",
       "      <td>NaN</td>\n",
       "      <td>NaN</td>\n",
       "      <td>NaN</td>\n",
       "      <td>NaN</td>\n",
       "      <td>NaN</td>\n",
       "      <td>0.262825</td>\n",
       "      <td>0.326635</td>\n",
       "      <td>NaN</td>\n",
       "      <td>NaN</td>\n",
       "      <td>NaN</td>\n",
       "      <td>NaN</td>\n",
       "      <td>NaN</td>\n",
       "    </tr>\n",
       "    <tr>\n",
       "      <td>2018-09-23 01:00:00</td>\n",
       "      <td>0.644101</td>\n",
       "      <td>0.697628</td>\n",
       "      <td>0.937676</td>\n",
       "      <td>0.649116</td>\n",
       "      <td>0.634274</td>\n",
       "      <td>0.907997</td>\n",
       "      <td>0.235004</td>\n",
       "      <td>0.944479</td>\n",
       "      <td>0.293292</td>\n",
       "      <td>0.360787</td>\n",
       "      <td>0.888673</td>\n",
       "      <td>0.248909</td>\n",
       "      <td>0.904240</td>\n",
       "      <td>0.751805</td>\n",
       "      <td>0.930037</td>\n",
       "    </tr>\n",
       "    <tr>\n",
       "      <td>2018-04-27 21:20:00</td>\n",
       "      <td>0.534011</td>\n",
       "      <td>0.629732</td>\n",
       "      <td>NaN</td>\n",
       "      <td>NaN</td>\n",
       "      <td>NaN</td>\n",
       "      <td>NaN</td>\n",
       "      <td>NaN</td>\n",
       "      <td>NaN</td>\n",
       "      <td>NaN</td>\n",
       "      <td>NaN</td>\n",
       "      <td>NaN</td>\n",
       "      <td>NaN</td>\n",
       "      <td>NaN</td>\n",
       "      <td>NaN</td>\n",
       "      <td>NaN</td>\n",
       "    </tr>\n",
       "    <tr>\n",
       "      <td>2017-07-19 02:50:00</td>\n",
       "      <td>0.323890</td>\n",
       "      <td>0.754194</td>\n",
       "      <td>0.973917</td>\n",
       "      <td>0.121015</td>\n",
       "      <td>0.632884</td>\n",
       "      <td>0.996605</td>\n",
       "      <td>0.038176</td>\n",
       "      <td>0.955997</td>\n",
       "      <td>0.298145</td>\n",
       "      <td>0.214299</td>\n",
       "      <td>0.901100</td>\n",
       "      <td>0.119386</td>\n",
       "      <td>0.910935</td>\n",
       "      <td>0.812083</td>\n",
       "      <td>0.980121</td>\n",
       "    </tr>\n",
       "    <tr>\n",
       "      <td>2018-05-26 03:50:00</td>\n",
       "      <td>0.555019</td>\n",
       "      <td>0.736714</td>\n",
       "      <td>0.968192</td>\n",
       "      <td>0.423560</td>\n",
       "      <td>0.631996</td>\n",
       "      <td>0.973406</td>\n",
       "      <td>0.235009</td>\n",
       "      <td>0.944475</td>\n",
       "      <td>0.291904</td>\n",
       "      <td>0.409387</td>\n",
       "      <td>0.881095</td>\n",
       "      <td>0.273175</td>\n",
       "      <td>0.913235</td>\n",
       "      <td>0.812157</td>\n",
       "      <td>0.957736</td>\n",
       "    </tr>\n",
       "  </tbody>\n",
       "</table>\n",
       "</div>"
      ],
      "text/plain": [
       "                     DATA OF USE  MLPAP_TJ3-1110.PV  MLPAP_FQ-0619.PV  \\\n",
       "2018-12-18 03:20:00     0.708078           0.413338               NaN   \n",
       "2018-09-23 01:00:00     0.644101           0.697628          0.937676   \n",
       "2018-04-27 21:20:00     0.534011           0.629732               NaN   \n",
       "2017-07-19 02:50:00     0.323890           0.754194          0.973917   \n",
       "2018-05-26 03:50:00     0.555019           0.736714          0.968192   \n",
       "\n",
       "                     MLPAP_TJC-0627.PV  MLPAP_TRC-0610.PV  MLPAP_FR-0632.PV  \\\n",
       "2018-12-18 03:20:00                NaN                NaN               NaN   \n",
       "2018-09-23 01:00:00           0.649116           0.634274          0.907997   \n",
       "2018-04-27 21:20:00                NaN                NaN               NaN   \n",
       "2017-07-19 02:50:00           0.121015           0.632884          0.996605   \n",
       "2018-05-26 03:50:00           0.423560           0.631996          0.973406   \n",
       "\n",
       "                     MLPAP_TJC-0757A.PV  MLPAP_PIC-0761.PV  MLPAP_TJC-1721.PV  \\\n",
       "2018-12-18 03:20:00                 NaN                NaN           0.262825   \n",
       "2018-09-23 01:00:00            0.235004           0.944479           0.293292   \n",
       "2018-04-27 21:20:00                 NaN                NaN                NaN   \n",
       "2017-07-19 02:50:00            0.038176           0.955997           0.298145   \n",
       "2018-05-26 03:50:00            0.235009           0.944475           0.291904   \n",
       "\n",
       "                     MLPAP_TRC-1734.PV  MLPAP_TRC-0747.PV  MLPAP_TJ-0757B.PV  \\\n",
       "2018-12-18 03:20:00           0.326635                NaN                NaN   \n",
       "2018-09-23 01:00:00           0.360787           0.888673           0.248909   \n",
       "2018-04-27 21:20:00                NaN                NaN                NaN   \n",
       "2017-07-19 02:50:00           0.214299           0.901100           0.119386   \n",
       "2018-05-26 03:50:00           0.409387           0.881095           0.273175   \n",
       "\n",
       "                           濃度  MLPAP_FQI-0997.PV    stream  \n",
       "2018-12-18 03:20:00       NaN                NaN       NaN  \n",
       "2018-09-23 01:00:00  0.904240           0.751805  0.930037  \n",
       "2018-04-27 21:20:00       NaN                NaN       NaN  \n",
       "2017-07-19 02:50:00  0.910935           0.812083  0.980121  \n",
       "2018-05-26 03:50:00  0.913235           0.812157  0.957736  "
      ]
     },
     "execution_count": 16,
     "metadata": {},
     "output_type": "execute_result"
    }
   ],
   "source": [
    "mm_state = MinMaxScaler()\n",
    "mm_action = MinMaxScaler()\n",
    "mm_output = MinMaxScaler()\n",
    "mm_stream = MinMaxScaler()\n",
    "#mm_other = MinMaxScaler()\n",
    "\n",
    "df[state] = mm_state.fit_transform(df[state])\n",
    "df[action] = mm_action.fit_transform(df[action])\n",
    "df[output] = mm_output.fit_transform(df[output])\n",
    "df[stream] = mm_stream.fit_transform(df[stream])\n",
    "#df[other] = mm_other.fit_transform(df[other])\n",
    "\n",
    "df.sample(5)"
   ]
  },
  {
   "cell_type": "code",
   "execution_count": 17,
   "metadata": {},
   "outputs": [
    {
     "data": {
      "text/plain": [
       "count    145755.000000\n",
       "mean          0.899831\n",
       "std           0.121405\n",
       "min           0.000000\n",
       "25%           0.901488\n",
       "50%           0.924110\n",
       "75%           0.953356\n",
       "max           1.000000\n",
       "Name: 濃度, dtype: float64"
      ]
     },
     "execution_count": 17,
     "metadata": {},
     "output_type": "execute_result"
    }
   ],
   "source": [
    "df[action]['濃度'].describe()"
   ]
  },
  {
   "cell_type": "markdown",
   "metadata": {},
   "source": [
    "# build dataset for modeling"
   ]
  },
  {
   "cell_type": "code",
   "execution_count": 18,
   "metadata": {},
   "outputs": [],
   "source": [
    "def build_dataset(df,n):\n",
    "    \n",
    "    data = {'state':[],\n",
    "            'action':[],\n",
    "            'output':[],\n",
    "            'stream':[],\n",
    "            'idx':[],\n",
    "           }\n",
    "    \n",
    "    for i in tqdm(range(0,len(df)-n)):\n",
    "        curr = df.iloc[i:i+n] #一小段資料\n",
    "        if np.isnan(curr.values).sum() == 0: #確保這段資料無缺失值\n",
    "            \n",
    "            data['state'].append(curr[state].values.mean(axis=0))#這段時間的 \"狀態\" 之均值\n",
    "            data['action'].append(curr[action].values)# 這段時間 \"所有\" 操作\n",
    "            data['output'].append(curr[output].values[-1])#這段時間 最後一個時間點 的出料(delay issue)\n",
    "            data['stream'].append(curr[stream].values[-1])#這段時間 最後一個時間點 的蒸氣(delay issue)\n",
    "            data['idx'].append(curr.index[-1]) #這段時間最後 出料對應的時間點\n",
    "    \n",
    "    # reshape\n",
    "    data['state'] = np.array(data['state'])\n",
    "    data['action'] = np.array(data['action'])\n",
    "    data['output'] = np.array(data['output']).reshape(-1,1)\n",
    "    data['stream'] = np.array(data['stream']).reshape(-1,1)\n",
    "    \n",
    "    # store scaler\n",
    "    data['mm_state'] = mm_state\n",
    "    data['mm_action'] = mm_action\n",
    "    data['mm_output'] = mm_output\n",
    "    data['mm_stream'] = mm_stream\n",
    "    \n",
    "    # store col_name\n",
    "    data['state_col'] = state\n",
    "    data['action_col'] = action\n",
    "    data['output_col'] = output\n",
    "    data['stream_col'] = stream\n",
    "    \n",
    "    return data"
   ]
  },
  {
   "cell_type": "code",
   "execution_count": 19,
   "metadata": {},
   "outputs": [
    {
     "data": {
      "application/vnd.jupyter.widget-view+json": {
       "model_id": "867f4ecc215f4586a6cef0e0e1d48908",
       "version_major": 2,
       "version_minor": 0
      },
      "text/plain": [
       "HBox(children=(FloatProgress(value=0.0, max=195373.0), HTML(value='')))"
      ]
     },
     "metadata": {},
     "output_type": "display_data"
    },
    {
     "name": "stdout",
     "output_type": "stream",
     "text": [
      "\n"
     ]
    }
   ],
   "source": [
    "data = build_dataset(df,36)"
   ]
  },
  {
   "cell_type": "code",
   "execution_count": 20,
   "metadata": {},
   "outputs": [
    {
     "name": "stdout",
     "output_type": "stream",
     "text": [
      "126443\n"
     ]
    }
   ],
   "source": [
    "print(len(data['idx']))"
   ]
  },
  {
   "cell_type": "markdown",
   "metadata": {},
   "source": [
    "# save"
   ]
  },
  {
   "cell_type": "code",
   "execution_count": 21,
   "metadata": {},
   "outputs": [
    {
     "data": {
      "text/plain": [
       "['../data/dataset.pkl']"
      ]
     },
     "execution_count": 21,
     "metadata": {},
     "output_type": "execute_result"
    }
   ],
   "source": [
    "joblib.dump(data,'../data/dataset.pkl')"
   ]
  },
  {
   "cell_type": "code",
   "execution_count": null,
   "metadata": {},
   "outputs": [],
   "source": []
  }
 ],
 "metadata": {
  "kernelspec": {
   "display_name": "Python 3",
   "language": "python",
   "name": "python3"
  },
  "language_info": {
   "codemirror_mode": {
    "name": "ipython",
    "version": 3
   },
   "file_extension": ".py",
   "mimetype": "text/x-python",
   "name": "python",
   "nbconvert_exporter": "python",
   "pygments_lexer": "ipython3",
   "version": "3.7.4"
  }
 },
 "nbformat": 4,
 "nbformat_minor": 2
}
