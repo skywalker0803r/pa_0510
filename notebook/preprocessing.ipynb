{
 "cells": [
  {
   "cell_type": "code",
   "execution_count": 1,
   "metadata": {},
   "outputs": [],
   "source": [
    "import pandas as pd\n",
    "import numpy as np\n",
    "import torchviz\n",
    "import seaborn as sns\n",
    "import matplotlib.pyplot as plt\n",
    "from tqdm import tqdm_notebook as tqdm\n",
    "from torch.utils.tensorboard import SummaryWriter\n",
    "import torch\n",
    "import torch.nn as nn\n",
    "import torch.utils.data as Data\n",
    "import torchvision\n",
    "import joblib\n",
    "from sklearn.preprocessing import MinMaxScaler\n",
    "import time\n",
    "import warnings\n",
    "warnings.simplefilter('ignore')\n",
    "def get_col(df,name):\n",
    "    return df.columns[df.columns.str.contains(name)].tolist()"
   ]
  },
  {
   "cell_type": "markdown",
   "metadata": {},
   "source": [
    "# load data"
   ]
  },
  {
   "cell_type": "code",
   "execution_count": 2,
   "metadata": {},
   "outputs": [],
   "source": [
    "tag = pd.read_csv('../data/tag_cleaned.csv',index_col=0)\n",
    "tag_map = dict(zip(tag.TAG,tag.chinese))"
   ]
  },
  {
   "cell_type": "code",
   "execution_count": 3,
   "metadata": {},
   "outputs": [
    {
     "name": "stdout",
     "output_type": "stream",
     "text": [
      "(193824, 95)\n"
     ]
    },
    {
     "data": {
      "text/html": [
       "<div>\n",
       "<style scoped>\n",
       "    .dataframe tbody tr th:only-of-type {\n",
       "        vertical-align: middle;\n",
       "    }\n",
       "\n",
       "    .dataframe tbody tr th {\n",
       "        vertical-align: top;\n",
       "    }\n",
       "\n",
       "    .dataframe thead th {\n",
       "        text-align: right;\n",
       "    }\n",
       "</style>\n",
       "<table border=\"1\" class=\"dataframe\">\n",
       "  <thead>\n",
       "    <tr style=\"text-align: right;\">\n",
       "      <th></th>\n",
       "      <th>MLPAP_TJ-0706B02</th>\n",
       "      <th>MLPAP_TJ-0706B03</th>\n",
       "      <th>MLPAP_TJ-0706B04</th>\n",
       "      <th>MLPAP_TJ-0706B05</th>\n",
       "      <th>MLPAP_TJ-0706B06</th>\n",
       "      <th>MLPAP_TJ-0706B07</th>\n",
       "      <th>MLPAP_TJ-0706B08</th>\n",
       "      <th>MLPAP_TJ-0706B09</th>\n",
       "      <th>MLPAP_TJ-0706B10</th>\n",
       "      <th>MLPAP_TJ-0706B11</th>\n",
       "      <th>...</th>\n",
       "      <th>MLPAP_FR-0755PV(轉換後)</th>\n",
       "      <th>MLPAP_FR-0791.PV</th>\n",
       "      <th>MLPAP_FI-V211.PV(轉換後)</th>\n",
       "      <th>MLPAP_PI-0658.PV</th>\n",
       "      <th>MLPAP_TJC-0757.PV</th>\n",
       "      <th>MLPAP_V225-PHD</th>\n",
       "      <th>MLPAP_PI-0771.PV</th>\n",
       "      <th>MLPAP_TRC-0747.PV</th>\n",
       "      <th>Unnamed: 96</th>\n",
       "      <th>MLPAP_TRC-0497.PV</th>\n",
       "    </tr>\n",
       "  </thead>\n",
       "  <tbody>\n",
       "    <tr>\n",
       "      <th>2017-11-13 16:00:00</th>\n",
       "      <td>380.424866</td>\n",
       "      <td>399.251648</td>\n",
       "      <td>404.996704</td>\n",
       "      <td>410.999954</td>\n",
       "      <td>405.985001</td>\n",
       "      <td>405.949966</td>\n",
       "      <td>403.323456</td>\n",
       "      <td>405.225098</td>\n",
       "      <td>404.789886</td>\n",
       "      <td>400.000000</td>\n",
       "      <td>...</td>\n",
       "      <td>19.392302</td>\n",
       "      <td>29.377710</td>\n",
       "      <td>NaN</td>\n",
       "      <td>469.173676</td>\n",
       "      <td>-0.174338</td>\n",
       "      <td>0.022</td>\n",
       "      <td>144.510056</td>\n",
       "      <td>172.002563</td>\n",
       "      <td>NaN</td>\n",
       "      <td>7475.500000</td>\n",
       "    </tr>\n",
       "    <tr>\n",
       "      <th>2017-06-18 06:50:00</th>\n",
       "      <td>375.000000</td>\n",
       "      <td>392.003876</td>\n",
       "      <td>397.004456</td>\n",
       "      <td>403.000000</td>\n",
       "      <td>398.534378</td>\n",
       "      <td>399.000000</td>\n",
       "      <td>398.275696</td>\n",
       "      <td>402.429535</td>\n",
       "      <td>402.015900</td>\n",
       "      <td>396.681946</td>\n",
       "      <td>...</td>\n",
       "      <td>14.813566</td>\n",
       "      <td>32.564932</td>\n",
       "      <td>NaN</td>\n",
       "      <td>485.019409</td>\n",
       "      <td>1.963267</td>\n",
       "      <td>0.027</td>\n",
       "      <td>127.281876</td>\n",
       "      <td>173.550034</td>\n",
       "      <td>NaN</td>\n",
       "      <td>7670.765869</td>\n",
       "    </tr>\n",
       "    <tr>\n",
       "      <th>2016-05-09 18:40:00</th>\n",
       "      <td>404.000000</td>\n",
       "      <td>406.000000</td>\n",
       "      <td>405.000000</td>\n",
       "      <td>406.849854</td>\n",
       "      <td>406.000000</td>\n",
       "      <td>405.000000</td>\n",
       "      <td>404.446091</td>\n",
       "      <td>407.000000</td>\n",
       "      <td>406.000000</td>\n",
       "      <td>405.000000</td>\n",
       "      <td>...</td>\n",
       "      <td>4.157625</td>\n",
       "      <td>NaN</td>\n",
       "      <td>NaN</td>\n",
       "      <td>NaN</td>\n",
       "      <td>1.129989</td>\n",
       "      <td>0.009</td>\n",
       "      <td>NaN</td>\n",
       "      <td>144.908150</td>\n",
       "      <td>NaN</td>\n",
       "      <td>8237.234375</td>\n",
       "    </tr>\n",
       "    <tr>\n",
       "      <th>2018-01-24 23:50:00</th>\n",
       "      <td>380.000000</td>\n",
       "      <td>398.514572</td>\n",
       "      <td>404.054382</td>\n",
       "      <td>410.079117</td>\n",
       "      <td>405.412781</td>\n",
       "      <td>405.749939</td>\n",
       "      <td>403.000000</td>\n",
       "      <td>405.000000</td>\n",
       "      <td>403.900009</td>\n",
       "      <td>399.637726</td>\n",
       "      <td>...</td>\n",
       "      <td>16.743345</td>\n",
       "      <td>30.904644</td>\n",
       "      <td>NaN</td>\n",
       "      <td>478.626175</td>\n",
       "      <td>0.003379</td>\n",
       "      <td>0.021</td>\n",
       "      <td>161.414307</td>\n",
       "      <td>172.299995</td>\n",
       "      <td>NaN</td>\n",
       "      <td>8618.322754</td>\n",
       "    </tr>\n",
       "    <tr>\n",
       "      <th>2019-06-15 22:40:00</th>\n",
       "      <td>382.000000</td>\n",
       "      <td>395.772507</td>\n",
       "      <td>397.844543</td>\n",
       "      <td>402.000000</td>\n",
       "      <td>399.000000</td>\n",
       "      <td>399.171722</td>\n",
       "      <td>399.000000</td>\n",
       "      <td>397.000000</td>\n",
       "      <td>396.372131</td>\n",
       "      <td>393.000000</td>\n",
       "      <td>...</td>\n",
       "      <td>9.739496</td>\n",
       "      <td>30.140593</td>\n",
       "      <td>6717.63916</td>\n",
       "      <td>NaN</td>\n",
       "      <td>-0.307390</td>\n",
       "      <td>0.021</td>\n",
       "      <td>131.323509</td>\n",
       "      <td>168.300003</td>\n",
       "      <td>NaN</td>\n",
       "      <td>8388.000000</td>\n",
       "    </tr>\n",
       "  </tbody>\n",
       "</table>\n",
       "<p>5 rows × 95 columns</p>\n",
       "</div>"
      ],
      "text/plain": [
       "                     MLPAP_TJ-0706B02  MLPAP_TJ-0706B03  MLPAP_TJ-0706B04  \\\n",
       "2017-11-13 16:00:00        380.424866        399.251648        404.996704   \n",
       "2017-06-18 06:50:00        375.000000        392.003876        397.004456   \n",
       "2016-05-09 18:40:00        404.000000        406.000000        405.000000   \n",
       "2018-01-24 23:50:00        380.000000        398.514572        404.054382   \n",
       "2019-06-15 22:40:00        382.000000        395.772507        397.844543   \n",
       "\n",
       "                     MLPAP_TJ-0706B05  MLPAP_TJ-0706B06  MLPAP_TJ-0706B07  \\\n",
       "2017-11-13 16:00:00        410.999954        405.985001        405.949966   \n",
       "2017-06-18 06:50:00        403.000000        398.534378        399.000000   \n",
       "2016-05-09 18:40:00        406.849854        406.000000        405.000000   \n",
       "2018-01-24 23:50:00        410.079117        405.412781        405.749939   \n",
       "2019-06-15 22:40:00        402.000000        399.000000        399.171722   \n",
       "\n",
       "                     MLPAP_TJ-0706B08  MLPAP_TJ-0706B09  MLPAP_TJ-0706B10  \\\n",
       "2017-11-13 16:00:00        403.323456        405.225098        404.789886   \n",
       "2017-06-18 06:50:00        398.275696        402.429535        402.015900   \n",
       "2016-05-09 18:40:00        404.446091        407.000000        406.000000   \n",
       "2018-01-24 23:50:00        403.000000        405.000000        403.900009   \n",
       "2019-06-15 22:40:00        399.000000        397.000000        396.372131   \n",
       "\n",
       "                     MLPAP_TJ-0706B11  ...  MLPAP_FR-0755PV(轉換後)  \\\n",
       "2017-11-13 16:00:00        400.000000  ...             19.392302   \n",
       "2017-06-18 06:50:00        396.681946  ...             14.813566   \n",
       "2016-05-09 18:40:00        405.000000  ...              4.157625   \n",
       "2018-01-24 23:50:00        399.637726  ...             16.743345   \n",
       "2019-06-15 22:40:00        393.000000  ...              9.739496   \n",
       "\n",
       "                     MLPAP_FR-0791.PV  MLPAP_FI-V211.PV(轉換後)  \\\n",
       "2017-11-13 16:00:00         29.377710                    NaN   \n",
       "2017-06-18 06:50:00         32.564932                    NaN   \n",
       "2016-05-09 18:40:00               NaN                    NaN   \n",
       "2018-01-24 23:50:00         30.904644                    NaN   \n",
       "2019-06-15 22:40:00         30.140593             6717.63916   \n",
       "\n",
       "                     MLPAP_PI-0658.PV  MLPAP_TJC-0757.PV  MLPAP_V225-PHD  \\\n",
       "2017-11-13 16:00:00        469.173676          -0.174338           0.022   \n",
       "2017-06-18 06:50:00        485.019409           1.963267           0.027   \n",
       "2016-05-09 18:40:00               NaN           1.129989           0.009   \n",
       "2018-01-24 23:50:00        478.626175           0.003379           0.021   \n",
       "2019-06-15 22:40:00               NaN          -0.307390           0.021   \n",
       "\n",
       "                     MLPAP_PI-0771.PV  MLPAP_TRC-0747.PV  Unnamed: 96  \\\n",
       "2017-11-13 16:00:00        144.510056         172.002563          NaN   \n",
       "2017-06-18 06:50:00        127.281876         173.550034          NaN   \n",
       "2016-05-09 18:40:00               NaN         144.908150          NaN   \n",
       "2018-01-24 23:50:00        161.414307         172.299995          NaN   \n",
       "2019-06-15 22:40:00        131.323509         168.300003          NaN   \n",
       "\n",
       "                     MLPAP_TRC-0497.PV  \n",
       "2017-11-13 16:00:00        7475.500000  \n",
       "2017-06-18 06:50:00        7670.765869  \n",
       "2016-05-09 18:40:00        8237.234375  \n",
       "2018-01-24 23:50:00        8618.322754  \n",
       "2019-06-15 22:40:00        8388.000000  \n",
       "\n",
       "[5 rows x 95 columns]"
      ]
     },
     "execution_count": 3,
     "metadata": {},
     "output_type": "execute_result"
    }
   ],
   "source": [
    "df = pd.read_csv('../data/train_cleaned.csv',index_col=0,parse_dates=True)\n",
    "print(df.shape)\n",
    "df.sample(5)"
   ]
  },
  {
   "cell_type": "markdown",
   "metadata": {},
   "source": [
    "# add total_stream"
   ]
  },
  {
   "cell_type": "code",
   "execution_count": 4,
   "metadata": {},
   "outputs": [
    {
     "name": "stdout",
     "output_type": "stream",
     "text": [
      "['MLPAP_FR-0755PV(轉換後)', 'MLPAP_FR-0791.PV', 'MLPAP_FI-V211.PV(轉換後)']\n"
     ]
    },
    {
     "data": {
      "text/plain": [
       "count    141898.000000\n",
       "mean      44142.045012\n",
       "std        5465.257311\n",
       "min       12644.887447\n",
       "25%       41171.700358\n",
       "50%       45572.840691\n",
       "75%       48089.788318\n",
       "max       49645.133972\n",
       "Name: stream, dtype: float64"
      ]
     },
     "execution_count": 4,
     "metadata": {},
     "output_type": "execute_result"
    }
   ],
   "source": [
    "stream_cols = tag[tag.chinese.str.contains('蒸氣')== True].TAG.tolist()\n",
    "print(stream_cols)\n",
    "df['stream'] = df[stream_cols[0]]*1000 + df[stream_cols[1]]*1000\n",
    "df['stream'].describe()"
   ]
  },
  {
   "cell_type": "markdown",
   "metadata": {},
   "source": [
    "# define columns"
   ]
  },
  {
   "cell_type": "code",
   "execution_count": 5,
   "metadata": {},
   "outputs": [
    {
     "name": "stdout",
     "output_type": "stream",
     "text": [
      "action: ['MLPAP_FQ-0619.PV', 'MLPAP_TJC-0627.PV', 'MLPAP_TRC-0610.PV', 'MLPAP_FR-0632.PV', 'MLPAP_TJC-0757A.PV', 'MLPAP_LIC-0738.PV', 'MLPAP_PIC-0761.PV', 'MLPAP_TRC-0762.PV', 'MLPAP_LRC-0729.PV', 'MLPAP_TJC-1721.PV', 'MLPAP_TRC-1734.PV', 'MLPAP_TRC-0747.PV', 'MLPAP_TJ-0757B.PV']\n",
      "\n",
      "output: ['MLPAP_FQI-0997.PV']\n",
      "\n",
      "stream: ['stream']\n",
      "\n",
      "state: ['DATA OF USE']\n"
     ]
    }
   ],
   "source": [
    "action = tag[tag['category']=='可控制因子']['TAG'].values.tolist()\n",
    "action.remove('MLPAP_FQ-0619.PV')\n",
    "action.remove('MLPAP_TJC-0757.PV')\n",
    "action.remove('MLPAP_PIC-0741.PV')\n",
    "action.insert(0,'MLPAP_FQ-0619.PV')\n",
    "\n",
    "output = get_col(df,'0997')\n",
    "\n",
    "stream = ['stream']\n",
    "\n",
    "state = get_col(df,'DATA OF USE')\n",
    "\n",
    "print('action:',action)\n",
    "print()\n",
    "\n",
    "print('output:',output)\n",
    "print()\n",
    "\n",
    "print('stream:',stream)\n",
    "print()\n",
    "\n",
    "print('state:',state)"
   ]
  },
  {
   "cell_type": "markdown",
   "metadata": {},
   "source": [
    "# select columns"
   ]
  },
  {
   "cell_type": "code",
   "execution_count": 6,
   "metadata": {},
   "outputs": [],
   "source": [
    "df = df[state + action + output + stream]"
   ]
  },
  {
   "cell_type": "markdown",
   "metadata": {},
   "source": [
    "# look miss value"
   ]
  },
  {
   "cell_type": "code",
   "execution_count": 7,
   "metadata": {},
   "outputs": [
    {
     "data": {
      "text/plain": [
       "<matplotlib.axes._subplots.AxesSubplot at 0x7f1bdd4db610>"
      ]
     },
     "execution_count": 7,
     "metadata": {},
     "output_type": "execute_result"
    },
    {
     "data": {
      "image/png": "[encoded data removed]",
      "text/plain": [
       "<Figure size 1440x360 with 1 Axes>"
      ]
     },
     "metadata": {
      "needs_background": "light"
     },
     "output_type": "display_data"
    }
   ],
   "source": [
    "fig = plt.figure(figsize=(20,5))\n",
    "sns.heatmap(df.isnull(),yticklabels=False,cbar=False,cmap='viridis')"
   ]
  },
  {
   "cell_type": "markdown",
   "metadata": {},
   "source": [
    "# scale data"
   ]
  },
  {
   "cell_type": "code",
   "execution_count": 8,
   "metadata": {},
   "outputs": [
    {
     "data": {
      "text/html": [
       "<div>\n",
       "<style scoped>\n",
       "    .dataframe tbody tr th:only-of-type {\n",
       "        vertical-align: middle;\n",
       "    }\n",
       "\n",
       "    .dataframe tbody tr th {\n",
       "        vertical-align: top;\n",
       "    }\n",
       "\n",
       "    .dataframe thead th {\n",
       "        text-align: right;\n",
       "    }\n",
       "</style>\n",
       "<table border=\"1\" class=\"dataframe\">\n",
       "  <thead>\n",
       "    <tr style=\"text-align: right;\">\n",
       "      <th></th>\n",
       "      <th>DATA OF USE</th>\n",
       "      <th>MLPAP_FQ-0619.PV</th>\n",
       "      <th>MLPAP_TJC-0627.PV</th>\n",
       "      <th>MLPAP_TRC-0610.PV</th>\n",
       "      <th>MLPAP_FR-0632.PV</th>\n",
       "      <th>MLPAP_TJC-0757A.PV</th>\n",
       "      <th>MLPAP_LIC-0738.PV</th>\n",
       "      <th>MLPAP_PIC-0761.PV</th>\n",
       "      <th>MLPAP_TRC-0762.PV</th>\n",
       "      <th>MLPAP_LRC-0729.PV</th>\n",
       "      <th>MLPAP_TJC-1721.PV</th>\n",
       "      <th>MLPAP_TRC-1734.PV</th>\n",
       "      <th>MLPAP_TRC-0747.PV</th>\n",
       "      <th>MLPAP_TJ-0757B.PV</th>\n",
       "      <th>MLPAP_FQI-0997.PV</th>\n",
       "      <th>stream</th>\n",
       "    </tr>\n",
       "  </thead>\n",
       "  <tbody>\n",
       "    <tr>\n",
       "      <th>2018-06-05 15:50:00</th>\n",
       "      <td>0.562889</td>\n",
       "      <td>0.977509</td>\n",
       "      <td>0.620553</td>\n",
       "      <td>0.610692</td>\n",
       "      <td>0.992515</td>\n",
       "      <td>0.259675</td>\n",
       "      <td>0.370490</td>\n",
       "      <td>0.945792</td>\n",
       "      <td>0.583743</td>\n",
       "      <td>0.393437</td>\n",
       "      <td>0.416925</td>\n",
       "      <td>0.551488</td>\n",
       "      <td>0.839319</td>\n",
       "      <td>0.267471</td>\n",
       "      <td>0.775921</td>\n",
       "      <td>0.973420</td>\n",
       "    </tr>\n",
       "    <tr>\n",
       "      <th>2019-03-18 20:40:00</th>\n",
       "      <td>0.775527</td>\n",
       "      <td>0.312627</td>\n",
       "      <td>0.714117</td>\n",
       "      <td>0.614348</td>\n",
       "      <td>0.621226</td>\n",
       "      <td>0.247081</td>\n",
       "      <td>0.825335</td>\n",
       "      <td>0.927718</td>\n",
       "      <td>0.405191</td>\n",
       "      <td>0.637208</td>\n",
       "      <td>0.421005</td>\n",
       "      <td>0.497535</td>\n",
       "      <td>0.861568</td>\n",
       "      <td>0.280251</td>\n",
       "      <td>NaN</td>\n",
       "      <td>0.258440</td>\n",
       "    </tr>\n",
       "    <tr>\n",
       "      <th>2018-06-21 13:10:00</th>\n",
       "      <td>0.574694</td>\n",
       "      <td>0.990789</td>\n",
       "      <td>0.621499</td>\n",
       "      <td>0.599444</td>\n",
       "      <td>0.993136</td>\n",
       "      <td>0.270287</td>\n",
       "      <td>0.548287</td>\n",
       "      <td>0.946175</td>\n",
       "      <td>0.582166</td>\n",
       "      <td>0.536384</td>\n",
       "      <td>0.423092</td>\n",
       "      <td>0.547405</td>\n",
       "      <td>0.835923</td>\n",
       "      <td>0.283696</td>\n",
       "      <td>0.776941</td>\n",
       "      <td>0.985130</td>\n",
       "    </tr>\n",
       "    <tr>\n",
       "      <th>2017-09-01 19:00:00</th>\n",
       "      <td>0.357186</td>\n",
       "      <td>0.965589</td>\n",
       "      <td>0.338685</td>\n",
       "      <td>0.666449</td>\n",
       "      <td>0.941816</td>\n",
       "      <td>0.088908</td>\n",
       "      <td>0.622794</td>\n",
       "      <td>0.925628</td>\n",
       "      <td>0.419679</td>\n",
       "      <td>0.411599</td>\n",
       "      <td>0.414227</td>\n",
       "      <td>0.437014</td>\n",
       "      <td>0.843406</td>\n",
       "      <td>0.122656</td>\n",
       "      <td>0.737745</td>\n",
       "      <td>0.969679</td>\n",
       "    </tr>\n",
       "    <tr>\n",
       "      <th>2019-11-09 21:00:00</th>\n",
       "      <td>0.950877</td>\n",
       "      <td>NaN</td>\n",
       "      <td>NaN</td>\n",
       "      <td>NaN</td>\n",
       "      <td>NaN</td>\n",
       "      <td>NaN</td>\n",
       "      <td>NaN</td>\n",
       "      <td>NaN</td>\n",
       "      <td>NaN</td>\n",
       "      <td>NaN</td>\n",
       "      <td>0.457616</td>\n",
       "      <td>0.632424</td>\n",
       "      <td>0.384634</td>\n",
       "      <td>NaN</td>\n",
       "      <td>NaN</td>\n",
       "      <td>NaN</td>\n",
       "    </tr>\n",
       "  </tbody>\n",
       "</table>\n",
       "</div>"
      ],
      "text/plain": [
       "                     DATA OF USE  MLPAP_FQ-0619.PV  MLPAP_TJC-0627.PV  \\\n",
       "2018-06-05 15:50:00     0.562889          0.977509           0.620553   \n",
       "2019-03-18 20:40:00     0.775527          0.312627           0.714117   \n",
       "2018-06-21 13:10:00     0.574694          0.990789           0.621499   \n",
       "2017-09-01 19:00:00     0.357186          0.965589           0.338685   \n",
       "2019-11-09 21:00:00     0.950877               NaN                NaN   \n",
       "\n",
       "                     MLPAP_TRC-0610.PV  MLPAP_FR-0632.PV  MLPAP_TJC-0757A.PV  \\\n",
       "2018-06-05 15:50:00           0.610692          0.992515            0.259675   \n",
       "2019-03-18 20:40:00           0.614348          0.621226            0.247081   \n",
       "2018-06-21 13:10:00           0.599444          0.993136            0.270287   \n",
       "2017-09-01 19:00:00           0.666449          0.941816            0.088908   \n",
       "2019-11-09 21:00:00                NaN               NaN                 NaN   \n",
       "\n",
       "                     MLPAP_LIC-0738.PV  MLPAP_PIC-0761.PV  MLPAP_TRC-0762.PV  \\\n",
       "2018-06-05 15:50:00           0.370490           0.945792           0.583743   \n",
       "2019-03-18 20:40:00           0.825335           0.927718           0.405191   \n",
       "2018-06-21 13:10:00           0.548287           0.946175           0.582166   \n",
       "2017-09-01 19:00:00           0.622794           0.925628           0.419679   \n",
       "2019-11-09 21:00:00                NaN                NaN                NaN   \n",
       "\n",
       "                     MLPAP_LRC-0729.PV  MLPAP_TJC-1721.PV  MLPAP_TRC-1734.PV  \\\n",
       "2018-06-05 15:50:00           0.393437           0.416925           0.551488   \n",
       "2019-03-18 20:40:00           0.637208           0.421005           0.497535   \n",
       "2018-06-21 13:10:00           0.536384           0.423092           0.547405   \n",
       "2017-09-01 19:00:00           0.411599           0.414227           0.437014   \n",
       "2019-11-09 21:00:00                NaN           0.457616           0.632424   \n",
       "\n",
       "                     MLPAP_TRC-0747.PV  MLPAP_TJ-0757B.PV  MLPAP_FQI-0997.PV  \\\n",
       "2018-06-05 15:50:00           0.839319           0.267471           0.775921   \n",
       "2019-03-18 20:40:00           0.861568           0.280251                NaN   \n",
       "2018-06-21 13:10:00           0.835923           0.283696           0.776941   \n",
       "2017-09-01 19:00:00           0.843406           0.122656           0.737745   \n",
       "2019-11-09 21:00:00           0.384634                NaN                NaN   \n",
       "\n",
       "                       stream  \n",
       "2018-06-05 15:50:00  0.973420  \n",
       "2019-03-18 20:40:00  0.258440  \n",
       "2018-06-21 13:10:00  0.985130  \n",
       "2017-09-01 19:00:00  0.969679  \n",
       "2019-11-09 21:00:00       NaN  "
      ]
     },
     "execution_count": 8,
     "metadata": {},
     "output_type": "execute_result"
    }
   ],
   "source": [
    "mm_state = MinMaxScaler()\n",
    "mm_action = MinMaxScaler()\n",
    "mm_output = MinMaxScaler()\n",
    "mm_stream = MinMaxScaler()\n",
    "\n",
    "df[state] = mm_state.fit_transform(df[state])\n",
    "df[action] = mm_action.fit_transform(df[action])\n",
    "df[output] = mm_output.fit_transform(df[output])\n",
    "df[stream] = mm_stream.fit_transform(df[stream])\n",
    "\n",
    "df.sample(5)"
   ]
  },
  {
   "cell_type": "markdown",
   "metadata": {},
   "source": [
    "# build dataset for modeling"
   ]
  },
  {
   "cell_type": "code",
   "execution_count": 9,
   "metadata": {},
   "outputs": [],
   "source": [
    "def build_dataset(df,n):\n",
    "    data = {'state':[],'action':[],'output':[],'stream':[],'idx':[]}\n",
    "    for i in tqdm(range(0,len(df)-n)):\n",
    "        curr = df.iloc[i:i+n] #一小段資料\n",
    "        if np.isnan(curr.values).sum() == 0: #確保這段資料無缺失值\n",
    "            \n",
    "            data['state'].append(curr[state].values.mean())#這段時間的觸媒使用時間 均值\n",
    "            data['action'].append(curr[action].values)# 這段時間 \"所有\" 操作\n",
    "            data['output'].append(curr[output].values[-1])#這段時間 最後一個時間點 的出料\n",
    "            data['stream'].append(curr[stream].median())#這段時間蒸氣的 中位數\n",
    "            data['idx'].append(curr.index[-1]) #這段時間最後 出料對應的時間點\n",
    "    \n",
    "    # reshape\n",
    "    data['state'] = np.array(data['state']).reshape(-1,1)\n",
    "    data['action'] = np.array(data['action'])\n",
    "    data['output'] = np.array(data['output']).reshape(-1,1)\n",
    "    data['stream'] = np.array(data['stream']).reshape(-1,1)\n",
    "    \n",
    "    # store scaler\n",
    "    data['mm_state'] = mm_state\n",
    "    data['mm_action'] = mm_action\n",
    "    data['mm_output'] = mm_output\n",
    "    data['mm_stream'] = mm_stream\n",
    "    \n",
    "    # store col_name\n",
    "    data['state_col'] = state\n",
    "    data['action_col'] = action\n",
    "    data['output_col'] = output\n",
    "    data['stream_col'] = stream\n",
    "    \n",
    "    return data"
   ]
  },
  {
   "cell_type": "code",
   "execution_count": 10,
   "metadata": {},
   "outputs": [
    {
     "data": {
      "application/vnd.jupyter.widget-view+json": {
       "model_id": "6c7e26199d7b432ba7b8439e6eb76346",
       "version_major": 2,
       "version_minor": 0
      },
      "text/plain": [
       "HBox(children=(FloatProgress(value=0.0, max=193788.0), HTML(value='')))"
      ]
     },
     "metadata": {},
     "output_type": "display_data"
    },
    {
     "name": "stdout",
     "output_type": "stream",
     "text": [
      "\n"
     ]
    }
   ],
   "source": [
    "data = build_dataset(df,36)"
   ]
  },
  {
   "cell_type": "code",
   "execution_count": 11,
   "metadata": {},
   "outputs": [
    {
     "name": "stdout",
     "output_type": "stream",
     "text": [
      "130151\n"
     ]
    }
   ],
   "source": [
    "print(len(data['idx']))"
   ]
  },
  {
   "cell_type": "markdown",
   "metadata": {},
   "source": [
    "# save"
   ]
  },
  {
   "cell_type": "code",
   "execution_count": 12,
   "metadata": {},
   "outputs": [
    {
     "data": {
      "text/plain": [
       "['../data/dataset.pkl']"
      ]
     },
     "execution_count": 12,
     "metadata": {},
     "output_type": "execute_result"
    }
   ],
   "source": [
    "joblib.dump(data,'../data/dataset.pkl')"
   ]
  },
  {
   "cell_type": "code",
   "execution_count": null,
   "metadata": {},
   "outputs": [],
   "source": []
  }
 ],
 "metadata": {
  "kernelspec": {
   "display_name": "Python 3",
   "language": "python",
   "name": "python3"
  },
  "language_info": {
   "codemirror_mode": {
    "name": "ipython",
    "version": 3
   },
   "file_extension": ".py",
   "mimetype": "text/x-python",
   "name": "python",
   "nbconvert_exporter": "python",
   "pygments_lexer": "ipython3",
   "version": "3.7.6"
  }
 },
 "nbformat": 4,
 "nbformat_minor": 2
}
