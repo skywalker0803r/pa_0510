{
 "cells": [
  {
   "cell_type": "code",
   "execution_count": 1,
   "metadata": {},
   "outputs": [],
   "source": [
    "import pandas as pd\n",
    "import numpy as np\n",
    "import torchviz\n",
    "import seaborn as sns\n",
    "import matplotlib.pyplot as plt\n",
    "from tqdm import tqdm_notebook as tqdm\n",
    "from torch.utils.tensorboard import SummaryWriter\n",
    "import torch\n",
    "import torch.nn as nn\n",
    "import torch.utils.data as Data\n",
    "import torchvision\n",
    "import joblib\n",
    "from sklearn.preprocessing import MinMaxScaler\n",
    "import time\n",
    "import warnings\n",
    "warnings.simplefilter('ignore')\n",
    "def get_col(df,name):\n",
    "    return df.columns[df.columns.str.contains(name)].tolist()"
   ]
  },
  {
   "cell_type": "markdown",
   "metadata": {},
   "source": [
    "# load data"
   ]
  },
  {
   "cell_type": "code",
   "execution_count": 2,
   "metadata": {},
   "outputs": [
    {
     "data": {
      "text/html": [
       "<div>\n",
       "<style scoped>\n",
       "    .dataframe tbody tr th:only-of-type {\n",
       "        vertical-align: middle;\n",
       "    }\n",
       "\n",
       "    .dataframe tbody tr th {\n",
       "        vertical-align: top;\n",
       "    }\n",
       "\n",
       "    .dataframe thead th {\n",
       "        text-align: right;\n",
       "    }\n",
       "</style>\n",
       "<table border=\"1\" class=\"dataframe\">\n",
       "  <thead>\n",
       "    <tr style=\"text-align: right;\">\n",
       "      <th></th>\n",
       "      <th>item</th>\n",
       "      <th>TAG</th>\n",
       "      <th>chinese</th>\n",
       "      <th>character</th>\n",
       "      <th>unit</th>\n",
       "      <th>category</th>\n",
       "      <th>period</th>\n",
       "      <th>min</th>\n",
       "      <th>max</th>\n",
       "      <th>推測顯著性(依製程經驗)</th>\n",
       "    </tr>\n",
       "  </thead>\n",
       "  <tbody>\n",
       "    <tr>\n",
       "      <th>0</th>\n",
       "      <td>1.0</td>\n",
       "      <td>MLPAP_TJC-0627.PV</td>\n",
       "      <td>OX預熱器出口溫度</td>\n",
       "      <td>溫度</td>\n",
       "      <td>℃</td>\n",
       "      <td>可控制因子</td>\n",
       "      <td>1分鐘2筆</td>\n",
       "      <td>140</td>\n",
       "      <td>160</td>\n",
       "      <td>***</td>\n",
       "    </tr>\n",
       "    <tr>\n",
       "      <th>1</th>\n",
       "      <td>2.0</td>\n",
       "      <td>MLPAP_TRC-0610.PV</td>\n",
       "      <td>空氣預熱器出口溫度</td>\n",
       "      <td>溫度</td>\n",
       "      <td>℃</td>\n",
       "      <td>可控制因子</td>\n",
       "      <td>1分鐘2筆</td>\n",
       "      <td>160</td>\n",
       "      <td>200</td>\n",
       "      <td>***</td>\n",
       "    </tr>\n",
       "    <tr>\n",
       "      <th>2</th>\n",
       "      <td>3.0</td>\n",
       "      <td>MLPAP_FR-0632.PV</td>\n",
       "      <td>汽機風量</td>\n",
       "      <td>流量</td>\n",
       "      <td>KNM3/HR</td>\n",
       "      <td>可控制因子</td>\n",
       "      <td>1分鐘2筆</td>\n",
       "      <td>30</td>\n",
       "      <td>90</td>\n",
       "      <td>****</td>\n",
       "    </tr>\n",
       "    <tr>\n",
       "      <th>3</th>\n",
       "      <td>4.0</td>\n",
       "      <td>MLPAP_FQ-0619.PV</td>\n",
       "      <td>OX入料量</td>\n",
       "      <td>流量</td>\n",
       "      <td>kg/HR</td>\n",
       "      <td>可控制因子</td>\n",
       "      <td>1分鐘2筆</td>\n",
       "      <td>2000</td>\n",
       "      <td>8000</td>\n",
       "      <td>****</td>\n",
       "    </tr>\n",
       "    <tr>\n",
       "      <th>4</th>\n",
       "      <td>5.0</td>\n",
       "      <td>MLPAP_TJC-0757A.PV</td>\n",
       "      <td>反應槽鹽浴溫度</td>\n",
       "      <td>溫度</td>\n",
       "      <td>℃</td>\n",
       "      <td>可控制因子</td>\n",
       "      <td>1分鐘2筆</td>\n",
       "      <td>345</td>\n",
       "      <td>365</td>\n",
       "      <td>****</td>\n",
       "    </tr>\n",
       "    <tr>\n",
       "      <th>5</th>\n",
       "      <td>6.0</td>\n",
       "      <td>MLPAP_PIC-0741.PV</td>\n",
       "      <td>汽鼓(V211)鍋爐水壓力</td>\n",
       "      <td>壓力</td>\n",
       "      <td>KG/CM2</td>\n",
       "      <td>可控制因子</td>\n",
       "      <td>1分鐘2筆</td>\n",
       "      <td>0</td>\n",
       "      <td>30.05</td>\n",
       "      <td>*</td>\n",
       "    </tr>\n",
       "    <tr>\n",
       "      <th>6</th>\n",
       "      <td>7.0</td>\n",
       "      <td>MLPAP_LIC-0738.PV</td>\n",
       "      <td>汽鼓(V211)鍋爐水液位</td>\n",
       "      <td>液位</td>\n",
       "      <td>%</td>\n",
       "      <td>可控制因子</td>\n",
       "      <td>1分鐘2筆</td>\n",
       "      <td>20</td>\n",
       "      <td>60</td>\n",
       "      <td>*</td>\n",
       "    </tr>\n",
       "    <tr>\n",
       "      <th>7</th>\n",
       "      <td>8.0</td>\n",
       "      <td>MLPAP_PIC-0761.PV</td>\n",
       "      <td>鹽浴冷卻器(E112)出口壓力</td>\n",
       "      <td>壓力</td>\n",
       "      <td>BAR</td>\n",
       "      <td>可控制因子</td>\n",
       "      <td>1分鐘2筆</td>\n",
       "      <td>40</td>\n",
       "      <td>55</td>\n",
       "      <td>***</td>\n",
       "    </tr>\n",
       "    <tr>\n",
       "      <th>8</th>\n",
       "      <td>9.0</td>\n",
       "      <td>MLPAP_TRC-0762.PV</td>\n",
       "      <td>鹽浴冷卻器(E112)入口溫度</td>\n",
       "      <td>溫度</td>\n",
       "      <td>℃</td>\n",
       "      <td>可控制因子</td>\n",
       "      <td>1分鐘2筆</td>\n",
       "      <td>345</td>\n",
       "      <td>365</td>\n",
       "      <td>***</td>\n",
       "    </tr>\n",
       "    <tr>\n",
       "      <th>9</th>\n",
       "      <td>10.0</td>\n",
       "      <td>MLPAP_LRC-0729.PV</td>\n",
       "      <td>鍋爐水液位控制</td>\n",
       "      <td>液位</td>\n",
       "      <td>%</td>\n",
       "      <td>可控制因子</td>\n",
       "      <td>1分鐘2筆</td>\n",
       "      <td>20</td>\n",
       "      <td>60</td>\n",
       "      <td>*</td>\n",
       "    </tr>\n",
       "    <tr>\n",
       "      <th>10</th>\n",
       "      <td>11.0</td>\n",
       "      <td>MLPAP_TJC-1721.PV</td>\n",
       "      <td>轉換式冷凝器冷油溫度</td>\n",
       "      <td>溫度</td>\n",
       "      <td>℃</td>\n",
       "      <td>可控制因子</td>\n",
       "      <td>1分鐘2筆</td>\n",
       "      <td>55</td>\n",
       "      <td>68</td>\n",
       "      <td>****</td>\n",
       "    </tr>\n",
       "    <tr>\n",
       "      <th>11</th>\n",
       "      <td>12.0</td>\n",
       "      <td>MLPAP_TRC-1734.PV</td>\n",
       "      <td>轉換式冷凝器熱油溫度</td>\n",
       "      <td>溫度</td>\n",
       "      <td>℃</td>\n",
       "      <td>可控制因子</td>\n",
       "      <td>1分鐘2筆</td>\n",
       "      <td>160</td>\n",
       "      <td>200</td>\n",
       "      <td>****</td>\n",
       "    </tr>\n",
       "    <tr>\n",
       "      <th>88</th>\n",
       "      <td>89.0</td>\n",
       "      <td>MLPAP_TJC-0757.PV</td>\n",
       "      <td>反應器A/B側鹽浴溫度差</td>\n",
       "      <td>溫度</td>\n",
       "      <td>℃</td>\n",
       "      <td>可控制因子</td>\n",
       "      <td>1分鐘2筆</td>\n",
       "      <td>-3</td>\n",
       "      <td>3</td>\n",
       "      <td>***</td>\n",
       "    </tr>\n",
       "    <tr>\n",
       "      <th>90</th>\n",
       "      <td>91.0</td>\n",
       "      <td>MLPAP_TRC-0747.PV</td>\n",
       "      <td>E220出口溫度</td>\n",
       "      <td>溫度</td>\n",
       "      <td>℃</td>\n",
       "      <td>可控制因子</td>\n",
       "      <td>1分鐘2筆</td>\n",
       "      <td>100</td>\n",
       "      <td>200</td>\n",
       "      <td>***</td>\n",
       "    </tr>\n",
       "    <tr>\n",
       "      <th>94</th>\n",
       "      <td>5.0</td>\n",
       "      <td>MLPAP_TJ-0757B.PV</td>\n",
       "      <td>反應槽鹽浴溫度</td>\n",
       "      <td>溫度</td>\n",
       "      <td>℃</td>\n",
       "      <td>可控制因子</td>\n",
       "      <td>1分鐘2筆</td>\n",
       "      <td>345</td>\n",
       "      <td>365</td>\n",
       "      <td>****</td>\n",
       "    </tr>\n",
       "  </tbody>\n",
       "</table>\n",
       "</div>"
      ],
      "text/plain": [
       "    item                 TAG          chinese character     unit category  \\\n",
       "0    1.0   MLPAP_TJC-0627.PV        OX預熱器出口溫度        溫度        ℃    可控制因子   \n",
       "1    2.0   MLPAP_TRC-0610.PV        空氣預熱器出口溫度        溫度        ℃    可控制因子   \n",
       "2    3.0    MLPAP_FR-0632.PV             汽機風量        流量  KNM3/HR    可控制因子   \n",
       "3    4.0    MLPAP_FQ-0619.PV            OX入料量        流量    kg/HR    可控制因子   \n",
       "4    5.0  MLPAP_TJC-0757A.PV          反應槽鹽浴溫度        溫度        ℃    可控制因子   \n",
       "5    6.0   MLPAP_PIC-0741.PV    汽鼓(V211)鍋爐水壓力        壓力   KG/CM2    可控制因子   \n",
       "6    7.0   MLPAP_LIC-0738.PV    汽鼓(V211)鍋爐水液位        液位        %    可控制因子   \n",
       "7    8.0   MLPAP_PIC-0761.PV  鹽浴冷卻器(E112)出口壓力        壓力      BAR    可控制因子   \n",
       "8    9.0   MLPAP_TRC-0762.PV  鹽浴冷卻器(E112)入口溫度        溫度        ℃    可控制因子   \n",
       "9   10.0   MLPAP_LRC-0729.PV          鍋爐水液位控制        液位        %    可控制因子   \n",
       "10  11.0   MLPAP_TJC-1721.PV       轉換式冷凝器冷油溫度        溫度        ℃    可控制因子   \n",
       "11  12.0   MLPAP_TRC-1734.PV       轉換式冷凝器熱油溫度        溫度        ℃    可控制因子   \n",
       "88  89.0   MLPAP_TJC-0757.PV     反應器A/B側鹽浴溫度差        溫度        ℃    可控制因子   \n",
       "90  91.0   MLPAP_TRC-0747.PV         E220出口溫度        溫度        ℃    可控制因子   \n",
       "94   5.0   MLPAP_TJ-0757B.PV          反應槽鹽浴溫度        溫度        ℃    可控制因子   \n",
       "\n",
       "   period   min    max 推測顯著性(依製程經驗)  \n",
       "0   1分鐘2筆   140    160          ***  \n",
       "1   1分鐘2筆   160    200          ***  \n",
       "2   1分鐘2筆    30     90         ****  \n",
       "3   1分鐘2筆  2000   8000         ****  \n",
       "4   1分鐘2筆   345    365         ****  \n",
       "5   1分鐘2筆     0  30.05            *  \n",
       "6   1分鐘2筆    20     60            *  \n",
       "7   1分鐘2筆    40     55          ***  \n",
       "8   1分鐘2筆   345    365          ***  \n",
       "9   1分鐘2筆    20     60            *  \n",
       "10  1分鐘2筆    55     68         ****  \n",
       "11  1分鐘2筆   160    200         ****  \n",
       "88  1分鐘2筆    -3      3          ***  \n",
       "90  1分鐘2筆   100    200          ***  \n",
       "94  1分鐘2筆   345    365         ****  "
      ]
     },
     "execution_count": 2,
     "metadata": {},
     "output_type": "execute_result"
    }
   ],
   "source": [
    "tag = pd.read_csv('../data/tag_cleaned.csv',index_col=0)\n",
    "tag_map = dict(zip(tag.TAG,tag.chinese))\n",
    "tag[tag.category=='可控制因子']"
   ]
  },
  {
   "cell_type": "code",
   "execution_count": 3,
   "metadata": {},
   "outputs": [
    {
     "name": "stdout",
     "output_type": "stream",
     "text": [
      "(193824, 95)\n"
     ]
    },
    {
     "data": {
      "text/html": [
       "<div>\n",
       "<style scoped>\n",
       "    .dataframe tbody tr th:only-of-type {\n",
       "        vertical-align: middle;\n",
       "    }\n",
       "\n",
       "    .dataframe tbody tr th {\n",
       "        vertical-align: top;\n",
       "    }\n",
       "\n",
       "    .dataframe thead th {\n",
       "        text-align: right;\n",
       "    }\n",
       "</style>\n",
       "<table border=\"1\" class=\"dataframe\">\n",
       "  <thead>\n",
       "    <tr style=\"text-align: right;\">\n",
       "      <th></th>\n",
       "      <th>MLPAP_TJ-0706B02</th>\n",
       "      <th>MLPAP_TJ-0706B03</th>\n",
       "      <th>MLPAP_TJ-0706B04</th>\n",
       "      <th>MLPAP_TJ-0706B05</th>\n",
       "      <th>MLPAP_TJ-0706B06</th>\n",
       "      <th>MLPAP_TJ-0706B07</th>\n",
       "      <th>MLPAP_TJ-0706B08</th>\n",
       "      <th>MLPAP_TJ-0706B09</th>\n",
       "      <th>MLPAP_TJ-0706B10</th>\n",
       "      <th>MLPAP_TJ-0706B11</th>\n",
       "      <th>...</th>\n",
       "      <th>MLPAP_FR-0755PV(轉換後)</th>\n",
       "      <th>MLPAP_FR-0791.PV</th>\n",
       "      <th>MLPAP_FI-V211.PV(轉換後)</th>\n",
       "      <th>MLPAP_PI-0658.PV</th>\n",
       "      <th>MLPAP_TJC-0757.PV</th>\n",
       "      <th>MLPAP_V225-PHD</th>\n",
       "      <th>MLPAP_PI-0771.PV</th>\n",
       "      <th>MLPAP_TRC-0747.PV</th>\n",
       "      <th>Unnamed: 96</th>\n",
       "      <th>MLPAP_TRC-0497.PV</th>\n",
       "    </tr>\n",
       "  </thead>\n",
       "  <tbody>\n",
       "    <tr>\n",
       "      <th>2019-04-20 16:00:00</th>\n",
       "      <td>382.174973</td>\n",
       "      <td>397.004257</td>\n",
       "      <td>400.000000</td>\n",
       "      <td>404.249756</td>\n",
       "      <td>401.000000</td>\n",
       "      <td>401.974976</td>\n",
       "      <td>401.400314</td>\n",
       "      <td>398.124786</td>\n",
       "      <td>397.0</td>\n",
       "      <td>394.0</td>\n",
       "      <td>...</td>\n",
       "      <td>8.537631</td>\n",
       "      <td>32.116802</td>\n",
       "      <td>6605.855713</td>\n",
       "      <td>495.283585</td>\n",
       "      <td>0.210727</td>\n",
       "      <td>0.018</td>\n",
       "      <td>118.098549</td>\n",
       "      <td>169.000343</td>\n",
       "      <td>NaN</td>\n",
       "      <td>8601.176270</td>\n",
       "    </tr>\n",
       "    <tr>\n",
       "      <th>2018-05-06 00:20:00</th>\n",
       "      <td>NaN</td>\n",
       "      <td>NaN</td>\n",
       "      <td>NaN</td>\n",
       "      <td>NaN</td>\n",
       "      <td>NaN</td>\n",
       "      <td>NaN</td>\n",
       "      <td>NaN</td>\n",
       "      <td>NaN</td>\n",
       "      <td>NaN</td>\n",
       "      <td>NaN</td>\n",
       "      <td>...</td>\n",
       "      <td>4.148797</td>\n",
       "      <td>NaN</td>\n",
       "      <td>NaN</td>\n",
       "      <td>NaN</td>\n",
       "      <td>NaN</td>\n",
       "      <td>0.032</td>\n",
       "      <td>NaN</td>\n",
       "      <td>132.650002</td>\n",
       "      <td>NaN</td>\n",
       "      <td>0.000000</td>\n",
       "    </tr>\n",
       "    <tr>\n",
       "      <th>2017-11-24 15:10:00</th>\n",
       "      <td>379.401886</td>\n",
       "      <td>398.102585</td>\n",
       "      <td>404.000000</td>\n",
       "      <td>410.050156</td>\n",
       "      <td>405.488892</td>\n",
       "      <td>406.000000</td>\n",
       "      <td>403.744781</td>\n",
       "      <td>406.000000</td>\n",
       "      <td>405.0</td>\n",
       "      <td>401.0</td>\n",
       "      <td>...</td>\n",
       "      <td>18.806600</td>\n",
       "      <td>29.638542</td>\n",
       "      <td>NaN</td>\n",
       "      <td>469.758774</td>\n",
       "      <td>-0.246902</td>\n",
       "      <td>0.027</td>\n",
       "      <td>143.566711</td>\n",
       "      <td>171.733246</td>\n",
       "      <td>NaN</td>\n",
       "      <td>7920.653320</td>\n",
       "    </tr>\n",
       "    <tr>\n",
       "      <th>2019-02-03 15:20:00</th>\n",
       "      <td>380.000000</td>\n",
       "      <td>397.000000</td>\n",
       "      <td>400.923523</td>\n",
       "      <td>405.034668</td>\n",
       "      <td>402.558243</td>\n",
       "      <td>403.000000</td>\n",
       "      <td>401.250122</td>\n",
       "      <td>399.000000</td>\n",
       "      <td>397.0</td>\n",
       "      <td>394.0</td>\n",
       "      <td>...</td>\n",
       "      <td>9.506689</td>\n",
       "      <td>32.404392</td>\n",
       "      <td>6621.953857</td>\n",
       "      <td>NaN</td>\n",
       "      <td>0.284543</td>\n",
       "      <td>0.003</td>\n",
       "      <td>118.546124</td>\n",
       "      <td>169.599998</td>\n",
       "      <td>NaN</td>\n",
       "      <td>0.000000</td>\n",
       "    </tr>\n",
       "    <tr>\n",
       "      <th>2018-02-02 08:30:00</th>\n",
       "      <td>379.000000</td>\n",
       "      <td>397.199982</td>\n",
       "      <td>403.000000</td>\n",
       "      <td>409.039566</td>\n",
       "      <td>404.974915</td>\n",
       "      <td>405.000000</td>\n",
       "      <td>402.949890</td>\n",
       "      <td>405.000000</td>\n",
       "      <td>404.0</td>\n",
       "      <td>400.0</td>\n",
       "      <td>...</td>\n",
       "      <td>17.182530</td>\n",
       "      <td>30.748601</td>\n",
       "      <td>NaN</td>\n",
       "      <td>483.606674</td>\n",
       "      <td>0.152532</td>\n",
       "      <td>0.024</td>\n",
       "      <td>163.011421</td>\n",
       "      <td>172.800003</td>\n",
       "      <td>NaN</td>\n",
       "      <td>8572.338379</td>\n",
       "    </tr>\n",
       "  </tbody>\n",
       "</table>\n",
       "<p>5 rows × 95 columns</p>\n",
       "</div>"
      ],
      "text/plain": [
       "                     MLPAP_TJ-0706B02  MLPAP_TJ-0706B03  MLPAP_TJ-0706B04  \\\n",
       "2019-04-20 16:00:00        382.174973        397.004257        400.000000   \n",
       "2018-05-06 00:20:00               NaN               NaN               NaN   \n",
       "2017-11-24 15:10:00        379.401886        398.102585        404.000000   \n",
       "2019-02-03 15:20:00        380.000000        397.000000        400.923523   \n",
       "2018-02-02 08:30:00        379.000000        397.199982        403.000000   \n",
       "\n",
       "                     MLPAP_TJ-0706B05  MLPAP_TJ-0706B06  MLPAP_TJ-0706B07  \\\n",
       "2019-04-20 16:00:00        404.249756        401.000000        401.974976   \n",
       "2018-05-06 00:20:00               NaN               NaN               NaN   \n",
       "2017-11-24 15:10:00        410.050156        405.488892        406.000000   \n",
       "2019-02-03 15:20:00        405.034668        402.558243        403.000000   \n",
       "2018-02-02 08:30:00        409.039566        404.974915        405.000000   \n",
       "\n",
       "                     MLPAP_TJ-0706B08  MLPAP_TJ-0706B09  MLPAP_TJ-0706B10  \\\n",
       "2019-04-20 16:00:00        401.400314        398.124786             397.0   \n",
       "2018-05-06 00:20:00               NaN               NaN               NaN   \n",
       "2017-11-24 15:10:00        403.744781        406.000000             405.0   \n",
       "2019-02-03 15:20:00        401.250122        399.000000             397.0   \n",
       "2018-02-02 08:30:00        402.949890        405.000000             404.0   \n",
       "\n",
       "                     MLPAP_TJ-0706B11  ...  MLPAP_FR-0755PV(轉換後)  \\\n",
       "2019-04-20 16:00:00             394.0  ...              8.537631   \n",
       "2018-05-06 00:20:00               NaN  ...              4.148797   \n",
       "2017-11-24 15:10:00             401.0  ...             18.806600   \n",
       "2019-02-03 15:20:00             394.0  ...              9.506689   \n",
       "2018-02-02 08:30:00             400.0  ...             17.182530   \n",
       "\n",
       "                     MLPAP_FR-0791.PV  MLPAP_FI-V211.PV(轉換後)  \\\n",
       "2019-04-20 16:00:00         32.116802            6605.855713   \n",
       "2018-05-06 00:20:00               NaN                    NaN   \n",
       "2017-11-24 15:10:00         29.638542                    NaN   \n",
       "2019-02-03 15:20:00         32.404392            6621.953857   \n",
       "2018-02-02 08:30:00         30.748601                    NaN   \n",
       "\n",
       "                     MLPAP_PI-0658.PV  MLPAP_TJC-0757.PV  MLPAP_V225-PHD  \\\n",
       "2019-04-20 16:00:00        495.283585           0.210727           0.018   \n",
       "2018-05-06 00:20:00               NaN                NaN           0.032   \n",
       "2017-11-24 15:10:00        469.758774          -0.246902           0.027   \n",
       "2019-02-03 15:20:00               NaN           0.284543           0.003   \n",
       "2018-02-02 08:30:00        483.606674           0.152532           0.024   \n",
       "\n",
       "                     MLPAP_PI-0771.PV  MLPAP_TRC-0747.PV  Unnamed: 96  \\\n",
       "2019-04-20 16:00:00        118.098549         169.000343          NaN   \n",
       "2018-05-06 00:20:00               NaN         132.650002          NaN   \n",
       "2017-11-24 15:10:00        143.566711         171.733246          NaN   \n",
       "2019-02-03 15:20:00        118.546124         169.599998          NaN   \n",
       "2018-02-02 08:30:00        163.011421         172.800003          NaN   \n",
       "\n",
       "                     MLPAP_TRC-0497.PV  \n",
       "2019-04-20 16:00:00        8601.176270  \n",
       "2018-05-06 00:20:00           0.000000  \n",
       "2017-11-24 15:10:00        7920.653320  \n",
       "2019-02-03 15:20:00           0.000000  \n",
       "2018-02-02 08:30:00        8572.338379  \n",
       "\n",
       "[5 rows x 95 columns]"
      ]
     },
     "execution_count": 3,
     "metadata": {},
     "output_type": "execute_result"
    }
   ],
   "source": [
    "df = pd.read_csv('../data/train_cleaned.csv',index_col=0,parse_dates=True)\n",
    "print(df.shape)\n",
    "df.sample(5)"
   ]
  },
  {
   "cell_type": "markdown",
   "metadata": {},
   "source": [
    "# add total_stream"
   ]
  },
  {
   "cell_type": "code",
   "execution_count": 4,
   "metadata": {},
   "outputs": [
    {
     "name": "stdout",
     "output_type": "stream",
     "text": [
      "['MLPAP_FR-0755PV(轉換後)', 'MLPAP_FR-0791.PV', 'MLPAP_FI-V211.PV(轉換後)']\n"
     ]
    },
    {
     "data": {
      "text/plain": [
       "count    139591.000000\n",
       "mean      44226.495198\n",
       "std        5268.458119\n",
       "min       13978.628516\n",
       "25%       41200.861692\n",
       "50%       45574.576378\n",
       "75%       48101.296186\n",
       "max       49620.235443\n",
       "Name: stream, dtype: float64"
      ]
     },
     "execution_count": 4,
     "metadata": {},
     "output_type": "execute_result"
    }
   ],
   "source": [
    "stream_cols = tag[tag.chinese.str.contains('蒸氣')== True].TAG.tolist()\n",
    "print(stream_cols)\n",
    "df['stream'] = df[stream_cols[0]]*1000 + df[stream_cols[1]]*1000\n",
    "df['stream'].describe()"
   ]
  },
  {
   "cell_type": "markdown",
   "metadata": {},
   "source": [
    "# add new features"
   ]
  },
  {
   "cell_type": "code",
   "execution_count": 5,
   "metadata": {},
   "outputs": [],
   "source": [
    "df['濃度'] = df['MLPAP_FQ-0619.PV']*df['MLPAP_FR-0632.PV']"
   ]
  },
  {
   "cell_type": "markdown",
   "metadata": {},
   "source": [
    "# define columns"
   ]
  },
  {
   "cell_type": "code",
   "execution_count": 6,
   "metadata": {},
   "outputs": [
    {
     "name": "stdout",
     "output_type": "stream",
     "text": [
      "action: 11\n"
     ]
    }
   ],
   "source": [
    "action = tag[tag['category']=='可控制因子']['TAG'].values.tolist()\n",
    "action = action + ['濃度']\n",
    "\n",
    "# delete not need columns\n",
    "action.remove('MLPAP_FQ-0619.PV')\n",
    "action.remove('MLPAP_TJC-0757.PV')\n",
    "action.remove('MLPAP_PIC-0741.PV')\n",
    "action.remove('MLPAP_LIC-0738.PV')\n",
    "action.remove('MLPAP_TRC-0762.PV')\n",
    "action.remove('MLPAP_LRC-0729.PV')\n",
    "action.insert(0,'MLPAP_FQ-0619.PV')\n",
    "print('action:',len(action))"
   ]
  },
  {
   "cell_type": "code",
   "execution_count": 7,
   "metadata": {},
   "outputs": [
    {
     "name": "stdout",
     "output_type": "stream",
     "text": [
      "output: 1\n"
     ]
    }
   ],
   "source": [
    "output = get_col(df,'0997')\n",
    "print('output:',len(output))"
   ]
  },
  {
   "cell_type": "code",
   "execution_count": 8,
   "metadata": {},
   "outputs": [
    {
     "name": "stdout",
     "output_type": "stream",
     "text": [
      "stream: 1\n"
     ]
    }
   ],
   "source": [
    "stream = ['stream']\n",
    "print('stream:',len(stream))"
   ]
  },
  {
   "cell_type": "code",
   "execution_count": 9,
   "metadata": {},
   "outputs": [
    {
     "name": "stdout",
     "output_type": "stream",
     "text": [
      "state: 1\n"
     ]
    }
   ],
   "source": [
    "state = get_col(df,'DATA OF USE')\n",
    "print('state:',len(state))"
   ]
  },
  {
   "cell_type": "markdown",
   "metadata": {},
   "source": [
    "# select columns"
   ]
  },
  {
   "cell_type": "code",
   "execution_count": 10,
   "metadata": {},
   "outputs": [
    {
     "name": "stdout",
     "output_type": "stream",
     "text": [
      "(193824, 14)\n"
     ]
    }
   ],
   "source": [
    "df = df[state + action + output + stream]\n",
    "print(df.shape)"
   ]
  },
  {
   "cell_type": "markdown",
   "metadata": {},
   "source": [
    "# look miss value"
   ]
  },
  {
   "cell_type": "code",
   "execution_count": 11,
   "metadata": {},
   "outputs": [
    {
     "data": {
      "text/plain": [
       "<matplotlib.axes._subplots.AxesSubplot at 0x7f5e2ae5a2d0>"
      ]
     },
     "execution_count": 11,
     "metadata": {},
     "output_type": "execute_result"
    },
    {
     "data": {
      "image/png": "[encoded data removed]",
      "text/plain": [
       "<Figure size 1440x360 with 1 Axes>"
      ]
     },
     "metadata": {
      "needs_background": "light"
     },
     "output_type": "display_data"
    }
   ],
   "source": [
    "fig = plt.figure(figsize=(20,5))\n",
    "sns.heatmap(df.isnull(),yticklabels=False,cbar=False,cmap='viridis')"
   ]
  },
  {
   "cell_type": "markdown",
   "metadata": {},
   "source": [
    "# scale data"
   ]
  },
  {
   "cell_type": "code",
   "execution_count": 12,
   "metadata": {},
   "outputs": [
    {
     "data": {
      "text/html": [
       "<div>\n",
       "<style scoped>\n",
       "    .dataframe tbody tr th:only-of-type {\n",
       "        vertical-align: middle;\n",
       "    }\n",
       "\n",
       "    .dataframe tbody tr th {\n",
       "        vertical-align: top;\n",
       "    }\n",
       "\n",
       "    .dataframe thead th {\n",
       "        text-align: right;\n",
       "    }\n",
       "</style>\n",
       "<table border=\"1\" class=\"dataframe\">\n",
       "  <thead>\n",
       "    <tr style=\"text-align: right;\">\n",
       "      <th></th>\n",
       "      <th>DATA OF USE</th>\n",
       "      <th>MLPAP_FQ-0619.PV</th>\n",
       "      <th>MLPAP_TJC-0627.PV</th>\n",
       "      <th>MLPAP_TRC-0610.PV</th>\n",
       "      <th>MLPAP_FR-0632.PV</th>\n",
       "      <th>MLPAP_TJC-0757A.PV</th>\n",
       "      <th>MLPAP_PIC-0761.PV</th>\n",
       "      <th>MLPAP_TJC-1721.PV</th>\n",
       "      <th>MLPAP_TRC-1734.PV</th>\n",
       "      <th>MLPAP_TRC-0747.PV</th>\n",
       "      <th>MLPAP_TJ-0757B.PV</th>\n",
       "      <th>濃度</th>\n",
       "      <th>MLPAP_FQI-0997.PV</th>\n",
       "      <th>stream</th>\n",
       "    </tr>\n",
       "  </thead>\n",
       "  <tbody>\n",
       "    <tr>\n",
       "      <th>2019-10-09 18:40:00</th>\n",
       "      <td>0.927761</td>\n",
       "      <td>NaN</td>\n",
       "      <td>NaN</td>\n",
       "      <td>0.470143</td>\n",
       "      <td>NaN</td>\n",
       "      <td>NaN</td>\n",
       "      <td>NaN</td>\n",
       "      <td>0.272302</td>\n",
       "      <td>0.321772</td>\n",
       "      <td>0.410888</td>\n",
       "      <td>NaN</td>\n",
       "      <td>NaN</td>\n",
       "      <td>NaN</td>\n",
       "      <td>NaN</td>\n",
       "    </tr>\n",
       "    <tr>\n",
       "      <th>2018-05-15 18:10:00</th>\n",
       "      <td>0.547289</td>\n",
       "      <td>0.462463</td>\n",
       "      <td>0.422635</td>\n",
       "      <td>0.675578</td>\n",
       "      <td>0.805471</td>\n",
       "      <td>0.231430</td>\n",
       "      <td>0.922533</td>\n",
       "      <td>0.301107</td>\n",
       "      <td>0.407121</td>\n",
       "      <td>0.987049</td>\n",
       "      <td>0.269545</td>\n",
       "      <td>0.412902</td>\n",
       "      <td>NaN</td>\n",
       "      <td>0.530566</td>\n",
       "    </tr>\n",
       "    <tr>\n",
       "      <th>2016-12-13 01:00:00</th>\n",
       "      <td>0.161842</td>\n",
       "      <td>0.892382</td>\n",
       "      <td>0.007210</td>\n",
       "      <td>0.532759</td>\n",
       "      <td>0.837999</td>\n",
       "      <td>0.000426</td>\n",
       "      <td>0.977252</td>\n",
       "      <td>0.469762</td>\n",
       "      <td>0.284403</td>\n",
       "      <td>0.883262</td>\n",
       "      <td>0.068212</td>\n",
       "      <td>0.780793</td>\n",
       "      <td>0.695691</td>\n",
       "      <td>0.881197</td>\n",
       "    </tr>\n",
       "    <tr>\n",
       "      <th>2019-02-23 15:50:00</th>\n",
       "      <td>0.758251</td>\n",
       "      <td>0.944463</td>\n",
       "      <td>0.758911</td>\n",
       "      <td>0.557976</td>\n",
       "      <td>0.955514</td>\n",
       "      <td>0.212932</td>\n",
       "      <td>0.944559</td>\n",
       "      <td>0.269317</td>\n",
       "      <td>0.321055</td>\n",
       "      <td>0.850203</td>\n",
       "      <td>0.231582</td>\n",
       "      <td>0.915081</td>\n",
       "      <td>0.742334</td>\n",
       "      <td>0.749831</td>\n",
       "    </tr>\n",
       "    <tr>\n",
       "      <th>2018-04-02 06:10:00</th>\n",
       "      <td>0.514965</td>\n",
       "      <td>0.963961</td>\n",
       "      <td>0.423154</td>\n",
       "      <td>0.620436</td>\n",
       "      <td>0.955498</td>\n",
       "      <td>0.213597</td>\n",
       "      <td>0.944024</td>\n",
       "      <td>0.303621</td>\n",
       "      <td>0.249775</td>\n",
       "      <td>0.882505</td>\n",
       "      <td>0.248528</td>\n",
       "      <td>0.932372</td>\n",
       "      <td>0.776295</td>\n",
       "      <td>0.974393</td>\n",
       "    </tr>\n",
       "  </tbody>\n",
       "</table>\n",
       "</div>"
      ],
      "text/plain": [
       "                     DATA OF USE  MLPAP_FQ-0619.PV  MLPAP_TJC-0627.PV  \\\n",
       "2019-10-09 18:40:00     0.927761               NaN                NaN   \n",
       "2018-05-15 18:10:00     0.547289          0.462463           0.422635   \n",
       "2016-12-13 01:00:00     0.161842          0.892382           0.007210   \n",
       "2019-02-23 15:50:00     0.758251          0.944463           0.758911   \n",
       "2018-04-02 06:10:00     0.514965          0.963961           0.423154   \n",
       "\n",
       "                     MLPAP_TRC-0610.PV  MLPAP_FR-0632.PV  MLPAP_TJC-0757A.PV  \\\n",
       "2019-10-09 18:40:00           0.470143               NaN                 NaN   \n",
       "2018-05-15 18:10:00           0.675578          0.805471            0.231430   \n",
       "2016-12-13 01:00:00           0.532759          0.837999            0.000426   \n",
       "2019-02-23 15:50:00           0.557976          0.955514            0.212932   \n",
       "2018-04-02 06:10:00           0.620436          0.955498            0.213597   \n",
       "\n",
       "                     MLPAP_PIC-0761.PV  MLPAP_TJC-1721.PV  MLPAP_TRC-1734.PV  \\\n",
       "2019-10-09 18:40:00                NaN           0.272302           0.321772   \n",
       "2018-05-15 18:10:00           0.922533           0.301107           0.407121   \n",
       "2016-12-13 01:00:00           0.977252           0.469762           0.284403   \n",
       "2019-02-23 15:50:00           0.944559           0.269317           0.321055   \n",
       "2018-04-02 06:10:00           0.944024           0.303621           0.249775   \n",
       "\n",
       "                     MLPAP_TRC-0747.PV  MLPAP_TJ-0757B.PV        濃度  \\\n",
       "2019-10-09 18:40:00           0.410888                NaN       NaN   \n",
       "2018-05-15 18:10:00           0.987049           0.269545  0.412902   \n",
       "2016-12-13 01:00:00           0.883262           0.068212  0.780793   \n",
       "2019-02-23 15:50:00           0.850203           0.231582  0.915081   \n",
       "2018-04-02 06:10:00           0.882505           0.248528  0.932372   \n",
       "\n",
       "                     MLPAP_FQI-0997.PV    stream  \n",
       "2019-10-09 18:40:00                NaN       NaN  \n",
       "2018-05-15 18:10:00                NaN  0.530566  \n",
       "2016-12-13 01:00:00           0.695691  0.881197  \n",
       "2019-02-23 15:50:00           0.742334  0.749831  \n",
       "2018-04-02 06:10:00           0.776295  0.974393  "
      ]
     },
     "execution_count": 12,
     "metadata": {},
     "output_type": "execute_result"
    }
   ],
   "source": [
    "mm_state = MinMaxScaler()\n",
    "mm_action = MinMaxScaler()\n",
    "mm_output = MinMaxScaler()\n",
    "mm_stream = MinMaxScaler()\n",
    "\n",
    "df[state] = mm_state.fit_transform(df[state])\n",
    "df[action] = mm_action.fit_transform(df[action])\n",
    "df[output] = mm_output.fit_transform(df[output])\n",
    "df[stream] = mm_stream.fit_transform(df[stream])\n",
    "\n",
    "df.sample(5)"
   ]
  },
  {
   "cell_type": "markdown",
   "metadata": {},
   "source": [
    "# build dataset for modeling"
   ]
  },
  {
   "cell_type": "code",
   "execution_count": 13,
   "metadata": {},
   "outputs": [],
   "source": [
    "def build_dataset(df,n):\n",
    "    \n",
    "    data = {'state':[],\n",
    "            'action':[],\n",
    "            'output':[],\n",
    "            'stream':[],\n",
    "            'idx':[]}\n",
    "    \n",
    "    for i in tqdm(range(0,len(df)-n)):\n",
    "        curr = df.iloc[i:i+n] #一小段資料\n",
    "        if np.isnan(curr.values).sum() == 0: #確保這段資料無缺失值\n",
    "            \n",
    "            data['state'].append(curr[state].values.mean())#這段時間的觸媒使用時間 均值\n",
    "            data['action'].append(curr[action].values)# 這段時間 \"所有\" 操作\n",
    "            data['output'].append(curr[output].values[-1])#這段時間 最後一個時間點 的出料(delay issue)\n",
    "            data['stream'].append(curr[stream].values[-1])#這段時間 最後一個時間點 的蒸氣(delay issue)\n",
    "            data['idx'].append(curr.index[-1]) #這段時間最後 出料對應的時間點\n",
    "    \n",
    "    # reshape\n",
    "    data['state'] = np.array(data['state']).reshape(-1,1)\n",
    "    data['action'] = np.array(data['action'])\n",
    "    data['output'] = np.array(data['output']).reshape(-1,1)\n",
    "    data['stream'] = np.array(data['stream']).reshape(-1,1)\n",
    "    \n",
    "    # store scaler\n",
    "    data['mm_state'] = mm_state\n",
    "    data['mm_action'] = mm_action\n",
    "    data['mm_output'] = mm_output\n",
    "    data['mm_stream'] = mm_stream\n",
    "    \n",
    "    # store col_name\n",
    "    data['state_col'] = state\n",
    "    data['action_col'] = action\n",
    "    data['output_col'] = output\n",
    "    data['stream_col'] = stream\n",
    "    \n",
    "    return data"
   ]
  },
  {
   "cell_type": "code",
   "execution_count": 14,
   "metadata": {},
   "outputs": [
    {
     "data": {
      "application/vnd.jupyter.widget-view+json": {
       "model_id": "eb413c10eb0746a28dfb501e3200953b",
       "version_major": 2,
       "version_minor": 0
      },
      "text/plain": [
       "HBox(children=(FloatProgress(value=0.0, max=193788.0), HTML(value='')))"
      ]
     },
     "metadata": {},
     "output_type": "display_data"
    },
    {
     "name": "stdout",
     "output_type": "stream",
     "text": [
      "\n"
     ]
    }
   ],
   "source": [
    "data = build_dataset(df,36)"
   ]
  },
  {
   "cell_type": "code",
   "execution_count": 15,
   "metadata": {},
   "outputs": [
    {
     "name": "stdout",
     "output_type": "stream",
     "text": [
      "127660\n"
     ]
    }
   ],
   "source": [
    "print(len(data['idx']))"
   ]
  },
  {
   "cell_type": "markdown",
   "metadata": {},
   "source": [
    "# save"
   ]
  },
  {
   "cell_type": "code",
   "execution_count": 16,
   "metadata": {},
   "outputs": [
    {
     "data": {
      "text/plain": [
       "['../data/dataset.pkl']"
      ]
     },
     "execution_count": 16,
     "metadata": {},
     "output_type": "execute_result"
    }
   ],
   "source": [
    "joblib.dump(data,'../data/dataset.pkl')"
   ]
  },
  {
   "cell_type": "code",
   "execution_count": null,
   "metadata": {},
   "outputs": [],
   "source": []
  }
 ],
 "metadata": {
  "kernelspec": {
   "display_name": "Python 3",
   "language": "python",
   "name": "python3"
  },
  "language_info": {
   "codemirror_mode": {
    "name": "ipython",
    "version": 3
   },
   "file_extension": ".py",
   "mimetype": "text/x-python",
   "name": "python",
   "nbconvert_exporter": "python",
   "pygments_lexer": "ipython3",
   "version": "3.7.6"
  }
 },
 "nbformat": 4,
 "nbformat_minor": 2
}
