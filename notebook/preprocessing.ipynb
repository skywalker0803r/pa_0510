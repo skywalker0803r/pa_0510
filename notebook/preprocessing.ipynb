{
 "cells": [
  {
   "cell_type": "code",
   "execution_count": 1,
   "metadata": {},
   "outputs": [],
   "source": [
    "import pandas as pd\n",
    "import numpy as np\n",
    "import torchviz\n",
    "import seaborn as sns\n",
    "import matplotlib.pyplot as plt\n",
    "from tqdm import tqdm_notebook as tqdm\n",
    "from torch.utils.tensorboard import SummaryWriter\n",
    "import torch\n",
    "import torch.nn as nn\n",
    "import torch.utils.data as Data\n",
    "import torchvision\n",
    "import joblib\n",
    "from sklearn.preprocessing import MinMaxScaler\n",
    "import time\n",
    "import warnings\n",
    "warnings.simplefilter('ignore')\n",
    "def get_col(df,name):\n",
    "    return df.columns[df.columns.str.contains(name)].tolist()"
   ]
  },
  {
   "cell_type": "markdown",
   "metadata": {},
   "source": [
    "# load data"
   ]
  },
  {
   "cell_type": "code",
   "execution_count": 2,
   "metadata": {},
   "outputs": [
    {
     "data": {
      "text/html": [
       "<div>\n",
       "<style scoped>\n",
       "    .dataframe tbody tr th:only-of-type {\n",
       "        vertical-align: middle;\n",
       "    }\n",
       "\n",
       "    .dataframe tbody tr th {\n",
       "        vertical-align: top;\n",
       "    }\n",
       "\n",
       "    .dataframe thead th {\n",
       "        text-align: right;\n",
       "    }\n",
       "</style>\n",
       "<table border=\"1\" class=\"dataframe\">\n",
       "  <thead>\n",
       "    <tr style=\"text-align: right;\">\n",
       "      <th></th>\n",
       "      <th>item</th>\n",
       "      <th>TAG</th>\n",
       "      <th>chinese</th>\n",
       "      <th>character</th>\n",
       "      <th>unit</th>\n",
       "      <th>category</th>\n",
       "      <th>period</th>\n",
       "      <th>min</th>\n",
       "      <th>max</th>\n",
       "      <th>推測顯著性(依製程經驗)</th>\n",
       "    </tr>\n",
       "  </thead>\n",
       "  <tbody>\n",
       "    <tr>\n",
       "      <td>0</td>\n",
       "      <td>1.0</td>\n",
       "      <td>MLPAP_TJC-0627.PV</td>\n",
       "      <td>OX預熱器出口溫度</td>\n",
       "      <td>溫度</td>\n",
       "      <td>℃</td>\n",
       "      <td>可控制因子</td>\n",
       "      <td>1分鐘2筆</td>\n",
       "      <td>140</td>\n",
       "      <td>160</td>\n",
       "      <td>***</td>\n",
       "    </tr>\n",
       "    <tr>\n",
       "      <td>1</td>\n",
       "      <td>2.0</td>\n",
       "      <td>MLPAP_TRC-0610.PV</td>\n",
       "      <td>空氣預熱器出口溫度</td>\n",
       "      <td>溫度</td>\n",
       "      <td>℃</td>\n",
       "      <td>可控制因子</td>\n",
       "      <td>1分鐘2筆</td>\n",
       "      <td>160</td>\n",
       "      <td>200</td>\n",
       "      <td>***</td>\n",
       "    </tr>\n",
       "    <tr>\n",
       "      <td>2</td>\n",
       "      <td>3.0</td>\n",
       "      <td>MLPAP_FR-0632.PV</td>\n",
       "      <td>汽機風量</td>\n",
       "      <td>流量</td>\n",
       "      <td>KNM3/HR</td>\n",
       "      <td>可控制因子</td>\n",
       "      <td>1分鐘2筆</td>\n",
       "      <td>30</td>\n",
       "      <td>90</td>\n",
       "      <td>****</td>\n",
       "    </tr>\n",
       "    <tr>\n",
       "      <td>3</td>\n",
       "      <td>4.0</td>\n",
       "      <td>MLPAP_FQ-0619.PV</td>\n",
       "      <td>OX入料量</td>\n",
       "      <td>流量</td>\n",
       "      <td>kg/HR</td>\n",
       "      <td>可控制因子</td>\n",
       "      <td>1分鐘2筆</td>\n",
       "      <td>2000</td>\n",
       "      <td>8000</td>\n",
       "      <td>****</td>\n",
       "    </tr>\n",
       "    <tr>\n",
       "      <td>4</td>\n",
       "      <td>5.0</td>\n",
       "      <td>MLPAP_TJC-0757A.PV</td>\n",
       "      <td>反應槽鹽浴溫度</td>\n",
       "      <td>溫度</td>\n",
       "      <td>℃</td>\n",
       "      <td>可控制因子</td>\n",
       "      <td>1分鐘2筆</td>\n",
       "      <td>345</td>\n",
       "      <td>365</td>\n",
       "      <td>****</td>\n",
       "    </tr>\n",
       "    <tr>\n",
       "      <td>5</td>\n",
       "      <td>6.0</td>\n",
       "      <td>MLPAP_PIC-0741.PV</td>\n",
       "      <td>汽鼓(V211)鍋爐水壓力</td>\n",
       "      <td>壓力</td>\n",
       "      <td>KG/CM2</td>\n",
       "      <td>可控制因子</td>\n",
       "      <td>1分鐘2筆</td>\n",
       "      <td>0</td>\n",
       "      <td>30.05</td>\n",
       "      <td>*</td>\n",
       "    </tr>\n",
       "    <tr>\n",
       "      <td>6</td>\n",
       "      <td>7.0</td>\n",
       "      <td>MLPAP_LIC-0738.PV</td>\n",
       "      <td>汽鼓(V211)鍋爐水液位</td>\n",
       "      <td>液位</td>\n",
       "      <td>%</td>\n",
       "      <td>可控制因子</td>\n",
       "      <td>1分鐘2筆</td>\n",
       "      <td>20</td>\n",
       "      <td>60</td>\n",
       "      <td>*</td>\n",
       "    </tr>\n",
       "    <tr>\n",
       "      <td>7</td>\n",
       "      <td>8.0</td>\n",
       "      <td>MLPAP_PIC-0761.PV</td>\n",
       "      <td>鹽浴冷卻器(E112)出口壓力</td>\n",
       "      <td>壓力</td>\n",
       "      <td>BAR</td>\n",
       "      <td>可控制因子</td>\n",
       "      <td>1分鐘2筆</td>\n",
       "      <td>40</td>\n",
       "      <td>55</td>\n",
       "      <td>***</td>\n",
       "    </tr>\n",
       "    <tr>\n",
       "      <td>8</td>\n",
       "      <td>9.0</td>\n",
       "      <td>MLPAP_TRC-0762.PV</td>\n",
       "      <td>鹽浴冷卻器(E112)入口溫度</td>\n",
       "      <td>溫度</td>\n",
       "      <td>℃</td>\n",
       "      <td>可控制因子</td>\n",
       "      <td>1分鐘2筆</td>\n",
       "      <td>345</td>\n",
       "      <td>365</td>\n",
       "      <td>***</td>\n",
       "    </tr>\n",
       "    <tr>\n",
       "      <td>9</td>\n",
       "      <td>10.0</td>\n",
       "      <td>MLPAP_LRC-0729.PV</td>\n",
       "      <td>鍋爐水液位控制</td>\n",
       "      <td>液位</td>\n",
       "      <td>%</td>\n",
       "      <td>可控制因子</td>\n",
       "      <td>1分鐘2筆</td>\n",
       "      <td>20</td>\n",
       "      <td>60</td>\n",
       "      <td>*</td>\n",
       "    </tr>\n",
       "    <tr>\n",
       "      <td>10</td>\n",
       "      <td>11.0</td>\n",
       "      <td>MLPAP_TJC-1721.PV</td>\n",
       "      <td>轉換式冷凝器冷油溫度</td>\n",
       "      <td>溫度</td>\n",
       "      <td>℃</td>\n",
       "      <td>可控制因子</td>\n",
       "      <td>1分鐘2筆</td>\n",
       "      <td>55</td>\n",
       "      <td>68</td>\n",
       "      <td>****</td>\n",
       "    </tr>\n",
       "    <tr>\n",
       "      <td>11</td>\n",
       "      <td>12.0</td>\n",
       "      <td>MLPAP_TRC-1734.PV</td>\n",
       "      <td>轉換式冷凝器熱油溫度</td>\n",
       "      <td>溫度</td>\n",
       "      <td>℃</td>\n",
       "      <td>可控制因子</td>\n",
       "      <td>1分鐘2筆</td>\n",
       "      <td>160</td>\n",
       "      <td>200</td>\n",
       "      <td>****</td>\n",
       "    </tr>\n",
       "    <tr>\n",
       "      <td>88</td>\n",
       "      <td>89.0</td>\n",
       "      <td>MLPAP_TJC-0757.PV</td>\n",
       "      <td>反應器A/B側鹽浴溫度差</td>\n",
       "      <td>溫度</td>\n",
       "      <td>℃</td>\n",
       "      <td>可控制因子</td>\n",
       "      <td>1分鐘2筆</td>\n",
       "      <td>-3</td>\n",
       "      <td>3</td>\n",
       "      <td>***</td>\n",
       "    </tr>\n",
       "    <tr>\n",
       "      <td>90</td>\n",
       "      <td>91.0</td>\n",
       "      <td>MLPAP_TRC-0747.PV</td>\n",
       "      <td>E220出口溫度</td>\n",
       "      <td>溫度</td>\n",
       "      <td>℃</td>\n",
       "      <td>可控制因子</td>\n",
       "      <td>1分鐘2筆</td>\n",
       "      <td>100</td>\n",
       "      <td>200</td>\n",
       "      <td>***</td>\n",
       "    </tr>\n",
       "    <tr>\n",
       "      <td>94</td>\n",
       "      <td>5.0</td>\n",
       "      <td>MLPAP_TJ-0757B.PV</td>\n",
       "      <td>反應槽鹽浴溫度</td>\n",
       "      <td>溫度</td>\n",
       "      <td>℃</td>\n",
       "      <td>可控制因子</td>\n",
       "      <td>1分鐘2筆</td>\n",
       "      <td>345</td>\n",
       "      <td>365</td>\n",
       "      <td>****</td>\n",
       "    </tr>\n",
       "  </tbody>\n",
       "</table>\n",
       "</div>"
      ],
      "text/plain": [
       "    item                 TAG          chinese character     unit category  \\\n",
       "0    1.0   MLPAP_TJC-0627.PV        OX預熱器出口溫度        溫度        ℃    可控制因子   \n",
       "1    2.0   MLPAP_TRC-0610.PV        空氣預熱器出口溫度        溫度        ℃    可控制因子   \n",
       "2    3.0    MLPAP_FR-0632.PV             汽機風量        流量  KNM3/HR    可控制因子   \n",
       "3    4.0    MLPAP_FQ-0619.PV            OX入料量        流量    kg/HR    可控制因子   \n",
       "4    5.0  MLPAP_TJC-0757A.PV          反應槽鹽浴溫度        溫度        ℃    可控制因子   \n",
       "5    6.0   MLPAP_PIC-0741.PV    汽鼓(V211)鍋爐水壓力        壓力   KG/CM2    可控制因子   \n",
       "6    7.0   MLPAP_LIC-0738.PV    汽鼓(V211)鍋爐水液位        液位        %    可控制因子   \n",
       "7    8.0   MLPAP_PIC-0761.PV  鹽浴冷卻器(E112)出口壓力        壓力      BAR    可控制因子   \n",
       "8    9.0   MLPAP_TRC-0762.PV  鹽浴冷卻器(E112)入口溫度        溫度        ℃    可控制因子   \n",
       "9   10.0   MLPAP_LRC-0729.PV          鍋爐水液位控制        液位        %    可控制因子   \n",
       "10  11.0   MLPAP_TJC-1721.PV       轉換式冷凝器冷油溫度        溫度        ℃    可控制因子   \n",
       "11  12.0   MLPAP_TRC-1734.PV       轉換式冷凝器熱油溫度        溫度        ℃    可控制因子   \n",
       "88  89.0   MLPAP_TJC-0757.PV     反應器A/B側鹽浴溫度差        溫度        ℃    可控制因子   \n",
       "90  91.0   MLPAP_TRC-0747.PV         E220出口溫度        溫度        ℃    可控制因子   \n",
       "94   5.0   MLPAP_TJ-0757B.PV          反應槽鹽浴溫度        溫度        ℃    可控制因子   \n",
       "\n",
       "   period   min    max 推測顯著性(依製程經驗)  \n",
       "0   1分鐘2筆   140    160          ***  \n",
       "1   1分鐘2筆   160    200          ***  \n",
       "2   1分鐘2筆    30     90         ****  \n",
       "3   1分鐘2筆  2000   8000         ****  \n",
       "4   1分鐘2筆   345    365         ****  \n",
       "5   1分鐘2筆     0  30.05            *  \n",
       "6   1分鐘2筆    20     60            *  \n",
       "7   1分鐘2筆    40     55          ***  \n",
       "8   1分鐘2筆   345    365          ***  \n",
       "9   1分鐘2筆    20     60            *  \n",
       "10  1分鐘2筆    55     68         ****  \n",
       "11  1分鐘2筆   160    200         ****  \n",
       "88  1分鐘2筆    -3      3          ***  \n",
       "90  1分鐘2筆   100    200          ***  \n",
       "94  1分鐘2筆   345    365         ****  "
      ]
     },
     "execution_count": 2,
     "metadata": {},
     "output_type": "execute_result"
    }
   ],
   "source": [
    "tag = pd.read_csv('../data/tag_cleaned.csv',index_col=0).dropna(axis=0)\n",
    "tag_map = dict(zip(tag.TAG,tag.chinese))\n",
    "tag[tag.category=='可控制因子']"
   ]
  },
  {
   "cell_type": "code",
   "execution_count": 3,
   "metadata": {},
   "outputs": [
    {
     "data": {
      "text/html": [
       "<div>\n",
       "<style scoped>\n",
       "    .dataframe tbody tr th:only-of-type {\n",
       "        vertical-align: middle;\n",
       "    }\n",
       "\n",
       "    .dataframe tbody tr th {\n",
       "        vertical-align: top;\n",
       "    }\n",
       "\n",
       "    .dataframe thead th {\n",
       "        text-align: right;\n",
       "    }\n",
       "</style>\n",
       "<table border=\"1\" class=\"dataframe\">\n",
       "  <thead>\n",
       "    <tr style=\"text-align: right;\">\n",
       "      <th></th>\n",
       "      <th>item</th>\n",
       "      <th>TAG</th>\n",
       "      <th>chinese</th>\n",
       "      <th>character</th>\n",
       "      <th>unit</th>\n",
       "      <th>category</th>\n",
       "      <th>period</th>\n",
       "      <th>min</th>\n",
       "      <th>max</th>\n",
       "      <th>推測顯著性(依製程經驗)</th>\n",
       "    </tr>\n",
       "  </thead>\n",
       "  <tbody>\n",
       "  </tbody>\n",
       "</table>\n",
       "</div>"
      ],
      "text/plain": [
       "Empty DataFrame\n",
       "Columns: [item, TAG, chinese, character, unit, category, period, min, max, 推測顯著性(依製程經驗)]\n",
       "Index: []"
      ]
     },
     "execution_count": 3,
     "metadata": {},
     "output_type": "execute_result"
    }
   ],
   "source": [
    "tag[tag.chinese.str.contains('環境溫度')]"
   ]
  },
  {
   "cell_type": "code",
   "execution_count": 4,
   "metadata": {},
   "outputs": [
    {
     "name": "stdout",
     "output_type": "stream",
     "text": [
      "(193824, 95)\n"
     ]
    },
    {
     "data": {
      "text/html": [
       "<div>\n",
       "<style scoped>\n",
       "    .dataframe tbody tr th:only-of-type {\n",
       "        vertical-align: middle;\n",
       "    }\n",
       "\n",
       "    .dataframe tbody tr th {\n",
       "        vertical-align: top;\n",
       "    }\n",
       "\n",
       "    .dataframe thead th {\n",
       "        text-align: right;\n",
       "    }\n",
       "</style>\n",
       "<table border=\"1\" class=\"dataframe\">\n",
       "  <thead>\n",
       "    <tr style=\"text-align: right;\">\n",
       "      <th></th>\n",
       "      <th>MLPAP_TJ-0706B02</th>\n",
       "      <th>MLPAP_TJ-0706B03</th>\n",
       "      <th>MLPAP_TJ-0706B04</th>\n",
       "      <th>MLPAP_TJ-0706B05</th>\n",
       "      <th>MLPAP_TJ-0706B06</th>\n",
       "      <th>MLPAP_TJ-0706B07</th>\n",
       "      <th>MLPAP_TJ-0706B08</th>\n",
       "      <th>MLPAP_TJ-0706B09</th>\n",
       "      <th>MLPAP_TJ-0706B10</th>\n",
       "      <th>MLPAP_TJ-0706B11</th>\n",
       "      <th>...</th>\n",
       "      <th>MLPAP_FR-0755PV(轉換後)</th>\n",
       "      <th>MLPAP_FR-0791.PV</th>\n",
       "      <th>MLPAP_FI-V211.PV(轉換後)</th>\n",
       "      <th>MLPAP_PI-0658.PV</th>\n",
       "      <th>MLPAP_TJC-0757.PV</th>\n",
       "      <th>MLPAP_V225-PHD</th>\n",
       "      <th>MLPAP_PI-0771.PV</th>\n",
       "      <th>MLPAP_TRC-0747.PV</th>\n",
       "      <th>MLPAP_TJR-0881.PV</th>\n",
       "      <th>MLPAP_TJ3-1110.PV</th>\n",
       "    </tr>\n",
       "  </thead>\n",
       "  <tbody>\n",
       "    <tr>\n",
       "      <td>2017-11-16 11:40:00</td>\n",
       "      <td>380.649979</td>\n",
       "      <td>399.405670</td>\n",
       "      <td>404.691452</td>\n",
       "      <td>410.600174</td>\n",
       "      <td>405.211029</td>\n",
       "      <td>405.20549</td>\n",
       "      <td>403.000000</td>\n",
       "      <td>405.0</td>\n",
       "      <td>404.000000</td>\n",
       "      <td>400.000000</td>\n",
       "      <td>...</td>\n",
       "      <td>18.907965</td>\n",
       "      <td>29.968207</td>\n",
       "      <td>NaN</td>\n",
       "      <td>467.412323</td>\n",
       "      <td>-0.125573</td>\n",
       "      <td>0.026</td>\n",
       "      <td>143.803185</td>\n",
       "      <td>172.145981</td>\n",
       "      <td>139.199997</td>\n",
       "      <td>25.046242</td>\n",
       "    </tr>\n",
       "    <tr>\n",
       "      <td>2018-10-25 02:10:00</td>\n",
       "      <td>383.000000</td>\n",
       "      <td>397.287994</td>\n",
       "      <td>400.570831</td>\n",
       "      <td>403.825104</td>\n",
       "      <td>400.000000</td>\n",
       "      <td>401.00000</td>\n",
       "      <td>399.854141</td>\n",
       "      <td>398.0</td>\n",
       "      <td>397.000000</td>\n",
       "      <td>394.349792</td>\n",
       "      <td>...</td>\n",
       "      <td>13.945800</td>\n",
       "      <td>31.636157</td>\n",
       "      <td>0.000000</td>\n",
       "      <td>468.338364</td>\n",
       "      <td>1.350706</td>\n",
       "      <td>0.033</td>\n",
       "      <td>124.443352</td>\n",
       "      <td>171.725662</td>\n",
       "      <td>138.637283</td>\n",
       "      <td>24.875997</td>\n",
       "    </tr>\n",
       "    <tr>\n",
       "      <td>2019-07-12 04:00:00</td>\n",
       "      <td>382.000000</td>\n",
       "      <td>395.000000</td>\n",
       "      <td>397.000000</td>\n",
       "      <td>401.000000</td>\n",
       "      <td>398.225098</td>\n",
       "      <td>399.00000</td>\n",
       "      <td>399.000000</td>\n",
       "      <td>397.0</td>\n",
       "      <td>396.085098</td>\n",
       "      <td>393.000000</td>\n",
       "      <td>...</td>\n",
       "      <td>9.531907</td>\n",
       "      <td>30.409787</td>\n",
       "      <td>6749.572998</td>\n",
       "      <td>NaN</td>\n",
       "      <td>-0.509971</td>\n",
       "      <td>0.019</td>\n",
       "      <td>128.354439</td>\n",
       "      <td>168.699997</td>\n",
       "      <td>138.600006</td>\n",
       "      <td>28.450000</td>\n",
       "    </tr>\n",
       "    <tr>\n",
       "      <td>2018-08-06 07:50:00</td>\n",
       "      <td>NaN</td>\n",
       "      <td>NaN</td>\n",
       "      <td>NaN</td>\n",
       "      <td>NaN</td>\n",
       "      <td>NaN</td>\n",
       "      <td>NaN</td>\n",
       "      <td>NaN</td>\n",
       "      <td>NaN</td>\n",
       "      <td>NaN</td>\n",
       "      <td>NaN</td>\n",
       "      <td>...</td>\n",
       "      <td>3.827523</td>\n",
       "      <td>NaN</td>\n",
       "      <td>0.000000</td>\n",
       "      <td>NaN</td>\n",
       "      <td>NaN</td>\n",
       "      <td>0.024</td>\n",
       "      <td>NaN</td>\n",
       "      <td>140.500000</td>\n",
       "      <td>155.699997</td>\n",
       "      <td>28.600000</td>\n",
       "    </tr>\n",
       "    <tr>\n",
       "      <td>2018-02-05 01:50:00</td>\n",
       "      <td>377.984909</td>\n",
       "      <td>396.377441</td>\n",
       "      <td>402.572464</td>\n",
       "      <td>409.138412</td>\n",
       "      <td>405.064377</td>\n",
       "      <td>406.00000</td>\n",
       "      <td>404.000000</td>\n",
       "      <td>406.0</td>\n",
       "      <td>405.000000</td>\n",
       "      <td>401.000000</td>\n",
       "      <td>...</td>\n",
       "      <td>18.119020</td>\n",
       "      <td>30.401766</td>\n",
       "      <td>NaN</td>\n",
       "      <td>482.425049</td>\n",
       "      <td>0.738507</td>\n",
       "      <td>0.024</td>\n",
       "      <td>163.587982</td>\n",
       "      <td>172.399994</td>\n",
       "      <td>138.500000</td>\n",
       "      <td>10.510797</td>\n",
       "    </tr>\n",
       "  </tbody>\n",
       "</table>\n",
       "<p>5 rows × 95 columns</p>\n",
       "</div>"
      ],
      "text/plain": [
       "                     MLPAP_TJ-0706B02  MLPAP_TJ-0706B03  MLPAP_TJ-0706B04  \\\n",
       "2017-11-16 11:40:00        380.649979        399.405670        404.691452   \n",
       "2018-10-25 02:10:00        383.000000        397.287994        400.570831   \n",
       "2019-07-12 04:00:00        382.000000        395.000000        397.000000   \n",
       "2018-08-06 07:50:00               NaN               NaN               NaN   \n",
       "2018-02-05 01:50:00        377.984909        396.377441        402.572464   \n",
       "\n",
       "                     MLPAP_TJ-0706B05  MLPAP_TJ-0706B06  MLPAP_TJ-0706B07  \\\n",
       "2017-11-16 11:40:00        410.600174        405.211029         405.20549   \n",
       "2018-10-25 02:10:00        403.825104        400.000000         401.00000   \n",
       "2019-07-12 04:00:00        401.000000        398.225098         399.00000   \n",
       "2018-08-06 07:50:00               NaN               NaN               NaN   \n",
       "2018-02-05 01:50:00        409.138412        405.064377         406.00000   \n",
       "\n",
       "                     MLPAP_TJ-0706B08  MLPAP_TJ-0706B09  MLPAP_TJ-0706B10  \\\n",
       "2017-11-16 11:40:00        403.000000             405.0        404.000000   \n",
       "2018-10-25 02:10:00        399.854141             398.0        397.000000   \n",
       "2019-07-12 04:00:00        399.000000             397.0        396.085098   \n",
       "2018-08-06 07:50:00               NaN               NaN               NaN   \n",
       "2018-02-05 01:50:00        404.000000             406.0        405.000000   \n",
       "\n",
       "                     MLPAP_TJ-0706B11  ...  MLPAP_FR-0755PV(轉換後)  \\\n",
       "2017-11-16 11:40:00        400.000000  ...             18.907965   \n",
       "2018-10-25 02:10:00        394.349792  ...             13.945800   \n",
       "2019-07-12 04:00:00        393.000000  ...              9.531907   \n",
       "2018-08-06 07:50:00               NaN  ...              3.827523   \n",
       "2018-02-05 01:50:00        401.000000  ...             18.119020   \n",
       "\n",
       "                     MLPAP_FR-0791.PV  MLPAP_FI-V211.PV(轉換後)  \\\n",
       "2017-11-16 11:40:00         29.968207                    NaN   \n",
       "2018-10-25 02:10:00         31.636157               0.000000   \n",
       "2019-07-12 04:00:00         30.409787            6749.572998   \n",
       "2018-08-06 07:50:00               NaN               0.000000   \n",
       "2018-02-05 01:50:00         30.401766                    NaN   \n",
       "\n",
       "                     MLPAP_PI-0658.PV  MLPAP_TJC-0757.PV  MLPAP_V225-PHD  \\\n",
       "2017-11-16 11:40:00        467.412323          -0.125573           0.026   \n",
       "2018-10-25 02:10:00        468.338364           1.350706           0.033   \n",
       "2019-07-12 04:00:00               NaN          -0.509971           0.019   \n",
       "2018-08-06 07:50:00               NaN                NaN           0.024   \n",
       "2018-02-05 01:50:00        482.425049           0.738507           0.024   \n",
       "\n",
       "                     MLPAP_PI-0771.PV  MLPAP_TRC-0747.PV  MLPAP_TJR-0881.PV  \\\n",
       "2017-11-16 11:40:00        143.803185         172.145981         139.199997   \n",
       "2018-10-25 02:10:00        124.443352         171.725662         138.637283   \n",
       "2019-07-12 04:00:00        128.354439         168.699997         138.600006   \n",
       "2018-08-06 07:50:00               NaN         140.500000         155.699997   \n",
       "2018-02-05 01:50:00        163.587982         172.399994         138.500000   \n",
       "\n",
       "                     MLPAP_TJ3-1110.PV  \n",
       "2017-11-16 11:40:00          25.046242  \n",
       "2018-10-25 02:10:00          24.875997  \n",
       "2019-07-12 04:00:00          28.450000  \n",
       "2018-08-06 07:50:00          28.600000  \n",
       "2018-02-05 01:50:00          10.510797  \n",
       "\n",
       "[5 rows x 95 columns]"
      ]
     },
     "execution_count": 4,
     "metadata": {},
     "output_type": "execute_result"
    }
   ],
   "source": [
    "df = pd.read_csv('../data/train_cleaned.csv',index_col=0,parse_dates=True)\n",
    "print(df.shape)\n",
    "df.sample(5)"
   ]
  },
  {
   "cell_type": "markdown",
   "metadata": {},
   "source": [
    "# add total_stream"
   ]
  },
  {
   "cell_type": "code",
   "execution_count": 5,
   "metadata": {},
   "outputs": [
    {
     "name": "stdout",
     "output_type": "stream",
     "text": [
      "['MLPAP_FR-0755PV(轉換後)', 'MLPAP_FR-0791.PV', 'MLPAP_FI-V211.PV(轉換後)']\n"
     ]
    },
    {
     "data": {
      "text/plain": [
       "count    139591.000000\n",
       "mean      44226.495198\n",
       "std        5268.458119\n",
       "min       13978.628516\n",
       "25%       41200.861692\n",
       "50%       45574.576378\n",
       "75%       48101.296186\n",
       "max       49620.235443\n",
       "Name: stream, dtype: float64"
      ]
     },
     "execution_count": 5,
     "metadata": {},
     "output_type": "execute_result"
    }
   ],
   "source": [
    "stream_cols = tag[tag.chinese.str.contains('蒸氣')== True].TAG.tolist()\n",
    "print(stream_cols)\n",
    "df['stream'] = df[stream_cols[0]]*1000 + df[stream_cols[1]]*1000\n",
    "df['stream'].describe()"
   ]
  },
  {
   "cell_type": "markdown",
   "metadata": {},
   "source": [
    "# add new features"
   ]
  },
  {
   "cell_type": "code",
   "execution_count": 6,
   "metadata": {},
   "outputs": [],
   "source": [
    "df['濃度'] = df['MLPAP_FQ-0619.PV']*df['MLPAP_FR-0632.PV']"
   ]
  },
  {
   "cell_type": "markdown",
   "metadata": {},
   "source": [
    "# define columns"
   ]
  },
  {
   "cell_type": "code",
   "execution_count": 7,
   "metadata": {},
   "outputs": [
    {
     "name": "stdout",
     "output_type": "stream",
     "text": [
      "action: 12\n"
     ]
    }
   ],
   "source": [
    "action = tag[tag['category']=='可控制因子']['TAG'].values.tolist()\n",
    "action = action + ['濃度']\n",
    "\n",
    "# delete not need columns\n",
    "action.remove('MLPAP_FQ-0619.PV')\n",
    "action.remove('MLPAP_TJC-0757.PV')\n",
    "action.remove('MLPAP_PIC-0741.PV')\n",
    "action.remove('MLPAP_LIC-0738.PV')\n",
    "action.remove('MLPAP_LRC-0729.PV')\n",
    "action.insert(0,'MLPAP_FQ-0619.PV')\n",
    "print('action:',len(action))"
   ]
  },
  {
   "cell_type": "code",
   "execution_count": 8,
   "metadata": {},
   "outputs": [
    {
     "data": {
      "text/plain": [
       "['MLPAP_FQ-0619.PV',\n",
       " 'MLPAP_TJC-0627.PV',\n",
       " 'MLPAP_TRC-0610.PV',\n",
       " 'MLPAP_FR-0632.PV',\n",
       " 'MLPAP_TJC-0757A.PV',\n",
       " 'MLPAP_PIC-0761.PV',\n",
       " 'MLPAP_TRC-0762.PV',\n",
       " 'MLPAP_TJC-1721.PV',\n",
       " 'MLPAP_TRC-1734.PV',\n",
       " 'MLPAP_TRC-0747.PV',\n",
       " 'MLPAP_TJ-0757B.PV',\n",
       " '濃度']"
      ]
     },
     "execution_count": 8,
     "metadata": {},
     "output_type": "execute_result"
    }
   ],
   "source": [
    "action"
   ]
  },
  {
   "cell_type": "code",
   "execution_count": 9,
   "metadata": {},
   "outputs": [
    {
     "name": "stdout",
     "output_type": "stream",
     "text": [
      "output: 1\n"
     ]
    }
   ],
   "source": [
    "output = get_col(df,'0997')\n",
    "print('output:',len(output))"
   ]
  },
  {
   "cell_type": "code",
   "execution_count": 10,
   "metadata": {},
   "outputs": [
    {
     "name": "stdout",
     "output_type": "stream",
     "text": [
      "stream: 1\n"
     ]
    }
   ],
   "source": [
    "stream = ['stream']\n",
    "print('stream:',len(stream))"
   ]
  },
  {
   "cell_type": "code",
   "execution_count": 11,
   "metadata": {},
   "outputs": [
    {
     "name": "stdout",
     "output_type": "stream",
     "text": [
      "state: 2\n"
     ]
    }
   ],
   "source": [
    "state = get_col(df,'DATA OF USE') + ['MLPAP_TJ3-1110.PV']#環境溫度\n",
    "print('state:',len(state))"
   ]
  },
  {
   "cell_type": "markdown",
   "metadata": {},
   "source": [
    "# select columns"
   ]
  },
  {
   "cell_type": "code",
   "execution_count": 12,
   "metadata": {},
   "outputs": [
    {
     "name": "stdout",
     "output_type": "stream",
     "text": [
      "(193824, 16)\n"
     ]
    }
   ],
   "source": [
    "df = df[state + action + output + stream]\n",
    "print(df.shape)"
   ]
  },
  {
   "cell_type": "markdown",
   "metadata": {},
   "source": [
    "# look miss value"
   ]
  },
  {
   "cell_type": "code",
   "execution_count": 13,
   "metadata": {},
   "outputs": [
    {
     "data": {
      "text/plain": [
       "<matplotlib.axes._subplots.AxesSubplot at 0x2235f125888>"
      ]
     },
     "execution_count": 13,
     "metadata": {},
     "output_type": "execute_result"
    },
    {
     "data": {
      "image/png": "[encoded data removed]",
      "text/plain": [
       "<Figure size 1440x360 with 1 Axes>"
      ]
     },
     "metadata": {
      "needs_background": "light"
     },
     "output_type": "display_data"
    }
   ],
   "source": [
    "fig = plt.figure(figsize=(20,5))\n",
    "sns.heatmap(df.isnull(),yticklabels=False,cbar=False,cmap='viridis')"
   ]
  },
  {
   "cell_type": "markdown",
   "metadata": {},
   "source": [
    "# scale data"
   ]
  },
  {
   "cell_type": "code",
   "execution_count": 14,
   "metadata": {},
   "outputs": [
    {
     "data": {
      "text/html": [
       "<div>\n",
       "<style scoped>\n",
       "    .dataframe tbody tr th:only-of-type {\n",
       "        vertical-align: middle;\n",
       "    }\n",
       "\n",
       "    .dataframe tbody tr th {\n",
       "        vertical-align: top;\n",
       "    }\n",
       "\n",
       "    .dataframe thead th {\n",
       "        text-align: right;\n",
       "    }\n",
       "</style>\n",
       "<table border=\"1\" class=\"dataframe\">\n",
       "  <thead>\n",
       "    <tr style=\"text-align: right;\">\n",
       "      <th></th>\n",
       "      <th>DATA OF USE</th>\n",
       "      <th>MLPAP_TJ3-1110.PV</th>\n",
       "      <th>MLPAP_FQ-0619.PV</th>\n",
       "      <th>MLPAP_TJC-0627.PV</th>\n",
       "      <th>MLPAP_TRC-0610.PV</th>\n",
       "      <th>MLPAP_FR-0632.PV</th>\n",
       "      <th>MLPAP_TJC-0757A.PV</th>\n",
       "      <th>MLPAP_PIC-0761.PV</th>\n",
       "      <th>MLPAP_TRC-0762.PV</th>\n",
       "      <th>MLPAP_TJC-1721.PV</th>\n",
       "      <th>MLPAP_TRC-1734.PV</th>\n",
       "      <th>MLPAP_TRC-0747.PV</th>\n",
       "      <th>MLPAP_TJ-0757B.PV</th>\n",
       "      <th>濃度</th>\n",
       "      <th>MLPAP_FQI-0997.PV</th>\n",
       "      <th>stream</th>\n",
       "    </tr>\n",
       "  </thead>\n",
       "  <tbody>\n",
       "    <tr>\n",
       "      <td>2019-01-02 22:50:00</td>\n",
       "      <td>0.719828</td>\n",
       "      <td>0.474123</td>\n",
       "      <td>NaN</td>\n",
       "      <td>NaN</td>\n",
       "      <td>NaN</td>\n",
       "      <td>NaN</td>\n",
       "      <td>NaN</td>\n",
       "      <td>NaN</td>\n",
       "      <td>NaN</td>\n",
       "      <td>0.268277</td>\n",
       "      <td>0.330949</td>\n",
       "      <td>NaN</td>\n",
       "      <td>NaN</td>\n",
       "      <td>NaN</td>\n",
       "      <td>NaN</td>\n",
       "      <td>NaN</td>\n",
       "    </tr>\n",
       "    <tr>\n",
       "      <td>2019-08-27 12:40:00</td>\n",
       "      <td>0.895623</td>\n",
       "      <td>0.711971</td>\n",
       "      <td>NaN</td>\n",
       "      <td>NaN</td>\n",
       "      <td>0.358519</td>\n",
       "      <td>NaN</td>\n",
       "      <td>NaN</td>\n",
       "      <td>NaN</td>\n",
       "      <td>NaN</td>\n",
       "      <td>0.275197</td>\n",
       "      <td>0.323137</td>\n",
       "      <td>0.419933</td>\n",
       "      <td>NaN</td>\n",
       "      <td>NaN</td>\n",
       "      <td>NaN</td>\n",
       "      <td>NaN</td>\n",
       "    </tr>\n",
       "    <tr>\n",
       "      <td>2016-11-17 01:30:00</td>\n",
       "      <td>0.142537</td>\n",
       "      <td>0.568947</td>\n",
       "      <td>0.891488</td>\n",
       "      <td>0.007235</td>\n",
       "      <td>0.544040</td>\n",
       "      <td>0.837893</td>\n",
       "      <td>0.000647</td>\n",
       "      <td>0.988734</td>\n",
       "      <td>0.189144</td>\n",
       "      <td>0.465167</td>\n",
       "      <td>0.352318</td>\n",
       "      <td>0.887673</td>\n",
       "      <td>0.070788</td>\n",
       "      <td>0.779982</td>\n",
       "      <td>0.705994</td>\n",
       "      <td>0.876706</td>\n",
       "    </tr>\n",
       "    <tr>\n",
       "      <td>2016-06-14 17:00:00</td>\n",
       "      <td>0.027097</td>\n",
       "      <td>0.813303</td>\n",
       "      <td>0.798311</td>\n",
       "      <td>0.082296</td>\n",
       "      <td>0.630724</td>\n",
       "      <td>0.984537</td>\n",
       "      <td>0.501319</td>\n",
       "      <td>0.966403</td>\n",
       "      <td>0.679584</td>\n",
       "      <td>0.345585</td>\n",
       "      <td>0.382690</td>\n",
       "      <td>0.950503</td>\n",
       "      <td>0.573490</td>\n",
       "      <td>0.805523</td>\n",
       "      <td>0.570687</td>\n",
       "      <td>0.788781</td>\n",
       "    </tr>\n",
       "    <tr>\n",
       "      <td>2018-11-13 19:10:00</td>\n",
       "      <td>0.682560</td>\n",
       "      <td>0.598124</td>\n",
       "      <td>0.893735</td>\n",
       "      <td>0.653864</td>\n",
       "      <td>0.630568</td>\n",
       "      <td>0.892160</td>\n",
       "      <td>0.287385</td>\n",
       "      <td>0.944606</td>\n",
       "      <td>0.548650</td>\n",
       "      <td>0.298403</td>\n",
       "      <td>0.398428</td>\n",
       "      <td>0.880479</td>\n",
       "      <td>0.340368</td>\n",
       "      <td>0.822534</td>\n",
       "      <td>0.689536</td>\n",
       "      <td>0.882379</td>\n",
       "    </tr>\n",
       "  </tbody>\n",
       "</table>\n",
       "</div>"
      ],
      "text/plain": [
       "                     DATA OF USE  MLPAP_TJ3-1110.PV  MLPAP_FQ-0619.PV  \\\n",
       "2019-01-02 22:50:00     0.719828           0.474123               NaN   \n",
       "2019-08-27 12:40:00     0.895623           0.711971               NaN   \n",
       "2016-11-17 01:30:00     0.142537           0.568947          0.891488   \n",
       "2016-06-14 17:00:00     0.027097           0.813303          0.798311   \n",
       "2018-11-13 19:10:00     0.682560           0.598124          0.893735   \n",
       "\n",
       "                     MLPAP_TJC-0627.PV  MLPAP_TRC-0610.PV  MLPAP_FR-0632.PV  \\\n",
       "2019-01-02 22:50:00                NaN                NaN               NaN   \n",
       "2019-08-27 12:40:00                NaN           0.358519               NaN   \n",
       "2016-11-17 01:30:00           0.007235           0.544040          0.837893   \n",
       "2016-06-14 17:00:00           0.082296           0.630724          0.984537   \n",
       "2018-11-13 19:10:00           0.653864           0.630568          0.892160   \n",
       "\n",
       "                     MLPAP_TJC-0757A.PV  MLPAP_PIC-0761.PV  MLPAP_TRC-0762.PV  \\\n",
       "2019-01-02 22:50:00                 NaN                NaN                NaN   \n",
       "2019-08-27 12:40:00                 NaN                NaN                NaN   \n",
       "2016-11-17 01:30:00            0.000647           0.988734           0.189144   \n",
       "2016-06-14 17:00:00            0.501319           0.966403           0.679584   \n",
       "2018-11-13 19:10:00            0.287385           0.944606           0.548650   \n",
       "\n",
       "                     MLPAP_TJC-1721.PV  MLPAP_TRC-1734.PV  MLPAP_TRC-0747.PV  \\\n",
       "2019-01-02 22:50:00           0.268277           0.330949                NaN   \n",
       "2019-08-27 12:40:00           0.275197           0.323137           0.419933   \n",
       "2016-11-17 01:30:00           0.465167           0.352318           0.887673   \n",
       "2016-06-14 17:00:00           0.345585           0.382690           0.950503   \n",
       "2018-11-13 19:10:00           0.298403           0.398428           0.880479   \n",
       "\n",
       "                     MLPAP_TJ-0757B.PV        濃度  MLPAP_FQI-0997.PV    stream  \n",
       "2019-01-02 22:50:00                NaN       NaN                NaN       NaN  \n",
       "2019-08-27 12:40:00                NaN       NaN                NaN       NaN  \n",
       "2016-11-17 01:30:00           0.070788  0.779982           0.705994  0.876706  \n",
       "2016-06-14 17:00:00           0.573490  0.805523           0.570687  0.788781  \n",
       "2018-11-13 19:10:00           0.340368  0.822534           0.689536  0.882379  "
      ]
     },
     "execution_count": 14,
     "metadata": {},
     "output_type": "execute_result"
    }
   ],
   "source": [
    "mm_state = MinMaxScaler()\n",
    "mm_action = MinMaxScaler()\n",
    "mm_output = MinMaxScaler()\n",
    "mm_stream = MinMaxScaler()\n",
    "\n",
    "df[state] = mm_state.fit_transform(df[state])\n",
    "df[action] = mm_action.fit_transform(df[action])\n",
    "df[output] = mm_output.fit_transform(df[output])\n",
    "df[stream] = mm_stream.fit_transform(df[stream])\n",
    "\n",
    "df.sample(5)"
   ]
  },
  {
   "cell_type": "markdown",
   "metadata": {},
   "source": [
    "# build dataset for modeling"
   ]
  },
  {
   "cell_type": "code",
   "execution_count": 15,
   "metadata": {},
   "outputs": [],
   "source": [
    "def build_dataset(df,n):\n",
    "    \n",
    "    data = {'state':[],\n",
    "            'action':[],\n",
    "            'output':[],\n",
    "            'stream':[],\n",
    "            'idx':[]}\n",
    "    \n",
    "    for i in tqdm(range(0,len(df)-n)):\n",
    "        curr = df.iloc[i:i+n] #一小段資料\n",
    "        if np.isnan(curr.values).sum() == 0: #確保這段資料無缺失值\n",
    "            \n",
    "            data['state'].append(curr[state].values.mean(axis=0))#這段時間的 \"狀態\" 之均值\n",
    "            data['action'].append(curr[action].values)# 這段時間 \"所有\" 操作\n",
    "            data['output'].append(curr[output].values[-1])#這段時間 最後一個時間點 的出料(delay issue)\n",
    "            data['stream'].append(curr[stream].values[-1])#這段時間 最後一個時間點 的蒸氣(delay issue)\n",
    "            data['idx'].append(curr.index[-1]) #這段時間最後 出料對應的時間點\n",
    "    \n",
    "    # reshape\n",
    "    data['state'] = np.array(data['state'])\n",
    "    data['action'] = np.array(data['action'])\n",
    "    data['output'] = np.array(data['output']).reshape(-1,1)\n",
    "    data['stream'] = np.array(data['stream']).reshape(-1,1)\n",
    "    \n",
    "    # store scaler\n",
    "    data['mm_state'] = mm_state\n",
    "    data['mm_action'] = mm_action\n",
    "    data['mm_output'] = mm_output\n",
    "    data['mm_stream'] = mm_stream\n",
    "    \n",
    "    # store col_name\n",
    "    data['state_col'] = state\n",
    "    data['action_col'] = action\n",
    "    data['output_col'] = output\n",
    "    data['stream_col'] = stream\n",
    "    \n",
    "    return data"
   ]
  },
  {
   "cell_type": "code",
   "execution_count": 16,
   "metadata": {},
   "outputs": [
    {
     "data": {
      "application/vnd.jupyter.widget-view+json": {
       "model_id": "787e5e0f729a4b82849f9ed403c1014d",
       "version_major": 2,
       "version_minor": 0
      },
      "text/plain": [
       "HBox(children=(FloatProgress(value=0.0, max=193788.0), HTML(value='')))"
      ]
     },
     "metadata": {},
     "output_type": "display_data"
    },
    {
     "name": "stdout",
     "output_type": "stream",
     "text": [
      "\n"
     ]
    }
   ],
   "source": [
    "data = build_dataset(df,36)"
   ]
  },
  {
   "cell_type": "code",
   "execution_count": 17,
   "metadata": {},
   "outputs": [
    {
     "name": "stdout",
     "output_type": "stream",
     "text": [
      "124712\n"
     ]
    }
   ],
   "source": [
    "print(len(data['idx']))"
   ]
  },
  {
   "cell_type": "markdown",
   "metadata": {},
   "source": [
    "# save"
   ]
  },
  {
   "cell_type": "code",
   "execution_count": 18,
   "metadata": {},
   "outputs": [
    {
     "data": {
      "text/plain": [
       "['../data/dataset.pkl']"
      ]
     },
     "execution_count": 18,
     "metadata": {},
     "output_type": "execute_result"
    }
   ],
   "source": [
    "joblib.dump(data,'../data/dataset.pkl')"
   ]
  },
  {
   "cell_type": "code",
   "execution_count": null,
   "metadata": {},
   "outputs": [],
   "source": []
  }
 ],
 "metadata": {
  "kernelspec": {
   "display_name": "Python 3",
   "language": "python",
   "name": "python3"
  },
  "language_info": {
   "codemirror_mode": {
    "name": "ipython",
    "version": 3
   },
   "file_extension": ".py",
   "mimetype": "text/x-python",
   "name": "python",
   "nbconvert_exporter": "python",
   "pygments_lexer": "ipython3",
   "version": "3.7.4"
  }
 },
 "nbformat": 4,
 "nbformat_minor": 2
}
