{
 "cells": [
  {
   "cell_type": "code",
   "execution_count": 1,
   "metadata": {},
   "outputs": [],
   "source": [
    "import pandas as pd\n",
    "import numpy as np\n",
    "import torchviz\n",
    "import seaborn as sns\n",
    "import matplotlib.pyplot as plt\n",
    "from tqdm import tqdm_notebook as tqdm\n",
    "from torch.utils.tensorboard import SummaryWriter\n",
    "import torch\n",
    "import torch.nn as nn\n",
    "import torch.utils.data as Data\n",
    "import torchvision\n",
    "import joblib\n",
    "from sklearn.preprocessing import MinMaxScaler\n",
    "import time\n",
    "import warnings\n",
    "warnings.simplefilter('ignore')\n",
    "def get_col(df,name):\n",
    "    return df.columns[df.columns.str.contains(name)].tolist()"
   ]
  },
  {
   "cell_type": "markdown",
   "metadata": {},
   "source": [
    "# load data"
   ]
  },
  {
   "cell_type": "code",
   "execution_count": 2,
   "metadata": {},
   "outputs": [
    {
     "data": {
      "text/html": [
       "<div>\n",
       "<style scoped>\n",
       "    .dataframe tbody tr th:only-of-type {\n",
       "        vertical-align: middle;\n",
       "    }\n",
       "\n",
       "    .dataframe tbody tr th {\n",
       "        vertical-align: top;\n",
       "    }\n",
       "\n",
       "    .dataframe thead th {\n",
       "        text-align: right;\n",
       "    }\n",
       "</style>\n",
       "<table border=\"1\" class=\"dataframe\">\n",
       "  <thead>\n",
       "    <tr style=\"text-align: right;\">\n",
       "      <th></th>\n",
       "      <th>item</th>\n",
       "      <th>TAG</th>\n",
       "      <th>chinese</th>\n",
       "      <th>character</th>\n",
       "      <th>unit</th>\n",
       "      <th>category</th>\n",
       "      <th>period</th>\n",
       "      <th>min</th>\n",
       "      <th>max</th>\n",
       "      <th>推測顯著性(依製程經驗)</th>\n",
       "    </tr>\n",
       "  </thead>\n",
       "  <tbody>\n",
       "    <tr>\n",
       "      <td>0</td>\n",
       "      <td>1.0</td>\n",
       "      <td>MLPAP_TJC-0627.PV</td>\n",
       "      <td>OX預熱器出口溫度</td>\n",
       "      <td>溫度</td>\n",
       "      <td>℃</td>\n",
       "      <td>可控制因子</td>\n",
       "      <td>1分鐘2筆</td>\n",
       "      <td>140</td>\n",
       "      <td>160</td>\n",
       "      <td>***</td>\n",
       "    </tr>\n",
       "    <tr>\n",
       "      <td>1</td>\n",
       "      <td>2.0</td>\n",
       "      <td>MLPAP_TRC-0610.PV</td>\n",
       "      <td>空氣預熱器出口溫度</td>\n",
       "      <td>溫度</td>\n",
       "      <td>℃</td>\n",
       "      <td>可控制因子</td>\n",
       "      <td>1分鐘2筆</td>\n",
       "      <td>160</td>\n",
       "      <td>200</td>\n",
       "      <td>***</td>\n",
       "    </tr>\n",
       "    <tr>\n",
       "      <td>2</td>\n",
       "      <td>3.0</td>\n",
       "      <td>MLPAP_FR-0632.PV</td>\n",
       "      <td>汽機風量</td>\n",
       "      <td>流量</td>\n",
       "      <td>KNM3/HR</td>\n",
       "      <td>可控制因子</td>\n",
       "      <td>1分鐘2筆</td>\n",
       "      <td>64</td>\n",
       "      <td>90</td>\n",
       "      <td>****</td>\n",
       "    </tr>\n",
       "    <tr>\n",
       "      <td>3</td>\n",
       "      <td>4.0</td>\n",
       "      <td>MLPAP_FQ-0619.PV</td>\n",
       "      <td>OX入料量</td>\n",
       "      <td>流量</td>\n",
       "      <td>kg/HR</td>\n",
       "      <td>可控制因子</td>\n",
       "      <td>1分鐘2筆</td>\n",
       "      <td>2000</td>\n",
       "      <td>8000</td>\n",
       "      <td>****</td>\n",
       "    </tr>\n",
       "    <tr>\n",
       "      <td>4</td>\n",
       "      <td>5.0</td>\n",
       "      <td>MLPAP_TJC-0757A.PV</td>\n",
       "      <td>反應槽鹽浴溫度</td>\n",
       "      <td>溫度</td>\n",
       "      <td>℃</td>\n",
       "      <td>可控制因子</td>\n",
       "      <td>1分鐘2筆</td>\n",
       "      <td>345</td>\n",
       "      <td>365</td>\n",
       "      <td>****</td>\n",
       "    </tr>\n",
       "    <tr>\n",
       "      <td>5</td>\n",
       "      <td>6.0</td>\n",
       "      <td>MLPAP_PIC-0741.PV</td>\n",
       "      <td>汽鼓(V211)鍋爐水壓力</td>\n",
       "      <td>壓力</td>\n",
       "      <td>KG/CM2</td>\n",
       "      <td>可控制因子</td>\n",
       "      <td>1分鐘2筆</td>\n",
       "      <td>0</td>\n",
       "      <td>30.05</td>\n",
       "      <td>*</td>\n",
       "    </tr>\n",
       "    <tr>\n",
       "      <td>6</td>\n",
       "      <td>7.0</td>\n",
       "      <td>MLPAP_LIC-0738.PV</td>\n",
       "      <td>汽鼓(V211)鍋爐水液位</td>\n",
       "      <td>液位</td>\n",
       "      <td>%</td>\n",
       "      <td>可控制因子</td>\n",
       "      <td>1分鐘2筆</td>\n",
       "      <td>20</td>\n",
       "      <td>60</td>\n",
       "      <td>*</td>\n",
       "    </tr>\n",
       "    <tr>\n",
       "      <td>7</td>\n",
       "      <td>8.0</td>\n",
       "      <td>MLPAP_PIC-0761.PV</td>\n",
       "      <td>鹽浴冷卻器(E112)出口壓力</td>\n",
       "      <td>壓力</td>\n",
       "      <td>BAR</td>\n",
       "      <td>可控制因子</td>\n",
       "      <td>1分鐘2筆</td>\n",
       "      <td>40</td>\n",
       "      <td>55</td>\n",
       "      <td>***</td>\n",
       "    </tr>\n",
       "    <tr>\n",
       "      <td>8</td>\n",
       "      <td>9.0</td>\n",
       "      <td>MLPAP_TRC-0762.PV</td>\n",
       "      <td>鹽浴冷卻器(E112)入口溫度</td>\n",
       "      <td>溫度</td>\n",
       "      <td>℃</td>\n",
       "      <td>可控制因子</td>\n",
       "      <td>1分鐘2筆</td>\n",
       "      <td>345</td>\n",
       "      <td>365</td>\n",
       "      <td>***</td>\n",
       "    </tr>\n",
       "    <tr>\n",
       "      <td>9</td>\n",
       "      <td>10.0</td>\n",
       "      <td>MLPAP_LRC-0729.PV</td>\n",
       "      <td>鍋爐水液位控制</td>\n",
       "      <td>液位</td>\n",
       "      <td>%</td>\n",
       "      <td>可控制因子</td>\n",
       "      <td>1分鐘2筆</td>\n",
       "      <td>20</td>\n",
       "      <td>60</td>\n",
       "      <td>*</td>\n",
       "    </tr>\n",
       "    <tr>\n",
       "      <td>10</td>\n",
       "      <td>11.0</td>\n",
       "      <td>MLPAP_TJC-1721.PV</td>\n",
       "      <td>轉換式冷凝器冷油溫度</td>\n",
       "      <td>溫度</td>\n",
       "      <td>℃</td>\n",
       "      <td>可控制因子</td>\n",
       "      <td>1分鐘2筆</td>\n",
       "      <td>55</td>\n",
       "      <td>68</td>\n",
       "      <td>****</td>\n",
       "    </tr>\n",
       "    <tr>\n",
       "      <td>11</td>\n",
       "      <td>12.0</td>\n",
       "      <td>MLPAP_TRC-1734.PV</td>\n",
       "      <td>轉換式冷凝器熱油溫度</td>\n",
       "      <td>溫度</td>\n",
       "      <td>℃</td>\n",
       "      <td>可控制因子</td>\n",
       "      <td>1分鐘2筆</td>\n",
       "      <td>160</td>\n",
       "      <td>200</td>\n",
       "      <td>****</td>\n",
       "    </tr>\n",
       "    <tr>\n",
       "      <td>88</td>\n",
       "      <td>89.0</td>\n",
       "      <td>MLPAP_TJC-0757.PV</td>\n",
       "      <td>反應器A/B側鹽浴溫度差</td>\n",
       "      <td>溫度</td>\n",
       "      <td>℃</td>\n",
       "      <td>可控制因子</td>\n",
       "      <td>1分鐘2筆</td>\n",
       "      <td>-3</td>\n",
       "      <td>3</td>\n",
       "      <td>***</td>\n",
       "    </tr>\n",
       "    <tr>\n",
       "      <td>90</td>\n",
       "      <td>91.0</td>\n",
       "      <td>MLPAP_TRC-0747.PV</td>\n",
       "      <td>E220出口溫度</td>\n",
       "      <td>溫度</td>\n",
       "      <td>℃</td>\n",
       "      <td>可控制因子</td>\n",
       "      <td>1分鐘2筆</td>\n",
       "      <td>100</td>\n",
       "      <td>200</td>\n",
       "      <td>***</td>\n",
       "    </tr>\n",
       "    <tr>\n",
       "      <td>94</td>\n",
       "      <td>5.0</td>\n",
       "      <td>MLPAP_TJ-0757B.PV</td>\n",
       "      <td>反應槽鹽浴溫度</td>\n",
       "      <td>溫度</td>\n",
       "      <td>℃</td>\n",
       "      <td>可控制因子</td>\n",
       "      <td>1分鐘2筆</td>\n",
       "      <td>345</td>\n",
       "      <td>365</td>\n",
       "      <td>****</td>\n",
       "    </tr>\n",
       "  </tbody>\n",
       "</table>\n",
       "</div>"
      ],
      "text/plain": [
       "    item                 TAG          chinese character     unit category  \\\n",
       "0    1.0   MLPAP_TJC-0627.PV        OX預熱器出口溫度        溫度        ℃    可控制因子   \n",
       "1    2.0   MLPAP_TRC-0610.PV        空氣預熱器出口溫度        溫度        ℃    可控制因子   \n",
       "2    3.0    MLPAP_FR-0632.PV             汽機風量        流量  KNM3/HR    可控制因子   \n",
       "3    4.0    MLPAP_FQ-0619.PV            OX入料量        流量    kg/HR    可控制因子   \n",
       "4    5.0  MLPAP_TJC-0757A.PV          反應槽鹽浴溫度        溫度        ℃    可控制因子   \n",
       "5    6.0   MLPAP_PIC-0741.PV    汽鼓(V211)鍋爐水壓力        壓力   KG/CM2    可控制因子   \n",
       "6    7.0   MLPAP_LIC-0738.PV    汽鼓(V211)鍋爐水液位        液位        %    可控制因子   \n",
       "7    8.0   MLPAP_PIC-0761.PV  鹽浴冷卻器(E112)出口壓力        壓力      BAR    可控制因子   \n",
       "8    9.0   MLPAP_TRC-0762.PV  鹽浴冷卻器(E112)入口溫度        溫度        ℃    可控制因子   \n",
       "9   10.0   MLPAP_LRC-0729.PV          鍋爐水液位控制        液位        %    可控制因子   \n",
       "10  11.0   MLPAP_TJC-1721.PV       轉換式冷凝器冷油溫度        溫度        ℃    可控制因子   \n",
       "11  12.0   MLPAP_TRC-1734.PV       轉換式冷凝器熱油溫度        溫度        ℃    可控制因子   \n",
       "88  89.0   MLPAP_TJC-0757.PV     反應器A/B側鹽浴溫度差        溫度        ℃    可控制因子   \n",
       "90  91.0   MLPAP_TRC-0747.PV         E220出口溫度        溫度        ℃    可控制因子   \n",
       "94   5.0   MLPAP_TJ-0757B.PV          反應槽鹽浴溫度        溫度        ℃    可控制因子   \n",
       "\n",
       "   period   min    max 推測顯著性(依製程經驗)  \n",
       "0   1分鐘2筆   140    160          ***  \n",
       "1   1分鐘2筆   160    200          ***  \n",
       "2   1分鐘2筆    64     90         ****  \n",
       "3   1分鐘2筆  2000   8000         ****  \n",
       "4   1分鐘2筆   345    365         ****  \n",
       "5   1分鐘2筆     0  30.05            *  \n",
       "6   1分鐘2筆    20     60            *  \n",
       "7   1分鐘2筆    40     55          ***  \n",
       "8   1分鐘2筆   345    365          ***  \n",
       "9   1分鐘2筆    20     60            *  \n",
       "10  1分鐘2筆    55     68         ****  \n",
       "11  1分鐘2筆   160    200         ****  \n",
       "88  1分鐘2筆    -3      3          ***  \n",
       "90  1分鐘2筆   100    200          ***  \n",
       "94  1分鐘2筆   345    365         ****  "
      ]
     },
     "execution_count": 2,
     "metadata": {},
     "output_type": "execute_result"
    }
   ],
   "source": [
    "tag = pd.read_csv('../data/tag_cleaned.csv',index_col=0).dropna(axis=0)\n",
    "tag_map = dict(zip(tag.TAG,tag.chinese))\n",
    "tag[tag.category=='可控制因子']"
   ]
  },
  {
   "cell_type": "code",
   "execution_count": 3,
   "metadata": {},
   "outputs": [
    {
     "data": {
      "text/html": [
       "<div>\n",
       "<style scoped>\n",
       "    .dataframe tbody tr th:only-of-type {\n",
       "        vertical-align: middle;\n",
       "    }\n",
       "\n",
       "    .dataframe tbody tr th {\n",
       "        vertical-align: top;\n",
       "    }\n",
       "\n",
       "    .dataframe thead th {\n",
       "        text-align: right;\n",
       "    }\n",
       "</style>\n",
       "<table border=\"1\" class=\"dataframe\">\n",
       "  <thead>\n",
       "    <tr style=\"text-align: right;\">\n",
       "      <th></th>\n",
       "      <th>item</th>\n",
       "      <th>TAG</th>\n",
       "      <th>chinese</th>\n",
       "      <th>character</th>\n",
       "      <th>unit</th>\n",
       "      <th>category</th>\n",
       "      <th>period</th>\n",
       "      <th>min</th>\n",
       "      <th>max</th>\n",
       "      <th>推測顯著性(依製程經驗)</th>\n",
       "    </tr>\n",
       "  </thead>\n",
       "  <tbody>\n",
       "  </tbody>\n",
       "</table>\n",
       "</div>"
      ],
      "text/plain": [
       "Empty DataFrame\n",
       "Columns: [item, TAG, chinese, character, unit, category, period, min, max, 推測顯著性(依製程經驗)]\n",
       "Index: []"
      ]
     },
     "execution_count": 3,
     "metadata": {},
     "output_type": "execute_result"
    }
   ],
   "source": [
    "tag[tag.chinese.str.contains('環境溫度')]"
   ]
  },
  {
   "cell_type": "code",
   "execution_count": 4,
   "metadata": {},
   "outputs": [
    {
     "name": "stdout",
     "output_type": "stream",
     "text": [
      "(195409, 95)\n"
     ]
    },
    {
     "data": {
      "text/html": [
       "<div>\n",
       "<style scoped>\n",
       "    .dataframe tbody tr th:only-of-type {\n",
       "        vertical-align: middle;\n",
       "    }\n",
       "\n",
       "    .dataframe tbody tr th {\n",
       "        vertical-align: top;\n",
       "    }\n",
       "\n",
       "    .dataframe thead th {\n",
       "        text-align: right;\n",
       "    }\n",
       "</style>\n",
       "<table border=\"1\" class=\"dataframe\">\n",
       "  <thead>\n",
       "    <tr style=\"text-align: right;\">\n",
       "      <th></th>\n",
       "      <th>MLPAP_TJ-0706B02</th>\n",
       "      <th>MLPAP_TJ-0706B03</th>\n",
       "      <th>MLPAP_TJ-0706B04</th>\n",
       "      <th>MLPAP_TJ-0706B05</th>\n",
       "      <th>MLPAP_TJ-0706B06</th>\n",
       "      <th>MLPAP_TJ-0706B07</th>\n",
       "      <th>MLPAP_TJ-0706B08</th>\n",
       "      <th>MLPAP_TJ-0706B09</th>\n",
       "      <th>MLPAP_TJ-0706B10</th>\n",
       "      <th>MLPAP_TJ-0706B11</th>\n",
       "      <th>...</th>\n",
       "      <th>MLPAP_FR-0755PV(轉換後)</th>\n",
       "      <th>MLPAP_FR-0791.PV</th>\n",
       "      <th>MLPAP_FI-V211.PV(轉換後)</th>\n",
       "      <th>MLPAP_PI-0658.PV</th>\n",
       "      <th>MLPAP_TJC-0757.PV</th>\n",
       "      <th>MLPAP_V225-PHD</th>\n",
       "      <th>MLPAP_PI-0771.PV</th>\n",
       "      <th>MLPAP_TRC-0747.PV</th>\n",
       "      <th>MLPAP_TJR-0881.PV</th>\n",
       "      <th>MLPAP_TJ3-1110.PV</th>\n",
       "    </tr>\n",
       "  </thead>\n",
       "  <tbody>\n",
       "    <tr>\n",
       "      <td>2018-12-31 16:30:00</td>\n",
       "      <td>NaN</td>\n",
       "      <td>NaN</td>\n",
       "      <td>NaN</td>\n",
       "      <td>NaN</td>\n",
       "      <td>NaN</td>\n",
       "      <td>NaN</td>\n",
       "      <td>NaN</td>\n",
       "      <td>NaN</td>\n",
       "      <td>NaN</td>\n",
       "      <td>NaN</td>\n",
       "      <td>...</td>\n",
       "      <td>4.140790</td>\n",
       "      <td>NaN</td>\n",
       "      <td>0.0</td>\n",
       "      <td>NaN</td>\n",
       "      <td>NaN</td>\n",
       "      <td>0.020</td>\n",
       "      <td>NaN</td>\n",
       "      <td>NaN</td>\n",
       "      <td>0.000000</td>\n",
       "      <td>18.700001</td>\n",
       "    </tr>\n",
       "    <tr>\n",
       "      <td>2018-07-08 20:30:00</td>\n",
       "      <td>384.000000</td>\n",
       "      <td>399.0000</td>\n",
       "      <td>402.000000</td>\n",
       "      <td>NaN</td>\n",
       "      <td>401.0</td>\n",
       "      <td>401.050034</td>\n",
       "      <td>401.000000</td>\n",
       "      <td>400.569626</td>\n",
       "      <td>NaN</td>\n",
       "      <td>398.000000</td>\n",
       "      <td>...</td>\n",
       "      <td>16.294083</td>\n",
       "      <td>31.127707</td>\n",
       "      <td>NaN</td>\n",
       "      <td>NaN</td>\n",
       "      <td>-0.099116</td>\n",
       "      <td>0.042</td>\n",
       "      <td>NaN</td>\n",
       "      <td>NaN</td>\n",
       "      <td>NaN</td>\n",
       "      <td>30.027845</td>\n",
       "    </tr>\n",
       "    <tr>\n",
       "      <td>2018-02-27 05:00:00</td>\n",
       "      <td>379.000000</td>\n",
       "      <td>396.0000</td>\n",
       "      <td>402.000000</td>\n",
       "      <td>408.075333</td>\n",
       "      <td>404.0</td>\n",
       "      <td>404.405380</td>\n",
       "      <td>402.005371</td>\n",
       "      <td>405.000000</td>\n",
       "      <td>404.000000</td>\n",
       "      <td>400.746048</td>\n",
       "      <td>...</td>\n",
       "      <td>17.652941</td>\n",
       "      <td>31.263376</td>\n",
       "      <td>NaN</td>\n",
       "      <td>482.951538</td>\n",
       "      <td>0.678574</td>\n",
       "      <td>0.032</td>\n",
       "      <td>135.340866</td>\n",
       "      <td>172.394012</td>\n",
       "      <td>138.443695</td>\n",
       "      <td>17.400000</td>\n",
       "    </tr>\n",
       "    <tr>\n",
       "      <td>2016-08-15 16:30:00</td>\n",
       "      <td>387.727112</td>\n",
       "      <td>408.5271</td>\n",
       "      <td>414.024994</td>\n",
       "      <td>420.000000</td>\n",
       "      <td>413.0</td>\n",
       "      <td>412.000000</td>\n",
       "      <td>408.548431</td>\n",
       "      <td>403.000000</td>\n",
       "      <td>391.093002</td>\n",
       "      <td>382.000000</td>\n",
       "      <td>...</td>\n",
       "      <td>14.322710</td>\n",
       "      <td>30.287806</td>\n",
       "      <td>NaN</td>\n",
       "      <td>430.042984</td>\n",
       "      <td>1.509539</td>\n",
       "      <td>0.041</td>\n",
       "      <td>103.152569</td>\n",
       "      <td>172.686844</td>\n",
       "      <td>140.399803</td>\n",
       "      <td>29.850000</td>\n",
       "    </tr>\n",
       "    <tr>\n",
       "      <td>2017-11-18 14:30:00</td>\n",
       "      <td>380.075134</td>\n",
       "      <td>399.0000</td>\n",
       "      <td>404.000000</td>\n",
       "      <td>410.000168</td>\n",
       "      <td>405.0</td>\n",
       "      <td>405.052673</td>\n",
       "      <td>403.000000</td>\n",
       "      <td>405.000000</td>\n",
       "      <td>405.000000</td>\n",
       "      <td>400.000000</td>\n",
       "      <td>...</td>\n",
       "      <td>18.195781</td>\n",
       "      <td>30.421963</td>\n",
       "      <td>NaN</td>\n",
       "      <td>467.444458</td>\n",
       "      <td>-0.255095</td>\n",
       "      <td>0.026</td>\n",
       "      <td>141.335419</td>\n",
       "      <td>172.184326</td>\n",
       "      <td>139.199997</td>\n",
       "      <td>23.871765</td>\n",
       "    </tr>\n",
       "  </tbody>\n",
       "</table>\n",
       "<p>5 rows × 95 columns</p>\n",
       "</div>"
      ],
      "text/plain": [
       "                     MLPAP_TJ-0706B02  MLPAP_TJ-0706B03  MLPAP_TJ-0706B04  \\\n",
       "2018-12-31 16:30:00               NaN               NaN               NaN   \n",
       "2018-07-08 20:30:00        384.000000          399.0000        402.000000   \n",
       "2018-02-27 05:00:00        379.000000          396.0000        402.000000   \n",
       "2016-08-15 16:30:00        387.727112          408.5271        414.024994   \n",
       "2017-11-18 14:30:00        380.075134          399.0000        404.000000   \n",
       "\n",
       "                     MLPAP_TJ-0706B05  MLPAP_TJ-0706B06  MLPAP_TJ-0706B07  \\\n",
       "2018-12-31 16:30:00               NaN               NaN               NaN   \n",
       "2018-07-08 20:30:00               NaN             401.0        401.050034   \n",
       "2018-02-27 05:00:00        408.075333             404.0        404.405380   \n",
       "2016-08-15 16:30:00        420.000000             413.0        412.000000   \n",
       "2017-11-18 14:30:00        410.000168             405.0        405.052673   \n",
       "\n",
       "                     MLPAP_TJ-0706B08  MLPAP_TJ-0706B09  MLPAP_TJ-0706B10  \\\n",
       "2018-12-31 16:30:00               NaN               NaN               NaN   \n",
       "2018-07-08 20:30:00        401.000000        400.569626               NaN   \n",
       "2018-02-27 05:00:00        402.005371        405.000000        404.000000   \n",
       "2016-08-15 16:30:00        408.548431        403.000000        391.093002   \n",
       "2017-11-18 14:30:00        403.000000        405.000000        405.000000   \n",
       "\n",
       "                     MLPAP_TJ-0706B11  ...  MLPAP_FR-0755PV(轉換後)  \\\n",
       "2018-12-31 16:30:00               NaN  ...              4.140790   \n",
       "2018-07-08 20:30:00        398.000000  ...             16.294083   \n",
       "2018-02-27 05:00:00        400.746048  ...             17.652941   \n",
       "2016-08-15 16:30:00        382.000000  ...             14.322710   \n",
       "2017-11-18 14:30:00        400.000000  ...             18.195781   \n",
       "\n",
       "                     MLPAP_FR-0791.PV  MLPAP_FI-V211.PV(轉換後)  \\\n",
       "2018-12-31 16:30:00               NaN                    0.0   \n",
       "2018-07-08 20:30:00         31.127707                    NaN   \n",
       "2018-02-27 05:00:00         31.263376                    NaN   \n",
       "2016-08-15 16:30:00         30.287806                    NaN   \n",
       "2017-11-18 14:30:00         30.421963                    NaN   \n",
       "\n",
       "                     MLPAP_PI-0658.PV  MLPAP_TJC-0757.PV  MLPAP_V225-PHD  \\\n",
       "2018-12-31 16:30:00               NaN                NaN           0.020   \n",
       "2018-07-08 20:30:00               NaN          -0.099116           0.042   \n",
       "2018-02-27 05:00:00        482.951538           0.678574           0.032   \n",
       "2016-08-15 16:30:00        430.042984           1.509539           0.041   \n",
       "2017-11-18 14:30:00        467.444458          -0.255095           0.026   \n",
       "\n",
       "                     MLPAP_PI-0771.PV  MLPAP_TRC-0747.PV  MLPAP_TJR-0881.PV  \\\n",
       "2018-12-31 16:30:00               NaN                NaN           0.000000   \n",
       "2018-07-08 20:30:00               NaN                NaN                NaN   \n",
       "2018-02-27 05:00:00        135.340866         172.394012         138.443695   \n",
       "2016-08-15 16:30:00        103.152569         172.686844         140.399803   \n",
       "2017-11-18 14:30:00        141.335419         172.184326         139.199997   \n",
       "\n",
       "                     MLPAP_TJ3-1110.PV  \n",
       "2018-12-31 16:30:00          18.700001  \n",
       "2018-07-08 20:30:00          30.027845  \n",
       "2018-02-27 05:00:00          17.400000  \n",
       "2016-08-15 16:30:00          29.850000  \n",
       "2017-11-18 14:30:00          23.871765  \n",
       "\n",
       "[5 rows x 95 columns]"
      ]
     },
     "execution_count": 4,
     "metadata": {},
     "output_type": "execute_result"
    }
   ],
   "source": [
    "df = pd.read_csv('../data/train_cleaned.csv',index_col=0,parse_dates=True)\n",
    "print(df.shape)\n",
    "df.sample(5)"
   ]
  },
  {
   "cell_type": "markdown",
   "metadata": {},
   "source": [
    "# add total_stream"
   ]
  },
  {
   "cell_type": "code",
   "execution_count": 5,
   "metadata": {},
   "outputs": [
    {
     "name": "stdout",
     "output_type": "stream",
     "text": [
      "['MLPAP_FR-0755PV(轉換後)', 'MLPAP_FR-0791.PV', 'MLPAP_FI-V211.PV(轉換後)']\n"
     ]
    },
    {
     "data": {
      "text/plain": [
       "count    141103.000000\n",
       "mean      44115.899906\n",
       "std        5355.466705\n",
       "min       13978.628516\n",
       "25%       41126.315355\n",
       "50%       45552.974701\n",
       "75%       48084.104776\n",
       "max       49620.235443\n",
       "Name: stream, dtype: float64"
      ]
     },
     "execution_count": 5,
     "metadata": {},
     "output_type": "execute_result"
    }
   ],
   "source": [
    "stream_cols = tag[tag.chinese.str.contains('蒸氣')== True].TAG.tolist()\n",
    "print(stream_cols)\n",
    "df['stream'] = df[stream_cols[0]]*1000 + df[stream_cols[1]]*1000\n",
    "df['stream'].describe()"
   ]
  },
  {
   "cell_type": "markdown",
   "metadata": {},
   "source": [
    "# add new features"
   ]
  },
  {
   "cell_type": "code",
   "execution_count": 6,
   "metadata": {},
   "outputs": [
    {
     "data": {
      "text/plain": [
       "2016-05-10 02:50:00    34.086679\n",
       "2016-05-10 03:00:00    34.197328\n",
       "2016-05-10 03:10:00    34.212612\n",
       "2016-05-10 03:20:00    34.218369\n",
       "2016-05-10 03:30:00    34.224166\n",
       "Name: 濃度, dtype: float64"
      ]
     },
     "execution_count": 6,
     "metadata": {},
     "output_type": "execute_result"
    }
   ],
   "source": [
    "df['濃度'] = df['MLPAP_FQ-0619.PV']/df['MLPAP_FR-0632.PV']\n",
    "df['濃度'].dropna().head()"
   ]
  },
  {
   "cell_type": "markdown",
   "metadata": {},
   "source": [
    "# define columns"
   ]
  },
  {
   "cell_type": "code",
   "execution_count": 7,
   "metadata": {},
   "outputs": [
    {
     "name": "stdout",
     "output_type": "stream",
     "text": [
      "action: 11\n"
     ]
    }
   ],
   "source": [
    "action = tag[tag['category']=='可控制因子']['TAG'].values.tolist()\n",
    "action = action + ['濃度']\n",
    "\n",
    "# delete not need columns\n",
    "action.remove('MLPAP_FQ-0619.PV')\n",
    "action.remove('MLPAP_TJC-0757.PV')\n",
    "action.remove('MLPAP_TRC-0762.PV')#不需要\n",
    "action.remove('MLPAP_PIC-0741.PV')\n",
    "action.remove('MLPAP_LIC-0738.PV')\n",
    "action.remove('MLPAP_LRC-0729.PV')\n",
    "action.insert(0,'MLPAP_FQ-0619.PV')\n",
    "print('action:',len(action))"
   ]
  },
  {
   "cell_type": "code",
   "execution_count": 8,
   "metadata": {},
   "outputs": [
    {
     "data": {
      "text/plain": [
       "['MLPAP_FQ-0619.PV',\n",
       " 'MLPAP_TJC-0627.PV',\n",
       " 'MLPAP_TRC-0610.PV',\n",
       " 'MLPAP_FR-0632.PV',\n",
       " 'MLPAP_TJC-0757A.PV',\n",
       " 'MLPAP_PIC-0761.PV',\n",
       " 'MLPAP_TJC-1721.PV',\n",
       " 'MLPAP_TRC-1734.PV',\n",
       " 'MLPAP_TRC-0747.PV',\n",
       " 'MLPAP_TJ-0757B.PV',\n",
       " '濃度']"
      ]
     },
     "execution_count": 8,
     "metadata": {},
     "output_type": "execute_result"
    }
   ],
   "source": [
    "action"
   ]
  },
  {
   "cell_type": "code",
   "execution_count": 9,
   "metadata": {},
   "outputs": [
    {
     "name": "stdout",
     "output_type": "stream",
     "text": [
      "output: 1\n"
     ]
    }
   ],
   "source": [
    "output = get_col(df,'0997')\n",
    "print('output:',len(output))"
   ]
  },
  {
   "cell_type": "code",
   "execution_count": 10,
   "metadata": {},
   "outputs": [
    {
     "name": "stdout",
     "output_type": "stream",
     "text": [
      "stream: 1\n"
     ]
    }
   ],
   "source": [
    "stream = ['stream']\n",
    "print('stream:',len(stream))"
   ]
  },
  {
   "cell_type": "code",
   "execution_count": 11,
   "metadata": {},
   "outputs": [
    {
     "name": "stdout",
     "output_type": "stream",
     "text": [
      "state: 2\n"
     ]
    }
   ],
   "source": [
    "state = get_col(df,'DATA OF USE') + ['MLPAP_TJ3-1110.PV']#環境溫度\n",
    "print('state:',len(state))"
   ]
  },
  {
   "cell_type": "code",
   "execution_count": 12,
   "metadata": {},
   "outputs": [],
   "source": [
    "other = ['MLPAP_TJR-0721.PV']"
   ]
  },
  {
   "cell_type": "markdown",
   "metadata": {},
   "source": [
    "# select columns"
   ]
  },
  {
   "cell_type": "code",
   "execution_count": 13,
   "metadata": {},
   "outputs": [
    {
     "name": "stdout",
     "output_type": "stream",
     "text": [
      "(195409, 16)\n"
     ]
    }
   ],
   "source": [
    "df = df[state + action + output + stream + other]\n",
    "print(df.shape)"
   ]
  },
  {
   "cell_type": "markdown",
   "metadata": {},
   "source": [
    "# look miss value"
   ]
  },
  {
   "cell_type": "code",
   "execution_count": 14,
   "metadata": {},
   "outputs": [
    {
     "data": {
      "text/plain": [
       "<matplotlib.axes._subplots.AxesSubplot at 0x12b064d3b08>"
      ]
     },
     "execution_count": 14,
     "metadata": {},
     "output_type": "execute_result"
    },
    {
     "data": {
      "image/png": "[encoded data removed]",
      "text/plain": [
       "<Figure size 1440x360 with 1 Axes>"
      ]
     },
     "metadata": {
      "needs_background": "light"
     },
     "output_type": "display_data"
    }
   ],
   "source": [
    "fig = plt.figure(figsize=(20,5))\n",
    "sns.heatmap(df.isnull(),yticklabels=False,cbar=False,cmap='viridis')"
   ]
  },
  {
   "cell_type": "code",
   "execution_count": 15,
   "metadata": {},
   "outputs": [
    {
     "data": {
      "text/plain": [
       "count    145755.000000\n",
       "mean         89.864601\n",
       "std           7.643110\n",
       "min          33.215104\n",
       "25%          89.968909\n",
       "50%          91.393105\n",
       "75%          93.234293\n",
       "max          96.170792\n",
       "Name: 濃度, dtype: float64"
      ]
     },
     "execution_count": 15,
     "metadata": {},
     "output_type": "execute_result"
    }
   ],
   "source": [
    "df[action]['濃度'].describe()"
   ]
  },
  {
   "cell_type": "markdown",
   "metadata": {},
   "source": [
    "# scale data"
   ]
  },
  {
   "cell_type": "code",
   "execution_count": 16,
   "metadata": {},
   "outputs": [
    {
     "data": {
      "text/html": [
       "<div>\n",
       "<style scoped>\n",
       "    .dataframe tbody tr th:only-of-type {\n",
       "        vertical-align: middle;\n",
       "    }\n",
       "\n",
       "    .dataframe tbody tr th {\n",
       "        vertical-align: top;\n",
       "    }\n",
       "\n",
       "    .dataframe thead th {\n",
       "        text-align: right;\n",
       "    }\n",
       "</style>\n",
       "<table border=\"1\" class=\"dataframe\">\n",
       "  <thead>\n",
       "    <tr style=\"text-align: right;\">\n",
       "      <th></th>\n",
       "      <th>DATA OF USE</th>\n",
       "      <th>MLPAP_TJ3-1110.PV</th>\n",
       "      <th>MLPAP_FQ-0619.PV</th>\n",
       "      <th>MLPAP_TJC-0627.PV</th>\n",
       "      <th>MLPAP_TRC-0610.PV</th>\n",
       "      <th>MLPAP_FR-0632.PV</th>\n",
       "      <th>MLPAP_TJC-0757A.PV</th>\n",
       "      <th>MLPAP_PIC-0761.PV</th>\n",
       "      <th>MLPAP_TJC-1721.PV</th>\n",
       "      <th>MLPAP_TRC-1734.PV</th>\n",
       "      <th>MLPAP_TRC-0747.PV</th>\n",
       "      <th>MLPAP_TJ-0757B.PV</th>\n",
       "      <th>濃度</th>\n",
       "      <th>MLPAP_FQI-0997.PV</th>\n",
       "      <th>stream</th>\n",
       "      <th>MLPAP_TJR-0721.PV</th>\n",
       "    </tr>\n",
       "  </thead>\n",
       "  <tbody>\n",
       "    <tr>\n",
       "      <td>2019-03-10 16:40:00</td>\n",
       "      <td>0.769423</td>\n",
       "      <td>0.515457</td>\n",
       "      <td>0.961213</td>\n",
       "      <td>0.765346</td>\n",
       "      <td>0.534553</td>\n",
       "      <td>0.885781</td>\n",
       "      <td>0.223992</td>\n",
       "      <td>0.955995</td>\n",
       "      <td>0.307466</td>\n",
       "      <td>0.330242</td>\n",
       "      <td>0.837488</td>\n",
       "      <td>0.256222</td>\n",
       "      <td>0.938182</td>\n",
       "      <td>0.758510</td>\n",
       "      <td>0.764202</td>\n",
       "      <td>0.073981</td>\n",
       "    </tr>\n",
       "    <tr>\n",
       "      <td>2018-02-08 23:30:00</td>\n",
       "      <td>0.476118</td>\n",
       "      <td>0.359847</td>\n",
       "      <td>0.985937</td>\n",
       "      <td>0.423193</td>\n",
       "      <td>0.530263</td>\n",
       "      <td>0.978214</td>\n",
       "      <td>0.176091</td>\n",
       "      <td>0.944475</td>\n",
       "      <td>0.288270</td>\n",
       "      <td>0.251189</td>\n",
       "      <td>0.877249</td>\n",
       "      <td>0.223118</td>\n",
       "      <td>0.930439</td>\n",
       "      <td>0.782876</td>\n",
       "      <td>0.980917</td>\n",
       "      <td>0.010909</td>\n",
       "    </tr>\n",
       "    <tr>\n",
       "      <td>2017-10-15 20:20:00</td>\n",
       "      <td>0.389823</td>\n",
       "      <td>0.672928</td>\n",
       "      <td>0.962754</td>\n",
       "      <td>0.310026</td>\n",
       "      <td>0.619888</td>\n",
       "      <td>0.864280</td>\n",
       "      <td>0.102362</td>\n",
       "      <td>0.944475</td>\n",
       "      <td>0.246514</td>\n",
       "      <td>0.269385</td>\n",
       "      <td>0.879921</td>\n",
       "      <td>0.140314</td>\n",
       "      <td>0.948053</td>\n",
       "      <td>0.774603</td>\n",
       "      <td>0.968073</td>\n",
       "      <td>NaN</td>\n",
       "    </tr>\n",
       "    <tr>\n",
       "      <td>2018-05-24 11:10:00</td>\n",
       "      <td>0.553760</td>\n",
       "      <td>0.683994</td>\n",
       "      <td>0.976733</td>\n",
       "      <td>0.423874</td>\n",
       "      <td>0.601104</td>\n",
       "      <td>0.998343</td>\n",
       "      <td>0.234628</td>\n",
       "      <td>0.944475</td>\n",
       "      <td>0.291810</td>\n",
       "      <td>0.410939</td>\n",
       "      <td>0.885139</td>\n",
       "      <td>0.278798</td>\n",
       "      <td>0.913301</td>\n",
       "      <td>0.800156</td>\n",
       "      <td>0.964834</td>\n",
       "      <td>0.038761</td>\n",
       "    </tr>\n",
       "    <tr>\n",
       "      <td>2018-08-19 05:50:00</td>\n",
       "      <td>0.618243</td>\n",
       "      <td>0.718518</td>\n",
       "      <td>0.627377</td>\n",
       "      <td>0.652930</td>\n",
       "      <td>0.738055</td>\n",
       "      <td>0.267802</td>\n",
       "      <td>0.145061</td>\n",
       "      <td>0.944475</td>\n",
       "      <td>0.258318</td>\n",
       "      <td>0.361373</td>\n",
       "      <td>0.887673</td>\n",
       "      <td>0.175453</td>\n",
       "      <td>0.782006</td>\n",
       "      <td>0.172399</td>\n",
       "      <td>0.633074</td>\n",
       "      <td>NaN</td>\n",
       "    </tr>\n",
       "  </tbody>\n",
       "</table>\n",
       "</div>"
      ],
      "text/plain": [
       "                     DATA OF USE  MLPAP_TJ3-1110.PV  MLPAP_FQ-0619.PV  \\\n",
       "2019-03-10 16:40:00     0.769423           0.515457          0.961213   \n",
       "2018-02-08 23:30:00     0.476118           0.359847          0.985937   \n",
       "2017-10-15 20:20:00     0.389823           0.672928          0.962754   \n",
       "2018-05-24 11:10:00     0.553760           0.683994          0.976733   \n",
       "2018-08-19 05:50:00     0.618243           0.718518          0.627377   \n",
       "\n",
       "                     MLPAP_TJC-0627.PV  MLPAP_TRC-0610.PV  MLPAP_FR-0632.PV  \\\n",
       "2019-03-10 16:40:00           0.765346           0.534553          0.885781   \n",
       "2018-02-08 23:30:00           0.423193           0.530263          0.978214   \n",
       "2017-10-15 20:20:00           0.310026           0.619888          0.864280   \n",
       "2018-05-24 11:10:00           0.423874           0.601104          0.998343   \n",
       "2018-08-19 05:50:00           0.652930           0.738055          0.267802   \n",
       "\n",
       "                     MLPAP_TJC-0757A.PV  MLPAP_PIC-0761.PV  MLPAP_TJC-1721.PV  \\\n",
       "2019-03-10 16:40:00            0.223992           0.955995           0.307466   \n",
       "2018-02-08 23:30:00            0.176091           0.944475           0.288270   \n",
       "2017-10-15 20:20:00            0.102362           0.944475           0.246514   \n",
       "2018-05-24 11:10:00            0.234628           0.944475           0.291810   \n",
       "2018-08-19 05:50:00            0.145061           0.944475           0.258318   \n",
       "\n",
       "                     MLPAP_TRC-1734.PV  MLPAP_TRC-0747.PV  MLPAP_TJ-0757B.PV  \\\n",
       "2019-03-10 16:40:00           0.330242           0.837488           0.256222   \n",
       "2018-02-08 23:30:00           0.251189           0.877249           0.223118   \n",
       "2017-10-15 20:20:00           0.269385           0.879921           0.140314   \n",
       "2018-05-24 11:10:00           0.410939           0.885139           0.278798   \n",
       "2018-08-19 05:50:00           0.361373           0.887673           0.175453   \n",
       "\n",
       "                           濃度  MLPAP_FQI-0997.PV    stream  MLPAP_TJR-0721.PV  \n",
       "2019-03-10 16:40:00  0.938182           0.758510  0.764202           0.073981  \n",
       "2018-02-08 23:30:00  0.930439           0.782876  0.980917           0.010909  \n",
       "2017-10-15 20:20:00  0.948053           0.774603  0.968073                NaN  \n",
       "2018-05-24 11:10:00  0.913301           0.800156  0.964834           0.038761  \n",
       "2018-08-19 05:50:00  0.782006           0.172399  0.633074                NaN  "
      ]
     },
     "execution_count": 16,
     "metadata": {},
     "output_type": "execute_result"
    }
   ],
   "source": [
    "mm_state = MinMaxScaler()\n",
    "mm_action = MinMaxScaler()\n",
    "mm_output = MinMaxScaler()\n",
    "mm_stream = MinMaxScaler()\n",
    "mm_other = MinMaxScaler()\n",
    "\n",
    "df[state] = mm_state.fit_transform(df[state])\n",
    "df[action] = mm_action.fit_transform(df[action])\n",
    "df[output] = mm_output.fit_transform(df[output])\n",
    "df[stream] = mm_stream.fit_transform(df[stream])\n",
    "df[other] = mm_other.fit_transform(df[other])\n",
    "\n",
    "df.sample(5)"
   ]
  },
  {
   "cell_type": "code",
   "execution_count": 17,
   "metadata": {},
   "outputs": [
    {
     "data": {
      "text/plain": [
       "count    145755.000000\n",
       "mean          0.899831\n",
       "std           0.121405\n",
       "min           0.000000\n",
       "25%           0.901488\n",
       "50%           0.924110\n",
       "75%           0.953356\n",
       "max           1.000000\n",
       "Name: 濃度, dtype: float64"
      ]
     },
     "execution_count": 17,
     "metadata": {},
     "output_type": "execute_result"
    }
   ],
   "source": [
    "df[action]['濃度'].describe()"
   ]
  },
  {
   "cell_type": "markdown",
   "metadata": {},
   "source": [
    "# build dataset for modeling"
   ]
  },
  {
   "cell_type": "code",
   "execution_count": 18,
   "metadata": {},
   "outputs": [],
   "source": [
    "def build_dataset(df,n):\n",
    "    \n",
    "    data = {'state':[],\n",
    "            'action':[],\n",
    "            'output':[],\n",
    "            'stream':[],\n",
    "            'other':[],\n",
    "            'idx':[],\n",
    "           }\n",
    "    \n",
    "    for i in tqdm(range(0,len(df)-n)):\n",
    "        curr = df.iloc[i:i+n] #一小段資料\n",
    "        if np.isnan(curr.values).sum() == 0: #確保這段資料無缺失值\n",
    "            \n",
    "            data['state'].append(curr[state].values.mean(axis=0))#這段時間的 \"狀態\" 之均值\n",
    "            data['action'].append(curr[action].values)# 這段時間 \"所有\" 操作\n",
    "            data['output'].append(curr[output].values[-1])#這段時間 最後一個時間點 的出料(delay issue)\n",
    "            data['stream'].append(curr[stream].values[-1])#這段時間 最後一個時間點 的蒸氣(delay issue)\n",
    "            data['other'].append(curr[other].values)\n",
    "            data['idx'].append(curr.index[-1]) #這段時間最後 出料對應的時間點\n",
    "    \n",
    "    # reshape\n",
    "    data['state'] = np.array(data['state'])\n",
    "    data['action'] = np.array(data['action'])\n",
    "    data['output'] = np.array(data['output']).reshape(-1,1)\n",
    "    data['stream'] = np.array(data['stream']).reshape(-1,1)\n",
    "    data['other'] = np.array(data['other'])\n",
    "    \n",
    "    # store scaler\n",
    "    data['mm_state'] = mm_state\n",
    "    data['mm_action'] = mm_action\n",
    "    data['mm_output'] = mm_output\n",
    "    data['mm_stream'] = mm_stream\n",
    "    data['mm_other'] = mm_other\n",
    "    \n",
    "    # store col_name\n",
    "    data['state_col'] = state\n",
    "    data['action_col'] = action\n",
    "    data['output_col'] = output\n",
    "    data['stream_col'] = stream\n",
    "    data['other_col'] = other\n",
    "    \n",
    "    return data"
   ]
  },
  {
   "cell_type": "code",
   "execution_count": 19,
   "metadata": {},
   "outputs": [
    {
     "data": {
      "application/vnd.jupyter.widget-view+json": {
       "model_id": "721caa55560e466c95a370b9490326b0",
       "version_major": 2,
       "version_minor": 0
      },
      "text/plain": [
       "HBox(children=(FloatProgress(value=0.0, max=195373.0), HTML(value='')))"
      ]
     },
     "metadata": {},
     "output_type": "display_data"
    },
    {
     "name": "stdout",
     "output_type": "stream",
     "text": [
      "\n"
     ]
    }
   ],
   "source": [
    "data = build_dataset(df,36)"
   ]
  },
  {
   "cell_type": "code",
   "execution_count": 20,
   "metadata": {},
   "outputs": [
    {
     "name": "stdout",
     "output_type": "stream",
     "text": [
      "63778\n"
     ]
    }
   ],
   "source": [
    "print(len(data['idx']))"
   ]
  },
  {
   "cell_type": "markdown",
   "metadata": {},
   "source": [
    "# save"
   ]
  },
  {
   "cell_type": "code",
   "execution_count": 21,
   "metadata": {},
   "outputs": [
    {
     "data": {
      "text/plain": [
       "['../data/dataset.pkl']"
      ]
     },
     "execution_count": 21,
     "metadata": {},
     "output_type": "execute_result"
    }
   ],
   "source": [
    "joblib.dump(data,'../data/dataset.pkl')"
   ]
  },
  {
   "cell_type": "code",
   "execution_count": null,
   "metadata": {},
   "outputs": [],
   "source": []
  }
 ],
 "metadata": {
  "kernelspec": {
   "display_name": "Python 3",
   "language": "python",
   "name": "python3"
  },
  "language_info": {
   "codemirror_mode": {
    "name": "ipython",
    "version": 3
   },
   "file_extension": ".py",
   "mimetype": "text/x-python",
   "name": "python",
   "nbconvert_exporter": "python",
   "pygments_lexer": "ipython3",
   "version": "3.7.4"
  }
 },
 "nbformat": 4,
 "nbformat_minor": 2
}
